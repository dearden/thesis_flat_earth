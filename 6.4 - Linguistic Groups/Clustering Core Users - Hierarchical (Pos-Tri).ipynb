{
 "cells": [
  {
   "cell_type": "code",
   "execution_count": 1,
   "metadata": {},
   "outputs": [],
   "source": [
    "%matplotlib inline\n",
    "\n",
    "import pandas as pd\n",
    "import numpy as np\n",
    "import matplotlib.pyplot as plt\n",
    "import matplotlib.cm as cm\n",
    "import seaborn as sns\n",
    "import sys\n",
    "import os\n",
    "import json\n",
    "import itertools\n",
    "import umap\n",
    "from colour import Color\n",
    "from collections import Counter\n",
    "sys.path.insert(1, \"../\")\n",
    "sys.path.insert(1, \"../utilities\")\n",
    "\n",
    "from group_analysis import do_kmeans_clustering, plot_clusters, log_and_scale, colour_list, display_group_kw_combis\n",
    "from helpers import load_posts, load_toks, load_pos, get_top_n_toks\n",
    "from clustering import reduce_features, make_elbow_plot, compare_binary_normed_feature_embeddings, mc_list, plot_bin_and_norm_clusters, plot_contingency_matrix, calculate_cluster_lrs\n",
    "\n",
    "from language_change_methods.features import get_tok_counts, function_words, combine_counts, make_feature_matrix\n",
    "from language_change_methods.utility_functions import basic_preprocessing, get_ngram_example, get_text_example_of_pos, make_ngram_concordance, make_pos_concordance\n",
    "\n",
    "from sklearn.cluster import KMeans, SpectralClustering, MeanShift, estimate_bandwidth, AgglomerativeClustering\n",
    "from sklearn.preprocessing import MinMaxScaler, StandardScaler\n",
    "from sklearn.pipeline import Pipeline\n",
    "from sklearn.model_selection import cross_val_predict\n",
    "from sklearn import metrics\n",
    "\n",
    "from nltk import ngrams as make_ngrams\n",
    "\n",
    "from settings import TFES_FP as DB_FP, TFES_TOK_FP\n",
    "GRAPH_DIR = \"./Graphs\""
   ]
  },
  {
   "cell_type": "code",
   "execution_count": 2,
   "metadata": {},
   "outputs": [],
   "source": [
    "%load_ext autoreload\n",
    "%autoreload 2"
   ]
  },
  {
   "cell_type": "code",
   "execution_count": 3,
   "metadata": {},
   "outputs": [
    {
     "name": "stdout",
     "output_type": "stream",
     "text": [
      "Wall time: 31.5 s\n"
     ]
    }
   ],
   "source": [
    "%%time\n",
    "all_posts = load_posts(DB_FP)\n",
    "\n",
    "from helpers import flat_earth_boards, off_topic_boards as other_boards\n",
    "\n",
    "fe_posts = all_posts.query(\"board_id in @flat_earth_boards\")\n",
    "ot_posts = all_posts.query(\"board_id in @other_boards\")\n",
    "\n",
    "toks = {int(x[0]): x[1] for x in load_toks(TFES_TOK_FP)}\n",
    "toks = pd.Series(toks)\n",
    "toks = toks[toks.index.isin(fe_posts.index)]\n",
    "\n",
    "pos = {int(x[0]): x[1] for x in load_pos(TFES_TOK_FP)}\n",
    "pos = pd.Series(pos)\n",
    "pos = pos[pos.index.isin(fe_posts.index)]\n",
    "pos = pos.loc[toks.index]\n",
    "\n",
    "fe_posts = fe_posts.loc[toks.index]"
   ]
  },
  {
   "cell_type": "code",
   "execution_count": 4,
   "metadata": {},
   "outputs": [],
   "source": [
    "with open(\"../data/user_metagroup.json\") as group_file:\n",
    "    meta_clusts = pd.Series(json.load(group_file))\n",
    "    meta_clusts.index = meta_clusts.index.astype(\"float64\")"
   ]
  },
  {
   "cell_type": "code",
   "execution_count": 5,
   "metadata": {},
   "outputs": [
    {
     "name": "stdout",
     "output_type": "stream",
     "text": [
      "101 with > 100 posts\n",
      "20 in the top 20\n"
     ]
    }
   ],
   "source": [
    "post_lengths = toks.apply(len)\n",
    "user_n_words = post_lengths.groupby(fe_posts[\"poster_id\"]).sum()\n",
    "posts_per_user = fe_posts.groupby(\"poster_id\").size()\n",
    "\n",
    "over_100 = posts_per_user[posts_per_user > 100]\n",
    "print(f\"{len(over_100)} with > 100 posts\")\n",
    "\n",
    "top_20 = posts_per_user.sort_values(ascending=False).head(20)\n",
    "print(f\"{len(top_20)} in the top 20\")\n",
    "\n",
    "curr_users = meta_clusts[meta_clusts == \"Core Community\"].index\n",
    "    \n",
    "user_n_words = user_n_words.loc[curr_users]\n",
    "posts_per_user = posts_per_user.loc[curr_users]\n",
    "\n",
    "curr_posts = fe_posts.query(\"poster_id in @curr_users\")\n",
    "\n",
    "# Get colour gradient\n",
    "colour_gradient = list(Color(\"red\").range_to(Color(\"blue\"),len(curr_users)))\n",
    "colour_gradient = pd.Series(colour_gradient, index=posts_per_user.loc[curr_users].sort_values(ascending=True).index)\n",
    "colour_gradient = colour_gradient.loc[curr_users].apply(str)"
   ]
  },
  {
   "cell_type": "markdown",
   "metadata": {},
   "source": [
    "# Create the user text chunks"
   ]
  },
  {
   "cell_type": "code",
   "execution_count": 6,
   "metadata": {},
   "outputs": [],
   "source": [
    "merge_lists = lambda x: list(itertools.chain.from_iterable(x))\n",
    "\n",
    "def get_chunks(u, tokens, chunk_size):\n",
    "    for i in range(0, len(tokens)-chunk_size, chunk_size):\n",
    "        yield u, tokens[i:i+chunk_size]"
   ]
  },
  {
   "cell_type": "code",
   "execution_count": 7,
   "metadata": {},
   "outputs": [],
   "source": [
    "def make_tok_chonks(tokens, chunk_size):\n",
    "    user_chunks = [[[user, chunk] for user, chunk in get_chunks(user, curr_toks, chunk_size)] for user, curr_toks in tokens.items()]\n",
    "    user_chunks = merge_lists(user_chunks)\n",
    "    user_chunks = pd.DataFrame(user_chunks, columns=[\"User\", \"Chunk\"])\n",
    "    return user_chunks"
   ]
  },
  {
   "cell_type": "code",
   "execution_count": 8,
   "metadata": {},
   "outputs": [],
   "source": [
    "CHUNK_SIZE = 1000"
   ]
  },
  {
   "cell_type": "code",
   "execution_count": 9,
   "metadata": {},
   "outputs": [
    {
     "name": "stdout",
     "output_type": "stream",
     "text": [
      "Wall time: 764 ms\n"
     ]
    }
   ],
   "source": [
    "%%time\n",
    "user_toks = toks.groupby(curr_posts[\"poster_id\"]).apply(merge_lists)\n",
    "user_chunks = make_tok_chonks(user_toks, CHUNK_SIZE)"
   ]
  },
  {
   "cell_type": "code",
   "execution_count": 10,
   "metadata": {},
   "outputs": [
    {
     "name": "stdout",
     "output_type": "stream",
     "text": [
      "Wall time: 1.17 s\n"
     ]
    }
   ],
   "source": [
    "%%time\n",
    "user_pos = pos.groupby(curr_posts[\"poster_id\"]).apply(merge_lists)\n",
    "user_pos_chunks = make_tok_chonks(user_pos, CHUNK_SIZE)"
   ]
  },
  {
   "cell_type": "markdown",
   "metadata": {},
   "source": [
    "# Create the Different Feature Counts"
   ]
  },
  {
   "cell_type": "markdown",
   "metadata": {},
   "source": [
    "#### BOW"
   ]
  },
  {
   "cell_type": "code",
   "execution_count": 11,
   "metadata": {},
   "outputs": [
    {
     "name": "stdout",
     "output_type": "stream",
     "text": [
      "Wall time: 34.8 s\n"
     ]
    }
   ],
   "source": [
    "%%time\n",
    "# Get the counts\n",
    "bow_counts = {i: get_tok_counts(post) for i, post in user_toks.items()}\n",
    "bow_counts = {i: {tok: count for tok, count in post.items() if tok not in function_words} for i, post in bow_counts.items()}\n",
    "top_n = get_top_n_toks(bow_counts.values(), 10000)\n",
    "bow_counts = {i: {tok: count for tok, count in post.items() if tok in top_n} for i, post in bow_counts.items()}\n",
    "bow_counts = pd.Series(bow_counts)"
   ]
  },
  {
   "cell_type": "markdown",
   "metadata": {},
   "source": [
    "#### Tfidf bow counts"
   ]
  },
  {
   "cell_type": "code",
   "execution_count": 12,
   "metadata": {},
   "outputs": [
    {
     "name": "stdout",
     "output_type": "stream",
     "text": [
      "Wall time: 1.23 s\n"
     ]
    }
   ],
   "source": [
    "%%time\n",
    "# Credit for this cell: http://www.davidsbatista.net/blog/2018/02/28/TfidfVectorizer/\n",
    "from sklearn.feature_extraction.text import TfidfVectorizer\n",
    "# If you had counts instead of tokens, you'd use \"TfidfTransformer\"\n",
    "\n",
    "def dummy_fun(doc):\n",
    "    return doc\n",
    "\n",
    "tfidf = TfidfVectorizer(\n",
    "    analyzer='word',\n",
    "    tokenizer=dummy_fun,\n",
    "    preprocessor=dummy_fun,\n",
    "    token_pattern=None)  \n",
    "\n",
    "\n",
    "tfidf_matrix = tfidf.fit_transform(user_toks)"
   ]
  },
  {
   "cell_type": "code",
   "execution_count": 13,
   "metadata": {},
   "outputs": [],
   "source": [
    "tfidf_feats = tfidf_matrix[:, np.isin(tfidf.get_feature_names(), top_n)].todense()"
   ]
  },
  {
   "cell_type": "markdown",
   "metadata": {},
   "source": [
    "#### PoS Trigrams"
   ]
  },
  {
   "cell_type": "code",
   "execution_count": 14,
   "metadata": {},
   "outputs": [],
   "source": [
    "pos_trigrams = pd.Series([make_ngrams(post, 3) for post in user_pos], index=user_pos.index)\n",
    "pos_trigrams = pos_trigrams.apply(lambda post: [\"_\".join(words) for words in post])"
   ]
  },
  {
   "cell_type": "code",
   "execution_count": 15,
   "metadata": {},
   "outputs": [],
   "source": [
    "top_n = [x[0] for x in Counter(merge_lists(pos_trigrams)).most_common(1000)]\n",
    "pos_tri_counts = pos_trigrams.apply(Counter).apply(lambda dic: {w: c for w, c in dic.items() if w in top_n})\n",
    "pos_tri_counts = pd.Series(pos_tri_counts)"
   ]
  },
  {
   "cell_type": "code",
   "execution_count": 16,
   "metadata": {},
   "outputs": [],
   "source": [
    "# pos_tri_chunks = pd.DataFrame(index=user_pos_chunks.index)\n",
    "# pos_tri_chunks[\"User\"] = user_pos_chunks[\"User\"]\n",
    "# pos_tri_chunks[\"Chunk\"] = pos_trigrams"
   ]
  },
  {
   "cell_type": "markdown",
   "metadata": {},
   "source": [
    "# Create the Feature Matrix"
   ]
  },
  {
   "cell_type": "code",
   "execution_count": 17,
   "metadata": {},
   "outputs": [
    {
     "name": "stdout",
     "output_type": "stream",
     "text": [
      "Wall time: 146 ms\n"
     ]
    }
   ],
   "source": [
    "%%time\n",
    "# Initialise feats to None\n",
    "bin_feats = None\n",
    "norm_feats = None\n",
    "\n",
    "# Make the feature matrix\n",
    "curr_feat_type = \"pos_tri\"\n",
    "SCALE = True\n",
    "APPLY_PCA = True\n",
    "\n",
    "if curr_feat_type == \"pos_tri\":\n",
    "    curr_counts = pos_tri_counts\n",
    "    curr_toks = pos_trigrams\n",
    "elif curr_feat_type == \"bow\":\n",
    "    curr_counts = bow_counts\n",
    "    curr_toks = user_toks\n",
    "elif curr_feat_type == \"tfidf\":\n",
    "    curr_counts = bow_counts\n",
    "    curr_toks = user_toks\n",
    "    bin_feats = np.vectorize(lambda x: 1 if x > 0 else 0)(tfidf_feats)\n",
    "    norm_feats = tfidf_feats\n",
    "    \n",
    "if bin_feats is None:\n",
    "    curr_feats, curr_feat_names = make_feature_matrix(curr_counts.to_dict(), False)\n",
    "    bin_feats = np.vectorize(lambda x: 1 if x > 0 else 0)(curr_feats)\n",
    "    norm_feats = curr_feats / user_toks.apply(len).values[:,None]"
   ]
  },
  {
   "cell_type": "markdown",
   "metadata": {},
   "source": [
    "#### Scaling"
   ]
  },
  {
   "cell_type": "code",
   "execution_count": 18,
   "metadata": {},
   "outputs": [],
   "source": [
    "if SCALE:\n",
    "    norm_feats = StandardScaler().fit_transform(norm_feats)"
   ]
  },
  {
   "cell_type": "markdown",
   "metadata": {},
   "source": [
    "#### PCA reduction"
   ]
  },
  {
   "cell_type": "code",
   "execution_count": 19,
   "metadata": {},
   "outputs": [
    {
     "name": "stdout",
     "output_type": "stream",
     "text": [
      "Wall time: 125 ms\n"
     ]
    }
   ],
   "source": [
    "%%time\n",
    "from sklearn.decomposition import PCA\n",
    "pca = PCA(.95)\n",
    "\n",
    "if APPLY_PCA:\n",
    "    norm_feats = pca.fit_transform(norm_feats)"
   ]
  },
  {
   "cell_type": "code",
   "execution_count": 20,
   "metadata": {},
   "outputs": [
    {
     "name": "stdout",
     "output_type": "stream",
     "text": [
      "158 components\n"
     ]
    }
   ],
   "source": [
    "print(f\"{norm_feats.shape[1]} components\")"
   ]
  },
  {
   "cell_type": "markdown",
   "metadata": {},
   "source": [
    "#### Make 2d embeddings"
   ]
  },
  {
   "cell_type": "code",
   "execution_count": 21,
   "metadata": {},
   "outputs": [
    {
     "name": "stdout",
     "output_type": "stream",
     "text": [
      "Wall time: 5.74 s\n"
     ]
    }
   ],
   "source": [
    "%%time\n",
    "norm_embedding = reduce_features(norm_feats)"
   ]
  },
  {
   "cell_type": "code",
   "execution_count": 22,
   "metadata": {},
   "outputs": [
    {
     "data": {
      "image/png": "[encoded data removed]",
      "text/plain": [
       "<Figure size 576x576 with 1 Axes>"
      ]
     },
     "metadata": {
      "needs_background": "light"
     },
     "output_type": "display_data"
    }
   ],
   "source": [
    "fig, ax = plt.subplots(figsize=(8,8))\n",
    "ax.scatter(norm_feats[:,0], norm_feats[:,1])\n",
    "plt.show()"
   ]
  },
  {
   "cell_type": "markdown",
   "metadata": {},
   "source": [
    "# Do the Clustering"
   ]
  },
  {
   "cell_type": "code",
   "execution_count": 23,
   "metadata": {},
   "outputs": [],
   "source": [
    "from scipy.cluster.hierarchy import dendrogram, linkage\n",
    "from scipy.cluster.hierarchy import cophenet\n",
    "from scipy.spatial.distance import pdist\n",
    "from scipy.spatial.distance import cosine as cosine_dist\n",
    "from sklearn.cluster import AgglomerativeClustering"
   ]
  },
  {
   "cell_type": "code",
   "execution_count": 24,
   "metadata": {},
   "outputs": [],
   "source": [
    "def plot_hc(feats, labels, out_fp=None):\n",
    "    # Perform the Hierarchical Clustering\n",
    "    d_list = linkage(feats, 'average', metric=\"cosine\")\n",
    "\n",
    "    # Calculate the Cophenetic Correlation Coefficient\n",
    "    c, coph_dists = cophenet(d_list, pdist(feats))\n",
    "    print(\"Cophenetic Correlation Coefficient: {}\".format(c))\n",
    "\n",
    "    # Do the actual plotting.\n",
    "    fig, ax = plt.subplots(figsize=(12,12))\n",
    "    \n",
    "    dendrogram(\n",
    "        d_list,\n",
    "        leaf_rotation=0,  # rotates the x axis labels\n",
    "        leaf_font_size=14,  # font size for the x axis labels\n",
    "        labels = labels, \n",
    "        ax=ax,\n",
    "        color_threshold=0\n",
    "    )\n",
    "    plt.setp(ax.get_xticklabels(), fontsize=14)\n",
    "    plt.setp(ax.get_yticklabels(), fontsize=14)\n",
    "    ax.set_xlabel(\"Users\", fontsize=14)\n",
    "    ax.set_ylabel(\"Cosine Distance\", fontsize=14)\n",
    "    ax.grid()\n",
    "    \n",
    "    plt.tight_layout()\n",
    "    if out_fp is not None:\n",
    "        fig.savefig(out_fp)"
   ]
  },
  {
   "cell_type": "code",
   "execution_count": 25,
   "metadata": {},
   "outputs": [
    {
     "name": "stdout",
     "output_type": "stream",
     "text": [
      "Cophenetic Correlation Coefficient: 0.2694086541269237\n"
     ]
    },
    {
     "data": {
      "image/png": "[encoded data removed]",
      "text/plain": [
       "<Figure size 864x864 with 1 Axes>"
      ]
     },
     "metadata": {
      "needs_background": "light"
     },
     "output_type": "display_data"
    }
   ],
   "source": [
    "plot_hc(norm_feats, user_toks.index.astype(int), out_fp=None)#os.path.join(GRAPH_DIR, f\"dendrogram_{curr_feat_type}.pdf\"))"
   ]
  },
  {
   "cell_type": "code",
   "execution_count": 26,
   "metadata": {},
   "outputs": [
    {
     "name": "stdout",
     "output_type": "stream",
     "text": [
      "Average silhoette score for 2 clusters:\t 0.06639849502130284 \n",
      "\n",
      "Average silhoette score for 3 clusters:\t 0.047267604479053295 \n",
      "\n",
      "Average silhoette score for 4 clusters:\t 0.045351865854126205 \n",
      "\n",
      "Average silhoette score for 5 clusters:\t 0.05425026900441798 \n",
      "\n",
      "Average silhoette score for 6 clusters:\t 0.05125051726763838 \n",
      "\n",
      "Average silhoette score for 7 clusters:\t 0.0489117894670944 \n",
      "\n",
      "Average silhoette score for 8 clusters:\t 0.050064669731200294 \n",
      "\n",
      "Average silhoette score for 9 clusters:\t 0.049599041758778356 \n",
      "\n",
      "Wall time: 78 ms\n"
     ]
    }
   ],
   "source": [
    "%%time\n",
    "for i in range(2,10):\n",
    "    model = AgglomerativeClustering(n_clusters=i, affinity='cosine', linkage='average')  \n",
    "    clusters = model.fit_predict(norm_feats)\n",
    "    avg_silhouette_score = metrics.silhouette_score(norm_feats, clusters, metric=\"cosine\")\n",
    "    print(f\"Average silhoette score for {i} clusters:\\t\", avg_silhouette_score, \"\\n\")"
   ]
  },
  {
   "cell_type": "code",
   "execution_count": 27,
   "metadata": {},
   "outputs": [
    {
     "name": "stdout",
     "output_type": "stream",
     "text": [
      "Wall time: 2.83 s\n"
     ]
    }
   ],
   "source": [
    "%%time\n",
    "sil_scores = []\n",
    "for i in range(2,len(user_toks)):\n",
    "    model = AgglomerativeClustering(n_clusters=i, affinity='cosine', linkage='average')  \n",
    "    clusters = model.fit_predict(norm_feats)\n",
    "    sil_scores.append(metrics.silhouette_score(norm_feats, clusters, metric=\"cosine\"))"
   ]
  },
  {
   "cell_type": "code",
   "execution_count": 28,
   "metadata": {},
   "outputs": [
    {
     "data": {
      "image/png": "[encoded data removed]",
      "text/plain": [
       "<Figure size 576x288 with 1 Axes>"
      ]
     },
     "metadata": {
      "needs_background": "light"
     },
     "output_type": "display_data"
    }
   ],
   "source": [
    "fig, ax = plt.subplots(figsize=(8,4))\n",
    "ax.plot(list(range(2, len(user_toks))), sil_scores)\n",
    "plt.show()"
   ]
  },
  {
   "cell_type": "code",
   "execution_count": 29,
   "metadata": {},
   "outputs": [],
   "source": [
    "model = AgglomerativeClustering(n_clusters=2, affinity='cosine', linkage='average')  \n",
    "clusters1 = model.fit_predict(norm_feats)"
   ]
  },
  {
   "cell_type": "code",
   "execution_count": 30,
   "metadata": {},
   "outputs": [
    {
     "name": "stdout",
     "output_type": "stream",
     "text": [
      "Num users in Cluster 0: 142\n",
      "Num users in Cluster 1: 155\n"
     ]
    }
   ],
   "source": [
    "for clust in set(clusters1):\n",
    "    print(f\"Num users in Cluster {clust}: {len(user_toks[clusters1==clust].index)}\")"
   ]
  },
  {
   "cell_type": "code",
   "execution_count": 31,
   "metadata": {},
   "outputs": [
    {
     "name": "stdout",
     "output_type": "stream",
     "text": [
      "Num words in Cluster 0: 2176632\n",
      "Num words in Cluster 1: 3815206\n"
     ]
    }
   ],
   "source": [
    "for clust in set(clusters1):\n",
    "    print(f\"Num words in Cluster {clust}: {len(merge_lists(user_toks[clusters1==clust]))}\")"
   ]
  },
  {
   "cell_type": "code",
   "execution_count": 32,
   "metadata": {},
   "outputs": [
    {
     "name": "stdout",
     "output_type": "stream",
     "text": [
      "Avg words in Cluster 0: 15328\n",
      "Median words in Cluster 0: 3442\n",
      "\n",
      "Avg words in Cluster 1: 24614\n",
      "Median words in Cluster 1: 7718\n",
      "\n"
     ]
    }
   ],
   "source": [
    "for clust in set(clusters1):\n",
    "    print(f\"Avg words in Cluster {clust}: {user_toks[clusters1==clust].apply(len).mean():.0f}\")\n",
    "    print(f\"Median words in Cluster {clust}: {user_toks[clusters1==clust].apply(len).median():.0f}\")\n",
    "    print()"
   ]
  },
  {
   "cell_type": "code",
   "execution_count": 33,
   "metadata": {},
   "outputs": [],
   "source": [
    "model = AgglomerativeClustering(n_clusters=None, distance_threshold=1, affinity='cosine', linkage='average')  \n",
    "clusters2 = model.fit_predict(norm_feats)"
   ]
  },
  {
   "cell_type": "code",
   "execution_count": 34,
   "metadata": {},
   "outputs": [
    {
     "name": "stdout",
     "output_type": "stream",
     "text": [
      "Num users in Cluster 0: 23\n",
      "Num users in Cluster 1: 80\n",
      "Num users in Cluster 2: 16\n",
      "Num users in Cluster 3: 103\n",
      "Num users in Cluster 4: 75\n"
     ]
    }
   ],
   "source": [
    "for clust in set(clusters2):\n",
    "    print(f\"Num users in Cluster {clust}: {len(user_toks[clusters2==clust].index)}\")"
   ]
  },
  {
   "cell_type": "code",
   "execution_count": 35,
   "metadata": {},
   "outputs": [
    {
     "name": "stdout",
     "output_type": "stream",
     "text": [
      "Num words in Cluster 0: 18790\n",
      "Num words in Cluster 1: 1905951\n",
      "Num words in Cluster 2: 12337\n",
      "Num words in Cluster 3: 2145505\n",
      "Num words in Cluster 4: 1909255\n"
     ]
    }
   ],
   "source": [
    "for clust in set(clusters2):\n",
    "    print(f\"Num words in Cluster {clust}: {len(merge_lists(user_toks[clusters2==clust]))}\")"
   ]
  },
  {
   "cell_type": "code",
   "execution_count": 36,
   "metadata": {},
   "outputs": [
    {
     "name": "stdout",
     "output_type": "stream",
     "text": [
      "Avg words in Cluster 0: 817\n",
      "Median words in Cluster 0: 716\n",
      "\n",
      "Avg words in Cluster 1: 23824\n",
      "Median words in Cluster 1: 5250\n",
      "\n",
      "Avg words in Cluster 2: 771\n",
      "Median words in Cluster 2: 364\n",
      "\n",
      "Avg words in Cluster 3: 20830\n",
      "Median words in Cluster 3: 7608\n",
      "\n",
      "Avg words in Cluster 4: 25457\n",
      "Median words in Cluster 4: 8987\n",
      "\n"
     ]
    }
   ],
   "source": [
    "for clust in set(clusters2):\n",
    "    print(f\"Avg words in Cluster {clust}: {user_toks[clusters2==clust].apply(len).mean():.0f}\")\n",
    "    print(f\"Median words in Cluster {clust}: {user_toks[clusters2==clust].apply(len).median():.0f}\")\n",
    "    print()"
   ]
  },
  {
   "cell_type": "code",
   "execution_count": 37,
   "metadata": {},
   "outputs": [],
   "source": [
    "clusters = clusters1"
   ]
  },
  {
   "cell_type": "code",
   "execution_count": 38,
   "metadata": {},
   "outputs": [
    {
     "name": "stdout",
     "output_type": "stream",
     "text": [
      "Average silhoette score for Normed:\t 0.06639849502130284 \n",
      "\n"
     ]
    }
   ],
   "source": [
    "avg_silhouette_score = metrics.silhouette_score(norm_feats, clusters, metric=\"cosine\")\n",
    "print(\"Average silhoette score for Normed:\\t\", avg_silhouette_score, \"\\n\")"
   ]
  },
  {
   "cell_type": "code",
   "execution_count": 39,
   "metadata": {},
   "outputs": [
    {
     "name": "stdout",
     "output_type": "stream",
     "text": [
      "0 142\n",
      "1 155\n"
     ]
    }
   ],
   "source": [
    "for clust in set(clusters):\n",
    "    print(clust, len(user_toks[clusters==clust].index))"
   ]
  },
  {
   "cell_type": "code",
   "execution_count": 40,
   "metadata": {},
   "outputs": [
    {
     "name": "stdout",
     "output_type": "stream",
     "text": [
      "2.0,16.0,32.0,38.0,62.0,99.0,315.0,376.0,464.0,706.0,709.0,775.0,843.0,1206.0,1342.0,1423.0,1448.0,1500.0,1584.0,1804.0\n",
      "0,0,0,1,0,1,1,1,1,1,1,0,0,0,1,1,1,1,1,0\n"
     ]
    }
   ],
   "source": [
    "print(\",\".join(map(str, user_toks[user_toks.index.isin(top_20.index)].index)))\n",
    "print(\",\".join(map(str, clusters[user_toks.index.isin(top_20.index)])))"
   ]
  },
  {
   "cell_type": "code",
   "execution_count": 41,
   "metadata": {},
   "outputs": [
    {
     "name": "stdout",
     "output_type": "stream",
     "text": [
      "0,0,3\n",
      "1,0,3\n",
      "2,0,3\n",
      "3,1,4\n",
      "4,0,3\n",
      "5,1,1\n",
      "6,1,1\n",
      "7,1,1\n",
      "8,1,1\n",
      "9,1,1\n",
      "10,1,4\n",
      "11,0,3\n",
      "12,0,3\n",
      "13,0,3\n",
      "14,1,1\n",
      "15,1,4\n",
      "16,1,4\n",
      "17,1,1\n",
      "18,1,1\n",
      "19,0,3\n"
     ]
    }
   ],
   "source": [
    "for i, (c1, c2) in enumerate(zip(clusters[user_toks.index.isin(top_20.index)], clusters2[user_toks.index.isin(top_20.index)])):\n",
    "    print(i, c1, c2, sep=\",\")"
   ]
  },
  {
   "cell_type": "code",
   "execution_count": 42,
   "metadata": {},
   "outputs": [],
   "source": [
    "ling_clusts = {\"Cluster 0\": list(user_toks[clusters1==0].index), \n",
    "               \"Cluster 1\": list(user_toks[clusters1==1].index)}\n",
    "\n",
    "with open(os.path.join(GRAPH_DIR, f\"{curr_feat_type}_core_clusts.json\"), \"w\") as out_file:\n",
    "    json.dump(ling_clusts, out_file)"
   ]
  },
  {
   "cell_type": "code",
   "execution_count": 43,
   "metadata": {},
   "outputs": [
    {
     "data": {
      "image/png": "[encoded data removed]",
      "text/plain": [
       "<Figure size 576x576 with 1 Axes>"
      ]
     },
     "metadata": {
      "needs_background": "light"
     },
     "output_type": "display_data"
    }
   ],
   "source": [
    "fig, ax = plt.subplots(figsize=(8,8))\n",
    "for c in set(clusters):\n",
    "    ax.scatter(norm_feats[clusters==c,0], norm_feats[clusters==c,1], label=c, alpha=0.3)\n",
    "ax.grid()\n",
    "ax.legend()\n",
    "plt.show()"
   ]
  },
  {
   "cell_type": "markdown",
   "metadata": {},
   "source": [
    "# Analyse Spread Across Users"
   ]
  },
  {
   "cell_type": "code",
   "execution_count": 44,
   "metadata": {},
   "outputs": [
    {
     "data": {
      "text/plain": [
       "Float64Index([   2.0,    3.0,    4.0,    5.0,    7.0,    9.0,   11.0,   14.0,\n",
       "                15.0,   16.0,\n",
       "              ...\n",
       "              1991.0, 2007.0, 2010.0, 2015.0, 2105.0, 2144.0, 2149.0, 2184.0,\n",
       "              2207.0, 2218.0],\n",
       "             dtype='float64', name='poster_id', length=142)"
      ]
     },
     "execution_count": 44,
     "metadata": {},
     "output_type": "execute_result"
    }
   ],
   "source": [
    "user_toks.index[clusters==0]"
   ]
  },
  {
   "cell_type": "code",
   "execution_count": 45,
   "metadata": {},
   "outputs": [
    {
     "data": {
      "text/plain": [
       "Float64Index([   1.0,   18.0,   20.0,   23.0,   35.0,   36.0,   38.0,   39.0,\n",
       "                44.0,   48.0,\n",
       "              ...\n",
       "              2163.0, 2166.0, 2167.0, 2195.0, 2222.0, 2223.0, 2236.0, 2243.0,\n",
       "              2259.0, 2282.0],\n",
       "             dtype='float64', name='poster_id', length=155)"
      ]
     },
     "execution_count": 45,
     "metadata": {},
     "output_type": "execute_result"
    }
   ],
   "source": [
    "user_toks.index[clusters==1]"
   ]
  },
  {
   "cell_type": "code",
   "execution_count": 46,
   "metadata": {},
   "outputs": [],
   "source": [
    "contingency1 = pd.crosstab(user_toks.index.values, [clusters1], rownames=[\"User\"], colnames=[\"Cluster\"])\n",
    "contingency2 = pd.crosstab(user_toks.index.values, [clusters2], rownames=[\"User\"], colnames=[\"Cluster\"])"
   ]
  },
  {
   "cell_type": "code",
   "execution_count": 47,
   "metadata": {},
   "outputs": [
    {
     "data": {
      "image/png": "[encoded data removed]",
      "text/plain": [
       "<Figure size 576x432 with 2 Axes>"
      ]
     },
     "metadata": {
      "needs_background": "light"
     },
     "output_type": "display_data"
    }
   ],
   "source": [
    "fig, ax = plt.subplots(figsize=(8,6))\n",
    "sns.heatmap(contingency1.loc[top_20.index], annot=True, ax=ax, fmt='g', cmap=\"Greens\")\n",
    "# fig.savefig(os.path.join(GRAPH_DIR, f\"chunk_contingency_2_{curr_feat_type}.pdf\"))\n",
    "plt.show()"
   ]
  },
  {
   "cell_type": "code",
   "execution_count": 48,
   "metadata": {},
   "outputs": [
    {
     "data": {
      "image/png": "[encoded data removed]",
      "text/plain": [
       "<Figure size 288x1440 with 2 Axes>"
      ]
     },
     "metadata": {
      "needs_background": "light"
     },
     "output_type": "display_data"
    }
   ],
   "source": [
    "fig, ax = plt.subplots(figsize=(4,20))\n",
    "sns.heatmap(contingency1.loc[posts_per_user.sort_values(ascending=False).head(100).index], annot=True, ax=ax, fmt='g', cmap=\"Greens\")\n",
    "# fig.savefig(os.path.join(GRAPH_DIR, f\"chunk_contingency_2_{curr_feat_type}.pdf\"))\n",
    "plt.show()"
   ]
  },
  {
   "cell_type": "code",
   "execution_count": 49,
   "metadata": {},
   "outputs": [
    {
     "data": {
      "image/png": "[encoded data removed]",
      "text/plain": [
       "<Figure size 576x432 with 2 Axes>"
      ]
     },
     "metadata": {
      "needs_background": "light"
     },
     "output_type": "display_data"
    }
   ],
   "source": [
    "fig, ax = plt.subplots(figsize=(8,6))\n",
    "sns.heatmap(contingency2.loc[top_20.index], annot=True, ax=ax, fmt='g', cmap=\"Greens\")\n",
    "# fig.savefig(os.path.join(GRAPH_DIR, f\"chunk_contingency_2_{curr_feat_type}.pdf\"))\n",
    "plt.show()"
   ]
  },
  {
   "cell_type": "code",
   "execution_count": 50,
   "metadata": {
    "scrolled": false
   },
   "outputs": [
    {
     "data": {
      "image/png": "[encoded data removed]",
      "text/plain": [
       "<Figure size 288x3600 with 2 Axes>"
      ]
     },
     "metadata": {
      "needs_background": "light"
     },
     "output_type": "display_data"
    }
   ],
   "source": [
    "fig, ax = plt.subplots(figsize=(4,50))\n",
    "sns.heatmap(contingency2.loc[posts_per_user.sort_values(ascending=False).index], annot=True, ax=ax, fmt='g', cmap=\"Greens\")\n",
    "# fig.savefig(os.path.join(GRAPH_DIR, f\"chunk_contingency_2_{curr_feat_type}.pdf\"))\n",
    "plt.show()"
   ]
  },
  {
   "cell_type": "markdown",
   "metadata": {},
   "source": [
    "# Compare clusters"
   ]
  },
  {
   "cell_type": "code",
   "execution_count": 51,
   "metadata": {},
   "outputs": [],
   "source": [
    "clust_comparison = pd.crosstab(clusters1, [clusters2], rownames=[\"Clust 1\"], colnames=[\"Clust 2\"])"
   ]
  },
  {
   "cell_type": "code",
   "execution_count": 52,
   "metadata": {},
   "outputs": [
    {
     "data": {
      "text/html": [
       "<div>\n",
       "<style scoped>\n",
       "    .dataframe tbody tr th:only-of-type {\n",
       "        vertical-align: middle;\n",
       "    }\n",
       "\n",
       "    .dataframe tbody tr th {\n",
       "        vertical-align: top;\n",
       "    }\n",
       "\n",
       "    .dataframe thead th {\n",
       "        text-align: right;\n",
       "    }\n",
       "</style>\n",
       "<table border=\"1\" class=\"dataframe\">\n",
       "  <thead>\n",
       "    <tr style=\"text-align: right;\">\n",
       "      <th>Clust 2</th>\n",
       "      <th>0</th>\n",
       "      <th>1</th>\n",
       "      <th>2</th>\n",
       "      <th>3</th>\n",
       "      <th>4</th>\n",
       "    </tr>\n",
       "    <tr>\n",
       "      <th>Clust 1</th>\n",
       "      <th></th>\n",
       "      <th></th>\n",
       "      <th></th>\n",
       "      <th></th>\n",
       "      <th></th>\n",
       "    </tr>\n",
       "  </thead>\n",
       "  <tbody>\n",
       "    <tr>\n",
       "      <th>0</th>\n",
       "      <td>23</td>\n",
       "      <td>0</td>\n",
       "      <td>16</td>\n",
       "      <td>103</td>\n",
       "      <td>0</td>\n",
       "    </tr>\n",
       "    <tr>\n",
       "      <th>1</th>\n",
       "      <td>0</td>\n",
       "      <td>80</td>\n",
       "      <td>0</td>\n",
       "      <td>0</td>\n",
       "      <td>75</td>\n",
       "    </tr>\n",
       "  </tbody>\n",
       "</table>\n",
       "</div>"
      ],
      "text/plain": [
       "Clust 2   0   1   2    3   4\n",
       "Clust 1                     \n",
       "0        23   0  16  103   0\n",
       "1         0  80   0    0  75"
      ]
     },
     "execution_count": 52,
     "metadata": {},
     "output_type": "execute_result"
    }
   ],
   "source": [
    "clust_comparison"
   ]
  },
  {
   "cell_type": "code",
   "execution_count": 53,
   "metadata": {},
   "outputs": [
    {
     "data": {
      "image/png": "[encoded data removed]",
      "text/plain": [
       "<Figure size 432x288 with 2 Axes>"
      ]
     },
     "metadata": {
      "needs_background": "light"
     },
     "output_type": "display_data"
    }
   ],
   "source": [
    "fig, ax = plt.subplots(figsize=(6,4))\n",
    "sns.heatmap(clust_comparison, annot=True, ax=ax, fmt='g', cmap=\"Greens\")\n",
    "plt.show()"
   ]
  },
  {
   "cell_type": "markdown",
   "metadata": {},
   "source": [
    "# Get Some Keywords Between Clusters"
   ]
  },
  {
   "cell_type": "code",
   "execution_count": 54,
   "metadata": {},
   "outputs": [
    {
     "name": "stdout",
     "output_type": "stream",
     "text": [
      "Wall time: 0 ns\n"
     ]
    }
   ],
   "source": [
    "%%time\n",
    "lr = lambda x, y: np.log2(x / y)\n",
    "\n",
    "def get_cluster_keywords(tokens, clusters):\n",
    "    \n",
    "    clust_counts = tokens.groupby(clusters).apply(\n",
    "                    lambda x: [Counter(merge_lists(x))]).apply(\n",
    "                    lambda x: x[0])\n",
    "    clust_n_words = {clust: tokens[clusters==clust].apply(len).sum() for clust in set(clusters)}\n",
    "\n",
    "    for clust, counts in clust_counts.items():\n",
    "        other_counts = Counter(merge_lists(tokens[clusters!=clust]))\n",
    "        other_nwords = tokens[clusters!=clust].apply(len).sum()\n",
    "        lrs = calculate_cluster_lrs(counts, other_counts, clust_n_words[clust], other_nwords)\n",
    "        lrs = {w: l for w, l in lrs.items() if counts[w] > 100}\n",
    "        lrs = pd.Series(lrs).sort_values(ascending=False)\n",
    "        t10_lr = lrs.head(20)\n",
    "        b10_lr = lrs.tail(20)\n",
    "\n",
    "        print(clust)\n",
    "        print(\"-------------------------------------------------------------------------------------\")\n",
    "        for (w1, lr1), (w2, lr2) in zip(t10_lr.items(), b10_lr.items()):\n",
    "            print(f\"{w1:20}\\t{lr1:10.2f}\\t|\\t{w2:20}\\t{lr2:10.2f}\")\n",
    "        print(\"-------------------------------------------------------------------------------------\")"
   ]
  },
  {
   "cell_type": "code",
   "execution_count": 55,
   "metadata": {},
   "outputs": [],
   "source": [
    "def get_cluster_lrs(tokens, clusters, min_freq=100):\n",
    "    \n",
    "    clust_counts = tokens.groupby(clusters).apply(\n",
    "                    lambda x: [Counter(merge_lists(x))]).apply(\n",
    "                    lambda x: x[0])\n",
    "    clust_n_words = {clust: tokens[clusters==clust].apply(len).sum() for clust in set(clusters)}\n",
    "    \n",
    "    clust_kw = dict()\n",
    "\n",
    "    for clust, counts in clust_counts.items():\n",
    "        other_counts = Counter(merge_lists(tokens[clusters!=clust]))\n",
    "        other_nwords = tokens[clusters!=clust].apply(len).sum()\n",
    "        lrs = calculate_cluster_lrs(counts, other_counts, clust_n_words[clust], other_nwords)\n",
    "        lrs = {w: l for w, l in lrs.items() if counts[w] > min_freq}\n",
    "        lrs = pd.Series(lrs).sort_values(ascending=False)\n",
    "   \n",
    "        clust_kw[clust] = lrs\n",
    "    return clust_kw"
   ]
  },
  {
   "cell_type": "markdown",
   "metadata": {},
   "source": [
    "# Key features (2 clusters)"
   ]
  },
  {
   "cell_type": "code",
   "execution_count": 56,
   "metadata": {},
   "outputs": [],
   "source": [
    "clusters = clusters1"
   ]
  },
  {
   "cell_type": "markdown",
   "metadata": {},
   "source": [
    "## Key PoS-Trigrams"
   ]
  },
  {
   "cell_type": "code",
   "execution_count": 57,
   "metadata": {
    "scrolled": false
   },
   "outputs": [
    {
     "name": "stdout",
     "output_type": "stream",
     "text": [
      "0\n",
      "-------------------------------------------------------------------------------------\n",
      "ADV_INTJ_PUNCT      \t      1.38\t|\tPROPN_PROPN_NOUN    \t     -1.45\n",
      "INTJ_VERB_ADP       \t      1.34\t|\tADP_ADV_NUM         \t     -1.49\n",
      "INTJ_PUNCT_AUX      \t      1.33\t|\tPROPN_PROPN_CCONJ   \t     -1.49\n",
      "AUX_PUNCT_INTJ      \t      1.27\t|\tPROPN_PROPN_PROPN   \t     -1.50\n",
      "PRON_ADV_PART       \t      1.22\t|\tPUNCT_PUNCT_X       \t     -1.56\n",
      "PART_ADJ_PRON       \t      1.18\t|\tPUNCT_NUM_SYM       \t     -1.56\n",
      "INTJ_PUNCT_SCONJ    \t      1.15\t|\tPUNCT_PROPN_PROPN   \t     -1.61\n",
      "PRON_PART_ADV       \t      1.11\t|\tPROPN_PUNCT_PROPN   \t     -1.68\n",
      "PRON_INTJ_VERB      \t      1.11\t|\tNUM_SYM_NUM         \t     -1.71\n",
      "INTJ_INTJ_PUNCT     \t      1.10\t|\tNOUN_PROPN_PROPN    \t     -1.72\n",
      "ADJ_ADV_PRON        \t      1.10\t|\tPUNCT_PROPN_ADP     \t     -1.75\n",
      "ADV_ADJ_PRON        \t      1.09\t|\tPROPN_PROPN_ADP     \t     -1.79\n",
      "INTJ_PUNCT_ADJ      \t      1.08\t|\tPROPN_ADP_PROPN     \t     -1.80\n",
      "ADV_INTJ_VERB       \t      1.07\t|\tSYM_NUM_NOUN        \t     -1.81\n",
      "PUNCT_ADV_INTJ      \t      1.06\t|\tNOUN_SYM_NUM        \t     -1.95\n",
      "PART_SCONJ_PRON     \t      1.05\t|\tPUNCT_NUM_PUNCT     \t     -2.01\n",
      "PRON_PUNCT_INTJ     \t      1.04\t|\tNUM_PUNCT_NUM       \t     -2.10\n",
      "PART_ADJ_ADV        \t      1.04\t|\tNUM_PUNCT_PUNCT     \t     -2.18\n",
      "INTJ_PUNCT_INTJ     \t      1.04\t|\tPROPN_PUNCT_NUM     \t     -2.24\n",
      "PUNCT_INTJ_INTJ     \t      1.04\t|\tPROPN_NUM_PUNCT     \t     -2.36\n",
      "-------------------------------------------------------------------------------------\n",
      "1\n",
      "-------------------------------------------------------------------------------------\n",
      "NUM_NUM_PROPN       \t      3.87\t|\tVERB_ADJ_PRON       \t     -1.01\n",
      "PROPN_NOUN_SYM      \t      3.77\t|\tINTJ_PUNCT_VERB     \t     -1.01\n",
      "NUM_PROPN_PUNCT     \t      3.42\t|\tPUNCT_CCONJ_INTJ    \t     -1.02\n",
      "SYM_NOUN_NUM        \t      3.34\t|\tPUNCT_INTJ_INTJ     \t     -1.04\n",
      "PROPN_NUM_NUM       \t      3.18\t|\tINTJ_PUNCT_INTJ     \t     -1.04\n",
      "ADV_NUM_PROPN       \t      2.78\t|\tPART_ADJ_ADV        \t     -1.04\n",
      "PROPN_NUM_PROPN     \t      2.78\t|\tPRON_PUNCT_INTJ     \t     -1.04\n",
      "NUM_NOUN_PROPN      \t      2.77\t|\tPART_SCONJ_PRON     \t     -1.05\n",
      "NOUN_NUM_NUM        \t      2.64\t|\tPUNCT_ADV_INTJ      \t     -1.06\n",
      "PUNCT_PROPN_NUM     \t      2.59\t|\tINTJ_PUNCT_ADJ      \t     -1.08\n",
      "NUM_ADP_PUNCT       \t      2.59\t|\tADV_ADJ_PRON        \t     -1.09\n",
      "PROPN_PROPN_NUM     \t      2.51\t|\tADJ_ADV_PRON        \t     -1.10\n",
      "ADJ_NOUN_SYM        \t      2.46\t|\tINTJ_INTJ_PUNCT     \t     -1.10\n",
      "NUM_DET_NOUN        \t      2.44\t|\tPRON_PART_ADV       \t     -1.11\n",
      "NUM_NOUN_NUM        \t      2.42\t|\tINTJ_PUNCT_SCONJ    \t     -1.15\n",
      "NUM_NUM_NUM         \t      2.40\t|\tPART_ADJ_PRON       \t     -1.18\n",
      "NUM_PUNCT_PROPN     \t      2.38\t|\tPRON_ADV_PART       \t     -1.22\n",
      "ADP_NUM_PROPN       \t      2.37\t|\tINTJ_PUNCT_AUX      \t     -1.33\n",
      "PROPN_NOUN_NUM      \t      2.37\t|\tINTJ_VERB_ADP       \t     -1.34\n",
      "PROPN_NUM_PUNCT     \t      2.36\t|\tADV_INTJ_PUNCT      \t     -1.38\n",
      "-------------------------------------------------------------------------------------\n",
      "Wall time: 1.55 s\n"
     ]
    }
   ],
   "source": [
    "%%time\n",
    "get_cluster_keywords(pos_trigrams, clusters)"
   ]
  },
  {
   "cell_type": "code",
   "execution_count": 58,
   "metadata": {},
   "outputs": [
    {
     "name": "stdout",
     "output_type": "stream",
     "text": [
      "Showing 25 out of 247:\n",
      "2.0        ouncilors have voting privileges now \u001b[1m. uh oh\u001b[0m , fixed . gah. fixed . well , that w\n",
      "2.0         i . live up to your own standards \u001b[1m. hell yeah\u001b[0m . or we could use lulu , like tint\n",
      "2.0        possible is considerably harder than \u001b[1m\" oh no\u001b[0m , it takes effort \" all us dollars a\n",
      "2.0        ave breasts . my chest is very flat \u001b[1m. hi fogo4\u001b[0m , thanks for stopping by . this cla\n",
      "2.0        inal claim from the very same page ) \u001b[1m: oh my\u001b[0m . you did n't think it magically tra\n",
      "2.0        , and then you 'd probably say that \u001b[1m\" oh well\u001b[0m , they were pretty close to speakin\n",
      "2.0        warning to this effect will follow \u001b[1m. hi hoopera\u001b[0m , thanks for stopping by . i hope \n",
      "2.0        ermines what i said or did n't say \u001b[1m? gosh darn\u001b[0m it , why was n't i informed !? i a\n",
      "2.0        now , falsity implies all statements \u001b[1m. oh my\u001b[0m . perhaps you should n't have used t\n",
      "2.0         piece of very anecdotal evidence \u001b[1m. hi sandokhan\u001b[0m , i will repeat this to you once \n",
      "2.0         tried denying that your position is \u001b[1m\" nuh uh\u001b[0m evidence do n't real \" . oh , you 'r\n",
      "2.0         reading a transcript , by yourself \u001b[1m. oh well\u001b[0m , here 's one example : on an unrel\n",
      "2.0        lish language . well , let 's see \u001b[1m... gosh darn\u001b[0m those faq authors , how very dare\n",
      "2.0        ou think that 's oh - so - terrible \u001b[1m, ah well\u001b[0m , we ca n't please them all . once \n",
      "2.0        g , please explain why . just saying \u001b[1m\" nuh uh\u001b[0m ain't no reason \" will not cut it . \n",
      "2.0        quotes appropriately , or not at all \u001b[1m. oh no\u001b[0m , you 're doing that thing again . s\n",
      "2.0         should n't require much more than a \u001b[1m\" lol no\u001b[0m \" from me , if it was presented with\n",
      "2.0        st when your patterns are exposed ! \u001b[1m) oh yeah\u001b[0m , you were the proponent of superso\n",
      "2.0         it sound like this was n't the case \u001b[1m, hey ho\u001b[0m , my bad . though i do think i made \n",
      "2.0         getting rid of the deplorable bits \u001b[1m. oh well\u001b[0m , i 'm sure he 'll find a way to ca\n",
      "2.0         giving you the benefit of the doubt \u001b[1m. oh no\u001b[0m , the re peanut gallery might think \n",
      "2.0        t gallery might think less of junker \u001b[1m. oh no\u001b[0m . virtually none are . what makes yo\n",
      "2.0        uette so your rebuttal boils down to \u001b[1m\" nuh uh\u001b[0m , that 's wrong !!! \" that 's quite \n",
      "2.0         about teslas once . fool me once \u001b[1m, yadda yadda\u001b[0m , but then it happened again . no\n",
      "2.0        t worst turn into two sides shouting \u001b[1m\" nuh uh\u001b[0m ! \" over one another . you 've got t\n"
     ]
    }
   ],
   "source": [
    "get_text_example_of_pos([\"PUNCT\", \"INTJ\", \"INTJ\"], \n",
    "                        user_pos[clusters==0], \n",
    "                        user_toks[clusters==0], \n",
    "                        doc_labels=user_toks[clusters==0].index, n_examples=25)"
   ]
  },
  {
   "cell_type": "code",
   "execution_count": 59,
   "metadata": {},
   "outputs": [
    {
     "name": "stdout",
     "output_type": "stream",
     "text": [
      "Distribution across users:\n",
      "Num uses per user\n",
      "user\n",
      "18.0       3\n",
      "38.0      11\n",
      "59.0      17\n",
      "65.0       1\n",
      "85.0      28\n",
      "99.0       3\n",
      "103.0      2\n",
      "155.0      4\n",
      "232.0      7\n",
      "236.0      1\n",
      "315.0     71\n",
      "376.0      1\n",
      "511.0      1\n",
      "603.0      2\n",
      "704.0      1\n",
      "709.0      1\n",
      "713.0      1\n",
      "844.0      1\n",
      "864.0      3\n",
      "1253.0     7\n",
      "1342.0    20\n",
      "1424.0     2\n",
      "1448.0     4\n",
      "1459.0     2\n",
      "1500.0     8\n",
      "1584.0    11\n",
      "2166.0     1\n",
      "2222.0     3\n",
      "dtype: int64\n",
      "\n",
      "Mean uses per user:\t 7.75\n",
      "Median uses per user:\t 3.0\n",
      "Wall time: 2.61 s\n"
     ]
    }
   ],
   "source": [
    "%%time\n",
    "concs = make_pos_concordance([\"NUM\", \"PROPN\", \"NUM\"],\n",
    "                             user_pos[clusters==1],\n",
    "                             user_toks[clusters==1],\n",
    "                             doc_labels=user_toks[clusters==1].index)\n",
    "concs = pd.DataFrame(concs, columns=[\"user\", \"conc\"])\n",
    "\n",
    "print(\"Distribution across users:\")\n",
    "num_uses_per_user = concs.groupby(\"user\").size()\n",
    "print(\"Num uses per user\", num_uses_per_user, sep=\"\\n\", end=\"\\n\\n\")\n",
    "print(\"Mean uses per user:\\t\", num_uses_per_user.mean())\n",
    "print(\"Median uses per user:\\t\", num_uses_per_user.median())"
   ]
  },
  {
   "cell_type": "markdown",
   "metadata": {},
   "source": [
    "## Key words"
   ]
  },
  {
   "cell_type": "code",
   "execution_count": 60,
   "metadata": {
    "scrolled": false
   },
   "outputs": [
    {
     "name": "stdout",
     "output_type": "stream",
     "text": [
      "0\n",
      "-------------------------------------------------------------------------------------\n",
      "fora                \t      4.79\t|\t90                  \t     -1.40\n",
      "refrain             \t      4.34\t|\trotation            \t     -1.41\n",
      "warned              \t      4.17\t|\tpole                \t     -1.42\n",
      "ranting             \t      3.10\t|\tflight              \t     -1.44\n",
      "youâ              \t      3.05\t|\tnorthern            \t     -1.49\n",
      "re                 \t      2.98\t|\twest                \t     -1.49\n",
      "warning             \t      2.83\t|\tmeasurement         \t     -1.50\n",
      "gon                 \t      2.82\t|\tradius              \t     -1.52\n",
      "reers               \t      2.79\t|\tnavigation          \t     -1.57\n",
      "ban                 \t      2.71\t|\trefraction          \t     -1.58\n",
      "angry               \t      2.70\t|\t12                  \t     -1.59\n",
      "strawman            \t      2.65\t|\tsouthern            \t     -1.59\n",
      "demonstrably        \t      2.50\t|\tequator             \t     -1.66\n",
      "na                  \t      2.45\t|\tsouth               \t     -1.75\n",
      "shit                \t      2.42\t|\tobserver            \t     -1.83\n",
      "council             \t      2.26\t|\t=                   \t     -1.84\n",
      "basics              \t      2.21\t|\tformula             \t     -1.84\n",
      "dr                  \t      2.15\t|\tlatitude            \t     -1.91\n",
      "moved               \t      2.10\t|\tâ                 \t     -1.93\n",
      "dude                \t      2.04\t|\tkm                  \t     -1.98\n",
      "-------------------------------------------------------------------------------------\n",
      "1\n",
      "-------------------------------------------------------------------------------------\n",
      "â«                 \t      6.95\t|\tparticularly        \t     -1.38\n",
      "â»                 \t      6.94\t|\tupper               \t     -1.39\n",
      "=>                  \t      5.64\t|\tfaith               \t     -1.40\n",
      "allais              \t      5.39\t|\tliterally           \t     -1.42\n",
      "qantas              \t      4.92\t|\tiâm              \t     -1.46\n",
      "longitudinal        \t      4.71\t|\tdonâ               \t     -1.46\n",
      "statute             \t      4.25\t|\tlying               \t     -1.46\n",
      "                   \t      4.22\t|\t'd                  \t     -1.47\n",
      "->                  \t      4.21\t|\tmaths               \t     -1.49\n",
      "sagnac              \t      3.90\t|\tmembers             \t     -1.50\n",
      "̂°                  \t      3.84\t|\thonest              \t     -1.52\n",
      "zenith              \t      3.81\t|\tlol                 \t     -1.52\n",
      "ge                  \t      3.79\t|\tfaq                 \t     -1.54\n",
      "ic                  \t      3.76\t|\tcontent             \t     -1.64\n",
      "°                   \t      3.62\t|\t're                 \t     -1.64\n",
      "meridian            \t      3.61\t|\tnonsense            \t     -1.68\n",
      "san                 \t      3.59\t|\tposting             \t     -1.77\n",
      "gravimeter          \t      3.54\t|\tconversation        \t     -1.85\n",
      "ether               \t      3.53\t|\twelcome             \t     -1.89\n",
      "haversine           \t      3.52\t|\tmoved               \t     -2.10\n",
      "-------------------------------------------------------------------------------------\n",
      "Wall time: 2 s\n"
     ]
    }
   ],
   "source": [
    "%%time\n",
    "get_cluster_keywords(user_toks, clusters)"
   ]
  },
  {
   "cell_type": "code",
   "execution_count": 61,
   "metadata": {},
   "outputs": [
    {
     "name": "stdout",
     "output_type": "stream",
     "text": [
      "Wall time: 2.08 s\n"
     ]
    }
   ],
   "source": [
    "%%time\n",
    "clust_lrs = get_cluster_lrs(user_toks, clusters)"
   ]
  },
  {
   "cell_type": "code",
   "execution_count": 62,
   "metadata": {},
   "outputs": [
    {
     "data": {
      "text/plain": [
       "1.8569691576906135"
      ]
     },
     "execution_count": 62,
     "metadata": {},
     "output_type": "execute_result"
    }
   ],
   "source": [
    "(clust_lrs[0][\"re'ers\"])"
   ]
  },
  {
   "cell_type": "code",
   "execution_count": 63,
   "metadata": {},
   "outputs": [
    {
     "data": {
      "text/plain": [
       "2.78910212042994"
      ]
     },
     "execution_count": 63,
     "metadata": {},
     "output_type": "execute_result"
    }
   ],
   "source": [
    "(clust_lrs[0][\"reers\"])"
   ]
  },
  {
   "cell_type": "code",
   "execution_count": 64,
   "metadata": {},
   "outputs": [
    {
     "data": {
      "text/plain": [
       "0.24425910399104284"
      ]
     },
     "execution_count": 64,
     "metadata": {},
     "output_type": "execute_result"
    }
   ],
   "source": [
    "clust_lrs[1][\"fe'ers\"]"
   ]
  },
  {
   "cell_type": "code",
   "execution_count": 65,
   "metadata": {},
   "outputs": [
    {
     "data": {
      "text/plain": [
       "0.5768993375033704"
      ]
     },
     "execution_count": 65,
     "metadata": {},
     "output_type": "execute_result"
    }
   ],
   "source": [
    "clust_lrs[0][\"feers\"]"
   ]
  },
  {
   "cell_type": "code",
   "execution_count": 66,
   "metadata": {},
   "outputs": [
    {
     "data": {
      "text/plain": [
       "-0.1809515302916275"
      ]
     },
     "execution_count": 66,
     "metadata": {},
     "output_type": "execute_result"
    }
   ],
   "source": [
    "clust_lrs[0][\"flat\"]"
   ]
  },
  {
   "cell_type": "code",
   "execution_count": 67,
   "metadata": {},
   "outputs": [
    {
     "data": {
      "text/plain": [
       "0.23209197872405468"
      ]
     },
     "execution_count": 67,
     "metadata": {},
     "output_type": "execute_result"
    }
   ],
   "source": [
    "clust_lrs[0][\"round\"]"
   ]
  },
  {
   "cell_type": "code",
   "execution_count": 68,
   "metadata": {},
   "outputs": [
    {
     "name": "stdout",
     "output_type": "stream",
     "text": [
      "Cluster 0: 365 / 2176632\n",
      "Cluster 1: 581 / 3815206\n"
     ]
    },
    {
     "data": {
      "text/plain": [
       "0.1397556573914757"
      ]
     },
     "execution_count": 68,
     "metadata": {},
     "output_type": "execute_result"
    }
   ],
   "source": [
    "c1 = len(make_ngram_concordance([\"flat\", \"earthers\"],\n",
    "                                user_toks[clusters==0],\n",
    "                                doc_labels=user_toks[clusters==0].index))\n",
    "\n",
    "c2 = len(make_ngram_concordance([\"flat\", \"earthers\"],\n",
    "                                user_toks[clusters==1],\n",
    "                                doc_labels=user_toks[clusters==1].index))\n",
    "\n",
    "n1 = user_toks[clusters==0].apply(len).sum()\n",
    "n2 = user_toks[clusters==1].apply(len).sum()\n",
    "\n",
    "print(f\"Cluster 0: {c1} / {n1}\")\n",
    "print(f\"Cluster 1: {c2} / {n2}\")\n",
    "lr((c1+0.5)/n1, (c2+0.5)/n2)"
   ]
  },
  {
   "cell_type": "code",
   "execution_count": 69,
   "metadata": {},
   "outputs": [
    {
     "name": "stdout",
     "output_type": "stream",
     "text": [
      "Cluster 0: 166 / 2176632\n",
      "Cluster 1: 103 / 3815206\n"
     ]
    },
    {
     "data": {
      "text/plain": [
       "1.495554852484194"
      ]
     },
     "execution_count": 69,
     "metadata": {},
     "output_type": "execute_result"
    }
   ],
   "source": [
    "c1 = len(make_ngram_concordance([\"round\", \"earthers\"],\n",
    "                                user_toks[clusters==0],\n",
    "                                doc_labels=user_toks[clusters==0].index))\n",
    "\n",
    "c2 = len(make_ngram_concordance([\"round\", \"earthers\"],\n",
    "                                user_toks[clusters==1],\n",
    "                                doc_labels=user_toks[clusters==1].index))\n",
    "\n",
    "n1 = user_toks[clusters==0].apply(len).sum()\n",
    "n2 = user_toks[clusters==1].apply(len).sum()\n",
    "\n",
    "print(f\"Cluster 0: {c1} / {n1}\")\n",
    "print(f\"Cluster 1: {c2} / {n2}\")\n",
    "lr((c1+0.5)/n1, (c2+0.5)/n2)"
   ]
  },
  {
   "cell_type": "code",
   "execution_count": 70,
   "metadata": {},
   "outputs": [
    {
     "name": "stdout",
     "output_type": "stream",
     "text": [
      "Showing 25 out of 203:\n",
      "2.0        ts in which \" theory \" may be used by \u001b[1mfe'ers\u001b[0m . within the context of \" conspiracy \n",
      "2.0        s used in exactly the same fashion by \u001b[1mfe'ers\u001b[0m as other scientists , by way of provi\n",
      "2.0        y be correct if he simply spoke to no \u001b[1mfe'ers\u001b[0m at all . personally , i propose that \n",
      "2.0        t large . that is not a claim serious \u001b[1mfe'ers\u001b[0m would make , in my humble opinion . p\n",
      "2.0        ct and following the more influential \u001b[1mfe'ers\u001b[0m online . in other words : yes , but y\n",
      "2.0        hat the most - supported map is among \u001b[1mfe'ers\u001b[0m . could you just go away now ? how do\n",
      "2.0        uld be silly . rowbotham 's and other \u001b[1mfe'ers\u001b[0m ' experiments are reproducible . rabi\n",
      "2.0        ised for some of the more belligerent \u001b[1mfe'ers\u001b[0m which appeared to target him at the t\n",
      "2.0        ace in the few . yes , there are some \u001b[1mfe'ers\u001b[0m who are working on alternative models\n",
      "2.0        olly , we sure showed those gosh darn \u001b[1mfe'ers\u001b[0m ! \" engaging with them is an utter wa\n",
      "2.0        gestions have garnered criticism from \u001b[1mfe'ers\u001b[0m and re'ers alike . we know this becau\n",
      "2.0         is something i will always encourage \u001b[1mfe'ers\u001b[0m and re'ers alike to engage in . this \n",
      "2.0        on . indeed , and many infinite plane \u001b[1mfe'ers\u001b[0m have advocated for that as the answer\n",
      "2.0        eel comfortable doing , and if female \u001b[1mfe'ers\u001b[0m do n't want to post here , that 's fi\n",
      "2.0        . we can discuss that elsewhere , but \u001b[1mfe'ers\u001b[0m largely agree that the ross ice shelf\n",
      "2.0        d incident , and physical assaults on \u001b[1mfe'ers\u001b[0m are relatively familiar to anyone wit\n",
      "2.0         doing his thing . flat earthers ( or \u001b[1mfe'ers\u001b[0m for short ) is the most commonly - us\n",
      "2.0        ies a negative connotation among some \u001b[1mfe'ers\u001b[0m , but it 's largely regarded as a neu\n",
      "2.0        s . no , no one is saying that . many \u001b[1mfe'ers\u001b[0m say that nasa is simply mistaken abou\n",
      "2.0        the extent of inconsistencies between \u001b[1mfe'ers\u001b[0m , my perception is likely to diminish\n",
      "2.0        ept proposed mainly by finite - plane \u001b[1mfe'ers\u001b[0m and ( more commonly ) re'ers . it may\n",
      "2.0         for him . this is just as bad as the \u001b[1mfe'ers\u001b[0m who say things like \" if the earth we\n",
      "2.0        ndwave it away , because \" it 's just \u001b[1mfe'ers\u001b[0m denying ret experiments again \" . whe\n",
      "2.0        ll try to answer it . right . the two \u001b[1mfe'ers\u001b[0m that responded to this thread disagre\n",
      "2.0        on . if you 're not interested in the \u001b[1mfe'ers\u001b[0m perspective , that honestly does not \n"
     ]
    }
   ],
   "source": [
    "get_ngram_example([\"fe'ers\"],\n",
    "                  user_toks[clusters==0],\n",
    "                  doc_labels=user_toks[clusters==0].index, n_examples=25)"
   ]
  },
  {
   "cell_type": "code",
   "execution_count": 71,
   "metadata": {},
   "outputs": [
    {
     "name": "stdout",
     "output_type": "stream",
     "text": [
      "Showing 25 out of 365:\n",
      "2.0        er well . unfortunately , not all \u001b[1mflat earthers\u001b[0m are zeteticists , and we do have \n",
      "2.0         comments from round earthers and \u001b[1mflat earthers\u001b[0m alike , i would like to ask every\n",
      "2.0         answering questions on behalf of \u001b[1mflat earthers\u001b[0m , especially if you 're going to \n",
      "2.0        . a bunch of the things you say \" \u001b[1mflat earthers\u001b[0m \" claim simply do not apply to th\n",
      "2.0        ng something along the lines of \" \u001b[1mflat earthers\u001b[0m claim that 2+2=5 and that is wron\n",
      "2.0        ere , welcome to the forum . most \u001b[1mflat earthers\u001b[0m are primarily concerned with the \n",
      "2.0        nestly do n't think there are any \u001b[1mflat earthers\u001b[0m here who would claim california a\n",
      "2.0        up a relatively small minority of \u001b[1mflat earthers\u001b[0m , very far from your alleged \" al\n",
      "2.0        way to carry on doing his thing . \u001b[1mflat earthers\u001b[0m ( or fe'ers for short ) is the mo\n",
      "2.0        adbible ( click ) 21/08/2017 what \u001b[1mflat earthers\u001b[0m are saying about the total solar \n",
      "2.0         global news ( click ) 30/10/2017 \u001b[1mflat earthers\u001b[0m to elon musk : mars is round , si\n",
      "2.0         ladbible ( click ) 29/11/2017 do \u001b[1mflat earthers\u001b[0m believe other planets are flat to\n",
      "2.0        ck ) 30/11/2017 elon musk vs. the \u001b[1mflat earthers\u001b[0m : is mars flat too ? national pos\n",
      "2.0        ( click ) 02/12/2017 we asked two \u001b[1mflat earthers\u001b[0m : what about the other planets ? \n",
      "2.0         10/02/2018 falcon heavy a hoax ? \u001b[1mflat earthers\u001b[0m imply recent space x launch was f\n",
      "2.0        different from that of many other \u001b[1mflat earthers\u001b[0m - i came here to defend round ear\n",
      "2.0        y and large identical to how most \u001b[1mflat earthers\u001b[0m operate , while the former is fai\n",
      "2.0        contradicts my understanding that \u001b[1mflat earthers\u001b[0m are not overwhelmingly religious \n",
      "2.0        nce to ) , he simply asserts what \u001b[1mflat earthers\u001b[0m believe based on ... well , i dun\n",
      "2.0        a that this somehow disproves all \u001b[1mflat earthers\u001b[0m ' views . would you please clarif\n",
      "2.0        nt call depending on individual . \u001b[1mflat earthers\u001b[0m have been subjected to physical a\n",
      "2.0        ve been trying to pull your leg . \u001b[1mflat earthers\u001b[0m tend to understand the round eart\n",
      "2.0        t . i have not seen any of this \" \u001b[1mflat earthers\u001b[0m all jumping on it , not aware it \n",
      "2.0        earth . there are large groups of \u001b[1mflat earthers\u001b[0m who explicitly base their fe beli\n",
      "2.0        rtant to highlight that plenty of \u001b[1mflat earthers\u001b[0m on social media ( especially twit\n"
     ]
    }
   ],
   "source": [
    "get_ngram_example([\"flat\", \"earthers\"],\n",
    "                  user_toks[clusters==0],\n",
    "                  doc_labels=user_toks[clusters==0].index, n_examples=25)"
   ]
  },
  {
   "cell_type": "markdown",
   "metadata": {},
   "source": [
    "# Key features (cosine dist < 1 clusters)"
   ]
  },
  {
   "cell_type": "code",
   "execution_count": 72,
   "metadata": {},
   "outputs": [],
   "source": [
    "clusters = clusters2"
   ]
  },
  {
   "cell_type": "code",
   "execution_count": 73,
   "metadata": {
    "scrolled": false
   },
   "outputs": [
    {
     "name": "stdout",
     "output_type": "stream",
     "text": [
      "0\n",
      "-------------------------------------------------------------------------------------\n",
      "AUX_ADJ_PUNCT       \t      0.88\t|\tVERB_ADP_DET        \t      0.19\n",
      "NOUN_PUNCT_ADV      \t      0.42\t|\tDET_NOUN_PUNCT      \t      0.17\n",
      "DET_NOUN_VERB       \t      0.42\t|\tPRON_VERB_DET       \t      0.17\n",
      "ADP_NOUN_PUNCT      \t      0.39\t|\tADP_DET_ADJ         \t      0.13\n",
      "NOUN_PUNCT_CCONJ    \t      0.35\t|\tNOUN_PUNCT_PRON     \t      0.09\n",
      "NOUN_AUX_VERB       \t      0.32\t|\tPUNCT_DET_NOUN      \t      0.06\n",
      "DET_NOUN_AUX        \t      0.27\t|\tVERB_DET_NOUN       \t      0.05\n",
      "ADJ_NOUN_PUNCT      \t      0.24\t|\tPUNCT_PRON_AUX      \t      0.01\n",
      "VERB_ADP_DET        \t      0.19\t|\tDET_ADJ_NOUN        \t      0.01\n",
      "DET_NOUN_PUNCT      \t      0.17\t|\tNOUN_ADP_NOUN       \t      0.01\n",
      "PRON_VERB_DET       \t      0.17\t|\tAUX_VERB_ADP        \t     -0.04\n",
      "ADP_DET_ADJ         \t      0.13\t|\tADP_DET_NOUN        \t     -0.05\n",
      "NOUN_PUNCT_PRON     \t      0.09\t|\tPUNCT_PRON_VERB     \t     -0.07\n",
      "PUNCT_DET_NOUN      \t      0.06\t|\tDET_NOUN_ADP        \t     -0.08\n",
      "VERB_DET_NOUN       \t      0.05\t|\tPRON_AUX_VERB       \t     -0.12\n",
      "PUNCT_PRON_AUX      \t      0.01\t|\tPRON_AUX_PART       \t     -0.12\n",
      "DET_ADJ_NOUN        \t      0.01\t|\tADJ_NOUN_ADP        \t     -0.14\n",
      "NOUN_ADP_NOUN       \t      0.01\t|\tAUX_PART_VERB       \t     -0.16\n",
      "AUX_VERB_ADP        \t     -0.04\t|\tNOUN_NOUN_PUNCT     \t     -0.22\n",
      "ADP_DET_NOUN        \t     -0.05\t|\tNOUN_ADP_DET        \t     -0.26\n",
      "-------------------------------------------------------------------------------------\n",
      "1\n",
      "-------------------------------------------------------------------------------------\n",
      "X_X_X               \t      2.78\t|\tPRON_ADV_PRON       \t     -0.75\n",
      "PUNCT_PROPN_NUM     \t      2.55\t|\tPRON_PART_AUX       \t     -0.76\n",
      "PROPN_NUM_PUNCT     \t      2.51\t|\tADV_ADJ_PRON        \t     -0.76\n",
      "NOUN_NUM_PROPN      \t      2.41\t|\tPRON_NOUN_PRON      \t     -0.77\n",
      "NUM_PUNCT_PROPN     \t      2.39\t|\tAUX_ADJ_CCONJ       \t     -0.78\n",
      "PROPN_ADP_PUNCT     \t      2.38\t|\tPRON_PRON_PRON      \t     -0.79\n",
      "NUM_PROPN_PUNCT     \t      2.35\t|\tSCONJ_PRON_PART     \t     -0.79\n",
      "NUM_NUM_NUM         \t      2.23\t|\tVERB_AUX_PART       \t     -0.80\n",
      "PROPN_NUM_PROPN     \t      2.14\t|\tAUX_ADJ_PRON        \t     -0.81\n",
      "PUNCT_NUM_PROPN     \t      2.10\t|\tADP_PRON_SCONJ      \t     -0.81\n",
      "ADP_PROPN_NUM       \t      1.99\t|\tNOUN_ADV_PRON       \t     -0.82\n",
      "DET_PUNCT_PROPN     \t      1.99\t|\tNOUN_ADV_PART       \t     -0.83\n",
      "PROPN_PUNCT_NUM     \t      1.97\t|\tPRON_SCONJ_PRON     \t     -0.84\n",
      "PUNCT_PUNCT_X       \t      1.95\t|\tAUX_PRON_PART       \t     -0.85\n",
      "NUM_PUNCT_NUM       \t      1.90\t|\tADJ_CCONJ_PRON      \t     -0.86\n",
      "NUM_PROPN_PROPN     \t      1.89\t|\tNOUN_CCONJ_PRON     \t     -0.87\n",
      "PUNCT_PUNCT_PUNCT   \t      1.89\t|\tVERB_PRON_CCONJ     \t     -0.88\n",
      "NUM_PROPN_NUM       \t      1.87\t|\tADJ_ADV_PRON        \t     -0.94\n",
      "PROPN_PROPN_NUM     \t      1.82\t|\tADV_CCONJ_PRON      \t     -1.02\n",
      "ADP_NUM_PROPN       \t      1.73\t|\tPRON_CCONJ_VERB     \t     -1.09\n",
      "-------------------------------------------------------------------------------------\n",
      "2\n",
      "-------------------------------------------------------------------------------------\n",
      "VERB_DET_NOUN       \t      0.33\t|\tVERB_DET_NOUN       \t      0.33\n",
      "VERB_ADP_DET        \t      0.28\t|\tVERB_ADP_DET        \t      0.28\n",
      "NOUN_PUNCT_PRON     \t      0.26\t|\tNOUN_PUNCT_PRON     \t      0.26\n",
      "PRON_AUX_VERB       \t      0.16\t|\tPRON_AUX_VERB       \t      0.16\n",
      "PUNCT_PRON_VERB     \t      0.10\t|\tPUNCT_PRON_VERB     \t      0.10\n",
      "PUNCT_PRON_AUX      \t      0.09\t|\tPUNCT_PRON_AUX      \t      0.09\n",
      "DET_NOUN_PUNCT      \t      0.05\t|\tDET_NOUN_PUNCT      \t      0.05\n",
      "ADP_DET_ADJ         \t      0.03\t|\tADP_DET_ADJ         \t      0.03\n",
      "DET_NOUN_ADP        \t      0.02\t|\tDET_NOUN_ADP        \t      0.02\n",
      "DET_ADJ_NOUN        \t      0.01\t|\tDET_ADJ_NOUN        \t      0.01\n",
      "ADP_DET_NOUN        \t     -0.08\t|\tADP_DET_NOUN        \t     -0.08\n",
      "NOUN_ADP_DET        \t     -0.09\t|\tNOUN_ADP_DET        \t     -0.09\n",
      "NOUN_ADP_NOUN       \t     -0.11\t|\tNOUN_ADP_NOUN       \t     -0.11\n",
      "ADJ_NOUN_PUNCT      \t     -0.17\t|\tADJ_NOUN_PUNCT      \t     -0.17\n",
      "-------------------------------------------------------------------------------------\n",
      "3\n",
      "-------------------------------------------------------------------------------------\n",
      "ADV_INTJ_PUNCT      \t      1.38\t|\tPROPN_PROPN_NOUN    \t     -1.44\n",
      "INTJ_VERB_ADP       \t      1.34\t|\tADP_ADV_NUM         \t     -1.48\n",
      "AUX_PUNCT_INTJ      \t      1.28\t|\tPROPN_PROPN_PROPN   \t     -1.50\n",
      "INTJ_PUNCT_AUX      \t      1.27\t|\tPROPN_PROPN_CCONJ   \t     -1.51\n",
      "PRON_ADV_PART       \t      1.22\t|\tPUNCT_PUNCT_X       \t     -1.57\n",
      "PART_ADJ_PRON       \t      1.18\t|\tPUNCT_NUM_SYM       \t     -1.59\n",
      "INTJ_PUNCT_SCONJ    \t      1.14\t|\tPUNCT_PROPN_PROPN   \t     -1.61\n",
      "ADJ_ADV_PRON        \t      1.11\t|\tPROPN_PUNCT_PROPN   \t     -1.67\n",
      "PRON_INTJ_VERB      \t      1.11\t|\tNOUN_PROPN_PROPN    \t     -1.70\n",
      "ADV_INTJ_VERB       \t      1.11\t|\tNUM_SYM_NUM         \t     -1.70\n",
      "INTJ_INTJ_PUNCT     \t      1.08\t|\tPUNCT_PROPN_ADP     \t     -1.76\n",
      "ADV_ADJ_PRON        \t      1.06\t|\tPROPN_PROPN_ADP     \t     -1.80\n",
      "INTJ_PUNCT_ADJ      \t      1.06\t|\tSYM_NUM_NOUN        \t     -1.81\n",
      "PUNCT_ADV_INTJ      \t      1.06\t|\tPROPN_ADP_PROPN     \t     -1.81\n",
      "PRON_PART_ADV       \t      1.04\t|\tNOUN_SYM_NUM        \t     -1.96\n",
      "INTJ_PUNCT_INTJ     \t      1.04\t|\tPUNCT_NUM_PUNCT     \t     -2.00\n",
      "PUNCT_CCONJ_INTJ    \t      1.04\t|\tNUM_PUNCT_NUM       \t     -2.10\n",
      "PRON_PUNCT_INTJ     \t      1.04\t|\tNUM_PUNCT_PUNCT     \t     -2.17\n",
      "PART_SCONJ_PRON     \t      1.03\t|\tPROPN_PUNCT_NUM     \t     -2.23\n",
      "PART_ADJ_ADV        \t      1.03\t|\tPROPN_NUM_PUNCT     \t     -2.33\n",
      "-------------------------------------------------------------------------------------\n",
      "4\n",
      "-------------------------------------------------------------------------------------\n",
      "PROPN_ADV_DET       \t      1.92\t|\tPUNCT_PUNCT_X       \t     -0.94\n",
      "ADJ_NOUN_NUM        \t      1.09\t|\tDET_PUNCT_PROPN     \t     -0.94\n",
      "ADV_CCONJ_DET       \t      0.88\t|\tPUNCT_CCONJ_PUNCT   \t     -0.95\n",
      "ADP_PROPN_ADV       \t      0.81\t|\tPRON_PUNCT_PUNCT    \t     -0.97\n",
      "NOUN_NOUN_DET       \t      0.81\t|\tNUM_PUNCT_PROPN     \t     -0.97\n",
      "NOUN_NOUN_PRON      \t      0.75\t|\tCCONJ_INTJ_PUNCT    \t     -0.99\n",
      "PROPN_PROPN_SCONJ   \t      0.74\t|\tADV_PRON_PUNCT      \t     -1.00\n",
      "NOUN_NOUN_PART      \t      0.71\t|\tADV_PUNCT_INTJ      \t     -1.00\n",
      "PROPN_PROPN_NOUN    \t      0.69\t|\tPUNCT_PROPN_NUM     \t     -1.07\n",
      "ADJ_CCONJ_AUX       \t      0.69\t|\tPUNCT_PUNCT_PUNCT   \t     -1.09\n",
      "DET_NUM_SYM         \t      0.69\t|\tINTJ_PUNCT_PRON     \t     -1.09\n",
      "NOUN_ADV_DET        \t      0.69\t|\tPRON_PUNCT_INTJ     \t     -1.11\n",
      "NOUN_NOUN_CCONJ     \t      0.68\t|\tPUNCT_CCONJ_INTJ    \t     -1.15\n",
      "NUM_NOUN_DET        \t      0.68\t|\tPROPN_NUM_PUNCT     \t     -1.16\n",
      "PROPN_NOUN_SCONJ    \t      0.67\t|\tINTJ_PUNCT_ADV      \t     -1.18\n",
      "NOUN_NOUN_NOUN      \t      0.67\t|\tPUNCT_INTJ_PUNCT    \t     -1.22\n",
      "CCONJ_AUX_DET       \t      0.64\t|\tINTJ_PUNCT_CCONJ    \t     -1.23\n",
      "ADJ_NOUN_NOUN       \t      0.64\t|\tINTJ_PUNCT_VERB     \t     -1.35\n",
      "VERB_SCONJ_NUM      \t      0.63\t|\tPUNCT_PUNCT_INTJ    \t     -1.39\n",
      "ADV_DET_PROPN       \t      0.63\t|\tINTJ_PUNCT_INTJ     \t     -1.43\n",
      "-------------------------------------------------------------------------------------\n",
      "Wall time: 4.11 s\n"
     ]
    }
   ],
   "source": [
    "%%time\n",
    "get_cluster_keywords(pos_trigrams, clusters)"
   ]
  },
  {
   "cell_type": "code",
   "execution_count": 74,
   "metadata": {
    "scrolled": false
   },
   "outputs": [
    {
     "name": "stdout",
     "output_type": "stream",
     "text": [
      "0\n",
      "-------------------------------------------------------------------------------------\n",
      "?                   \t      0.90\t|\tthis                \t      0.22\n",
      "would               \t      0.54\t|\tbe                  \t      0.21\n",
      "earth               \t      0.46\t|\t,                   \t      0.17\n",
      "i                   \t      0.38\t|\tas                  \t      0.15\n",
      "but                 \t      0.29\t|\tif                  \t      0.14\n",
      "are                 \t      0.27\t|\tin                  \t      0.13\n",
      "this                \t      0.22\t|\t.                   \t      0.12\n",
      "be                  \t      0.21\t|\tis                  \t      0.09\n",
      ",                   \t      0.17\t|\tthe                 \t      0.02\n",
      "as                  \t      0.15\t|\tit                  \t     -0.04\n",
      "if                  \t      0.14\t|\ta                   \t     -0.04\n",
      "in                  \t      0.13\t|\t\"                   \t     -0.07\n",
      ".                   \t      0.12\t|\tand                 \t     -0.07\n",
      "is                  \t      0.09\t|\tnot                 \t     -0.08\n",
      "the                 \t      0.02\t|\tof                  \t     -0.11\n",
      "it                  \t     -0.04\t|\ton                  \t     -0.15\n",
      "a                   \t     -0.04\t|\tto                  \t     -0.15\n",
      "\"                   \t     -0.07\t|\tyou                 \t     -0.17\n",
      "and                 \t     -0.07\t|\t's                  \t     -0.19\n",
      "not                 \t     -0.08\t|\tthat                \t     -0.38\n",
      "-------------------------------------------------------------------------------------\n",
      "1\n",
      "-------------------------------------------------------------------------------------\n",
      "â«                 \t      8.86\t|\t've                 \t     -0.91\n",
      "â»                 \t      8.85\t|\tgovernment          \t     -0.93\n",
      "allais              \t      5.32\t|\tcontinue            \t     -0.93\n",
      "biefeld             \t      5.14\t|\tbing                \t     -0.94\n",
      "subquarks           \t      5.13\t|\tlevel               \t     -0.94\n",
      "scalar              \t      5.07\t|\tsuggest             \t     -0.96\n",
      "ic                  \t      4.89\t|\twebsite             \t     -0.96\n",
      "=>                  \t      4.64\t|\tcreate              \t     -0.98\n",
      "joule               \t      4.16\t|\tfaq                 \t     -0.98\n",
      "sagnac              \t      4.14\t|\tnonsense            \t     -0.98\n",
      "interferometer      \t      4.05\t|\ttelling             \t     -1.00\n",
      "qantas              \t      4.05\t|\tattempt             \t     -1.03\n",
      "ether               \t      3.96\t|\tasking              \t     -1.07\n",
      "                   \t      3.81\t|\tinterested          \t     -1.08\n",
      "2016                \t      3.68\t|\tmodels              \t     -1.14\n",
      "loved               \t      3.09\t|\ttopic               \t     -1.19\n",
      "â                  \t      3.03\t|\tmoney               \t     -1.21\n",
      "l                   \t      2.90\t|\tcommunity           \t     -1.22\n",
      "michelson           \t      2.84\t|\tposting             \t     -1.23\n",
      "â                \t      2.81\t|\tmoved               \t     -1.70\n",
      "-------------------------------------------------------------------------------------\n",
      "2\n",
      "-------------------------------------------------------------------------------------\n",
      "flat                \t      1.44\t|\tflat                \t      1.44\n",
      "earth               \t      1.02\t|\tearth               \t      1.02\n",
      "?                   \t      0.70\t|\t?                   \t      0.70\n",
      "i                   \t      0.55\t|\ti                   \t      0.55\n",
      "this                \t      0.48\t|\tthis                \t      0.48\n",
      "n't                 \t      0.42\t|\tn't                 \t      0.42\n",
      ".                   \t      0.26\t|\t.                   \t      0.26\n",
      "a                   \t      0.23\t|\ta                   \t      0.23\n",
      "is                  \t      0.15\t|\tis                  \t      0.15\n",
      "to                  \t      0.13\t|\tto                  \t      0.13\n",
      "it                  \t     -0.01\t|\tit                  \t     -0.01\n",
      "the                 \t     -0.05\t|\tthe                 \t     -0.05\n",
      "you                 \t     -0.06\t|\tyou                 \t     -0.06\n",
      "and                 \t     -0.11\t|\tand                 \t     -0.11\n",
      "that                \t     -0.12\t|\tthat                \t     -0.12\n",
      "of                  \t     -0.17\t|\tof                  \t     -0.17\n",
      "in                  \t     -0.33\t|\tin                  \t     -0.33\n",
      ",                   \t     -0.84\t|\t,                   \t     -0.84\n",
      "-------------------------------------------------------------------------------------\n",
      "3\n",
      "-------------------------------------------------------------------------------------\n",
      "fora                \t      4.65\t|\tcoriolis            \t     -1.43\n",
      "refrain             \t      4.31\t|\tnorth               \t     -1.43\n",
      "warned              \t      4.20\t|\tpole                \t     -1.43\n",
      "youâ              \t      3.08\t|\tradius              \t     -1.49\n",
      "ranting             \t      3.06\t|\tflight              \t     -1.50\n",
      "re                 \t      3.01\t|\tmeasurement         \t     -1.51\n",
      "warning             \t      2.86\t|\twest                \t     -1.52\n",
      "reers               \t      2.82\t|\t12                  \t     -1.56\n",
      "gon                 \t      2.79\t|\trefraction          \t     -1.57\n",
      "ban                 \t      2.74\t|\tnorthern            \t     -1.62\n",
      "angry               \t      2.69\t|\tnavigation          \t     -1.62\n",
      "strawman            \t      2.63\t|\tequator             \t     -1.66\n",
      "demonstrably        \t      2.53\t|\tsouthern            \t     -1.70\n",
      "na                  \t      2.45\t|\tformula             \t     -1.81\n",
      "shit                \t      2.38\t|\tsouth               \t     -1.81\n",
      "basics              \t      2.16\t|\tobserver            \t     -1.82\n",
      "dr                  \t      2.15\t|\t=                   \t     -1.83\n",
      "moved               \t      2.12\t|\tlatitude            \t     -1.90\n",
      "council             \t      2.12\t|\tâ                 \t     -1.91\n",
      "dude                \t      2.07\t|\tkm                  \t     -2.03\n",
      "-------------------------------------------------------------------------------------\n",
      "4\n",
      "-------------------------------------------------------------------------------------\n",
      "roger               \t      4.34\t|\tthus                \t     -1.02\n",
      "sighting            \t      3.28\t|\tbit                 \t     -1.02\n",
      "interactive         \t      3.26\t|\tsorry               \t     -1.03\n",
      "thinker             \t      3.17\t|\tfaq                 \t     -1.03\n",
      "mirage              \t      3.09\t|\tnor                 \t     -1.04\n",
      "gravimeter          \t      3.09\t|\t[                   \t     -1.11\n",
      "san                 \t      2.67\t|\t]                   \t     -1.12\n",
      "elevations          \t      2.61\t|\tsuppose             \t     -1.12\n",
      "convex              \t      2.39\t|\tlying               \t     -1.12\n",
      "scene               \t      2.24\t|\tliterally           \t     -1.13\n",
      "refracted           \t      2.19\t|\tposting             \t     -1.14\n",
      "charts              \t      2.17\t|\t*                   \t     -1.15\n",
      "magnet              \t      2.14\t|\tindeed              \t     -1.17\n",
      "!!                  \t      2.13\t|\tmoved               \t     -1.24\n",
      "ghosts              \t      2.13\t|\t'd                  \t     -1.25\n",
      "island              \t      2.10\t|\tnonsense            \t     -1.26\n",
      "cube                \t      2.04\t|\tlove                \t     -1.28\n",
      "shipping            \t      2.02\t|\tgravitation         \t     -1.32\n",
      "nautical            \t      1.99\t|\t!                   \t     -1.35\n",
      "arrow               \t      1.98\t|\t're                 \t     -1.79\n",
      "-------------------------------------------------------------------------------------\n",
      "Wall time: 4.95 s\n"
     ]
    }
   ],
   "source": [
    "%%time\n",
    "get_cluster_keywords(user_toks, clusters)"
   ]
  },
  {
   "cell_type": "code",
   "execution_count": null,
   "metadata": {},
   "outputs": [],
   "source": []
  }
 ],
 "metadata": {
  "kernelspec": {
   "display_name": "thesis_fe_code",
   "language": "python",
   "name": "thesis_fe_code"
  },
  "language_info": {
   "codemirror_mode": {
    "name": "ipython",
    "version": 3
   },
   "file_extension": ".py",
   "mimetype": "text/x-python",
   "name": "python",
   "nbconvert_exporter": "python",
   "pygments_lexer": "ipython3",
   "version": "3.8.3rc1"
  }
 },
 "nbformat": 4,
 "nbformat_minor": 4
}
