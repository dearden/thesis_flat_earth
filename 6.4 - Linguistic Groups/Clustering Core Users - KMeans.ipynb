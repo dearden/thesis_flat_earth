{
 "cells": [
  {
   "cell_type": "code",
   "execution_count": 1,
   "metadata": {},
   "outputs": [],
   "source": [
    "%matplotlib inline\n",
    "\n",
    "import pandas as pd\n",
    "import numpy as np\n",
    "import matplotlib.pyplot as plt\n",
    "import matplotlib.cm as cm\n",
    "import seaborn as sns\n",
    "import sys\n",
    "import os\n",
    "import json\n",
    "import itertools\n",
    "import umap\n",
    "from colour import Color\n",
    "from collections import Counter\n",
    "sys.path.insert(1, \"../\")\n",
    "sys.path.insert(1, \"../utilities\")\n",
    "\n",
    "from group_analysis import do_kmeans_clustering, plot_clusters, log_and_scale, colour_list, display_group_kw_combis\n",
    "from helpers import load_posts, load_toks, load_pos, get_top_n_toks\n",
    "from clustering import reduce_features, make_elbow_plot, compare_binary_normed_feature_embeddings, mc_list, plot_bin_and_norm_clusters, plot_contingency_matrix, calculate_cluster_lrs\n",
    "\n",
    "from language_change_methods.features import get_tok_counts, function_words, combine_counts, make_feature_matrix\n",
    "from language_change_methods.utility_functions import basic_preprocessing, get_ngram_example, get_text_example_of_pos, make_ngram_concordance, make_pos_concordance\n",
    "\n",
    "from sklearn.cluster import KMeans, SpectralClustering, MeanShift, estimate_bandwidth, AgglomerativeClustering\n",
    "from sklearn.preprocessing import MinMaxScaler, StandardScaler\n",
    "from sklearn.pipeline import Pipeline\n",
    "from sklearn.model_selection import cross_val_predict\n",
    "from sklearn import metrics\n",
    "\n",
    "from nltk import ngrams as make_ngrams\n",
    "\n",
    "from settings import TFES_FP as DB_FP, TFES_TOK_FP\n",
    "GRAPH_DIR = \"./Graphs\""
   ]
  },
  {
   "cell_type": "code",
   "execution_count": 2,
   "metadata": {},
   "outputs": [],
   "source": [
    "%load_ext autoreload\n",
    "%autoreload 2"
   ]
  },
  {
   "cell_type": "code",
   "execution_count": 3,
   "metadata": {},
   "outputs": [
    {
     "name": "stdout",
     "output_type": "stream",
     "text": [
      "Wall time: 31 s\n"
     ]
    }
   ],
   "source": [
    "%%time\n",
    "all_posts = load_posts(DB_FP)\n",
    "\n",
    "from helpers import flat_earth_boards, off_topic_boards as other_boards\n",
    "\n",
    "fe_posts = all_posts.query(\"board_id in @flat_earth_boards\")\n",
    "ot_posts = all_posts.query(\"board_id in @other_boards\")\n",
    "\n",
    "toks = {int(x[0]): x[1] for x in load_toks(TFES_TOK_FP)}\n",
    "toks = pd.Series(toks)\n",
    "toks = toks[toks.index.isin(fe_posts.index)]\n",
    "\n",
    "pos = {int(x[0]): x[1] for x in load_pos(TFES_TOK_FP)}\n",
    "pos = pd.Series(pos)\n",
    "pos = pos[pos.index.isin(fe_posts.index)]\n",
    "pos = pos.loc[toks.index]\n",
    "\n",
    "fe_posts = fe_posts.loc[toks.index]"
   ]
  },
  {
   "cell_type": "code",
   "execution_count": 4,
   "metadata": {},
   "outputs": [],
   "source": [
    "with open(\"../data/user_metagroup.json\") as group_file:\n",
    "    meta_clusts = pd.Series(json.load(group_file))\n",
    "    meta_clusts.index = meta_clusts.index.astype(\"float64\")"
   ]
  },
  {
   "cell_type": "code",
   "execution_count": 5,
   "metadata": {},
   "outputs": [
    {
     "name": "stdout",
     "output_type": "stream",
     "text": [
      "101 with > 100 posts\n",
      "20 in the top 20\n"
     ]
    }
   ],
   "source": [
    "post_lengths = toks.apply(len)\n",
    "user_n_words = post_lengths.groupby(fe_posts[\"poster_id\"]).sum()\n",
    "posts_per_user = fe_posts.groupby(\"poster_id\").size()\n",
    "\n",
    "over_100 = posts_per_user[posts_per_user > 100]\n",
    "print(f\"{len(over_100)} with > 100 posts\")\n",
    "\n",
    "top_20 = posts_per_user.sort_values(ascending=False).head(20)\n",
    "print(f\"{len(top_20)} in the top 20\")\n",
    "\n",
    "curr_users = meta_clusts[meta_clusts == \"Core Community\"].index\n",
    "    \n",
    "user_n_words = user_n_words.loc[curr_users]\n",
    "posts_per_user = posts_per_user.loc[curr_users]\n",
    "\n",
    "curr_posts = fe_posts.query(\"poster_id in @curr_users\")\n",
    "\n",
    "# Get colour gradient\n",
    "colour_gradient = list(Color(\"red\").range_to(Color(\"blue\"),len(curr_users)))\n",
    "colour_gradient = pd.Series(colour_gradient, index=posts_per_user.loc[curr_users].sort_values(ascending=True).index)\n",
    "colour_gradient = colour_gradient.loc[curr_users].apply(str)"
   ]
  },
  {
   "cell_type": "markdown",
   "metadata": {},
   "source": [
    "# Create the user text chunks"
   ]
  },
  {
   "cell_type": "code",
   "execution_count": 6,
   "metadata": {},
   "outputs": [],
   "source": [
    "merge_lists = lambda x: list(itertools.chain.from_iterable(x))\n",
    "\n",
    "def get_chunks(u, tokens, chunk_size):\n",
    "    for i in range(0, len(tokens)-chunk_size, chunk_size):\n",
    "        yield u, tokens[i:i+chunk_size]"
   ]
  },
  {
   "cell_type": "code",
   "execution_count": 7,
   "metadata": {},
   "outputs": [],
   "source": [
    "def make_tok_chonks(tokens, chunk_size):\n",
    "    user_chunks = [[[user, chunk] for user, chunk in get_chunks(user, curr_toks, chunk_size)] for user, curr_toks in tokens.items()]\n",
    "    user_chunks = merge_lists(user_chunks)\n",
    "    user_chunks = pd.DataFrame(user_chunks, columns=[\"User\", \"Chunk\"])\n",
    "    return user_chunks"
   ]
  },
  {
   "cell_type": "code",
   "execution_count": 8,
   "metadata": {},
   "outputs": [],
   "source": [
    "CHUNK_SIZE = 1000"
   ]
  },
  {
   "cell_type": "code",
   "execution_count": 9,
   "metadata": {},
   "outputs": [
    {
     "name": "stdout",
     "output_type": "stream",
     "text": [
      "Wall time: 676 ms\n"
     ]
    }
   ],
   "source": [
    "%%time\n",
    "user_toks = toks.groupby(curr_posts[\"poster_id\"]).apply(merge_lists)\n",
    "user_chunks = make_tok_chonks(user_toks, CHUNK_SIZE)"
   ]
  },
  {
   "cell_type": "code",
   "execution_count": 10,
   "metadata": {},
   "outputs": [
    {
     "name": "stdout",
     "output_type": "stream",
     "text": [
      "Wall time: 1.05 s\n"
     ]
    }
   ],
   "source": [
    "%%time\n",
    "user_pos = pos.groupby(curr_posts[\"poster_id\"]).apply(merge_lists)\n",
    "user_pos_chunks = make_tok_chonks(user_pos, CHUNK_SIZE)"
   ]
  },
  {
   "cell_type": "markdown",
   "metadata": {},
   "source": [
    "# Create the Different Feature Counts"
   ]
  },
  {
   "cell_type": "markdown",
   "metadata": {},
   "source": [
    "#### BOW"
   ]
  },
  {
   "cell_type": "code",
   "execution_count": 11,
   "metadata": {},
   "outputs": [
    {
     "name": "stdout",
     "output_type": "stream",
     "text": [
      "Wall time: 34.7 s\n"
     ]
    }
   ],
   "source": [
    "%%time\n",
    "# Get the counts\n",
    "bow_counts = {i: get_tok_counts(post) for i, post in user_toks.items()}\n",
    "bow_counts = {i: {tok: count for tok, count in post.items() if tok not in function_words} for i, post in bow_counts.items()}\n",
    "top_n = get_top_n_toks(bow_counts.values(), 10000)\n",
    "bow_counts = {i: {tok: count for tok, count in post.items() if tok in top_n} for i, post in bow_counts.items()}\n",
    "bow_counts = pd.Series(bow_counts)"
   ]
  },
  {
   "cell_type": "markdown",
   "metadata": {},
   "source": [
    "#### Tfidf bow counts"
   ]
  },
  {
   "cell_type": "code",
   "execution_count": 12,
   "metadata": {},
   "outputs": [
    {
     "name": "stdout",
     "output_type": "stream",
     "text": [
      "Wall time: 1.19 s\n"
     ]
    }
   ],
   "source": [
    "%%time\n",
    "# Credit for this cell: http://www.davidsbatista.net/blog/2018/02/28/TfidfVectorizer/\n",
    "from sklearn.feature_extraction.text import TfidfVectorizer\n",
    "# If you had counts instead of tokens, you'd use \"TfidfTransformer\"\n",
    "\n",
    "def dummy_fun(doc):\n",
    "    return doc\n",
    "\n",
    "tfidf = TfidfVectorizer(\n",
    "    analyzer='word',\n",
    "    tokenizer=dummy_fun,\n",
    "    preprocessor=dummy_fun,\n",
    "    token_pattern=None)  \n",
    "\n",
    "\n",
    "tfidf_matrix = tfidf.fit_transform(user_toks)"
   ]
  },
  {
   "cell_type": "code",
   "execution_count": 13,
   "metadata": {},
   "outputs": [],
   "source": [
    "tfidf_feats = tfidf_matrix[:, np.isin(tfidf.get_feature_names(), top_n)].todense()"
   ]
  },
  {
   "cell_type": "markdown",
   "metadata": {},
   "source": [
    "#### PoS Trigrams"
   ]
  },
  {
   "cell_type": "code",
   "execution_count": 14,
   "metadata": {},
   "outputs": [],
   "source": [
    "pos_trigrams = pd.Series([make_ngrams(post, 3) for post in user_pos], index=user_pos.index)\n",
    "pos_trigrams = pos_trigrams.apply(lambda post: [\"_\".join(words) for words in post])"
   ]
  },
  {
   "cell_type": "code",
   "execution_count": 15,
   "metadata": {},
   "outputs": [],
   "source": [
    "top_n = [x[0] for x in Counter(merge_lists(pos_trigrams)).most_common(1000)]\n",
    "pos_tri_counts = pos_trigrams.apply(Counter).apply(lambda dic: {w: c for w, c in dic.items() if w in top_n})\n",
    "pos_tri_counts = pd.Series(pos_tri_counts)"
   ]
  },
  {
   "cell_type": "code",
   "execution_count": 16,
   "metadata": {},
   "outputs": [],
   "source": [
    "# pos_tri_chunks = pd.DataFrame(index=user_pos_chunks.index)\n",
    "# pos_tri_chunks[\"User\"] = user_pos_chunks[\"User\"]\n",
    "# pos_tri_chunks[\"Chunk\"] = pos_trigrams"
   ]
  },
  {
   "cell_type": "markdown",
   "metadata": {},
   "source": [
    "# Create the Feature Matrix"
   ]
  },
  {
   "cell_type": "code",
   "execution_count": 17,
   "metadata": {},
   "outputs": [
    {
     "name": "stdout",
     "output_type": "stream",
     "text": [
      "Wall time: 144 ms\n"
     ]
    }
   ],
   "source": [
    "%%time\n",
    "# Initialise feats to None\n",
    "bin_feats = None\n",
    "norm_feats = None\n",
    "\n",
    "# Make the feature matrix\n",
    "curr_feat_type = \"pos_tri\"\n",
    "SCALE = True\n",
    "APPLY_PCA = True\n",
    "\n",
    "if curr_feat_type == \"pos_tri\":\n",
    "    curr_counts = pos_tri_counts\n",
    "    curr_toks = pos_trigrams\n",
    "elif curr_feat_type == \"bow\":\n",
    "    curr_counts = bow_counts\n",
    "    curr_toks = user_toks\n",
    "elif curr_feat_type == \"tfidf\":\n",
    "    curr_counts = bow_counts\n",
    "    curr_toks = user_toks\n",
    "    bin_feats = np.vectorize(lambda x: 1 if x > 0 else 0)(tfidf_feats)\n",
    "    norm_feats = tfidf_feats\n",
    "    \n",
    "if bin_feats is None:\n",
    "    curr_feats, curr_feat_names = make_feature_matrix(curr_counts.to_dict(), False)\n",
    "    bin_feats = np.vectorize(lambda x: 1 if x > 0 else 0)(curr_feats)\n",
    "    norm_feats = curr_feats / user_toks.apply(len).values[:,None]"
   ]
  },
  {
   "cell_type": "markdown",
   "metadata": {},
   "source": [
    "#### Scaling"
   ]
  },
  {
   "cell_type": "code",
   "execution_count": 18,
   "metadata": {},
   "outputs": [],
   "source": [
    "if SCALE:\n",
    "    norm_feats = StandardScaler().fit_transform(norm_feats)"
   ]
  },
  {
   "cell_type": "markdown",
   "metadata": {},
   "source": [
    "#### PCA reduction"
   ]
  },
  {
   "cell_type": "code",
   "execution_count": 19,
   "metadata": {},
   "outputs": [
    {
     "name": "stdout",
     "output_type": "stream",
     "text": [
      "Wall time: 113 ms\n"
     ]
    }
   ],
   "source": [
    "%%time\n",
    "from sklearn.decomposition import PCA\n",
    "pca = PCA(.95)\n",
    "\n",
    "if APPLY_PCA:\n",
    "    norm_feats = pca.fit_transform(norm_feats)"
   ]
  },
  {
   "cell_type": "code",
   "execution_count": 20,
   "metadata": {},
   "outputs": [
    {
     "name": "stdout",
     "output_type": "stream",
     "text": [
      "158 components\n"
     ]
    }
   ],
   "source": [
    "print(f\"{norm_feats.shape[1]} components\")"
   ]
  },
  {
   "cell_type": "markdown",
   "metadata": {},
   "source": [
    "#### Make 2d embeddings"
   ]
  },
  {
   "cell_type": "code",
   "execution_count": 21,
   "metadata": {},
   "outputs": [
    {
     "name": "stdout",
     "output_type": "stream",
     "text": [
      "Wall time: 5.46 s\n"
     ]
    }
   ],
   "source": [
    "%%time\n",
    "norm_embedding = reduce_features(norm_feats)"
   ]
  },
  {
   "cell_type": "code",
   "execution_count": 22,
   "metadata": {},
   "outputs": [
    {
     "data": {
      "image/png": "[encoded data removed]",
      "text/plain": [
       "<Figure size 576x576 with 1 Axes>"
      ]
     },
     "metadata": {
      "needs_background": "light"
     },
     "output_type": "display_data"
    }
   ],
   "source": [
    "fig, ax = plt.subplots(figsize=(8,8))\n",
    "ax.scatter(norm_feats[:,0], norm_feats[:,1])\n",
    "plt.show()"
   ]
  },
  {
   "cell_type": "markdown",
   "metadata": {},
   "source": [
    "# Do the Clustering"
   ]
  },
  {
   "cell_type": "code",
   "execution_count": 23,
   "metadata": {},
   "outputs": [],
   "source": [
    "from sklearn.cluster import KMeans"
   ]
  },
  {
   "cell_type": "code",
   "execution_count": 57,
   "metadata": {},
   "outputs": [
    {
     "name": "stdout",
     "output_type": "stream",
     "text": [
      "Average silhoette score for Normed:\t 0.004148975872482042 \n",
      "\n"
     ]
    }
   ],
   "source": [
    "model = KMeans(n_clusters=2, random_state=123)\n",
    "clusters1 = model.fit_predict(norm_feats)\n",
    "\n",
    "avg_silhouette_score = metrics.silhouette_score(norm_feats, clusters1)\n",
    "print(\"Average silhoette score for Normed:\\t\", avg_silhouette_score, \"\\n\")"
   ]
  },
  {
   "cell_type": "code",
   "execution_count": 58,
   "metadata": {},
   "outputs": [
    {
     "name": "stdout",
     "output_type": "stream",
     "text": [
      "Average silhoette score for Normed:\t -0.030772577497767593 \n",
      "\n"
     ]
    }
   ],
   "source": [
    "model = KMeans(n_clusters=20, random_state=123)\n",
    "clusters2 = model.fit_predict(norm_feats)\n",
    "\n",
    "avg_silhouette_score = metrics.silhouette_score(norm_feats, clusters2)\n",
    "print(\"Average silhoette score for Normed:\\t\", avg_silhouette_score, \"\\n\")"
   ]
  },
  {
   "cell_type": "code",
   "execution_count": 59,
   "metadata": {},
   "outputs": [
    {
     "name": "stdout",
     "output_type": "stream",
     "text": [
      "Average silhoette score for Normed:\t 0.42713498466802263 \n",
      "\n"
     ]
    }
   ],
   "source": [
    "model = KMeans(n_clusters=3, random_state=123)\n",
    "clusters3 = model.fit_predict(norm_feats)\n",
    "\n",
    "avg_silhouette_score = metrics.silhouette_score(norm_feats, clusters3)\n",
    "print(\"Average silhoette score for Normed:\\t\", avg_silhouette_score, \"\\n\")"
   ]
  },
  {
   "cell_type": "code",
   "execution_count": 53,
   "metadata": {},
   "outputs": [
    {
     "name": "stdout",
     "output_type": "stream",
     "text": [
      "Average silhoette score for 2:\t 0.004148975872482042\n",
      "Average silhoette score for 3:\t 0.42713498466802263\n",
      "Average silhoette score for 4:\t 0.028068192859392938\n",
      "Average silhoette score for 5:\t 0.03265235039200874\n",
      "Average silhoette score for 6:\t 0.03503802427913502\n",
      "Average silhoette score for 7:\t 0.03455381628937912\n",
      "Average silhoette score for 8:\t 0.010281907014664658\n",
      "Average silhoette score for 9:\t 0.011058187792701828\n",
      "Average silhoette score for 10:\t 0.013143056274145597\n",
      "Average silhoette score for 11:\t 0.013365476820103266\n",
      "Average silhoette score for 12:\t 0.013941422353970478\n",
      "Average silhoette score for 13:\t 0.015997040312004468\n",
      "Average silhoette score for 14:\t -0.026567077966848655\n",
      "Average silhoette score for 15:\t -0.031007974489222333\n",
      "Average silhoette score for 16:\t 0.017141666439754306\n",
      "Average silhoette score for 17:\t -0.03702248329469701\n",
      "Average silhoette score for 18:\t -0.03627724066238763\n",
      "Average silhoette score for 19:\t -0.033425814903719854\n"
     ]
    }
   ],
   "source": [
    "for i in range(2,20):\n",
    "    model = KMeans(n_clusters=i, random_state=123)\n",
    "    curr_clusts = model.fit_predict(norm_feats)\n",
    "    avg_silhouette_score = metrics.silhouette_score(norm_feats, curr_clusts)\n",
    "    print(f\"Average silhoette score for {i}:\\t\", avg_silhouette_score)"
   ]
  },
  {
   "cell_type": "code",
   "execution_count": 85,
   "metadata": {},
   "outputs": [
    {
     "name": "stdout",
     "output_type": "stream",
     "text": [
      "Wall time: 1.3 s\n"
     ]
    }
   ],
   "source": [
    "%%time\n",
    "sum_squared_dists = []\n",
    "K = range(1,20, 1)\n",
    "for k in K:\n",
    "    km = KMeans(n_clusters=k, random_state=123)\n",
    "    km = km.fit(norm_feats)\n",
    "    sum_squared_dists.append(km.inertia_)"
   ]
  },
  {
   "cell_type": "code",
   "execution_count": 86,
   "metadata": {},
   "outputs": [
    {
     "data": {
      "image/png": "[encoded data removed]",
      "text/plain": [
       "<Figure size 720x432 with 1 Axes>"
      ]
     },
     "metadata": {
      "needs_background": "light"
     },
     "output_type": "display_data"
    }
   ],
   "source": [
    "fig, ax = plt.subplots(figsize=(10, 6))\n",
    "ax.plot(K, sum_squared_dists, 'bx-')\n",
    "ax.set_xlabel('k')\n",
    "ax.set_ylabel('SSD')\n",
    "ax.set_xticks(K)\n",
    "ax.grid()\n",
    "plt.show()"
   ]
  },
  {
   "cell_type": "code",
   "execution_count": 96,
   "metadata": {},
   "outputs": [],
   "source": [
    "clusters = clusters1"
   ]
  },
  {
   "cell_type": "code",
   "execution_count": 97,
   "metadata": {},
   "outputs": [
    {
     "name": "stdout",
     "output_type": "stream",
     "text": [
      "Num users in Cluster 0: 193\n",
      "Num users in Cluster 1: 104\n"
     ]
    }
   ],
   "source": [
    "for clust in set(clusters):\n",
    "    print(f\"Num users in Cluster {clust}: {len(user_toks[clusters==clust].index)}\")"
   ]
  },
  {
   "cell_type": "code",
   "execution_count": 83,
   "metadata": {},
   "outputs": [
    {
     "name": "stdout",
     "output_type": "stream",
     "text": [
      "Num words in Cluster 0: 2937019\n",
      "Num words in Cluster 1: 3054819\n"
     ]
    }
   ],
   "source": [
    "for clust in set(clusters):\n",
    "    print(f\"Num words in Cluster {clust}: {len(merge_lists(user_toks[clusters==clust]))}\")"
   ]
  },
  {
   "cell_type": "code",
   "execution_count": 84,
   "metadata": {},
   "outputs": [
    {
     "name": "stdout",
     "output_type": "stream",
     "text": [
      "Avg words in Cluster 0: 15218\n",
      "Median words in Cluster 0: 4579\n",
      "\n",
      "Avg words in Cluster 1: 29373\n",
      "Median words in Cluster 1: 5252\n",
      "\n"
     ]
    }
   ],
   "source": [
    "for clust in set(clusters):\n",
    "    print(f\"Avg words in Cluster {clust}: {user_toks[clusters==clust].apply(len).mean():.0f}\")\n",
    "    print(f\"Median words in Cluster {clust}: {user_toks[clusters==clust].apply(len).median():.0f}\")\n",
    "    print()"
   ]
  },
  {
   "cell_type": "code",
   "execution_count": 64,
   "metadata": {},
   "outputs": [
    {
     "name": "stdout",
     "output_type": "stream",
     "text": [
      "2.0,16.0,32.0,38.0,62.0,99.0,315.0,376.0,464.0,706.0,709.0,775.0,843.0,1206.0,1342.0,1423.0,1448.0,1500.0,1584.0,1804.0\n",
      "0,0,0,0,0,0,0,0,0,0,0,0,0,0,0,0,0,0,0,0\n"
     ]
    }
   ],
   "source": [
    "print(\",\".join(map(str, user_toks[user_toks.index.isin(top_20.index)].index)))\n",
    "print(\",\".join(map(str, clusters[user_toks.index.isin(top_20.index)])))"
   ]
  },
  {
   "cell_type": "code",
   "execution_count": 30,
   "metadata": {},
   "outputs": [
    {
     "name": "stdout",
     "output_type": "stream",
     "text": [
      "0,0,1\n",
      "1,0,12\n",
      "2,0,1\n",
      "3,1,12\n",
      "4,0,12\n",
      "5,1,6\n",
      "6,1,6\n",
      "7,1,12\n",
      "8,0,1\n",
      "9,1,12\n",
      "10,0,12\n",
      "11,0,1\n",
      "12,0,1\n",
      "13,0,3\n",
      "14,1,12\n",
      "15,1,12\n",
      "16,1,12\n",
      "17,1,12\n",
      "18,1,12\n",
      "19,0,1\n"
     ]
    }
   ],
   "source": [
    "for i, (c1, c2) in enumerate(zip(clusters[user_toks.index.isin(top_20.index)], clusters2[user_toks.index.isin(top_20.index)])):\n",
    "    print(i, c1, c2, sep=\",\")"
   ]
  },
  {
   "cell_type": "code",
   "execution_count": 31,
   "metadata": {},
   "outputs": [
    {
     "data": {
      "image/png": "[encoded data removed]",
      "text/plain": [
       "<Figure size 576x576 with 1 Axes>"
      ]
     },
     "metadata": {
      "needs_background": "light"
     },
     "output_type": "display_data"
    }
   ],
   "source": [
    "fig, ax = plt.subplots(figsize=(8,8))\n",
    "for c in set(clusters):\n",
    "    ax.scatter(norm_feats[clusters==c,0], norm_feats[clusters==c,1], label=c, alpha=0.3)\n",
    "ax.grid()\n",
    "ax.legend()\n",
    "plt.show()"
   ]
  },
  {
   "cell_type": "markdown",
   "metadata": {},
   "source": [
    "# Analyse Spread Across Users"
   ]
  },
  {
   "cell_type": "code",
   "execution_count": 32,
   "metadata": {},
   "outputs": [
    {
     "data": {
      "text/plain": [
       "Float64Index([   1.0,    2.0,    3.0,    4.0,    5.0,    7.0,    9.0,   11.0,\n",
       "                14.0,   15.0,\n",
       "              ...\n",
       "              2015.0, 2056.0, 2105.0, 2144.0, 2149.0, 2163.0, 2184.0, 2207.0,\n",
       "              2218.0, 2243.0],\n",
       "             dtype='float64', name='poster_id', length=193)"
      ]
     },
     "execution_count": 32,
     "metadata": {},
     "output_type": "execute_result"
    }
   ],
   "source": [
    "user_toks.index[clusters==0]"
   ]
  },
  {
   "cell_type": "code",
   "execution_count": 33,
   "metadata": {},
   "outputs": [
    {
     "data": {
      "text/plain": [
       "Float64Index([  18.0,   35.0,   38.0,   44.0,   48.0,   59.0,   64.0,   65.0,\n",
       "                75.0,   85.0,\n",
       "              ...\n",
       "              2089.0, 2114.0, 2166.0, 2167.0, 2195.0, 2222.0, 2223.0, 2236.0,\n",
       "              2259.0, 2282.0],\n",
       "             dtype='float64', name='poster_id', length=104)"
      ]
     },
     "execution_count": 33,
     "metadata": {},
     "output_type": "execute_result"
    }
   ],
   "source": [
    "user_toks.index[clusters==1]"
   ]
  },
  {
   "cell_type": "code",
   "execution_count": 34,
   "metadata": {},
   "outputs": [],
   "source": [
    "contingency = pd.crosstab(user_toks.index.values, [clusters], rownames=[\"User\"], colnames=[\"Cluster\"])"
   ]
  },
  {
   "cell_type": "code",
   "execution_count": 35,
   "metadata": {},
   "outputs": [
    {
     "data": {
      "image/png": "[encoded data removed]",
      "text/plain": [
       "<Figure size 576x432 with 2 Axes>"
      ]
     },
     "metadata": {
      "needs_background": "light"
     },
     "output_type": "display_data"
    }
   ],
   "source": [
    "fig, ax = plt.subplots(figsize=(8,6))\n",
    "sns.heatmap(contingency.loc[top_20.index], annot=True, ax=ax, fmt='g', cmap=\"Greens\")\n",
    "# fig.savefig(os.path.join(GRAPH_DIR, f\"chunk_contingency_2_{curr_feat_type}.pdf\"))\n",
    "plt.show()"
   ]
  },
  {
   "cell_type": "markdown",
   "metadata": {},
   "source": [
    "# Get Some Keywords Between Clusters"
   ]
  },
  {
   "cell_type": "code",
   "execution_count": 36,
   "metadata": {},
   "outputs": [
    {
     "name": "stdout",
     "output_type": "stream",
     "text": [
      "Wall time: 0 ns\n"
     ]
    }
   ],
   "source": [
    "%%time\n",
    "lr = lambda x, y: np.log2(x / y)\n",
    "\n",
    "def get_cluster_keywords(tokens, clusters):\n",
    "    \n",
    "    clust_counts = tokens.groupby(clusters).apply(\n",
    "                    lambda x: [Counter(merge_lists(x))]).apply(\n",
    "                    lambda x: x[0])\n",
    "    clust_n_words = {clust: tokens[clusters==clust].apply(len).sum() for clust in set(clusters)}\n",
    "\n",
    "    for clust, counts in clust_counts.items():\n",
    "        other_counts = Counter(merge_lists(tokens[clusters!=clust]))\n",
    "        other_nwords = tokens[clusters!=clust].apply(len).sum()\n",
    "        lrs = calculate_cluster_lrs(counts, other_counts, clust_n_words[clust], other_nwords)\n",
    "        lrs = {w: l for w, l in lrs.items() if counts[w] > 100}\n",
    "        lrs = pd.Series(lrs).sort_values(ascending=False)\n",
    "        t10_lr = lrs.head(20)\n",
    "        b10_lr = lrs.tail(20)\n",
    "\n",
    "        print(clust)\n",
    "        print(\"-------------------------------------------------------------------------------------\")\n",
    "        for (w1, lr1), (w2, lr2) in zip(t10_lr.items(), b10_lr.items()):\n",
    "            print(f\"{w1:20}\\t{lr1:10.2f}\\t|\\t{w2:20}\\t{lr2:10.2f}\")\n",
    "        print(\"-------------------------------------------------------------------------------------\")"
   ]
  },
  {
   "cell_type": "code",
   "execution_count": 37,
   "metadata": {},
   "outputs": [],
   "source": [
    "def get_cluster_lrs(tokens, clusters, min_freq=100):\n",
    "    \n",
    "    clust_counts = tokens.groupby(clusters).apply(\n",
    "                    lambda x: [Counter(merge_lists(x))]).apply(\n",
    "                    lambda x: x[0])\n",
    "    clust_n_words = {clust: tokens[clusters==clust].apply(len).sum() for clust in set(clusters)}\n",
    "    \n",
    "    clust_kw = dict()\n",
    "\n",
    "    for clust, counts in clust_counts.items():\n",
    "        other_counts = Counter(merge_lists(tokens[clusters!=clust]))\n",
    "        other_nwords = tokens[clusters!=clust].apply(len).sum()\n",
    "        lrs = calculate_cluster_lrs(counts, other_counts, clust_n_words[clust], other_nwords)\n",
    "        lrs = {w: l for w, l in lrs.items() if counts[w] > min_freq}\n",
    "        lrs = pd.Series(lrs).sort_values(ascending=False)\n",
    "   \n",
    "        clust_kw[clust] = lrs\n",
    "    return clust_kw"
   ]
  },
  {
   "cell_type": "code",
   "execution_count": 38,
   "metadata": {
    "scrolled": false
   },
   "outputs": [
    {
     "name": "stdout",
     "output_type": "stream",
     "text": [
      "0\n",
      "-------------------------------------------------------------------------------------\n",
      "ADV_INTJ_PUNCT      \t      1.63\t|\tPUNCT_NUM_PUNCT     \t     -1.69\n",
      "NUM_DET_PUNCT       \t      1.48\t|\tPROPN_PUNCT_PROPN   \t     -1.69\n",
      "PRON_PART_ADV       \t      1.41\t|\tADP_PROPN_NUM       \t     -1.69\n",
      "INTJ_VERB_SCONJ     \t      1.38\t|\tNUM_PUNCT_PUNCT     \t     -1.70\n",
      "PRON_ADV_PART       \t      1.37\t|\tPUNCT_PROPN_ADP     \t     -1.71\n",
      "PUNCT_INTJ_INTJ     \t      1.36\t|\tNOUN_PROPN_PROPN    \t     -1.76\n",
      "INTJ_INTJ_PUNCT     \t      1.31\t|\tSYM_NUM_SYM         \t     -1.80\n",
      "INTJ_PUNCT_AUX      \t      1.29\t|\tPROPN_PROPN_NUM     \t     -1.82\n",
      "VERB_ADJ_PRON       \t      1.29\t|\tNUM_ADP_NUM         \t     -1.82\n",
      "INTJ_PUNCT_ADJ      \t      1.28\t|\tPROPN_PROPN_ADP     \t     -1.86\n",
      "PART_ADV_NOUN       \t      1.25\t|\tPROPN_ADP_PROPN     \t     -1.89\n",
      "PRON_ADJ_ADV        \t      1.25\t|\tPROPN_ADV_DET       \t     -1.92\n",
      "PART_ADJ_PRON       \t      1.18\t|\tPUNCT_NUM_PROPN     \t     -1.95\n",
      "PRON_ADV_SCONJ      \t      1.16\t|\tNUM_PUNCT_NUM       \t     -1.95\n",
      "ADJ_ADV_PRON        \t      1.15\t|\tNUM_NOUN_NUM        \t     -2.01\n",
      "INTJ_PUNCT_SCONJ    \t      1.15\t|\tNUM_DET_NOUN        \t     -2.09\n",
      "AUX_ADV_SCONJ       \t      1.14\t|\tPROPN_PUNCT_NUM     \t     -2.15\n",
      "PUNCT_ADV_INTJ      \t      1.14\t|\tPROPN_NUM_PUNCT     \t     -2.17\n",
      "VERB_VERB_PRON      \t      1.13\t|\tNUM_PUNCT_PROPN     \t     -2.36\n",
      "INTJ_PRON_VERB      \t      1.13\t|\tPUNCT_PROPN_NUM     \t     -2.45\n",
      "-------------------------------------------------------------------------------------\n",
      "1\n",
      "-------------------------------------------------------------------------------------\n",
      "PROPN_NOUN_SYM      \t      3.96\t|\tAUX_ADJ_VERB        \t     -1.03\n",
      "NUM_NUM_PROPN       \t      3.33\t|\tSCONJ_PRON_PART     \t     -1.03\n",
      "X_X_X               \t      3.06\t|\tADV_ADJ_PRON        \t     -1.04\n",
      "PROPN_NUM_NUM       \t      3.01\t|\tPRON_PUNCT_INTJ     \t     -1.06\n",
      "NUM_NUM_NUM         \t      2.56\t|\tPART_ADJ_ADV        \t     -1.09\n",
      "NUM_NOUN_PROPN      \t      2.54\t|\tCCONJ_INTJ_PUNCT    \t     -1.09\n",
      "PUNCT_PROPN_NUM     \t      2.45\t|\tPART_SCONJ_PRON     \t     -1.09\n",
      "NUM_PROPN_PUNCT     \t      2.39\t|\tAUX_ADJ_PRON        \t     -1.10\n",
      "NUM_PUNCT_PROPN     \t      2.36\t|\tPART_ADJ_SCONJ      \t     -1.12\n",
      "PROPN_NOUN_NUM      \t      2.24\t|\tINTJ_PRON_VERB      \t     -1.13\n",
      "PROPN_NUM_PUNCT     \t      2.17\t|\tVERB_VERB_PRON      \t     -1.13\n",
      "PROPN_PUNCT_NUM     \t      2.15\t|\tPUNCT_ADV_INTJ      \t     -1.14\n",
      "NUM_PROPN_PROPN     \t      2.11\t|\tAUX_ADV_SCONJ       \t     -1.14\n",
      "PROPN_ADP_NUM       \t      2.11\t|\tINTJ_PUNCT_SCONJ    \t     -1.15\n",
      "PROPN_NUM_PROPN     \t      2.11\t|\tADJ_ADV_PRON        \t     -1.15\n",
      "PROPN_SYM_NUM       \t      2.10\t|\tPRON_ADV_SCONJ      \t     -1.16\n",
      "NUM_PROPN_NOUN      \t      2.09\t|\tPART_ADJ_PRON       \t     -1.18\n",
      "PROPN_PROPN_DET     \t      2.09\t|\tINTJ_PUNCT_ADJ      \t     -1.28\n",
      "NUM_DET_NOUN        \t      2.09\t|\tINTJ_INTJ_PUNCT     \t     -1.31\n",
      "NUM_PROPN_ADP       \t      2.01\t|\tPUNCT_INTJ_INTJ     \t     -1.36\n",
      "-------------------------------------------------------------------------------------\n",
      "Wall time: 1.6 s\n"
     ]
    }
   ],
   "source": [
    "%%time\n",
    "get_cluster_keywords(pos_trigrams, clusters)"
   ]
  },
  {
   "cell_type": "code",
   "execution_count": 39,
   "metadata": {},
   "outputs": [
    {
     "name": "stdout",
     "output_type": "stream",
     "text": [
      "Showing 25 out of 326:\n",
      "2.0        ouncilors have voting privileges now \u001b[1m. uh oh\u001b[0m , fixed . gah. fixed . well , that w\n",
      "2.0         i . live up to your own standards \u001b[1m. hell yeah\u001b[0m . or we could use lulu , like tint\n",
      "2.0        possible is considerably harder than \u001b[1m\" oh no\u001b[0m , it takes effort \" all us dollars a\n",
      "2.0        ave breasts . my chest is very flat \u001b[1m. hi fogo4\u001b[0m , thanks for stopping by . this cla\n",
      "2.0        inal claim from the very same page ) \u001b[1m: oh my\u001b[0m . you did n't think it magically tra\n",
      "2.0        , and then you 'd probably say that \u001b[1m\" oh well\u001b[0m , they were pretty close to speakin\n",
      "2.0        warning to this effect will follow \u001b[1m. hi hoopera\u001b[0m , thanks for stopping by . i hope \n",
      "2.0        ermines what i said or did n't say \u001b[1m? gosh darn\u001b[0m it , why was n't i informed !? i a\n",
      "2.0        now , falsity implies all statements \u001b[1m. oh my\u001b[0m . perhaps you should n't have used t\n",
      "2.0         piece of very anecdotal evidence \u001b[1m. hi sandokhan\u001b[0m , i will repeat this to you once \n",
      "2.0         tried denying that your position is \u001b[1m\" nuh uh\u001b[0m evidence do n't real \" . oh , you 'r\n",
      "2.0         reading a transcript , by yourself \u001b[1m. oh well\u001b[0m , here 's one example : on an unrel\n",
      "2.0        lish language . well , let 's see \u001b[1m... gosh darn\u001b[0m those faq authors , how very dare\n",
      "2.0        ou think that 's oh - so - terrible \u001b[1m, ah well\u001b[0m , we ca n't please them all . once \n",
      "2.0        g , please explain why . just saying \u001b[1m\" nuh uh\u001b[0m ain't no reason \" will not cut it . \n",
      "2.0        quotes appropriately , or not at all \u001b[1m. oh no\u001b[0m , you 're doing that thing again . s\n",
      "2.0         should n't require much more than a \u001b[1m\" lol no\u001b[0m \" from me , if it was presented with\n",
      "2.0        st when your patterns are exposed ! \u001b[1m) oh yeah\u001b[0m , you were the proponent of superso\n",
      "2.0         it sound like this was n't the case \u001b[1m, hey ho\u001b[0m , my bad . though i do think i made \n",
      "2.0         getting rid of the deplorable bits \u001b[1m. oh well\u001b[0m , i 'm sure he 'll find a way to ca\n",
      "2.0         giving you the benefit of the doubt \u001b[1m. oh no\u001b[0m , the re peanut gallery might think \n",
      "2.0        t gallery might think less of junker \u001b[1m. oh no\u001b[0m . virtually none are . what makes yo\n",
      "2.0        uette so your rebuttal boils down to \u001b[1m\" nuh uh\u001b[0m , that 's wrong !!! \" that 's quite \n",
      "2.0         about teslas once . fool me once \u001b[1m, yadda yadda\u001b[0m , but then it happened again . no\n",
      "2.0        t worst turn into two sides shouting \u001b[1m\" nuh uh\u001b[0m ! \" over one another . you 've got t\n"
     ]
    }
   ],
   "source": [
    "get_text_example_of_pos([\"PUNCT\", \"INTJ\", \"INTJ\"], \n",
    "                        user_pos[clusters==0], \n",
    "                        user_toks[clusters==0], \n",
    "                        doc_labels=user_toks[clusters==0].index, n_examples=25)"
   ]
  },
  {
   "cell_type": "code",
   "execution_count": 40,
   "metadata": {},
   "outputs": [
    {
     "name": "stdout",
     "output_type": "stream",
     "text": [
      "Distribution across users:\n",
      "Num uses per user\n",
      "user\n",
      "18.0       3\n",
      "38.0      11\n",
      "59.0      17\n",
      "65.0       1\n",
      "85.0      28\n",
      "99.0       3\n",
      "103.0      2\n",
      "155.0      4\n",
      "236.0      1\n",
      "315.0     71\n",
      "376.0      1\n",
      "603.0      2\n",
      "704.0      1\n",
      "844.0      1\n",
      "864.0      3\n",
      "1342.0    20\n",
      "1448.0     4\n",
      "1459.0     2\n",
      "1500.0     8\n",
      "1584.0    11\n",
      "2166.0     1\n",
      "2222.0     3\n",
      "dtype: int64\n",
      "\n",
      "Mean uses per user:\t 9.0\n",
      "Median uses per user:\t 3.0\n",
      "Wall time: 2.36 s\n"
     ]
    }
   ],
   "source": [
    "%%time\n",
    "concs = make_pos_concordance([\"NUM\", \"PROPN\", \"NUM\"],\n",
    "                             user_pos[clusters==1],\n",
    "                             user_toks[clusters==1],\n",
    "                             doc_labels=user_toks[clusters==1].index)\n",
    "concs = pd.DataFrame(concs, columns=[\"user\", \"conc\"])\n",
    "\n",
    "print(\"Distribution across users:\")\n",
    "num_uses_per_user = concs.groupby(\"user\").size()\n",
    "print(\"Num uses per user\", num_uses_per_user, sep=\"\\n\", end=\"\\n\\n\")\n",
    "print(\"Mean uses per user:\\t\", num_uses_per_user.mean())\n",
    "print(\"Median uses per user:\\t\", num_uses_per_user.median())"
   ]
  },
  {
   "cell_type": "code",
   "execution_count": 41,
   "metadata": {
    "scrolled": false
   },
   "outputs": [
    {
     "name": "stdout",
     "output_type": "stream",
     "text": [
      "0\n",
      "-------------------------------------------------------------------------------------\n",
      "fora                \t      4.61\t|\tdevice              \t     -1.47\n",
      "roger               \t      4.32\t|\ttoward              \t     -1.47\n",
      "ic                  \t      4.06\t|\troute               \t     -1.51\n",
      "refrain             \t      4.02\t|\tcoordinate          \t     -1.52\n",
      "gon                 \t      3.71\t|\twest                \t     -1.55\n",
      "warned              \t      3.68\t|\tmeasurement         \t     -1.56\n",
      "loved               \t      3.38\t|\tequator             \t     -1.59\n",
      "warning             \t      3.12\t|\trefraction          \t     -1.62\n",
      "na                  \t      2.86\t|\t12                  \t     -1.64\n",
      "shit                \t      2.81\t|\tenag                \t     -1.66\n",
      "dude                \t      2.79\t|\tformula             \t     -1.67\n",
      "strawman            \t      2.77\t|\tâ                \t     -1.72\n",
      "reers               \t      2.75\t|\tcoriolis            \t     -1.79\n",
      "lol                 \t      2.75\t|\trange               \t     -1.86\n",
      "=>                  \t      2.69\t|\tkm                  \t     -1.89\n",
      "ban                 \t      2.62\t|\tnoon                \t     -2.02\n",
      "angry               \t      2.58\t|\televation           \t     -2.14\n",
      "re                 \t      2.55\t|\tequinox             \t     -2.17\n",
      "ranting             \t      2.52\t|\tlatitude            \t     -2.25\n",
      "youâ              \t      2.52\t|\tlongitude           \t     -2.84\n",
      "-------------------------------------------------------------------------------------\n",
      "1\n",
      "-------------------------------------------------------------------------------------\n",
      "â»                 \t      7.69\t|\thonest              \t     -1.32\n",
      "â«                 \t      6.11\t|\tliterally           \t     -1.33\n",
      "qantas              \t      5.67\t|\tfaith               \t     -1.33\n",
      "allais              \t      4.98\t|\tthreads             \t     -1.33\n",
      "sagnac              \t      4.41\t|\twilling             \t     -1.35\n",
      "san                 \t      4.35\t|\tmembers             \t     -1.35\n",
      "statute             \t      4.32\t|\tlying               \t     -1.35\n",
      "gravimeter          \t      4.29\t|\tyeah                \t     -1.38\n",
      "haversine           \t      4.27\t|\tfair                \t     -1.40\n",
      "zenith              \t      4.26\t|\treligion            \t     -1.40\n",
      "biefeld             \t      4.20\t|\tparticularly        \t     -1.43\n",
      "meridian            \t      4.20\t|\tsilly               \t     -1.43\n",
      "r.                  \t      4.19\t|\t're                 \t     -1.53\n",
      "scalar              \t      4.16\t|\tnonsense            \t     -1.56\n",
      "subquarks           \t      3.97\t|\tposting             \t     -1.59\n",
      "°                   \t      3.85\t|\tconversation        \t     -1.62\n",
      "longitudinal        \t      3.81\t|\tfaq                 \t     -1.69\n",
      "michelson           \t      3.73\t|\tmoved               \t     -1.73\n",
      "interferometer      \t      3.66\t|\tmagnet              \t     -1.75\n",
      "interactive         \t      3.32\t|\tlove                \t     -2.06\n",
      "-------------------------------------------------------------------------------------\n",
      "Wall time: 2.02 s\n"
     ]
    }
   ],
   "source": [
    "%%time\n",
    "get_cluster_keywords(user_toks, clusters)"
   ]
  },
  {
   "cell_type": "code",
   "execution_count": 42,
   "metadata": {},
   "outputs": [
    {
     "name": "stdout",
     "output_type": "stream",
     "text": [
      "Wall time: 2.01 s\n"
     ]
    }
   ],
   "source": [
    "%%time\n",
    "clust_lrs = get_cluster_lrs(user_toks, clusters)"
   ]
  },
  {
   "cell_type": "code",
   "execution_count": 43,
   "metadata": {},
   "outputs": [
    {
     "data": {
      "text/plain": [
       "1.4006887044846188"
      ]
     },
     "execution_count": 43,
     "metadata": {},
     "output_type": "execute_result"
    }
   ],
   "source": [
    "(clust_lrs[0][\"re'ers\"])"
   ]
  },
  {
   "cell_type": "code",
   "execution_count": 44,
   "metadata": {},
   "outputs": [
    {
     "data": {
      "text/plain": [
       "0.6630488414550166"
      ]
     },
     "execution_count": 44,
     "metadata": {},
     "output_type": "execute_result"
    }
   ],
   "source": [
    "clust_lrs[1][\"fe'ers\"]"
   ]
  },
  {
   "cell_type": "code",
   "execution_count": 45,
   "metadata": {},
   "outputs": [
    {
     "data": {
      "text/plain": [
       "0.126982165669484"
      ]
     },
     "execution_count": 45,
     "metadata": {},
     "output_type": "execute_result"
    }
   ],
   "source": [
    "clust_lrs[1][\"flat\"]"
   ]
  },
  {
   "cell_type": "code",
   "execution_count": 46,
   "metadata": {},
   "outputs": [
    {
     "data": {
      "text/plain": [
       "-0.11538642897963299"
      ]
     },
     "execution_count": 46,
     "metadata": {},
     "output_type": "execute_result"
    }
   ],
   "source": [
    "clust_lrs[1][\"round\"]"
   ]
  },
  {
   "cell_type": "code",
   "execution_count": 47,
   "metadata": {},
   "outputs": [
    {
     "name": "stdout",
     "output_type": "stream",
     "text": [
      "Cluster 0: 549 / 2937019\n",
      "Cluster 1: 397 / 3054819\n"
     ]
    },
    {
     "data": {
      "text/plain": [
       "0.5238989240447709"
      ]
     },
     "execution_count": 47,
     "metadata": {},
     "output_type": "execute_result"
    }
   ],
   "source": [
    "c1 = len(make_ngram_concordance([\"flat\", \"earthers\"],\n",
    "                                user_toks[clusters==0],\n",
    "                                doc_labels=user_toks[clusters==0].index))\n",
    "\n",
    "c2 = len(make_ngram_concordance([\"flat\", \"earthers\"],\n",
    "                                user_toks[clusters==1],\n",
    "                                doc_labels=user_toks[clusters==1].index))\n",
    "\n",
    "n1 = user_toks[clusters==0].apply(len).sum()\n",
    "n2 = user_toks[clusters==1].apply(len).sum()\n",
    "\n",
    "print(f\"Cluster 0: {c1} / {n1}\")\n",
    "print(f\"Cluster 1: {c2} / {n2}\")\n",
    "lr((c1+0.5)/n1, (c2+0.5)/n2)"
   ]
  },
  {
   "cell_type": "code",
   "execution_count": 48,
   "metadata": {},
   "outputs": [
    {
     "name": "stdout",
     "output_type": "stream",
     "text": [
      "Cluster 0: 196 / 2937019\n",
      "Cluster 1: 73 / 3054819\n"
     ]
    },
    {
     "data": {
      "text/plain": [
       "1.4754474606894996"
      ]
     },
     "execution_count": 48,
     "metadata": {},
     "output_type": "execute_result"
    }
   ],
   "source": [
    "c1 = len(make_ngram_concordance([\"round\", \"earthers\"],\n",
    "                                user_toks[clusters==0],\n",
    "                                doc_labels=user_toks[clusters==0].index))\n",
    "\n",
    "c2 = len(make_ngram_concordance([\"round\", \"earthers\"],\n",
    "                                user_toks[clusters==1],\n",
    "                                doc_labels=user_toks[clusters==1].index))\n",
    "\n",
    "n1 = user_toks[clusters==0].apply(len).sum()\n",
    "n2 = user_toks[clusters==1].apply(len).sum()\n",
    "\n",
    "print(f\"Cluster 0: {c1} / {n1}\")\n",
    "print(f\"Cluster 1: {c2} / {n2}\")\n",
    "lr((c1+0.5)/n1, (c2+0.5)/n2)"
   ]
  },
  {
   "cell_type": "code",
   "execution_count": 51,
   "metadata": {},
   "outputs": [
    {
     "name": "stdout",
     "output_type": "stream",
     "text": [
      "Cluster 0: 236 / 2937019\n",
      "Cluster 1: 389 / 3054819\n"
     ]
    },
    {
     "data": {
      "text/plain": [
       "-0.6630488414550164"
      ]
     },
     "execution_count": 51,
     "metadata": {},
     "output_type": "execute_result"
    }
   ],
   "source": [
    "c1 = len(make_ngram_concordance([\"fe'ers\"],\n",
    "                                user_toks[clusters==0],\n",
    "                                doc_labels=user_toks[clusters==0].index))\n",
    "\n",
    "c2 = len(make_ngram_concordance([\"fe'ers\"],\n",
    "                                user_toks[clusters==1],\n",
    "                                doc_labels=user_toks[clusters==1].index))\n",
    "\n",
    "n1 = user_toks[clusters==0].apply(len).sum()\n",
    "n2 = user_toks[clusters==1].apply(len).sum()\n",
    "\n",
    "print(f\"Cluster 0: {c1} / {n1}\")\n",
    "print(f\"Cluster 1: {c2} / {n2}\")\n",
    "lr((c1+0.5)/n1, (c2+0.5)/n2)"
   ]
  },
  {
   "cell_type": "code",
   "execution_count": 49,
   "metadata": {},
   "outputs": [
    {
     "name": "stdout",
     "output_type": "stream",
     "text": [
      "Showing 25 out of 236:\n",
      "2.0        ts in which \" theory \" may be used by \u001b[1mfe'ers\u001b[0m . within the context of \" conspiracy \n",
      "2.0        s used in exactly the same fashion by \u001b[1mfe'ers\u001b[0m as other scientists , by way of provi\n",
      "2.0        y be correct if he simply spoke to no \u001b[1mfe'ers\u001b[0m at all . personally , i propose that \n",
      "2.0        t large . that is not a claim serious \u001b[1mfe'ers\u001b[0m would make , in my humble opinion . p\n",
      "2.0        ct and following the more influential \u001b[1mfe'ers\u001b[0m online . in other words : yes , but y\n",
      "2.0        hat the most - supported map is among \u001b[1mfe'ers\u001b[0m . could you just go away now ? how do\n",
      "2.0        uld be silly . rowbotham 's and other \u001b[1mfe'ers\u001b[0m ' experiments are reproducible . rabi\n",
      "2.0        ised for some of the more belligerent \u001b[1mfe'ers\u001b[0m which appeared to target him at the t\n",
      "2.0        ace in the few . yes , there are some \u001b[1mfe'ers\u001b[0m who are working on alternative models\n",
      "2.0        olly , we sure showed those gosh darn \u001b[1mfe'ers\u001b[0m ! \" engaging with them is an utter wa\n",
      "2.0        gestions have garnered criticism from \u001b[1mfe'ers\u001b[0m and re'ers alike . we know this becau\n",
      "2.0         is something i will always encourage \u001b[1mfe'ers\u001b[0m and re'ers alike to engage in . this \n",
      "2.0        on . indeed , and many infinite plane \u001b[1mfe'ers\u001b[0m have advocated for that as the answer\n",
      "2.0        eel comfortable doing , and if female \u001b[1mfe'ers\u001b[0m do n't want to post here , that 's fi\n",
      "2.0        . we can discuss that elsewhere , but \u001b[1mfe'ers\u001b[0m largely agree that the ross ice shelf\n",
      "2.0        d incident , and physical assaults on \u001b[1mfe'ers\u001b[0m are relatively familiar to anyone wit\n",
      "2.0         doing his thing . flat earthers ( or \u001b[1mfe'ers\u001b[0m for short ) is the most commonly - us\n",
      "2.0        ies a negative connotation among some \u001b[1mfe'ers\u001b[0m , but it 's largely regarded as a neu\n",
      "2.0        s . no , no one is saying that . many \u001b[1mfe'ers\u001b[0m say that nasa is simply mistaken abou\n",
      "2.0        the extent of inconsistencies between \u001b[1mfe'ers\u001b[0m , my perception is likely to diminish\n",
      "2.0        ept proposed mainly by finite - plane \u001b[1mfe'ers\u001b[0m and ( more commonly ) re'ers . it may\n",
      "2.0         for him . this is just as bad as the \u001b[1mfe'ers\u001b[0m who say things like \" if the earth we\n",
      "2.0        ndwave it away , because \" it 's just \u001b[1mfe'ers\u001b[0m denying ret experiments again \" . whe\n",
      "2.0        ll try to answer it . right . the two \u001b[1mfe'ers\u001b[0m that responded to this thread disagre\n",
      "2.0        on . if you 're not interested in the \u001b[1mfe'ers\u001b[0m perspective , that honestly does not \n"
     ]
    }
   ],
   "source": [
    "get_ngram_example([\"fe'ers\"],\n",
    "                  user_toks[clusters==0],\n",
    "                  doc_labels=user_toks[clusters==0].index, n_examples=25)"
   ]
  },
  {
   "cell_type": "code",
   "execution_count": 50,
   "metadata": {},
   "outputs": [
    {
     "name": "stdout",
     "output_type": "stream",
     "text": [
      "Showing 25 out of 549:\n",
      "2.0        er well . unfortunately , not all \u001b[1mflat earthers\u001b[0m are zeteticists , and we do have \n",
      "2.0         comments from round earthers and \u001b[1mflat earthers\u001b[0m alike , i would like to ask every\n",
      "2.0         answering questions on behalf of \u001b[1mflat earthers\u001b[0m , especially if you 're going to \n",
      "2.0        . a bunch of the things you say \" \u001b[1mflat earthers\u001b[0m \" claim simply do not apply to th\n",
      "2.0        ng something along the lines of \" \u001b[1mflat earthers\u001b[0m claim that 2+2=5 and that is wron\n",
      "2.0        ere , welcome to the forum . most \u001b[1mflat earthers\u001b[0m are primarily concerned with the \n",
      "2.0        nestly do n't think there are any \u001b[1mflat earthers\u001b[0m here who would claim california a\n",
      "2.0        up a relatively small minority of \u001b[1mflat earthers\u001b[0m , very far from your alleged \" al\n",
      "2.0        way to carry on doing his thing . \u001b[1mflat earthers\u001b[0m ( or fe'ers for short ) is the mo\n",
      "2.0        adbible ( click ) 21/08/2017 what \u001b[1mflat earthers\u001b[0m are saying about the total solar \n",
      "2.0         global news ( click ) 30/10/2017 \u001b[1mflat earthers\u001b[0m to elon musk : mars is round , si\n",
      "2.0         ladbible ( click ) 29/11/2017 do \u001b[1mflat earthers\u001b[0m believe other planets are flat to\n",
      "2.0        ck ) 30/11/2017 elon musk vs. the \u001b[1mflat earthers\u001b[0m : is mars flat too ? national pos\n",
      "2.0        ( click ) 02/12/2017 we asked two \u001b[1mflat earthers\u001b[0m : what about the other planets ? \n",
      "2.0         10/02/2018 falcon heavy a hoax ? \u001b[1mflat earthers\u001b[0m imply recent space x launch was f\n",
      "2.0        different from that of many other \u001b[1mflat earthers\u001b[0m - i came here to defend round ear\n",
      "2.0        y and large identical to how most \u001b[1mflat earthers\u001b[0m operate , while the former is fai\n",
      "2.0        contradicts my understanding that \u001b[1mflat earthers\u001b[0m are not overwhelmingly religious \n",
      "2.0        nce to ) , he simply asserts what \u001b[1mflat earthers\u001b[0m believe based on ... well , i dun\n",
      "2.0        a that this somehow disproves all \u001b[1mflat earthers\u001b[0m ' views . would you please clarif\n",
      "2.0        nt call depending on individual . \u001b[1mflat earthers\u001b[0m have been subjected to physical a\n",
      "2.0        ve been trying to pull your leg . \u001b[1mflat earthers\u001b[0m tend to understand the round eart\n",
      "2.0        t . i have not seen any of this \" \u001b[1mflat earthers\u001b[0m all jumping on it , not aware it \n",
      "2.0        earth . there are large groups of \u001b[1mflat earthers\u001b[0m who explicitly base their fe beli\n",
      "2.0        rtant to highlight that plenty of \u001b[1mflat earthers\u001b[0m on social media ( especially twit\n"
     ]
    }
   ],
   "source": [
    "get_ngram_example([\"flat\", \"earthers\"],\n",
    "                  user_toks[clusters==0],\n",
    "                  doc_labels=user_toks[clusters==0].index, n_examples=25)"
   ]
  }
 ],
 "metadata": {
  "kernelspec": {
   "display_name": "thesis_fe_code",
   "language": "python",
   "name": "thesis_fe_code"
  },
  "language_info": {
   "codemirror_mode": {
    "name": "ipython",
    "version": 3
   },
   "file_extension": ".py",
   "mimetype": "text/x-python",
   "name": "python",
   "nbconvert_exporter": "python",
   "pygments_lexer": "ipython3",
   "version": "3.8.3rc1"
  }
 },
 "nbformat": 4,
 "nbformat_minor": 4
}
