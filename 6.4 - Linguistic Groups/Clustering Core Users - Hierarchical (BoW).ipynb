{
 "cells": [
  {
   "cell_type": "code",
   "execution_count": 1,
   "metadata": {},
   "outputs": [],
   "source": [
    "%matplotlib inline\n",
    "\n",
    "import pandas as pd\n",
    "import numpy as np\n",
    "import matplotlib.pyplot as plt\n",
    "import matplotlib.cm as cm\n",
    "import seaborn as sns\n",
    "import sys\n",
    "import os\n",
    "import json\n",
    "import itertools\n",
    "import umap\n",
    "from colour import Color\n",
    "from collections import Counter\n",
    "sys.path.insert(1, \"../\")\n",
    "sys.path.insert(1, \"../utilities\")\n",
    "\n",
    "from group_analysis import do_kmeans_clustering, plot_clusters, log_and_scale, colour_list, display_group_kw_combis\n",
    "from helpers import load_posts, load_toks, load_pos, get_top_n_toks\n",
    "from clustering import reduce_features, make_elbow_plot, compare_binary_normed_feature_embeddings, mc_list, plot_bin_and_norm_clusters, plot_contingency_matrix, calculate_cluster_lrs\n",
    "\n",
    "from language_change_methods.features import get_tok_counts, function_words, combine_counts, make_feature_matrix\n",
    "from language_change_methods.utility_functions import basic_preprocessing, get_ngram_example, get_text_example_of_pos, make_ngram_concordance, make_pos_concordance\n",
    "\n",
    "from sklearn.cluster import KMeans, SpectralClustering, MeanShift, estimate_bandwidth, AgglomerativeClustering\n",
    "from sklearn.preprocessing import MinMaxScaler, StandardScaler\n",
    "from sklearn.pipeline import Pipeline\n",
    "from sklearn.model_selection import cross_val_predict\n",
    "from sklearn import metrics\n",
    "\n",
    "from nltk import ngrams as make_ngrams\n",
    "\n",
    "from settings import TFES_FP as DB_FP, TFES_TOK_FP\n",
    "GRAPH_DIR = \"./Graphs\""
   ]
  },
  {
   "cell_type": "code",
   "execution_count": 2,
   "metadata": {},
   "outputs": [],
   "source": [
    "%load_ext autoreload\n",
    "%autoreload 2"
   ]
  },
  {
   "cell_type": "code",
   "execution_count": 3,
   "metadata": {},
   "outputs": [
    {
     "name": "stdout",
     "output_type": "stream",
     "text": [
      "Wall time: 31.2 s\n"
     ]
    }
   ],
   "source": [
    "%%time\n",
    "all_posts = load_posts(DB_FP)\n",
    "\n",
    "from helpers import flat_earth_boards, off_topic_boards as other_boards\n",
    "\n",
    "fe_posts = all_posts.query(\"board_id in @flat_earth_boards\")\n",
    "ot_posts = all_posts.query(\"board_id in @other_boards\")\n",
    "\n",
    "toks = {int(x[0]): x[1] for x in load_toks(TFES_TOK_FP)}\n",
    "toks = pd.Series(toks)\n",
    "toks = toks[toks.index.isin(fe_posts.index)]\n",
    "\n",
    "pos = {int(x[0]): x[1] for x in load_pos(TFES_TOK_FP)}\n",
    "pos = pd.Series(pos)\n",
    "pos = pos[pos.index.isin(fe_posts.index)]\n",
    "pos = pos.loc[toks.index]\n",
    "\n",
    "fe_posts = fe_posts.loc[toks.index]"
   ]
  },
  {
   "cell_type": "code",
   "execution_count": 4,
   "metadata": {},
   "outputs": [],
   "source": [
    "with open(\"../data/user_metagroup.json\") as group_file:\n",
    "    meta_clusts = pd.Series(json.load(group_file))\n",
    "    meta_clusts.index = meta_clusts.index.astype(\"float64\")"
   ]
  },
  {
   "cell_type": "code",
   "execution_count": 5,
   "metadata": {},
   "outputs": [
    {
     "name": "stdout",
     "output_type": "stream",
     "text": [
      "101 with > 100 posts\n",
      "20 in the top 20\n"
     ]
    }
   ],
   "source": [
    "post_lengths = toks.apply(len)\n",
    "user_n_words = post_lengths.groupby(fe_posts[\"poster_id\"]).sum()\n",
    "posts_per_user = fe_posts.groupby(\"poster_id\").size()\n",
    "\n",
    "over_100 = posts_per_user[posts_per_user > 100]\n",
    "print(f\"{len(over_100)} with > 100 posts\")\n",
    "\n",
    "top_20 = posts_per_user.sort_values(ascending=False).head(20)\n",
    "print(f\"{len(top_20)} in the top 20\")\n",
    "\n",
    "curr_users = meta_clusts[meta_clusts == \"Core Community\"].index\n",
    "    \n",
    "user_n_words = user_n_words.loc[curr_users]\n",
    "posts_per_user = posts_per_user.loc[curr_users]\n",
    "\n",
    "curr_posts = fe_posts.query(\"poster_id in @curr_users\")\n",
    "\n",
    "# Get colour gradient\n",
    "colour_gradient = list(Color(\"red\").range_to(Color(\"blue\"),len(curr_users)))\n",
    "colour_gradient = pd.Series(colour_gradient, index=posts_per_user.loc[curr_users].sort_values(ascending=True).index)\n",
    "colour_gradient = colour_gradient.loc[curr_users].apply(str)"
   ]
  },
  {
   "cell_type": "markdown",
   "metadata": {},
   "source": [
    "# Create the user text chunks"
   ]
  },
  {
   "cell_type": "code",
   "execution_count": 6,
   "metadata": {},
   "outputs": [],
   "source": [
    "merge_lists = lambda x: list(itertools.chain.from_iterable(x))\n",
    "\n",
    "def get_chunks(u, tokens, chunk_size):\n",
    "    for i in range(0, len(tokens)-chunk_size, chunk_size):\n",
    "        yield u, tokens[i:i+chunk_size]"
   ]
  },
  {
   "cell_type": "code",
   "execution_count": 7,
   "metadata": {},
   "outputs": [],
   "source": [
    "def make_tok_chonks(tokens, chunk_size):\n",
    "    user_chunks = [[[user, chunk] for user, chunk in get_chunks(user, curr_toks, chunk_size)] for user, curr_toks in tokens.items()]\n",
    "    user_chunks = merge_lists(user_chunks)\n",
    "    user_chunks = pd.DataFrame(user_chunks, columns=[\"User\", \"Chunk\"])\n",
    "    return user_chunks"
   ]
  },
  {
   "cell_type": "code",
   "execution_count": 8,
   "metadata": {},
   "outputs": [],
   "source": [
    "CHUNK_SIZE = 1000"
   ]
  },
  {
   "cell_type": "code",
   "execution_count": 9,
   "metadata": {},
   "outputs": [
    {
     "name": "stdout",
     "output_type": "stream",
     "text": [
      "Wall time: 761 ms\n"
     ]
    }
   ],
   "source": [
    "%%time\n",
    "user_toks = toks.groupby(curr_posts[\"poster_id\"]).apply(merge_lists)\n",
    "user_chunks = make_tok_chonks(user_toks, CHUNK_SIZE)"
   ]
  },
  {
   "cell_type": "code",
   "execution_count": 10,
   "metadata": {},
   "outputs": [
    {
     "name": "stdout",
     "output_type": "stream",
     "text": [
      "Wall time: 1.09 s\n"
     ]
    }
   ],
   "source": [
    "%%time\n",
    "user_pos = pos.groupby(curr_posts[\"poster_id\"]).apply(merge_lists)\n",
    "user_pos_chunks = make_tok_chonks(user_pos, CHUNK_SIZE)"
   ]
  },
  {
   "cell_type": "markdown",
   "metadata": {},
   "source": [
    "# Create the Different Feature Counts"
   ]
  },
  {
   "cell_type": "markdown",
   "metadata": {},
   "source": [
    "#### BOW"
   ]
  },
  {
   "cell_type": "code",
   "execution_count": 11,
   "metadata": {},
   "outputs": [
    {
     "name": "stdout",
     "output_type": "stream",
     "text": [
      "Wall time: 34.9 s\n"
     ]
    }
   ],
   "source": [
    "%%time\n",
    "# Get the counts\n",
    "bow_counts = {i: get_tok_counts(post) for i, post in user_toks.items()}\n",
    "bow_counts = {i: {tok: count for tok, count in post.items() if tok not in function_words} for i, post in bow_counts.items()}\n",
    "top_n = get_top_n_toks(bow_counts.values(), 10000)\n",
    "bow_counts = {i: {tok: count for tok, count in post.items() if tok in top_n} for i, post in bow_counts.items()}\n",
    "bow_counts = pd.Series(bow_counts)"
   ]
  },
  {
   "cell_type": "markdown",
   "metadata": {},
   "source": [
    "#### Tfidf bow counts"
   ]
  },
  {
   "cell_type": "code",
   "execution_count": 12,
   "metadata": {},
   "outputs": [
    {
     "name": "stdout",
     "output_type": "stream",
     "text": [
      "Wall time: 1.21 s\n"
     ]
    }
   ],
   "source": [
    "%%time\n",
    "# Credit for this cell: http://www.davidsbatista.net/blog/2018/02/28/TfidfVectorizer/\n",
    "from sklearn.feature_extraction.text import TfidfVectorizer\n",
    "# If you had counts instead of tokens, you'd use \"TfidfTransformer\"\n",
    "\n",
    "def dummy_fun(doc):\n",
    "    return doc\n",
    "\n",
    "tfidf = TfidfVectorizer(\n",
    "    analyzer='word',\n",
    "    tokenizer=dummy_fun,\n",
    "    preprocessor=dummy_fun,\n",
    "    token_pattern=None)  \n",
    "\n",
    "\n",
    "tfidf_matrix = tfidf.fit_transform(user_toks)"
   ]
  },
  {
   "cell_type": "code",
   "execution_count": 13,
   "metadata": {},
   "outputs": [],
   "source": [
    "tfidf_feats = tfidf_matrix[:, np.isin(tfidf.get_feature_names(), top_n)].todense()"
   ]
  },
  {
   "cell_type": "markdown",
   "metadata": {},
   "source": [
    "#### PoS Trigrams"
   ]
  },
  {
   "cell_type": "code",
   "execution_count": 14,
   "metadata": {},
   "outputs": [],
   "source": [
    "pos_trigrams = pd.Series([make_ngrams(post, 3) for post in user_pos], index=user_pos.index)\n",
    "pos_trigrams = pos_trigrams.apply(lambda post: [\"_\".join(words) for words in post])"
   ]
  },
  {
   "cell_type": "code",
   "execution_count": 15,
   "metadata": {},
   "outputs": [],
   "source": [
    "top_n = [x[0] for x in Counter(merge_lists(pos_trigrams)).most_common(1000)]\n",
    "pos_tri_counts = pos_trigrams.apply(Counter).apply(lambda dic: {w: c for w, c in dic.items() if w in top_n})\n",
    "pos_tri_counts = pd.Series(pos_tri_counts)"
   ]
  },
  {
   "cell_type": "code",
   "execution_count": 16,
   "metadata": {},
   "outputs": [],
   "source": [
    "# pos_tri_chunks = pd.DataFrame(index=user_pos_chunks.index)\n",
    "# pos_tri_chunks[\"User\"] = user_pos_chunks[\"User\"]\n",
    "# pos_tri_chunks[\"Chunk\"] = pos_trigrams"
   ]
  },
  {
   "cell_type": "markdown",
   "metadata": {},
   "source": [
    "# Create the Feature Matrix"
   ]
  },
  {
   "cell_type": "code",
   "execution_count": 17,
   "metadata": {},
   "outputs": [
    {
     "name": "stdout",
     "output_type": "stream",
     "text": [
      "Wall time: 384 ms\n"
     ]
    }
   ],
   "source": [
    "%%time\n",
    "# Initialise feats to None\n",
    "bin_feats = None\n",
    "norm_feats = None\n",
    "\n",
    "# Make the feature matrix\n",
    "curr_feat_type = \"tfidf\"\n",
    "SCALE = True\n",
    "APPLY_PCA = True\n",
    "\n",
    "if curr_feat_type == \"pos_tri\":\n",
    "    curr_counts = pos_tri_counts\n",
    "    curr_toks = pos_trigrams\n",
    "elif curr_feat_type == \"bow\":\n",
    "    curr_counts = bow_counts\n",
    "    curr_toks = user_toks\n",
    "elif curr_feat_type == \"tfidf\":\n",
    "    curr_counts = bow_counts\n",
    "    curr_toks = user_toks\n",
    "    bin_feats = np.vectorize(lambda x: 1 if x > 0 else 0)(tfidf_feats)\n",
    "    norm_feats = tfidf_feats\n",
    "    \n",
    "if bin_feats is None:\n",
    "    curr_feats, curr_feat_names = make_feature_matrix(curr_counts.to_dict(), False)\n",
    "    bin_feats = np.vectorize(lambda x: 1 if x > 0 else 0)(curr_feats)\n",
    "    norm_feats = curr_feats / user_toks.apply(len).values[:,None]"
   ]
  },
  {
   "cell_type": "markdown",
   "metadata": {},
   "source": [
    "#### Scaling"
   ]
  },
  {
   "cell_type": "code",
   "execution_count": 18,
   "metadata": {},
   "outputs": [],
   "source": [
    "if SCALE:\n",
    "    norm_feats = StandardScaler().fit_transform(norm_feats)"
   ]
  },
  {
   "cell_type": "markdown",
   "metadata": {},
   "source": [
    "#### PCA reduction"
   ]
  },
  {
   "cell_type": "code",
   "execution_count": 19,
   "metadata": {},
   "outputs": [
    {
     "name": "stdout",
     "output_type": "stream",
     "text": [
      "Wall time: 399 ms\n"
     ]
    }
   ],
   "source": [
    "%%time\n",
    "from sklearn.decomposition import PCA\n",
    "pca = PCA(.95)\n",
    "\n",
    "if APPLY_PCA:\n",
    "    norm_feats = pca.fit_transform(norm_feats)"
   ]
  },
  {
   "cell_type": "code",
   "execution_count": 20,
   "metadata": {},
   "outputs": [
    {
     "name": "stdout",
     "output_type": "stream",
     "text": [
      "261 components\n"
     ]
    }
   ],
   "source": [
    "print(f\"{norm_feats.shape[1]} components\")"
   ]
  },
  {
   "cell_type": "markdown",
   "metadata": {},
   "source": [
    "#### Make 2d embeddings"
   ]
  },
  {
   "cell_type": "code",
   "execution_count": 21,
   "metadata": {},
   "outputs": [
    {
     "name": "stdout",
     "output_type": "stream",
     "text": [
      "Wall time: 5.64 s\n"
     ]
    }
   ],
   "source": [
    "%%time\n",
    "norm_embedding = reduce_features(norm_feats)"
   ]
  },
  {
   "cell_type": "code",
   "execution_count": 22,
   "metadata": {},
   "outputs": [
    {
     "data": {
      "image/png": "[encoded data removed]",
      "text/plain": [
       "<Figure size 576x576 with 1 Axes>"
      ]
     },
     "metadata": {
      "needs_background": "light"
     },
     "output_type": "display_data"
    }
   ],
   "source": [
    "fig, ax = plt.subplots(figsize=(8,8))\n",
    "ax.scatter(norm_feats[:,0], norm_feats[:,1])\n",
    "plt.show()"
   ]
  },
  {
   "cell_type": "markdown",
   "metadata": {},
   "source": [
    "# Do the Clustering"
   ]
  },
  {
   "cell_type": "code",
   "execution_count": 23,
   "metadata": {},
   "outputs": [],
   "source": [
    "from scipy.cluster.hierarchy import dendrogram, linkage\n",
    "from scipy.cluster.hierarchy import cophenet\n",
    "from scipy.spatial.distance import pdist\n",
    "from scipy.spatial.distance import cosine as cosine_dist\n",
    "from sklearn.cluster import AgglomerativeClustering"
   ]
  },
  {
   "cell_type": "code",
   "execution_count": 24,
   "metadata": {},
   "outputs": [],
   "source": [
    "def plot_hc(feats, labels, out_fp=None):\n",
    "    # Perform the Hierarchical Clustering\n",
    "    d_list = linkage(feats, 'average', metric=\"cosine\")\n",
    "\n",
    "    # Calculate the Cophenetic Correlation Coefficient\n",
    "    c, coph_dists = cophenet(d_list, pdist(feats))\n",
    "    print(\"Cophenetic Correlation Coefficient: {}\".format(c))\n",
    "\n",
    "    # Do the actual plotting.\n",
    "    fig, ax = plt.subplots(figsize=(12,12))\n",
    "    \n",
    "    dendrogram(\n",
    "        d_list,\n",
    "        leaf_rotation=0,  # rotates the x axis labels\n",
    "        leaf_font_size=14,  # font size for the x axis labels\n",
    "        labels = labels, \n",
    "        ax=ax,\n",
    "        color_threshold=0\n",
    "    )\n",
    "    plt.setp(ax.get_xticklabels(), fontsize=14)\n",
    "    plt.setp(ax.get_yticklabels(), fontsize=14)\n",
    "    ax.set_xlabel(\"Users\", fontsize=14)\n",
    "    ax.set_ylabel(\"Cosine Distance\", fontsize=14)\n",
    "    ax.grid()\n",
    "    \n",
    "    plt.tight_layout()\n",
    "    if out_fp is not None:\n",
    "        fig.savefig(out_fp)"
   ]
  },
  {
   "cell_type": "code",
   "execution_count": 25,
   "metadata": {},
   "outputs": [
    {
     "name": "stdout",
     "output_type": "stream",
     "text": [
      "Cophenetic Correlation Coefficient: 0.3104616115777662\n"
     ]
    },
    {
     "data": {
      "image/png": "[encoded data removed]",
      "text/plain": [
       "<Figure size 864x864 with 1 Axes>"
      ]
     },
     "metadata": {
      "needs_background": "light"
     },
     "output_type": "display_data"
    }
   ],
   "source": [
    "plot_hc(norm_feats, user_toks.index.astype(int), out_fp=None)#os.path.join(GRAPH_DIR, f\"dendrogram_{curr_feat_type}.pdf\"))"
   ]
  },
  {
   "cell_type": "code",
   "execution_count": 26,
   "metadata": {},
   "outputs": [
    {
     "name": "stdout",
     "output_type": "stream",
     "text": [
      "Average silhoette score for 2 clusters:\t 0.0258861057710596 \n",
      "\n",
      "Average silhoette score for 3 clusters:\t 0.015978350980098647 \n",
      "\n",
      "Average silhoette score for 4 clusters:\t 0.016155027634349544 \n",
      "\n",
      "Average silhoette score for 5 clusters:\t 0.016132970261985312 \n",
      "\n",
      "Average silhoette score for 6 clusters:\t 0.015667075410915686 \n",
      "\n",
      "Average silhoette score for 7 clusters:\t 0.01517844011191553 \n",
      "\n",
      "Average silhoette score for 8 clusters:\t 0.014663518295954941 \n",
      "\n",
      "Average silhoette score for 9 clusters:\t 0.014464250669151893 \n",
      "\n",
      "Wall time: 107 ms\n"
     ]
    }
   ],
   "source": [
    "%%time\n",
    "for i in range(2,10):\n",
    "    model = AgglomerativeClustering(n_clusters=i, affinity='cosine', linkage='average')  \n",
    "    clusters = model.fit_predict(norm_feats)\n",
    "    avg_silhouette_score = metrics.silhouette_score(norm_feats, clusters, metric=\"cosine\")\n",
    "    print(f\"Average silhoette score for {i} clusters:\\t\", avg_silhouette_score, \"\\n\")"
   ]
  },
  {
   "cell_type": "code",
   "execution_count": 27,
   "metadata": {},
   "outputs": [
    {
     "name": "stdout",
     "output_type": "stream",
     "text": [
      "Wall time: 3.93 s\n"
     ]
    }
   ],
   "source": [
    "%%time\n",
    "sil_scores = []\n",
    "for i in range(2,len(user_toks)):\n",
    "    model = AgglomerativeClustering(n_clusters=i, affinity='cosine', linkage='average')  \n",
    "    clusters = model.fit_predict(norm_feats)\n",
    "    sil_scores.append(metrics.silhouette_score(norm_feats, clusters, metric=\"cosine\"))"
   ]
  },
  {
   "cell_type": "code",
   "execution_count": 28,
   "metadata": {},
   "outputs": [
    {
     "data": {
      "image/png": "[encoded data removed]",
      "text/plain": [
       "<Figure size 576x288 with 1 Axes>"
      ]
     },
     "metadata": {
      "needs_background": "light"
     },
     "output_type": "display_data"
    }
   ],
   "source": [
    "fig, ax = plt.subplots(figsize=(8,4))\n",
    "ax.plot(list(range(2, len(user_toks))), sil_scores)\n",
    "plt.show()"
   ]
  },
  {
   "cell_type": "code",
   "execution_count": 29,
   "metadata": {},
   "outputs": [],
   "source": [
    "model = AgglomerativeClustering(n_clusters=2, affinity='cosine', linkage='average')  \n",
    "clusters1 = model.fit_predict(norm_feats)"
   ]
  },
  {
   "cell_type": "code",
   "execution_count": 30,
   "metadata": {},
   "outputs": [
    {
     "name": "stdout",
     "output_type": "stream",
     "text": [
      "Num users in Cluster 0: 169\n",
      "Num users in Cluster 1: 128\n"
     ]
    }
   ],
   "source": [
    "for clust in set(clusters1):\n",
    "    print(f\"Num users in Cluster {clust}: {len(user_toks[clusters1==clust].index)}\")"
   ]
  },
  {
   "cell_type": "code",
   "execution_count": 31,
   "metadata": {},
   "outputs": [
    {
     "name": "stdout",
     "output_type": "stream",
     "text": [
      "Num words in Cluster 0: 5722830\n",
      "Num words in Cluster 1: 269008\n"
     ]
    }
   ],
   "source": [
    "for clust in set(clusters1):\n",
    "    print(f\"Num words in Cluster {clust}: {len(merge_lists(user_toks[clusters1==clust]))}\")"
   ]
  },
  {
   "cell_type": "code",
   "execution_count": 32,
   "metadata": {},
   "outputs": [
    {
     "name": "stdout",
     "output_type": "stream",
     "text": [
      "Avg words in Cluster 0: 33863\n",
      "Median words in Cluster 0: 12372\n",
      "\n",
      "Avg words in Cluster 1: 2102\n",
      "Median words in Cluster 1: 1155\n",
      "\n"
     ]
    }
   ],
   "source": [
    "for clust in set(clusters1):\n",
    "    print(f\"Avg words in Cluster {clust}: {user_toks[clusters1==clust].apply(len).mean():.0f}\")\n",
    "    print(f\"Median words in Cluster {clust}: {user_toks[clusters1==clust].apply(len).median():.0f}\")\n",
    "    print()"
   ]
  },
  {
   "cell_type": "code",
   "execution_count": 33,
   "metadata": {},
   "outputs": [],
   "source": [
    "model = AgglomerativeClustering(n_clusters=None, distance_threshold=1, affinity='cosine', linkage='average')  \n",
    "clusters2 = model.fit_predict(norm_feats)"
   ]
  },
  {
   "cell_type": "code",
   "execution_count": 34,
   "metadata": {},
   "outputs": [
    {
     "name": "stdout",
     "output_type": "stream",
     "text": [
      "Num users in Cluster 0: 106\n",
      "Num users in Cluster 1: 41\n",
      "Num users in Cluster 2: 19\n",
      "Num users in Cluster 3: 105\n",
      "Num users in Cluster 4: 6\n",
      "Num users in Cluster 5: 12\n",
      "Num users in Cluster 6: 5\n",
      "Num users in Cluster 7: 3\n"
     ]
    }
   ],
   "source": [
    "for clust in set(clusters2):\n",
    "    print(f\"Num users in Cluster {clust}: {len(user_toks[clusters2==clust].index)}\")"
   ]
  },
  {
   "cell_type": "code",
   "execution_count": 35,
   "metadata": {},
   "outputs": [
    {
     "name": "stdout",
     "output_type": "stream",
     "text": [
      "Num words in Cluster 0: 146755\n",
      "Num words in Cluster 1: 485762\n",
      "Num words in Cluster 2: 102774\n",
      "Num words in Cluster 3: 5058056\n",
      "Num words in Cluster 4: 84742\n",
      "Num words in Cluster 5: 59078\n",
      "Num words in Cluster 6: 35192\n",
      "Num words in Cluster 7: 19479\n"
     ]
    }
   ],
   "source": [
    "for clust in set(clusters2):\n",
    "    print(f\"Num words in Cluster {clust}: {len(merge_lists(user_toks[clusters2==clust]))}\")"
   ]
  },
  {
   "cell_type": "code",
   "execution_count": 36,
   "metadata": {},
   "outputs": [
    {
     "name": "stdout",
     "output_type": "stream",
     "text": [
      "Avg words in Cluster 0: 1384\n",
      "Median words in Cluster 0: 951\n",
      "\n",
      "Avg words in Cluster 1: 11848\n",
      "Median words in Cluster 1: 8204\n",
      "\n",
      "Avg words in Cluster 2: 5409\n",
      "Median words in Cluster 2: 4341\n",
      "\n",
      "Avg words in Cluster 3: 48172\n",
      "Median words in Cluster 3: 21031\n",
      "\n",
      "Avg words in Cluster 4: 14124\n",
      "Median words in Cluster 4: 9598\n",
      "\n",
      "Avg words in Cluster 5: 4923\n",
      "Median words in Cluster 5: 4858\n",
      "\n",
      "Avg words in Cluster 6: 7038\n",
      "Median words in Cluster 6: 5646\n",
      "\n",
      "Avg words in Cluster 7: 6493\n",
      "Median words in Cluster 7: 3722\n",
      "\n"
     ]
    }
   ],
   "source": [
    "for clust in set(clusters2):\n",
    "    print(f\"Avg words in Cluster {clust}: {user_toks[clusters2==clust].apply(len).mean():.0f}\")\n",
    "    print(f\"Median words in Cluster {clust}: {user_toks[clusters2==clust].apply(len).median():.0f}\")\n",
    "    print()"
   ]
  },
  {
   "cell_type": "code",
   "execution_count": 37,
   "metadata": {},
   "outputs": [],
   "source": [
    "clusters = clusters1"
   ]
  },
  {
   "cell_type": "code",
   "execution_count": 38,
   "metadata": {},
   "outputs": [
    {
     "name": "stdout",
     "output_type": "stream",
     "text": [
      "Average silhoette score for Normed:\t 0.0258861057710596 \n",
      "\n"
     ]
    }
   ],
   "source": [
    "avg_silhouette_score = metrics.silhouette_score(norm_feats, clusters, metric=\"cosine\")\n",
    "print(\"Average silhoette score for Normed:\\t\", avg_silhouette_score, \"\\n\")"
   ]
  },
  {
   "cell_type": "code",
   "execution_count": 39,
   "metadata": {},
   "outputs": [
    {
     "name": "stdout",
     "output_type": "stream",
     "text": [
      "0 169\n",
      "1 128\n"
     ]
    }
   ],
   "source": [
    "for clust in set(clusters):\n",
    "    print(clust, len(user_toks[clusters==clust].index))"
   ]
  },
  {
   "cell_type": "code",
   "execution_count": 40,
   "metadata": {},
   "outputs": [
    {
     "name": "stdout",
     "output_type": "stream",
     "text": [
      "2.0,16.0,32.0,38.0,62.0,99.0,315.0,376.0,464.0,706.0,709.0,775.0,843.0,1206.0,1342.0,1423.0,1448.0,1500.0,1584.0,1804.0\n",
      "0,0,0,0,0,0,0,0,0,0,0,0,0,0,0,0,0,0,0,0\n"
     ]
    }
   ],
   "source": [
    "print(\",\".join(map(str, user_toks[user_toks.index.isin(top_20.index)].index)))\n",
    "print(\",\".join(map(str, clusters[user_toks.index.isin(top_20.index)])))"
   ]
  },
  {
   "cell_type": "code",
   "execution_count": 41,
   "metadata": {},
   "outputs": [
    {
     "name": "stdout",
     "output_type": "stream",
     "text": [
      "0,0,3\n",
      "1,0,3\n",
      "2,0,3\n",
      "3,0,3\n",
      "4,0,1\n",
      "5,0,3\n",
      "6,0,3\n",
      "7,0,3\n",
      "8,0,3\n",
      "9,0,3\n",
      "10,0,3\n",
      "11,0,3\n",
      "12,0,3\n",
      "13,0,3\n",
      "14,0,3\n",
      "15,0,3\n",
      "16,0,3\n",
      "17,0,3\n",
      "18,0,3\n",
      "19,0,3\n"
     ]
    }
   ],
   "source": [
    "for i, (c1, c2) in enumerate(zip(clusters[user_toks.index.isin(top_20.index)], clusters2[user_toks.index.isin(top_20.index)])):\n",
    "    print(i, c1, c2, sep=\",\")"
   ]
  },
  {
   "cell_type": "code",
   "execution_count": 42,
   "metadata": {},
   "outputs": [],
   "source": [
    "ling_clusts = {\"Cluster 0\": list(user_toks[clusters1==0].index), \n",
    "               \"Cluster 1\": list(user_toks[clusters1==1].index)}\n",
    "\n",
    "with open(os.path.join(GRAPH_DIR, f\"{curr_feat_type}_core_clusts.json\"), \"w\") as out_file:\n",
    "    json.dump(ling_clusts, out_file)"
   ]
  },
  {
   "cell_type": "code",
   "execution_count": 43,
   "metadata": {},
   "outputs": [
    {
     "data": {
      "image/png": "[encoded data removed]",
      "text/plain": [
       "<Figure size 576x576 with 1 Axes>"
      ]
     },
     "metadata": {
      "needs_background": "light"
     },
     "output_type": "display_data"
    }
   ],
   "source": [
    "fig, ax = plt.subplots(figsize=(8,8))\n",
    "for c in set(clusters):\n",
    "    ax.scatter(norm_feats[clusters==c,0], norm_feats[clusters==c,1], label=c, alpha=0.3)\n",
    "ax.grid()\n",
    "ax.legend()\n",
    "plt.show()"
   ]
  },
  {
   "cell_type": "markdown",
   "metadata": {},
   "source": [
    "# Analyse Spread Across Users"
   ]
  },
  {
   "cell_type": "code",
   "execution_count": 44,
   "metadata": {},
   "outputs": [
    {
     "data": {
      "text/plain": [
       "Float64Index([   1.0,    2.0,    4.0,   14.0,   16.0,   18.0,   21.0,   26.0,\n",
       "                27.0,   29.0,\n",
       "              ...\n",
       "              2167.0, 2195.0, 2207.0, 2218.0, 2222.0, 2223.0, 2236.0, 2243.0,\n",
       "              2259.0, 2282.0],\n",
       "             dtype='float64', name='poster_id', length=169)"
      ]
     },
     "execution_count": 44,
     "metadata": {},
     "output_type": "execute_result"
    }
   ],
   "source": [
    "user_toks.index[clusters==0]"
   ]
  },
  {
   "cell_type": "code",
   "execution_count": 45,
   "metadata": {},
   "outputs": [
    {
     "data": {
      "text/plain": [
       "Float64Index([   3.0,    5.0,    7.0,    9.0,   11.0,   15.0,   19.0,   20.0,\n",
       "                23.0,   25.0,\n",
       "              ...\n",
       "              1991.0, 2003.0, 2007.0, 2010.0, 2015.0, 2022.0, 2023.0, 2105.0,\n",
       "              2114.0, 2184.0],\n",
       "             dtype='float64', name='poster_id', length=128)"
      ]
     },
     "execution_count": 45,
     "metadata": {},
     "output_type": "execute_result"
    }
   ],
   "source": [
    "user_toks.index[clusters==1]"
   ]
  },
  {
   "cell_type": "code",
   "execution_count": 46,
   "metadata": {},
   "outputs": [],
   "source": [
    "contingency1 = pd.crosstab(user_toks.index.values, [clusters1], rownames=[\"User\"], colnames=[\"Cluster\"])\n",
    "contingency2 = pd.crosstab(user_toks.index.values, [clusters2], rownames=[\"User\"], colnames=[\"Cluster\"])"
   ]
  },
  {
   "cell_type": "code",
   "execution_count": 47,
   "metadata": {},
   "outputs": [
    {
     "data": {
      "image/png": "[encoded data removed]",
      "text/plain": [
       "<Figure size 576x432 with 2 Axes>"
      ]
     },
     "metadata": {
      "needs_background": "light"
     },
     "output_type": "display_data"
    }
   ],
   "source": [
    "fig, ax = plt.subplots(figsize=(8,6))\n",
    "sns.heatmap(contingency1.loc[top_20.index], annot=True, ax=ax, fmt='g', cmap=\"Greens\")\n",
    "# fig.savefig(os.path.join(GRAPH_DIR, f\"chunk_contingency_2_{curr_feat_type}.pdf\"))\n",
    "plt.show()"
   ]
  },
  {
   "cell_type": "code",
   "execution_count": 48,
   "metadata": {},
   "outputs": [
    {
     "data": {
      "image/png": "[encoded data removed]",
      "text/plain": [
       "<Figure size 288x1440 with 2 Axes>"
      ]
     },
     "metadata": {
      "needs_background": "light"
     },
     "output_type": "display_data"
    }
   ],
   "source": [
    "fig, ax = plt.subplots(figsize=(4,20))\n",
    "sns.heatmap(contingency1.loc[posts_per_user.sort_values(ascending=False).head(100).index], annot=True, ax=ax, fmt='g', cmap=\"Greens\")\n",
    "# fig.savefig(os.path.join(GRAPH_DIR, f\"chunk_contingency_2_{curr_feat_type}.pdf\"))\n",
    "plt.show()"
   ]
  },
  {
   "cell_type": "code",
   "execution_count": 49,
   "metadata": {},
   "outputs": [
    {
     "data": {
      "image/png": "[encoded data removed]",
      "text/plain": [
       "<Figure size 576x432 with 2 Axes>"
      ]
     },
     "metadata": {
      "needs_background": "light"
     },
     "output_type": "display_data"
    }
   ],
   "source": [
    "fig, ax = plt.subplots(figsize=(8,6))\n",
    "sns.heatmap(contingency2.loc[top_20.index], annot=True, ax=ax, fmt='g', cmap=\"Greens\")\n",
    "# fig.savefig(os.path.join(GRAPH_DIR, f\"chunk_contingency_2_{curr_feat_type}.pdf\"))\n",
    "plt.show()"
   ]
  },
  {
   "cell_type": "code",
   "execution_count": 50,
   "metadata": {
    "scrolled": false
   },
   "outputs": [
    {
     "data": {
      "image/png": "[encoded data removed]",
      "text/plain": [
       "<Figure size 288x3600 with 2 Axes>"
      ]
     },
     "metadata": {
      "needs_background": "light"
     },
     "output_type": "display_data"
    }
   ],
   "source": [
    "fig, ax = plt.subplots(figsize=(4,50))\n",
    "sns.heatmap(contingency2.loc[posts_per_user.sort_values(ascending=False).index], annot=True, ax=ax, fmt='g', cmap=\"Greens\")\n",
    "# fig.savefig(os.path.join(GRAPH_DIR, f\"chunk_contingency_2_{curr_feat_type}.pdf\"))\n",
    "plt.show()"
   ]
  },
  {
   "cell_type": "markdown",
   "metadata": {},
   "source": [
    "# Compare clusters"
   ]
  },
  {
   "cell_type": "code",
   "execution_count": 51,
   "metadata": {},
   "outputs": [],
   "source": [
    "clust_comparison = pd.crosstab(clusters1, [clusters2], rownames=[\"Clust 1\"], colnames=[\"Clust 2\"])"
   ]
  },
  {
   "cell_type": "code",
   "execution_count": 52,
   "metadata": {},
   "outputs": [
    {
     "data": {
      "text/html": [
       "<div>\n",
       "<style scoped>\n",
       "    .dataframe tbody tr th:only-of-type {\n",
       "        vertical-align: middle;\n",
       "    }\n",
       "\n",
       "    .dataframe tbody tr th {\n",
       "        vertical-align: top;\n",
       "    }\n",
       "\n",
       "    .dataframe thead th {\n",
       "        text-align: right;\n",
       "    }\n",
       "</style>\n",
       "<table border=\"1\" class=\"dataframe\">\n",
       "  <thead>\n",
       "    <tr style=\"text-align: right;\">\n",
       "      <th>Clust 2</th>\n",
       "      <th>0</th>\n",
       "      <th>1</th>\n",
       "      <th>2</th>\n",
       "      <th>3</th>\n",
       "      <th>4</th>\n",
       "      <th>5</th>\n",
       "      <th>6</th>\n",
       "      <th>7</th>\n",
       "    </tr>\n",
       "    <tr>\n",
       "      <th>Clust 1</th>\n",
       "      <th></th>\n",
       "      <th></th>\n",
       "      <th></th>\n",
       "      <th></th>\n",
       "      <th></th>\n",
       "      <th></th>\n",
       "      <th></th>\n",
       "      <th></th>\n",
       "    </tr>\n",
       "  </thead>\n",
       "  <tbody>\n",
       "    <tr>\n",
       "      <th>0</th>\n",
       "      <td>0</td>\n",
       "      <td>41</td>\n",
       "      <td>0</td>\n",
       "      <td>105</td>\n",
       "      <td>6</td>\n",
       "      <td>12</td>\n",
       "      <td>5</td>\n",
       "      <td>0</td>\n",
       "    </tr>\n",
       "    <tr>\n",
       "      <th>1</th>\n",
       "      <td>106</td>\n",
       "      <td>0</td>\n",
       "      <td>19</td>\n",
       "      <td>0</td>\n",
       "      <td>0</td>\n",
       "      <td>0</td>\n",
       "      <td>0</td>\n",
       "      <td>3</td>\n",
       "    </tr>\n",
       "  </tbody>\n",
       "</table>\n",
       "</div>"
      ],
      "text/plain": [
       "Clust 2    0   1   2    3  4   5  6  7\n",
       "Clust 1                               \n",
       "0          0  41   0  105  6  12  5  0\n",
       "1        106   0  19    0  0   0  0  3"
      ]
     },
     "execution_count": 52,
     "metadata": {},
     "output_type": "execute_result"
    }
   ],
   "source": [
    "clust_comparison"
   ]
  },
  {
   "cell_type": "code",
   "execution_count": 53,
   "metadata": {},
   "outputs": [
    {
     "data": {
      "image/png": "[encoded data removed]",
      "text/plain": [
       "<Figure size 432x288 with 2 Axes>"
      ]
     },
     "metadata": {
      "needs_background": "light"
     },
     "output_type": "display_data"
    }
   ],
   "source": [
    "fig, ax = plt.subplots(figsize=(6,4))\n",
    "sns.heatmap(clust_comparison, annot=True, ax=ax, fmt='g', cmap=\"Greens\")\n",
    "plt.show()"
   ]
  },
  {
   "cell_type": "markdown",
   "metadata": {},
   "source": [
    "# Get Some Keywords Between Clusters"
   ]
  },
  {
   "cell_type": "code",
   "execution_count": 54,
   "metadata": {},
   "outputs": [
    {
     "name": "stdout",
     "output_type": "stream",
     "text": [
      "Wall time: 0 ns\n"
     ]
    }
   ],
   "source": [
    "%%time\n",
    "lr = lambda x, y: np.log2(x / y)\n",
    "\n",
    "def get_cluster_keywords(tokens, clusters):\n",
    "    \n",
    "    clust_counts = tokens.groupby(clusters).apply(\n",
    "                    lambda x: [Counter(merge_lists(x))]).apply(\n",
    "                    lambda x: x[0])\n",
    "    clust_n_words = {clust: tokens[clusters==clust].apply(len).sum() for clust in set(clusters)}\n",
    "\n",
    "    for clust, counts in clust_counts.items():\n",
    "        other_counts = Counter(merge_lists(tokens[clusters!=clust]))\n",
    "        other_nwords = tokens[clusters!=clust].apply(len).sum()\n",
    "        lrs = calculate_cluster_lrs(counts, other_counts, clust_n_words[clust], other_nwords)\n",
    "        lrs = {w: l for w, l in lrs.items() if counts[w] > 100}\n",
    "        lrs = pd.Series(lrs).sort_values(ascending=False)\n",
    "        t10_lr = lrs.head(20)\n",
    "        b10_lr = lrs.tail(20)\n",
    "\n",
    "        print(clust)\n",
    "        print(\"-------------------------------------------------------------------------------------\")\n",
    "        for (w1, lr1), (w2, lr2) in zip(t10_lr.items(), b10_lr.items()):\n",
    "            print(f\"{w1:20}\\t{lr1:10.2f}\\t|\\t{w2:20}\\t{lr2:10.2f}\")\n",
    "        print(\"-------------------------------------------------------------------------------------\")"
   ]
  },
  {
   "cell_type": "code",
   "execution_count": 55,
   "metadata": {},
   "outputs": [],
   "source": [
    "def get_cluster_lrs(tokens, clusters, min_freq=100):\n",
    "    \n",
    "    clust_counts = tokens.groupby(clusters).apply(\n",
    "                    lambda x: [Counter(merge_lists(x))]).apply(\n",
    "                    lambda x: x[0])\n",
    "    clust_n_words = {clust: tokens[clusters==clust].apply(len).sum() for clust in set(clusters)}\n",
    "    \n",
    "    clust_kw = dict()\n",
    "\n",
    "    for clust, counts in clust_counts.items():\n",
    "        other_counts = Counter(merge_lists(tokens[clusters!=clust]))\n",
    "        other_nwords = tokens[clusters!=clust].apply(len).sum()\n",
    "        lrs = calculate_cluster_lrs(counts, other_counts, clust_n_words[clust], other_nwords)\n",
    "        lrs = {w: l for w, l in lrs.items() if counts[w] > min_freq}\n",
    "        lrs = pd.Series(lrs).sort_values(ascending=False)\n",
    "   \n",
    "        clust_kw[clust] = lrs\n",
    "    return clust_kw"
   ]
  },
  {
   "cell_type": "markdown",
   "metadata": {},
   "source": [
    "# Key features (2 clusters)"
   ]
  },
  {
   "cell_type": "code",
   "execution_count": 56,
   "metadata": {},
   "outputs": [],
   "source": [
    "clusters = clusters1"
   ]
  },
  {
   "cell_type": "markdown",
   "metadata": {},
   "source": [
    "## Key PoS-Trigrams"
   ]
  },
  {
   "cell_type": "code",
   "execution_count": 57,
   "metadata": {
    "scrolled": false
   },
   "outputs": [
    {
     "name": "stdout",
     "output_type": "stream",
     "text": [
      "0\n",
      "-------------------------------------------------------------------------------------\n",
      "NUM_ADP_PUNCT       \t      3.50\t|\tDET_PRON_PUNCT      \t     -1.21\n",
      "CCONJ_PUNCT_X       \t      3.48\t|\tNUM_NUM_ADP         \t     -1.23\n",
      "PROPN_NOUN_SYM      \t      3.39\t|\tVERB_CCONJ_SCONJ    \t     -1.26\n",
      "VERB_PUNCT_X        \t      2.49\t|\tPUNCT_INTJ_PRON     \t     -1.27\n",
      "NUM_PROPN_PUNCT     \t      2.39\t|\tADV_CCONJ_AUX       \t     -1.29\n",
      "SCONJ_PUNCT_DET     \t      2.22\t|\tPRON_DET_AUX        \t     -1.31\n",
      "X_PUNCT_ADJ         \t      2.21\t|\tADP_DET_PRON        \t     -1.33\n",
      "PUNCT_X_DET         \t      2.19\t|\tPRON_ADJ_PROPN      \t     -1.36\n",
      "CCONJ_ADJ_ADV       \t      2.12\t|\tADP_CCONJ_PRON      \t     -1.37\n",
      "X_X_PUNCT           \t      2.04\t|\tPRON_INTJ_VERB      \t     -1.40\n",
      "ADJ_NUM_PUNCT       \t      1.99\t|\tPUNCT_ADJ_VERB      \t     -1.40\n",
      "ADP_NUM_PROPN       \t      1.92\t|\tINTJ_NOUN_PUNCT     \t     -1.42\n",
      "SYM_NOUN_NUM        \t      1.92\t|\tAUX_PRON_INTJ       \t     -1.43\n",
      "PUNCT_PRON_PART     \t      1.90\t|\tPUNCT_INTJ_DET      \t     -1.48\n",
      "DET_NUM_PROPN       \t      1.84\t|\tINTJ_DET_NOUN       \t     -1.50\n",
      "NOUN_NOUN_SYM       \t      1.84\t|\tSCONJ_DET_PRON      \t     -1.54\n",
      "PART_PROPN_PUNCT    \t      1.79\t|\tINTJ_PRON_VERB      \t     -1.55\n",
      "X_DET_NOUN          \t      1.79\t|\tPART_DET_PROPN      \t     -1.64\n",
      "ADV_NUM_PROPN       \t      1.78\t|\tPUNCT_INTJ_SCONJ    \t     -1.66\n",
      "PUNCT_SCONJ_CCONJ   \t      1.76\t|\tPUNCT_INTJ_CCONJ    \t     -1.81\n",
      "-------------------------------------------------------------------------------------\n",
      "1\n",
      "-------------------------------------------------------------------------------------\n",
      "PUNCT_INTJ_PRON     \t      1.27\t|\tNOUN_PUNCT_DET      \t     -0.46\n",
      "VERB_PRON_CCONJ     \t      0.87\t|\tVERB_PUNCT_PUNCT    \t     -0.46\n",
      "ADV_PUNCT_AUX       \t      0.81\t|\tSCONJ_DET_ADJ       \t     -0.46\n",
      "PROPN_AUX_ADJ       \t      0.78\t|\tPROPN_ADP_DET       \t     -0.47\n",
      "PRON_SCONJ_PRON     \t      0.74\t|\tCCONJ_DET_ADJ       \t     -0.48\n",
      "VERB_PRON_AUX       \t      0.71\t|\tNOUN_ADP_ADJ        \t     -0.48\n",
      "PUNCT_AUX_PRON      \t      0.63\t|\tNOUN_PUNCT_X        \t     -0.50\n",
      "PRON_ADP_PRON       \t      0.61\t|\tPUNCT_NUM_NOUN      \t     -0.50\n",
      "AUX_PRON_VERB       \t      0.58\t|\tCCONJ_NOUN_ADP      \t     -0.51\n",
      "ADV_AUX_PRON        \t      0.58\t|\tPUNCT_DET_ADJ       \t     -0.52\n",
      "VERB_PUNCT_INTJ     \t      0.58\t|\tNOUN_PART_NOUN      \t     -0.53\n",
      "AUX_PRON_ADV        \t      0.57\t|\tPROPN_PART_NOUN     \t     -0.55\n",
      "VERB_PRON_SCONJ     \t      0.56\t|\tPROPN_ADP_PROPN     \t     -0.56\n",
      "PRON_VERB_PRON      \t      0.55\t|\tDET_VERB_NOUN       \t     -0.57\n",
      "VERB_PRON_PRON      \t      0.55\t|\tNOUN_PUNCT_NUM      \t     -0.59\n",
      "AUX_PART_PRON       \t      0.52\t|\tPUNCT_DET_PROPN     \t     -0.60\n",
      "PRON_VERB_PROPN     \t      0.51\t|\tPUNCT_PUNCT_PUNCT   \t     -0.67\n",
      "ADJ_PRON_AUX        \t      0.51\t|\tPUNCT_X_PUNCT       \t     -0.67\n",
      "VERB_PROPN_PUNCT    \t      0.51\t|\tPUNCT_NOUN_NOUN     \t     -0.70\n",
      "ADP_PRON_ADV        \t      0.51\t|\tPROPN_PROPN_PROPN   \t     -0.79\n",
      "-------------------------------------------------------------------------------------\n",
      "Wall time: 1.62 s\n"
     ]
    }
   ],
   "source": [
    "%%time\n",
    "get_cluster_keywords(pos_trigrams, clusters)"
   ]
  },
  {
   "cell_type": "code",
   "execution_count": 58,
   "metadata": {},
   "outputs": [
    {
     "name": "stdout",
     "output_type": "stream",
     "text": [
      "Showing 25 out of 120:\n",
      "2.0        m sure it 'll be easy for you to set \u001b[1mone up !\u001b[0m yes , eric dubay hates people who di\n",
      "2.0        hink you 're an idiot \" , but rather \u001b[1mone of \"\u001b[0m this is an unfortunate lose - lose s\n",
      "2.0        . i guess your question requires for \u001b[1mone to ,\u001b[0m by blind faith , assume that the fet\n",
      "2.0        e is important - someone who 's made \u001b[1m10 off -\u001b[0m topic posts today and was repeatedly\n",
      "38.0       tar system . where are you getting \u001b[1m8000 from ?\u001b[0m the erathostenes experiment interp\n",
      "38.0       after sunrise netherlands reads 0.004 \u001b[1mk w /\u001b[0m kw and 15 minutes after sunrise austr\n",
      "38.0       after sunrise netherlands reads 0.004 \u001b[1mk w /\u001b[0m kw and 15 minutes after sunrise austr\n",
      "38.0       in which each country would try to \" \u001b[1mone up \"\u001b[0m each other with technological claims\n",
      "38.0       iving translation translates isaiah \u001b[1m11:12 as :\u001b[0m \" he will raise a flag among the na\n",
      "59.0       ard from the earth by 3.82 cm / yr ( \u001b[1m1.5 in /\u001b[0m yr ) . however , this recession is h\n",
      "59.0       t leads to two different equations : \u001b[1mone re ,\u001b[0m the other one fe . the first one was\n",
      "59.0       ain ) ... by mcthe emcee1 look from \u001b[1m0:15 on ,\u001b[0m with two large ships and far better\n",
      "62.0       tric ) . and the formula v^2 = u^ 2 + \u001b[1m2 as .\u001b[0m some numbers please . what is the acc\n",
      "99.0       e fuel that they can burn . see table \u001b[1m1 of ,\u001b[0m less than one part in 1000 in most ca\n",
      "99.0       . first , no . it centers on the line \u001b[1m0 o .\u001b[0m ( note that the prime meridan does no\n",
      "103.0      e brought together and published in \u001b[1m2000 in :\u001b[0m â  geography , cartography , and\n",
      "315.0      t struck me as a bit weird ! on page \u001b[1m32 of \"\u001b[0m the sea - earth globe and its monstr\n",
      "315.0      ieve the earth is flat ? â« reply # \u001b[1m81 on :\u001b[0m march 17 , 2016 , 11:11:50 am â» , \n",
      "315.0      obe earth . explain why ? â« reply # \u001b[1m2 on :\u001b[0m april 04 , 2016 , 10:47:00 am â» . y\n",
      "315.0      ieve the earth is flat ? â« reply # \u001b[1m81 on :\u001b[0m march 17 , 2016 , 11:11:50 am â» , \n",
      "315.0      ieve the earth is flat ? â« reply # \u001b[1m81 on :\u001b[0m march 17 , 2016 , 11:11:50 am â» [ \n",
      "315.0      ed those two very conflicting views \u001b[1mone from \"\u001b[0m the wiki , the ultimate authority \"\n",
      "315.0      wiki , the ultimate authority \" and \u001b[1mone from \"\u001b[0m tom bishop , zetetic council member\n",
      "315.0      awari 8 satellite images â« reply # \u001b[1m77 on :\u001b[0m march 04 , 2016 , 04:49:57 am â» on\n",
      "315.0      istances in \" the wiki \" â« reply # \u001b[1m16 on :\u001b[0m today at 02:48:56 am â» i show that\n"
     ]
    }
   ],
   "source": [
    "get_text_example_of_pos([\"NUM\", \"ADP\", \"PUNCT\"], \n",
    "                        user_pos[clusters==0], \n",
    "                        user_toks[clusters==0], \n",
    "                        doc_labels=user_toks[clusters==0].index, n_examples=25)"
   ]
  },
  {
   "cell_type": "code",
   "execution_count": 59,
   "metadata": {},
   "outputs": [
    {
     "name": "stdout",
     "output_type": "stream",
     "text": [
      "Distribution across users:\n",
      "Num uses per user\n",
      "user\n",
      "704.0     1\n",
      "1253.0    7\n",
      "1424.0    2\n",
      "dtype: int64\n",
      "\n",
      "Mean uses per user:\t 3.3333333333333335\n",
      "Median uses per user:\t 2.0\n",
      "Wall time: 68 ms\n"
     ]
    }
   ],
   "source": [
    "%%time\n",
    "concs = make_pos_concordance([\"NUM\", \"PROPN\", \"NUM\"],\n",
    "                             user_pos[clusters==1],\n",
    "                             user_toks[clusters==1],\n",
    "                             doc_labels=user_toks[clusters==1].index)\n",
    "concs = pd.DataFrame(concs, columns=[\"user\", \"conc\"])\n",
    "\n",
    "print(\"Distribution across users:\")\n",
    "num_uses_per_user = concs.groupby(\"user\").size()\n",
    "print(\"Num uses per user\", num_uses_per_user, sep=\"\\n\", end=\"\\n\\n\")\n",
    "print(\"Mean uses per user:\\t\", num_uses_per_user.mean())\n",
    "print(\"Median uses per user:\\t\", num_uses_per_user.median())"
   ]
  },
  {
   "cell_type": "markdown",
   "metadata": {},
   "source": [
    "## Key words"
   ]
  },
  {
   "cell_type": "code",
   "execution_count": 60,
   "metadata": {
    "scrolled": false
   },
   "outputs": [
    {
     "name": "stdout",
     "output_type": "stream",
     "text": [
      "0\n",
      "-------------------------------------------------------------------------------------\n",
      "sagnac              \t      5.85\t|\tcancer              \t     -1.66\n",
      "drift               \t      4.68\t|\tmarkjo              \t     -1.66\n",
      "scene               \t      4.62\t|\tstuck               \t     -1.67\n",
      "numerical           \t      4.53\t|\tclockwise           \t     -1.69\n",
      "repeatedly          \t      4.48\t|\ttroll               \t     -1.69\n",
      "motions             \t      4.42\t|\tautomatically       \t     -1.71\n",
      "geometric           \t      4.42\t|\t2d                  \t     -1.73\n",
      "scripture           \t      4.39\t|\tearther             \t     -1.73\n",
      "interactive         \t      4.38\t|\tspeculation         \t     -1.74\n",
      "drag                \t      4.37\t|\tunderneath          \t     -1.77\n",
      "â                \t      4.35\t|\tlol                 \t     -1.84\n",
      "isnât            \t      4.31\t|\tmr.                 \t     -1.89\n",
      "interferometer      \t      4.26\t|\twondering           \t     -1.90\n",
      "p                   \t      4.22\t|\tupside              \t     -2.02\n",
      "terminator          \t      4.16\t|\tquarter             \t     -2.09\n",
      "â                \t      4.11\t|\tjunker              \t     -2.16\n",
      "molecules           \t      4.11\t|\tnt                  \t     -2.22\n",
      "fluid               \t      4.10\t|\t..                  \t     -2.83\n",
      "gravimeter          \t      4.09\t|\tdoctor              \t     -3.10\n",
      "measurable          \t      4.09\t|\tdr                  \t     -4.44\n",
      "-------------------------------------------------------------------------------------\n",
      "1\n",
      "-------------------------------------------------------------------------------------\n",
      "dr                  \t      4.44\t|\tmap                 \t     -0.41\n",
      "nt                  \t      2.22\t|\t'd                  \t     -0.41\n",
      "wall                \t      1.62\t|\tpole                \t     -0.43\n",
      "forum               \t      1.39\t|\t\"                   \t     -0.45\n",
      "earthers            \t      1.15\t|\tsun                 \t     -0.49\n",
      "ice                 \t      1.15\t|\tthose               \t     -0.49\n",
      "circle              \t      1.03\t|\tdifferent           \t     -0.52\n",
      "picture             \t      0.99\t|\t:                   \t     -0.53\n",
      "s                   \t      0.94\t|\tlight               \t     -0.55\n",
      "proof               \t      0.92\t|\ttwo                 \t     -0.58\n",
      "believe             \t      0.90\t|\tglobe               \t     -0.60\n",
      "saying              \t      0.89\t|\tdistance            \t     -0.61\n",
      "fake                \t      0.88\t|\tlevel               \t     -0.62\n",
      "prove               \t      0.86\t|\tbetween             \t     -0.65\n",
      "him                 \t      0.85\t|\tbased               \t     -0.65\n",
      "answer              \t      0.78\t|\twhich               \t     -0.67\n",
      "round               \t      0.78\t|\ttimes               \t     -0.71\n",
      "maybe               \t      0.74\t|\thorizon             \t     -0.71\n",
      "me                  \t      0.73\t|\t-                   \t     -0.85\n",
      "people              \t      0.72\t|\tmodel               \t     -0.85\n",
      "-------------------------------------------------------------------------------------\n",
      "Wall time: 2.06 s\n"
     ]
    }
   ],
   "source": [
    "%%time\n",
    "get_cluster_keywords(user_toks, clusters)"
   ]
  },
  {
   "cell_type": "code",
   "execution_count": 61,
   "metadata": {},
   "outputs": [
    {
     "name": "stdout",
     "output_type": "stream",
     "text": [
      "Wall time: 2.11 s\n"
     ]
    }
   ],
   "source": [
    "%%time\n",
    "clust_lrs = get_cluster_lrs(user_toks, clusters)"
   ]
  },
  {
   "cell_type": "code",
   "execution_count": 62,
   "metadata": {},
   "outputs": [
    {
     "data": {
      "text/plain": [
       "-0.8291312478938246"
      ]
     },
     "execution_count": 62,
     "metadata": {},
     "output_type": "execute_result"
    }
   ],
   "source": [
    "(clust_lrs[0][\"re'ers\"])"
   ]
  },
  {
   "cell_type": "code",
   "execution_count": 63,
   "metadata": {},
   "outputs": [
    {
     "data": {
      "text/plain": [
       "0.26922081069844817"
      ]
     },
     "execution_count": 63,
     "metadata": {},
     "output_type": "execute_result"
    }
   ],
   "source": [
    "clust_lrs[0][\"fe'ers\"]"
   ]
  },
  {
   "cell_type": "code",
   "execution_count": 64,
   "metadata": {},
   "outputs": [
    {
     "data": {
      "text/plain": [
       "0.652166901298605"
      ]
     },
     "execution_count": 64,
     "metadata": {},
     "output_type": "execute_result"
    }
   ],
   "source": [
    "clust_lrs[1][\"flat\"]"
   ]
  },
  {
   "cell_type": "code",
   "execution_count": 65,
   "metadata": {},
   "outputs": [
    {
     "data": {
      "text/plain": [
       "0.7784337767793472"
      ]
     },
     "execution_count": 65,
     "metadata": {},
     "output_type": "execute_result"
    }
   ],
   "source": [
    "clust_lrs[1][\"round\"]"
   ]
  },
  {
   "cell_type": "code",
   "execution_count": 66,
   "metadata": {},
   "outputs": [
    {
     "name": "stdout",
     "output_type": "stream",
     "text": [
      "Cluster 0: 854 / 5722830\n",
      "Cluster 1: 92 / 269008\n"
     ]
    },
    {
     "data": {
      "text/plain": [
       "-1.2034525475814108"
      ]
     },
     "execution_count": 66,
     "metadata": {},
     "output_type": "execute_result"
    }
   ],
   "source": [
    "c1 = len(make_ngram_concordance([\"flat\", \"earthers\"],\n",
    "                                user_toks[clusters==0],\n",
    "                                doc_labels=user_toks[clusters==0].index))\n",
    "\n",
    "c2 = len(make_ngram_concordance([\"flat\", \"earthers\"],\n",
    "                                user_toks[clusters==1],\n",
    "                                doc_labels=user_toks[clusters==1].index))\n",
    "\n",
    "n1 = user_toks[clusters==0].apply(len).sum()\n",
    "n2 = user_toks[clusters==1].apply(len).sum()\n",
    "\n",
    "print(f\"Cluster 0: {c1} / {n1}\")\n",
    "print(f\"Cluster 1: {c2} / {n2}\")\n",
    "lr((c1+0.5)/n1, (c2+0.5)/n2)"
   ]
  },
  {
   "cell_type": "code",
   "execution_count": 67,
   "metadata": {},
   "outputs": [
    {
     "name": "stdout",
     "output_type": "stream",
     "text": [
      "Cluster 0: 244 / 5722830\n",
      "Cluster 1: 25 / 269008\n"
     ]
    },
    {
     "data": {
      "text/plain": [
       "-1.1497424557605003"
      ]
     },
     "execution_count": 67,
     "metadata": {},
     "output_type": "execute_result"
    }
   ],
   "source": [
    "c1 = len(make_ngram_concordance([\"round\", \"earthers\"],\n",
    "                                user_toks[clusters==0],\n",
    "                                doc_labels=user_toks[clusters==0].index))\n",
    "\n",
    "c2 = len(make_ngram_concordance([\"round\", \"earthers\"],\n",
    "                                user_toks[clusters==1],\n",
    "                                doc_labels=user_toks[clusters==1].index))\n",
    "\n",
    "n1 = user_toks[clusters==0].apply(len).sum()\n",
    "n2 = user_toks[clusters==1].apply(len).sum()\n",
    "\n",
    "print(f\"Cluster 0: {c1} / {n1}\")\n",
    "print(f\"Cluster 1: {c2} / {n2}\")\n",
    "lr((c1+0.5)/n1, (c2+0.5)/n2)"
   ]
  },
  {
   "cell_type": "code",
   "execution_count": 68,
   "metadata": {},
   "outputs": [
    {
     "name": "stdout",
     "output_type": "stream",
     "text": [
      "Showing 25 out of 602:\n",
      "2.0        ts in which \" theory \" may be used by \u001b[1mfe'ers\u001b[0m . within the context of \" conspiracy \n",
      "2.0        s used in exactly the same fashion by \u001b[1mfe'ers\u001b[0m as other scientists , by way of provi\n",
      "2.0        y be correct if he simply spoke to no \u001b[1mfe'ers\u001b[0m at all . personally , i propose that \n",
      "2.0        t large . that is not a claim serious \u001b[1mfe'ers\u001b[0m would make , in my humble opinion . p\n",
      "2.0        ct and following the more influential \u001b[1mfe'ers\u001b[0m online . in other words : yes , but y\n",
      "2.0        hat the most - supported map is among \u001b[1mfe'ers\u001b[0m . could you just go away now ? how do\n",
      "2.0        uld be silly . rowbotham 's and other \u001b[1mfe'ers\u001b[0m ' experiments are reproducible . rabi\n",
      "2.0        ised for some of the more belligerent \u001b[1mfe'ers\u001b[0m which appeared to target him at the t\n",
      "2.0        ace in the few . yes , there are some \u001b[1mfe'ers\u001b[0m who are working on alternative models\n",
      "2.0        olly , we sure showed those gosh darn \u001b[1mfe'ers\u001b[0m ! \" engaging with them is an utter wa\n",
      "2.0        gestions have garnered criticism from \u001b[1mfe'ers\u001b[0m and re'ers alike . we know this becau\n",
      "2.0         is something i will always encourage \u001b[1mfe'ers\u001b[0m and re'ers alike to engage in . this \n",
      "2.0        on . indeed , and many infinite plane \u001b[1mfe'ers\u001b[0m have advocated for that as the answer\n",
      "2.0        eel comfortable doing , and if female \u001b[1mfe'ers\u001b[0m do n't want to post here , that 's fi\n",
      "2.0        . we can discuss that elsewhere , but \u001b[1mfe'ers\u001b[0m largely agree that the ross ice shelf\n",
      "2.0        d incident , and physical assaults on \u001b[1mfe'ers\u001b[0m are relatively familiar to anyone wit\n",
      "2.0         doing his thing . flat earthers ( or \u001b[1mfe'ers\u001b[0m for short ) is the most commonly - us\n",
      "2.0        ies a negative connotation among some \u001b[1mfe'ers\u001b[0m , but it 's largely regarded as a neu\n",
      "2.0        s . no , no one is saying that . many \u001b[1mfe'ers\u001b[0m say that nasa is simply mistaken abou\n",
      "2.0        the extent of inconsistencies between \u001b[1mfe'ers\u001b[0m , my perception is likely to diminish\n",
      "2.0        ept proposed mainly by finite - plane \u001b[1mfe'ers\u001b[0m and ( more commonly ) re'ers . it may\n",
      "2.0         for him . this is just as bad as the \u001b[1mfe'ers\u001b[0m who say things like \" if the earth we\n",
      "2.0        ndwave it away , because \" it 's just \u001b[1mfe'ers\u001b[0m denying ret experiments again \" . whe\n",
      "2.0        ll try to answer it . right . the two \u001b[1mfe'ers\u001b[0m that responded to this thread disagre\n",
      "2.0        on . if you 're not interested in the \u001b[1mfe'ers\u001b[0m perspective , that honestly does not \n"
     ]
    }
   ],
   "source": [
    "get_ngram_example([\"fe'ers\"],\n",
    "                  user_toks[clusters==0],\n",
    "                  doc_labels=user_toks[clusters==0].index, n_examples=25)"
   ]
  },
  {
   "cell_type": "code",
   "execution_count": 69,
   "metadata": {},
   "outputs": [
    {
     "name": "stdout",
     "output_type": "stream",
     "text": [
      "Showing 25 out of 854:\n",
      "2.0        er well . unfortunately , not all \u001b[1mflat earthers\u001b[0m are zeteticists , and we do have \n",
      "2.0         comments from round earthers and \u001b[1mflat earthers\u001b[0m alike , i would like to ask every\n",
      "2.0         answering questions on behalf of \u001b[1mflat earthers\u001b[0m , especially if you 're going to \n",
      "2.0        . a bunch of the things you say \" \u001b[1mflat earthers\u001b[0m \" claim simply do not apply to th\n",
      "2.0        ng something along the lines of \" \u001b[1mflat earthers\u001b[0m claim that 2+2=5 and that is wron\n",
      "2.0        ere , welcome to the forum . most \u001b[1mflat earthers\u001b[0m are primarily concerned with the \n",
      "2.0        nestly do n't think there are any \u001b[1mflat earthers\u001b[0m here who would claim california a\n",
      "2.0        up a relatively small minority of \u001b[1mflat earthers\u001b[0m , very far from your alleged \" al\n",
      "2.0        way to carry on doing his thing . \u001b[1mflat earthers\u001b[0m ( or fe'ers for short ) is the mo\n",
      "2.0        adbible ( click ) 21/08/2017 what \u001b[1mflat earthers\u001b[0m are saying about the total solar \n",
      "2.0         global news ( click ) 30/10/2017 \u001b[1mflat earthers\u001b[0m to elon musk : mars is round , si\n",
      "2.0         ladbible ( click ) 29/11/2017 do \u001b[1mflat earthers\u001b[0m believe other planets are flat to\n",
      "2.0        ck ) 30/11/2017 elon musk vs. the \u001b[1mflat earthers\u001b[0m : is mars flat too ? national pos\n",
      "2.0        ( click ) 02/12/2017 we asked two \u001b[1mflat earthers\u001b[0m : what about the other planets ? \n",
      "2.0         10/02/2018 falcon heavy a hoax ? \u001b[1mflat earthers\u001b[0m imply recent space x launch was f\n",
      "2.0        different from that of many other \u001b[1mflat earthers\u001b[0m - i came here to defend round ear\n",
      "2.0        y and large identical to how most \u001b[1mflat earthers\u001b[0m operate , while the former is fai\n",
      "2.0        contradicts my understanding that \u001b[1mflat earthers\u001b[0m are not overwhelmingly religious \n",
      "2.0        nce to ) , he simply asserts what \u001b[1mflat earthers\u001b[0m believe based on ... well , i dun\n",
      "2.0        a that this somehow disproves all \u001b[1mflat earthers\u001b[0m ' views . would you please clarif\n",
      "2.0        nt call depending on individual . \u001b[1mflat earthers\u001b[0m have been subjected to physical a\n",
      "2.0        ve been trying to pull your leg . \u001b[1mflat earthers\u001b[0m tend to understand the round eart\n",
      "2.0        t . i have not seen any of this \" \u001b[1mflat earthers\u001b[0m all jumping on it , not aware it \n",
      "2.0        earth . there are large groups of \u001b[1mflat earthers\u001b[0m who explicitly base their fe beli\n",
      "2.0        rtant to highlight that plenty of \u001b[1mflat earthers\u001b[0m on social media ( especially twit\n"
     ]
    }
   ],
   "source": [
    "get_ngram_example([\"flat\", \"earthers\"],\n",
    "                  user_toks[clusters==0],\n",
    "                  doc_labels=user_toks[clusters==0].index, n_examples=25)"
   ]
  },
  {
   "cell_type": "code",
   "execution_count": 70,
   "metadata": {},
   "outputs": [
    {
     "name": "stdout",
     "output_type": "stream",
     "text": [
      "Showing 25 out of 111:\n",
      "23.0       eep the lie of a spherical earth . tl ; \u001b[1mdr\u001b[0m , but santa and satan use the same lett\n",
      "28.0        exams to determine what is wrong . the \u001b[1mdr\u001b[0m does n't assume anything about my healt\n",
      "28.0       eling alright 2 ) i reply feel fine 3 ) \u001b[1mdr\u001b[0m says ok you are perfectly healthy becau\n",
      "35.0       a must reed ! how can you posibley deny \u001b[1mdr\u001b[0m . rowbothoms argumints ? try me well th\n",
      "557.0       i disrespect you . ( credit to moose ) \u001b[1mdr\u001b[0m dre dispute here , can confirm the eart\n",
      "1402.0     fell for it ? you need to stop typing \" \u001b[1mdr\u001b[0m \" in front of \" rowbotham . \" i think y\n",
      "1402.0     botham ( note that i did not call him \" \u001b[1mdr\u001b[0m rowbotham , \" as he never received a do\n",
      "1402.0     id . all right . whoever this made up \" \u001b[1mdr\u001b[0m rowbotham \" is might have done so in so\n",
      "1421.0      to find any reference to him online as \u001b[1mdr\u001b[0m samuel rowbotham . are you sure about t\n",
      "1442.0     mmets to levels humans ca n't survive . \u001b[1mdr\u001b[0m samuel rowbotham wrote : ' how far the \n",
      "1442.0     oldiers walking around the shore . what \u001b[1mdr\u001b[0m samuel rowbotham revealed to the world \n",
      "1442.0     d to take into account refraction , yet \u001b[1mdr\u001b[0m rowbotham himself went into extreme det\n",
      "1442.0     ing wallace 's ' experiment ' invalid . \u001b[1mdr\u001b[0m rowbotham produced many experiments and\n",
      "1442.0     i ' footage of earth from the ' iss ' . \u001b[1mdr\u001b[0m rowbotham wrote a revolutionary book bu\n",
      "1442.0     itary presence . yes that 's true , but \u001b[1mdr\u001b[0m rowbotham challenged something that was\n",
      "1442.0     o even acknowledge you . they dismissed \u001b[1mdr\u001b[0m rowbotham at the time . they dismiss hi\n",
      "1442.0     f rubbish yet wo n't shut up about it . \u001b[1mdr\u001b[0m rowbotham created a revolutionary book \n",
      "1442.0      error after error . as for moonlight , \u001b[1mdr\u001b[0m rowbotham only wrote the facts . he did\n",
      "1442.0     really , it 's just dismissed . in fact \u001b[1mdr\u001b[0m rowbotham was dismissed out of hand . o\n",
      "1442.0      why is it trolling ? because i respect \u001b[1mdr\u001b[0m rowbotham ? there is no trolling whatso\n",
      "1442.0      me wrong , i believe in gravity ( even \u001b[1mdr\u001b[0m rowbotham did ) , however there 's no e\n",
      "1442.0      it 's pride of place on my shelf . the \u001b[1mdr\u001b[0m rowbotham presented many facts to back \n",
      "1442.0     speak for them . i do , however , trust \u001b[1mdr\u001b[0m rowbothams work . no , infact it will c\n",
      "1442.0     ear from a round earth heretic . i like \u001b[1mdr\u001b[0m rowbothams work because he was what sta\n",
      "1442.0     al . and why exactly ? cool story bro . \u001b[1mdr\u001b[0m rowbothams ideas were scientifically an\n"
     ]
    }
   ],
   "source": [
    "get_ngram_example([\"dr\"],\n",
    "                  user_toks[clusters==1],\n",
    "                  doc_labels=user_toks[clusters==1].index, n_examples=25)"
   ]
  },
  {
   "cell_type": "markdown",
   "metadata": {},
   "source": [
    "# Key features (cosine dist < 1 clusters)"
   ]
  },
  {
   "cell_type": "code",
   "execution_count": 71,
   "metadata": {},
   "outputs": [],
   "source": [
    "clusters = clusters2"
   ]
  },
  {
   "cell_type": "code",
   "execution_count": 72,
   "metadata": {
    "scrolled": false
   },
   "outputs": [
    {
     "name": "stdout",
     "output_type": "stream",
     "text": [
      "0\n",
      "-------------------------------------------------------------------------------------\n",
      "PROPN_AUX_ADJ       \t      1.05\t|\tNOUN_PUNCT_NOUN     \t     -0.36\n",
      "PRON_ADP_PRON       \t      0.74\t|\tPUNCT_PROPN_PROPN   \t     -0.36\n",
      "DET_PROPN_AUX       \t      0.74\t|\tPUNCT_NOUN_PUNCT    \t     -0.36\n",
      "SCONJ_DET_PROPN     \t      0.58\t|\tPROPN_PROPN_PUNCT   \t     -0.37\n",
      "VERB_PRON_AUX       \t      0.57\t|\tADJ_ADJ_NOUN        \t     -0.37\n",
      "ADV_AUX_PRON        \t      0.54\t|\tPUNCT_CCONJ_PRON    \t     -0.38\n",
      "NOUN_CCONJ_PRON     \t      0.52\t|\tDET_VERB_NOUN       \t     -0.38\n",
      "VERB_PRON_DET       \t      0.50\t|\tVERB_PUNCT_CCONJ    \t     -0.39\n",
      "AUX_PRON_VERB       \t      0.49\t|\tPUNCT_VERB_DET      \t     -0.39\n",
      "PUNCT_AUX_PRON      \t      0.47\t|\tNOUN_NOUN_NOUN      \t     -0.40\n",
      "AUX_PART_DET        \t      0.44\t|\tDET_PROPN_PUNCT     \t     -0.42\n",
      "PRON_DET_NOUN       \t      0.44\t|\tNOUN_PUNCT_CCONJ    \t     -0.43\n",
      "AUX_ADJ_CCONJ       \t      0.43\t|\tPUNCT_CCONJ_VERB    \t     -0.43\n",
      "PRON_VERB_PRON      \t      0.41\t|\tPUNCT_DET_ADJ       \t     -0.44\n",
      "PUNCT_ADV_AUX       \t      0.41\t|\tPUNCT_ADJ_NOUN      \t     -0.46\n",
      "PRON_AUX_PRON       \t      0.40\t|\tPROPN_PUNCT_PROPN   \t     -0.50\n",
      "PART_VERB_NOUN      \t      0.37\t|\tNOUN_PUNCT_PUNCT    \t     -0.51\n",
      "AUX_PART_ADV        \t      0.36\t|\tPUNCT_CCONJ_DET     \t     -0.52\n",
      "VERB_DET_PROPN      \t      0.36\t|\tPROPN_PROPN_PROPN   \t     -0.71\n",
      "PUNCT_ADV_SCONJ     \t      0.35\t|\tPUNCT_NOUN_NOUN     \t     -0.77\n",
      "-------------------------------------------------------------------------------------\n",
      "1\n",
      "-------------------------------------------------------------------------------------\n",
      "PUNCT_PUNCT_NUM     \t      1.00\t|\tADP_PUNCT_NOUN      \t     -0.47\n",
      "AUX_NUM_NOUN        \t      1.00\t|\tPRON_AUX_PUNCT      \t     -0.48\n",
      "VERB_ADV_NUM        \t      0.97\t|\tSCONJ_PROPN_AUX     \t     -0.50\n",
      "NUM_NOUN_ADJ        \t      0.97\t|\tSCONJ_VERB_NOUN     \t     -0.50\n",
      "ADP_ADV_ADP         \t      0.91\t|\tADJ_PUNCT_NOUN      \t     -0.51\n",
      "NUM_NUM_NOUN        \t      0.90\t|\tNOUN_ADP_PUNCT      \t     -0.51\n",
      "DET_NOUN_NUM        \t      0.90\t|\tVERB_SCONJ_PROPN    \t     -0.52\n",
      "NUM_NOUN_NUM        \t      0.90\t|\tADP_ADP_PRON        \t     -0.53\n",
      "NUM_NOUN_ADV        \t      0.89\t|\tADJ_PUNCT_PUNCT     \t     -0.54\n",
      "ADJ_ADP_NUM         \t      0.88\t|\tPRON_VERB_VERB      \t     -0.54\n",
      "ADP_PROPN_ADP       \t      0.88\t|\tVERB_SCONJ_PRON     \t     -0.55\n",
      "PUNCT_NUM_NOUN      \t      0.86\t|\tSCONJ_PRON_PRON     \t     -0.56\n",
      "PROPN_ADP_PROPN     \t      0.84\t|\tDET_ADP_PRON        \t     -0.56\n",
      "NOUN_AUX_NUM        \t      0.84\t|\tINTJ_PUNCT_PRON     \t     -0.58\n",
      "SYM_NUM_PUNCT       \t      0.83\t|\tADP_ADJ_PUNCT       \t     -0.59\n",
      "NOUN_PUNCT_NUM      \t      0.83\t|\tAUX_PART_PUNCT      \t     -0.64\n",
      "SYM_NUM_NOUN        \t      0.76\t|\tPUNCT_PUNCT_PUNCT   \t     -0.66\n",
      "NOUN_NUM_NOUN       \t      0.75\t|\tPRON_PUNCT_SCONJ    \t     -0.67\n",
      "NUM_SYM_NUM         \t      0.75\t|\tSCONJ_PRON_NOUN     \t     -0.71\n",
      "NUM_NOUN_ADP        \t      0.74\t|\tPROPN_PROPN_PROPN   \t     -1.17\n",
      "-------------------------------------------------------------------------------------\n",
      "2\n",
      "-------------------------------------------------------------------------------------\n",
      "VERB_PRON_AUX       \t      0.83\t|\tADP_DET_PROPN       \t     -0.39\n",
      "PUNCT_AUX_PRON      \t      0.78\t|\tNOUN_PUNCT_ADJ      \t     -0.39\n",
      "VERB_PRON_PRON      \t      0.69\t|\tVERB_SCONJ_DET      \t     -0.40\n",
      "PRON_AUX_ADP        \t      0.69\t|\tNOUN_ADP_NOUN       \t     -0.41\n",
      "INTJ_PUNCT_PRON     \t      0.64\t|\tAUX_ADJ_ADP         \t     -0.41\n",
      "AUX_PRON_VERB       \t      0.64\t|\tNOUN_PUNCT_NOUN     \t     -0.44\n",
      "ADV_AUX_PRON        \t      0.63\t|\tADJ_NOUN_NOUN       \t     -0.48\n",
      "PRON_PUNCT_PRON     \t      0.63\t|\tPUNCT_DET_NOUN      \t     -0.48\n",
      "PRON_VERB_PRON      \t      0.62\t|\tPUNCT_DET_ADJ       \t     -0.48\n",
      "VERB_PRON_VERB      \t      0.59\t|\tNOUN_ADP_DET        \t     -0.49\n",
      "NOUN_PUNCT_INTJ     \t      0.55\t|\tADP_NOUN_NOUN       \t     -0.50\n",
      "CCONJ_VERB_PRON     \t      0.55\t|\tADJ_NOUN_ADP        \t     -0.51\n",
      "VERB_ADV_PRON       \t      0.54\t|\tADP_ADJ_NOUN        \t     -0.54\n",
      "ADJ_PART_VERB       \t      0.53\t|\tNOUN_NOUN_ADP       \t     -0.55\n",
      "NOUN_VERB_PRON      \t      0.53\t|\tDET_PROPN_PROPN     \t     -0.59\n",
      "ADV_VERB_PART       \t      0.53\t|\tADP_NUM_NOUN        \t     -0.59\n",
      "PUNCT_INTJ_PUNCT    \t      0.52\t|\tNOUN_PUNCT_DET      \t     -0.60\n",
      "ADV_VERB_PRON       \t      0.50\t|\tNOUN_ADP_ADJ        \t     -0.67\n",
      "VERB_ADP_PRON       \t      0.50\t|\tPUNCT_NOUN_NOUN     \t     -0.72\n",
      "ADV_AUX_PART        \t      0.50\t|\tNUM_NOUN_PUNCT      \t     -0.86\n",
      "-------------------------------------------------------------------------------------\n",
      "3\n",
      "-------------------------------------------------------------------------------------\n",
      "CCONJ_PUNCT_X       \t      2.61\t|\tINTJ_VERB_PRON      \t     -0.72\n",
      "SYM_NOUN_NUM        \t      1.71\t|\tPART_PRON_AUX       \t     -0.72\n",
      "NUM_ADP_PUNCT       \t      1.70\t|\tDET_PRON_NOUN       \t     -0.72\n",
      "PROPN_NUM_VERB      \t      1.51\t|\tPROPN_ADP_ADV       \t     -0.73\n",
      "DET_NUM_PROPN       \t      1.42\t|\tPRON_ADJ_PROPN      \t     -0.74\n",
      "PUNCT_SCONJ_CCONJ   \t      1.33\t|\tINTJ_VERB_PUNCT     \t     -0.76\n",
      "SCONJ_CCONJ_ADV     \t      1.31\t|\tNOUN_PUNCT_SYM      \t     -0.78\n",
      "PROPN_ADV_DET       \t      1.23\t|\tX_PUNCT_PUNCT       \t     -0.78\n",
      "PUNCT_NUM_PROPN     \t      1.18\t|\tSYM_SYM_NUM         \t     -0.84\n",
      "SCONJ_PUNCT_DET     \t      1.13\t|\tPROPN_ADP_ADJ       \t     -0.85\n",
      "PROPN_PROPN_PROPN   \t      1.08\t|\tCCONJ_ADV_CCONJ     \t     -0.85\n",
      "CCONJ_SCONJ_PROPN   \t      1.05\t|\tPUNCT_INTJ_CCONJ    \t     -0.87\n",
      "PROPN_DET_PROPN     \t      1.01\t|\tADP_NUM_PRON        \t     -0.87\n",
      "DET_PUNCT_INTJ      \t      0.99\t|\tNUM_NUM_NUM         \t     -0.88\n",
      "NUM_PROPN_PROPN     \t      0.98\t|\tNOUN_INTJ_PUNCT     \t     -0.89\n",
      "NUM_PROPN_NOUN      \t      0.96\t|\tNOUN_NUM_NUM        \t     -0.95\n",
      "X_X_X               \t      0.96\t|\tADJ_PROPN_CCONJ     \t     -0.96\n",
      "AUX_CCONJ_AUX       \t      0.96\t|\tPUNCT_ADJ_PART      \t     -0.99\n",
      "ADP_AUX_DET         \t      0.96\t|\tPUNCT_ADJ_VERB      \t     -1.04\n",
      "PUNCT_PART_SCONJ    \t      0.95\t|\tX_PUNCT_ADP         \t     -1.14\n",
      "-------------------------------------------------------------------------------------\n",
      "4\n",
      "-------------------------------------------------------------------------------------\n",
      "VERB_PUNCT_SCONJ    \t      1.56\t|\tADV_PRON_VERB       \t     -0.44\n",
      "PUNCT_NOUN_AUX      \t      1.30\t|\tPRON_VERB_ADV       \t     -0.45\n",
      "PROPN_PART_NOUN     \t      1.12\t|\tADJ_ADP_DET         \t     -0.45\n",
      "PUNCT_VERB_NOUN     \t      1.11\t|\tVERB_ADP_PRON       \t     -0.46\n",
      "DET_VERB_NOUN       \t      1.02\t|\tNOUN_ADP_PRON       \t     -0.47\n",
      "PUNCT_AUX_PART      \t      1.00\t|\tPRON_VERB_PART      \t     -0.49\n",
      "NOUN_VERB_NOUN      \t      0.93\t|\tPART_VERB_PRON      \t     -0.50\n",
      "VERB_PUNCT_NOUN     \t      0.92\t|\tADP_PROPN_PUNCT     \t     -0.50\n",
      "NOUN_PUNCT_ADJ      \t      0.87\t|\tPUNCT_CCONJ_PRON    \t     -0.51\n",
      "VERB_NOUN_PUNCT     \t      0.85\t|\tADV_ADJ_NOUN        \t     -0.52\n",
      "NOUN_PUNCT_AUX      \t      0.81\t|\tNOUN_ADP_PROPN      \t     -0.52\n",
      "NOUN_PUNCT_NOUN     \t      0.80\t|\tNOUN_PRON_AUX       \t     -0.52\n",
      "ADP_NOUN_VERB       \t      0.76\t|\tVERB_SCONJ_DET      \t     -0.53\n",
      "PUNCT_ADJ_NOUN      \t      0.75\t|\tAUX_ADV_ADJ         \t     -0.53\n",
      "NOUN_PUNCT_PUNCT    \t      0.74\t|\tADP_PRON_PUNCT      \t     -0.56\n",
      "ADP_NOUN_AUX        \t      0.73\t|\tADV_ADJ_PUNCT       \t     -0.59\n",
      "NOUN_AUX_PART       \t      0.72\t|\tVERB_PRON_AUX       \t     -0.62\n",
      "NOUN_PUNCT_PROPN    \t      0.68\t|\tADJ_PUNCT_PRON      \t     -0.64\n",
      "PUNCT_NOUN_ADP      \t      0.68\t|\tVERB_SCONJ_PRON     \t     -0.67\n",
      "NOUN_VERB_PUNCT     \t      0.65\t|\tADP_DET_PROPN       \t     -0.68\n",
      "-------------------------------------------------------------------------------------\n",
      "5\n",
      "-------------------------------------------------------------------------------------\n",
      "PRON_NOUN_ADP       \t      0.54\t|\tADJ_PUNCT_PRON      \t     -0.24\n",
      "VERB_ADJ_NOUN       \t      0.51\t|\tPUNCT_ADP_DET       \t     -0.25\n",
      "NOUN_NOUN_NOUN      \t      0.51\t|\tPRON_AUX_ADJ        \t     -0.25\n",
      "ADP_NOUN_CCONJ      \t      0.50\t|\tSCONJ_PRON_VERB     \t     -0.26\n",
      "NOUN_PUNCT_ADJ      \t      0.46\t|\tPUNCT_DET_NOUN      \t     -0.27\n",
      "NOUN_PART_VERB      \t      0.45\t|\tVERB_SCONJ_PRON     \t     -0.28\n",
      "NOUN_PRON_VERB      \t      0.43\t|\tPUNCT_SCONJ_PRON    \t     -0.29\n",
      "ADP_NOUN_NOUN       \t      0.42\t|\tNOUN_AUX_ADJ        \t     -0.30\n",
      "NOUN_PUNCT_AUX      \t      0.40\t|\tNOUN_AUX_PART       \t     -0.31\n",
      "PRON_AUX_AUX        \t      0.40\t|\tADV_PRON_VERB       \t     -0.33\n",
      "ADP_PRON_NOUN       \t      0.39\t|\tNOUN_PUNCT_CCONJ    \t     -0.34\n",
      "DET_NOUN_PRON       \t      0.36\t|\tPUNCT_ADV_PRON      \t     -0.36\n",
      "PRON_ADJ_NOUN       \t      0.36\t|\tADV_PRON_AUX        \t     -0.37\n",
      "VERB_ADP_NOUN       \t      0.36\t|\tDET_NOUN_ADV        \t     -0.37\n",
      "ADJ_ADJ_NOUN        \t      0.35\t|\tAUX_ADJ_PUNCT       \t     -0.39\n",
      "PUNCT_ADJ_NOUN      \t      0.35\t|\tPRON_VERB_PUNCT     \t     -0.43\n",
      "VERB_PRON_NOUN      \t      0.35\t|\tADJ_ADP_DET         \t     -0.43\n",
      "ADJ_NOUN_NOUN       \t      0.35\t|\tDET_NOUN_AUX        \t     -0.52\n",
      "NOUN_CCONJ_NOUN     \t      0.34\t|\tPUNCT_CCONJ_PRON    \t     -0.58\n",
      "NOUN_PRON_AUX       \t      0.33\t|\tSCONJ_DET_NOUN      \t     -0.62\n",
      "-------------------------------------------------------------------------------------\n"
     ]
    },
    {
     "name": "stdout",
     "output_type": "stream",
     "text": [
      "6\n",
      "-------------------------------------------------------------------------------------\n",
      "VERB_ADP_PRON       \t      0.45\t|\tNOUN_PUNCT_ADV      \t     -0.00\n",
      "PUNCT_ADV_PUNCT     \t      0.43\t|\tDET_NOUN_ADP        \t     -0.02\n",
      "VERB_PRON_NOUN      \t      0.42\t|\tNOUN_AUX_VERB       \t     -0.03\n",
      "ADP_PRON_PUNCT      \t      0.40\t|\tPRON_AUX_ADV        \t     -0.03\n",
      "ADP_ADJ_NOUN        \t      0.38\t|\tVERB_DET_NOUN       \t     -0.03\n",
      "AUX_VERB_PRON       \t      0.35\t|\tVERB_ADP_DET        \t     -0.04\n",
      "VERB_PRON_PUNCT     \t      0.34\t|\tADJ_NOUN_PUNCT      \t     -0.04\n",
      "PUNCT_CCONJ_PRON    \t      0.33\t|\tPUNCT_PRON_AUX      \t     -0.04\n",
      "PRON_VERB_ADP       \t      0.30\t|\tPUNCT_DET_NOUN      \t     -0.05\n",
      "NOUN_CCONJ_NOUN     \t      0.30\t|\tPUNCT_SCONJ_PRON    \t     -0.06\n",
      "NOUN_PRON_VERB      \t      0.29\t|\tDET_NOUN_AUX        \t     -0.06\n",
      "PRON_NOUN_PUNCT     \t      0.29\t|\tDET_ADJ_NOUN        \t     -0.07\n",
      "ADV_DET_NOUN        \t      0.27\t|\tVERB_DET_ADJ        \t     -0.08\n",
      "DET_NOUN_VERB       \t      0.26\t|\tDET_NOUN_NOUN       \t     -0.09\n",
      "AUX_DET_NOUN        \t      0.25\t|\tADJ_NOUN_NOUN       \t     -0.11\n",
      "ADV_ADP_DET         \t      0.24\t|\tPART_VERB_DET       \t     -0.12\n",
      "DET_NOUN_PRON       \t      0.24\t|\tNOUN_NOUN_PUNCT     \t     -0.13\n",
      "NOUN_PRON_AUX       \t      0.24\t|\tNOUN_ADP_PRON       \t     -0.16\n",
      "VERB_SCONJ_PRON     \t      0.23\t|\tAUX_VERB_ADP        \t     -0.22\n",
      "ADP_PRON_NOUN       \t      0.21\t|\tNOUN_PUNCT_DET      \t     -0.38\n",
      "-------------------------------------------------------------------------------------\n",
      "7\n",
      "-------------------------------------------------------------------------------------\n",
      "PRON_VERB_PRON      \t      0.89\t|\tNOUN_ADP_NOUN       \t      0.18\n",
      "ADP_NOUN_PUNCT      \t      0.41\t|\tNOUN_NOUN_PUNCT     \t      0.17\n",
      "SCONJ_PRON_VERB     \t      0.34\t|\tPUNCT_PRON_VERB     \t      0.16\n",
      "PRON_AUX_ADV        \t      0.31\t|\tPRON_AUX_PART       \t      0.14\n",
      "NOUN_ADP_NOUN       \t      0.18\t|\tPRON_AUX_VERB       \t      0.10\n",
      "NOUN_NOUN_PUNCT     \t      0.17\t|\tSCONJ_PRON_AUX      \t      0.08\n",
      "PUNCT_PRON_VERB     \t      0.16\t|\tAUX_PART_VERB       \t      0.08\n",
      "PRON_AUX_PART       \t      0.14\t|\tNOUN_PUNCT_ADV      \t      0.05\n",
      "PRON_AUX_VERB       \t      0.10\t|\tPUNCT_PRON_AUX      \t      0.03\n",
      "SCONJ_PRON_AUX      \t      0.08\t|\tNOUN_PUNCT_PRON     \t      0.02\n",
      "AUX_PART_VERB       \t      0.08\t|\tVERB_PART_VERB      \t     -0.02\n",
      "NOUN_PUNCT_ADV      \t      0.05\t|\tADJ_NOUN_PUNCT      \t     -0.28\n",
      "PUNCT_PRON_AUX      \t      0.03\t|\tVERB_DET_NOUN       \t     -0.34\n",
      "NOUN_PUNCT_PRON     \t      0.02\t|\tDET_NOUN_PUNCT      \t     -0.41\n",
      "VERB_PART_VERB      \t     -0.02\t|\tADJ_NOUN_ADP        \t     -0.53\n",
      "ADJ_NOUN_PUNCT      \t     -0.28\t|\tADP_DET_NOUN        \t     -0.55\n",
      "VERB_DET_NOUN       \t     -0.34\t|\tVERB_ADP_DET        \t     -0.56\n",
      "DET_NOUN_PUNCT      \t     -0.41\t|\tDET_NOUN_ADP        \t     -0.62\n",
      "ADJ_NOUN_ADP        \t     -0.53\t|\tNOUN_ADP_DET        \t     -0.92\n",
      "ADP_DET_NOUN        \t     -0.55\t|\tDET_ADJ_NOUN        \t     -0.94\n",
      "-------------------------------------------------------------------------------------\n",
      "Wall time: 6.09 s\n"
     ]
    }
   ],
   "source": [
    "%%time\n",
    "get_cluster_keywords(pos_trigrams, clusters)"
   ]
  },
  {
   "cell_type": "code",
   "execution_count": 73,
   "metadata": {
    "scrolled": false
   },
   "outputs": [
    {
     "name": "stdout",
     "output_type": "stream",
     "text": [
      "0\n",
      "-------------------------------------------------------------------------------------\n",
      "nt                  \t      2.86\t|\tmuch                \t     -0.20\n",
      "forum               \t      1.74\t|\tat                  \t     -0.20\n",
      "s                   \t      1.03\t|\tby                  \t     -0.22\n",
      "claim               \t      0.86\t|\tone                 \t     -0.23\n",
      "prove               \t      0.81\t|\tdifferent           \t     -0.24\n",
      "proof               \t      0.78\t|\t've                 \t     -0.25\n",
      "flat                \t      0.75\t|\tthan                \t     -0.26\n",
      "am                  \t      0.75\t|\t/                   \t     -0.26\n",
      "water               \t      0.73\t|\ttwo                 \t     -0.27\n",
      "'m                  \t      0.72\t|\t)                   \t     -0.28\n",
      "believe             \t      0.67\t|\t(                   \t     -0.29\n",
      "me                  \t      0.66\t|\tmodel               \t     -0.39\n",
      "saying              \t      0.66\t|\t\"                   \t     -0.45\n",
      "round               \t      0.63\t|\twhich               \t     -0.46\n",
      "'ll                 \t      0.61\t|\tsun                 \t     -0.50\n",
      "question            \t      0.59\t|\tdistance            \t     -0.51\n",
      "think               \t      0.58\t|\thorizon             \t     -0.61\n",
      "people              \t      0.58\t|\t'                   \t     -0.65\n",
      "?                   \t      0.56\t|\t:                   \t     -0.96\n",
      "space               \t      0.55\t|\t-                   \t     -1.01\n",
      "-------------------------------------------------------------------------------------\n",
      "1\n",
      "-------------------------------------------------------------------------------------\n",
      "!!                  \t      4.04\t|\tinto                \t     -0.72\n",
      "tropic              \t      3.54\t|\tgoing               \t     -0.73\n",
      "sydney              \t      2.01\t|\tclaims              \t     -0.76\n",
      "hemisphere          \t      1.98\t|\tnasa                \t     -0.76\n",
      "northern            \t      1.82\t|\texperiments         \t     -0.77\n",
      "location            \t      1.71\t|\the                  \t     -0.83\n",
      "southern            \t      1.65\t|\this                 \t     -0.85\n",
      "90                  \t      1.61\t|\tread                \t     -0.89\n",
      "noon                \t      1.60\t|\tsays                \t     -0.95\n",
      "equator             \t      1.60\t|\t;                   \t     -0.95\n",
      "equinox             \t      1.59\t|\t'm                  \t     -0.97\n",
      "polaris             \t      1.57\t|\talready             \t     -0.97\n",
      "radius              \t      1.55\t|\targument            \t     -1.02\n",
      "km                  \t      1.52\t|\t'll                 \t     -1.04\n",
      "flights             \t      1.51\t|\t've                 \t     -1.05\n",
      "diameter            \t      1.49\t|\tsaid                \t     -1.06\n",
      "telescope           \t      1.40\t|\t!                   \t     -1.10\n",
      "north               \t      1.39\t|\tclaim               \t     -1.18\n",
      "path                \t      1.38\t|\t'd                  \t     -1.36\n",
      "australia           \t      1.38\t|\t're                 \t     -2.10\n",
      "-------------------------------------------------------------------------------------\n",
      "2\n",
      "-------------------------------------------------------------------------------------\n",
      "dr                  \t      5.71\t|\tby                  \t     -0.21\n",
      "wall                \t      2.32\t|\tin                  \t     -0.22\n",
      "rowbotham           \t      1.84\t|\t/                   \t     -0.23\n",
      "proof               \t      1.21\t|\tmoon                \t     -0.24\n",
      "saying              \t      1.18\t|\tsun                 \t     -0.26\n",
      "answer              \t      1.03\t|\tthe                 \t     -0.26\n",
      "believe             \t      1.00\t|\tan                  \t     -0.27\n",
      "people              \t      0.97\t|\ttime                \t     -0.28\n",
      "he                  \t      0.87\t|\tthan                \t     -0.31\n",
      "think               \t      0.81\t|\t)                   \t     -0.31\n",
      "did                 \t      0.77\t|\t're                 \t     -0.32\n",
      "really              \t      0.73\t|\tfrom                \t     -0.35\n",
      "like                \t      0.71\t|\t\"                   \t     -0.35\n",
      "am                  \t      0.70\t|\tpoint               \t     -0.36\n",
      "question            \t      0.68\t|\tof                  \t     -0.37\n",
      "go                  \t      0.67\t|\t(                   \t     -0.38\n",
      "?                   \t      0.66\t|\t:                   \t     -0.40\n",
      "never               \t      0.63\t|\tat                  \t     -0.43\n",
      "round               \t      0.63\t|\t-                   \t     -0.83\n",
      "his                 \t      0.62\t|\twhich               \t     -1.01\n",
      "-------------------------------------------------------------------------------------\n",
      "3\n",
      "-------------------------------------------------------------------------------------\n",
      "perturbations       \t      5.43\t|\texhaust             \t     -1.49\n",
      "tunguska            \t      5.39\t|\tdarkness            \t     -1.52\n",
      "convexity           \t      5.38\t|\toxygen              \t     -1.56\n",
      "â«                 \t      5.32\t|\tsolstice            \t     -1.60\n",
      "scalar              \t      5.31\t|\tsydney              \t     -1.62\n",
      "inferior            \t      5.24\t|\trocket              \t     -1.62\n",
      "numerical           \t      4.92\t|\tdaylight            \t     -1.64\n",
      "haversine           \t      4.06\t|\t..                  \t     -1.69\n",
      "sagnac              \t      3.90\t|\tfuel                \t     -1.77\n",
      "epicycles           \t      3.80\t|\tsurvey              \t     -1.79\n",
      "â»                 \t      3.71\t|\t!!!                 \t     -1.81\n",
      "ping                \t      3.71\t|\tvacuum              \t     -1.86\n",
      "interactive         \t      3.53\t|\tthrust              \t     -2.03\n",
      "drift               \t      3.47\t|\tw                   \t     -2.17\n",
      "interferometer      \t      3.41\t|\texpansion           \t     -2.18\n",
      "biefeld             \t      3.25\t|\treaction            \t     -2.27\n",
      "subquarks           \t      3.24\t|\tcancer              \t     -2.31\n",
      "calendar            \t      3.19\t|\tgas                 \t     -2.45\n",
      "scriptures          \t      3.14\t|\tdr                  \t     -2.59\n",
      "longitudinal        \t      3.08\t|\ttropic              \t     -2.75\n",
      "-------------------------------------------------------------------------------------\n",
      "4\n",
      "-------------------------------------------------------------------------------------\n",
      "ic                  \t      9.91\t|\thow                 \t     -0.26\n",
      "joule               \t      8.83\t|\tfor                 \t     -0.28\n",
      "=>                  \t      8.75\t|\tif                  \t     -0.28\n",
      "gas                 \t      5.78\t|\tthey                \t     -0.32\n",
      "thrust              \t      5.52\t|\tonly                \t     -0.32\n",
      "reaction            \t      5.40\t|\tbut                 \t     -0.33\n",
      "vacuum              \t      5.16\t|\tmore                \t     -0.36\n",
      "rocket              \t      4.74\t|\tabout               \t     -0.37\n",
      "fuel                \t      4.47\t|\tsun                 \t     -0.39\n",
      "rockets             \t      4.34\t|\tup                  \t     -0.41\n",
      "law                 \t      4.07\t|\tthis                \t     -0.44\n",
      "laws                \t      3.92\t|\twas                 \t     -0.46\n",
      "pressure            \t      3.38\t|\tsee                 \t     -0.49\n",
      "energy              \t      2.85\t|\ton                  \t     -0.50\n",
      "force               \t      2.21\t|\twe                  \t     -0.51\n",
      "scientific          \t      2.10\t|\t:                   \t     -0.53\n",
      "work                \t      1.94\t|\tsome                \t     -0.54\n",
      "system              \t      1.71\t|\tthan                \t     -0.55\n",
      ";                   \t      1.34\t|\tearth               \t     -0.62\n",
      "experiment          \t      1.31\t|\tjust                \t     -0.89\n",
      "-------------------------------------------------------------------------------------\n",
      "5\n",
      "-------------------------------------------------------------------------------------\n",
      "space               \t      1.26\t|\tearth               \t     -0.12\n",
      "their               \t      0.76\t|\tan                  \t     -0.13\n",
      "people              \t      0.75\t|\tthat                \t     -0.14\n",
      "evidence            \t      0.74\t|\tit                  \t     -0.14\n",
      "also                \t      0.73\t|\tthe                 \t     -0.16\n",
      "any                 \t      0.65\t|\thow                 \t     -0.17\n",
      "fe                  \t      0.63\t|\tnot                 \t     -0.19\n",
      "my                  \t      0.60\t|\tcan                 \t     -0.25\n",
      "could               \t      0.58\t|\tfrom                \t     -0.27\n",
      "been                \t      0.58\t|\tbut                 \t     -0.32\n",
      "flat                \t      0.56\t|\tsun                 \t     -0.34\n",
      "one                 \t      0.41\t|\tsee                 \t     -0.38\n",
      "even                \t      0.40\t|\tyou                 \t     -0.41\n",
      "have                \t      0.36\t|\twhich               \t     -0.42\n",
      "would               \t      0.36\t|\twe                  \t     -0.50\n",
      "i                   \t      0.35\t|\t-                   \t     -0.51\n",
      "all                 \t      0.32\t|\tdoes                \t     -0.51\n",
      "as                  \t      0.31\t|\t's                  \t     -0.60\n",
      "think               \t      0.28\t|\tat                  \t     -0.63\n",
      "this                \t      0.27\t|\t:                   \t     -0.71\n",
      "-------------------------------------------------------------------------------------\n",
      "6\n",
      "-------------------------------------------------------------------------------------\n",
      "other               \t      0.79\t|\tor                  \t     -0.06\n",
      "moon                \t      0.67\t|\tthat                \t     -0.06\n",
      "my                  \t      0.60\t|\tn't                 \t     -0.06\n",
      "sun                 \t      0.49\t|\t\"                   \t     -0.07\n",
      "all                 \t      0.46\t|\tif                  \t     -0.07\n",
      ")                   \t      0.45\t|\tyou                 \t     -0.09\n",
      "can                 \t      0.44\t|\twith                \t     -0.14\n",
      "?                   \t      0.42\t|\tis                  \t     -0.14\n",
      "they                \t      0.41\t|\ton                  \t     -0.15\n",
      "this                \t      0.41\t|\tfrom                \t     -0.16\n",
      "see                 \t      0.36\t|\ta                   \t     -0.18\n",
      "i                   \t      0.32\t|\tthere               \t     -0.21\n",
      "how                 \t      0.31\t|\t-                   \t     -0.21\n",
      "as                  \t      0.29\t|\tyour                \t     -0.23\n",
      ":                   \t      0.27\t|\t.                   \t     -0.25\n",
      "but                 \t      0.26\t|\twhat                \t     -0.26\n",
      "(                   \t      0.25\t|\tat                  \t     -0.34\n",
      "not                 \t      0.24\t|\tbe                  \t     -0.36\n",
      "so                  \t      0.22\t|\twe                  \t     -0.44\n",
      ",                   \t      0.21\t|\t's                  \t     -0.45\n",
      "-------------------------------------------------------------------------------------\n"
     ]
    },
    {
     "name": "stdout",
     "output_type": "stream",
     "text": [
      "7\n",
      "-------------------------------------------------------------------------------------\n",
      "'                   \t      1.57\t|\tif                  \t      0.26\n",
      "flat                \t      0.96\t|\tn't                 \t      0.25\n",
      "i                   \t      0.92\t|\tbe                  \t      0.20\n",
      ":                   \t      0.83\t|\tyou                 \t      0.18\n",
      "we                  \t      0.80\t|\t.                   \t      0.16\n",
      "?                   \t      0.70\t|\tnot                 \t      0.15\n",
      "but                 \t      0.68\t|\tat                  \t      0.14\n",
      "what                \t      0.67\t|\tin                  \t      0.10\n",
      "as                  \t      0.50\t|\tit                  \t      0.07\n",
      "do                  \t      0.45\t|\tfor                 \t     -0.01\n",
      "have                \t      0.43\t|\tthis                \t     -0.01\n",
      "earth               \t      0.40\t|\tto                  \t     -0.03\n",
      "or                  \t      0.36\t|\tand                 \t     -0.09\n",
      "can                 \t      0.32\t|\tthat                \t     -0.12\n",
      "if                  \t      0.26\t|\t,                   \t     -0.14\n",
      "n't                 \t      0.25\t|\tis                  \t     -0.17\n",
      "be                  \t      0.20\t|\tare                 \t     -0.23\n",
      "you                 \t      0.18\t|\ta                   \t     -0.35\n",
      ".                   \t      0.16\t|\tof                  \t     -0.35\n",
      "not                 \t      0.15\t|\tthe                 \t     -0.78\n",
      "-------------------------------------------------------------------------------------\n",
      "Wall time: 6.52 s\n"
     ]
    }
   ],
   "source": [
    "%%time\n",
    "get_cluster_keywords(user_toks, clusters)"
   ]
  }
 ],
 "metadata": {
  "kernelspec": {
   "display_name": "thesis_fe_code",
   "language": "python",
   "name": "thesis_fe_code"
  },
  "language_info": {
   "codemirror_mode": {
    "name": "ipython",
    "version": 3
   },
   "file_extension": ".py",
   "mimetype": "text/x-python",
   "name": "python",
   "nbconvert_exporter": "python",
   "pygments_lexer": "ipython3",
   "version": "3.8.3rc1"
  }
 },
 "nbformat": 4,
 "nbformat_minor": 4
}
