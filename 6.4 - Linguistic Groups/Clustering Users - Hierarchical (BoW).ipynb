{
 "cells": [
  {
   "cell_type": "code",
   "execution_count": 1,
   "metadata": {},
   "outputs": [],
   "source": [
    "%matplotlib inline\n",
    "\n",
    "import pandas as pd\n",
    "import numpy as np\n",
    "import matplotlib.pyplot as plt\n",
    "import matplotlib.cm as cm\n",
    "import seaborn as sns\n",
    "import sys\n",
    "import os\n",
    "import json\n",
    "import itertools\n",
    "import umap\n",
    "from colour import Color\n",
    "from collections import Counter\n",
    "sys.path.insert(1, \"../\")\n",
    "sys.path.insert(1, \"../utilities\")\n",
    "\n",
    "from group_analysis import do_kmeans_clustering, plot_clusters, log_and_scale, colour_list, display_group_kw_combis\n",
    "from helpers import load_posts, load_toks, load_pos, get_top_n_toks\n",
    "from clustering import reduce_features, make_elbow_plot, compare_binary_normed_feature_embeddings, mc_list, plot_bin_and_norm_clusters, plot_contingency_matrix, calculate_cluster_lrs\n",
    "\n",
    "from language_change_methods.features import get_tok_counts, function_words, combine_counts, make_feature_matrix\n",
    "from language_change_methods.utility_functions import basic_preprocessing, get_ngram_example, get_text_example_of_pos, make_ngram_concordance, make_pos_concordance\n",
    "\n",
    "from sklearn.cluster import KMeans, SpectralClustering, MeanShift, estimate_bandwidth, AgglomerativeClustering\n",
    "from sklearn.preprocessing import MinMaxScaler, StandardScaler\n",
    "from sklearn.pipeline import Pipeline\n",
    "from sklearn.model_selection import cross_val_predict\n",
    "from sklearn import metrics\n",
    "\n",
    "from nltk import ngrams as make_ngrams\n",
    "\n",
    "from settings import TFES_FP as DB_FP, TFES_TOK_FP\n",
    "GRAPH_DIR = \"./Graphs\""
   ]
  },
  {
   "cell_type": "code",
   "execution_count": 2,
   "metadata": {},
   "outputs": [],
   "source": [
    "%load_ext autoreload\n",
    "%autoreload 2"
   ]
  },
  {
   "cell_type": "code",
   "execution_count": 3,
   "metadata": {},
   "outputs": [
    {
     "name": "stdout",
     "output_type": "stream",
     "text": [
      "Wall time: 32.9 s\n"
     ]
    }
   ],
   "source": [
    "%%time\n",
    "all_posts = load_posts(DB_FP)\n",
    "\n",
    "from helpers import flat_earth_boards, off_topic_boards as other_boards\n",
    "\n",
    "fe_posts = all_posts.query(\"board_id in @flat_earth_boards\")\n",
    "ot_posts = all_posts.query(\"board_id in @other_boards\")\n",
    "\n",
    "toks = {int(x[0]): x[1] for x in load_toks(TFES_TOK_FP)}\n",
    "toks = pd.Series(toks)\n",
    "toks = toks[toks.index.isin(fe_posts.index)]\n",
    "\n",
    "pos = {int(x[0]): x[1] for x in load_pos(TFES_TOK_FP)}\n",
    "pos = pd.Series(pos)\n",
    "pos = pos[pos.index.isin(fe_posts.index)]\n",
    "pos = pos.loc[toks.index]\n",
    "\n",
    "fe_posts = fe_posts.loc[toks.index]"
   ]
  },
  {
   "cell_type": "code",
   "execution_count": 4,
   "metadata": {},
   "outputs": [],
   "source": [
    "with open(\"../data/user_metagroup.json\") as group_file:\n",
    "    meta_clusts = pd.Series(json.load(group_file))\n",
    "    meta_clusts.index = meta_clusts.index.astype(\"float64\")"
   ]
  },
  {
   "cell_type": "code",
   "execution_count": 5,
   "metadata": {},
   "outputs": [],
   "source": [
    "# USERS_TO_INCLUDE = \"100POSTS\"\n",
    "USERS_TO_INCLUDE = \"TOP20\""
   ]
  },
  {
   "cell_type": "code",
   "execution_count": 6,
   "metadata": {},
   "outputs": [
    {
     "name": "stdout",
     "output_type": "stream",
     "text": [
      "101 with > 100 posts\n",
      "20 in the top 20\n"
     ]
    }
   ],
   "source": [
    "post_lengths = toks.apply(len)\n",
    "user_n_words = post_lengths.groupby(fe_posts[\"poster_id\"]).sum()\n",
    "posts_per_user = fe_posts.groupby(\"poster_id\").size()\n",
    "\n",
    "over_100 = posts_per_user[posts_per_user > 100]\n",
    "print(f\"{len(over_100)} with > 100 posts\")\n",
    "\n",
    "top_20 = posts_per_user.sort_values(ascending=False).head(20)\n",
    "print(f\"{len(top_20)} in the top 20\")\n",
    "\n",
    "if USERS_TO_INCLUDE == \"100POSTS\":\n",
    "    curr_users = over_100\n",
    "elif USERS_TO_INCLUDE == \"TOP20\":\n",
    "    curr_users = top_20\n",
    "    \n",
    "user_n_words = user_n_words.loc[curr_users.index]\n",
    "posts_per_user = posts_per_user.loc[curr_users.index]\n",
    "\n",
    "curr_posts = fe_posts.query(\"poster_id in @curr_users.index\")\n",
    "\n",
    "# Get colour gradient\n",
    "colour_gradient = list(Color(\"red\").range_to(Color(\"blue\"),len(curr_users)))\n",
    "colour_gradient = pd.Series(colour_gradient, index=curr_users.sort_values(ascending=True).index)\n",
    "colour_gradient = colour_gradient.loc[curr_users.index].apply(str)"
   ]
  },
  {
   "cell_type": "markdown",
   "metadata": {},
   "source": [
    "# Create the user text chunks"
   ]
  },
  {
   "cell_type": "code",
   "execution_count": 7,
   "metadata": {},
   "outputs": [],
   "source": [
    "merge_lists = lambda x: list(itertools.chain.from_iterable(x))\n",
    "\n",
    "def get_chunks(u, tokens, chunk_size):\n",
    "    for i in range(0, len(tokens)-chunk_size, chunk_size):\n",
    "        yield u, tokens[i:i+chunk_size]"
   ]
  },
  {
   "cell_type": "code",
   "execution_count": 8,
   "metadata": {},
   "outputs": [],
   "source": [
    "def make_tok_chonks(tokens, chunk_size):\n",
    "    user_chunks = [[[user, chunk] for user, chunk in get_chunks(user, curr_toks, chunk_size)] for user, curr_toks in tokens.items()]\n",
    "    user_chunks = merge_lists(user_chunks)\n",
    "    user_chunks = pd.DataFrame(user_chunks, columns=[\"User\", \"Chunk\"])\n",
    "    return user_chunks"
   ]
  },
  {
   "cell_type": "code",
   "execution_count": 9,
   "metadata": {},
   "outputs": [],
   "source": [
    "CHUNK_SIZE = 1000"
   ]
  },
  {
   "cell_type": "code",
   "execution_count": 10,
   "metadata": {},
   "outputs": [
    {
     "name": "stdout",
     "output_type": "stream",
     "text": [
      "Wall time: 410 ms\n"
     ]
    }
   ],
   "source": [
    "%%time\n",
    "user_toks = toks.groupby(curr_posts[\"poster_id\"]).apply(merge_lists)\n",
    "user_chunks = make_tok_chonks(user_toks, CHUNK_SIZE)"
   ]
  },
  {
   "cell_type": "code",
   "execution_count": 11,
   "metadata": {},
   "outputs": [
    {
     "name": "stdout",
     "output_type": "stream",
     "text": [
      "Wall time: 445 ms\n"
     ]
    }
   ],
   "source": [
    "%%time\n",
    "user_pos = pos.groupby(curr_posts[\"poster_id\"]).apply(merge_lists)\n",
    "user_pos_chunks = make_tok_chonks(user_pos, CHUNK_SIZE)"
   ]
  },
  {
   "cell_type": "markdown",
   "metadata": {},
   "source": [
    "# Create the Different Feature Counts"
   ]
  },
  {
   "cell_type": "markdown",
   "metadata": {},
   "source": [
    "#### BOW"
   ]
  },
  {
   "cell_type": "code",
   "execution_count": 12,
   "metadata": {},
   "outputs": [
    {
     "name": "stdout",
     "output_type": "stream",
     "text": [
      "Wall time: 13.6 s\n"
     ]
    }
   ],
   "source": [
    "%%time\n",
    "# Get the counts\n",
    "bow_counts = {i: get_tok_counts(post) for i, post in user_toks.items()}\n",
    "bow_counts = {i: {tok: count for tok, count in post.items() if tok not in function_words} for i, post in bow_counts.items()}\n",
    "top_n = get_top_n_toks(bow_counts.values(), 10000)\n",
    "bow_counts = {i: {tok: count for tok, count in post.items() if tok in top_n} for i, post in bow_counts.items()}\n",
    "bow_counts = pd.Series(bow_counts)"
   ]
  },
  {
   "cell_type": "markdown",
   "metadata": {},
   "source": [
    "#### Tfidf bow counts"
   ]
  },
  {
   "cell_type": "code",
   "execution_count": 13,
   "metadata": {},
   "outputs": [
    {
     "name": "stdout",
     "output_type": "stream",
     "text": [
      "Wall time: 586 ms\n"
     ]
    }
   ],
   "source": [
    "%%time\n",
    "# Credit for this cell: http://www.davidsbatista.net/blog/2018/02/28/TfidfVectorizer/\n",
    "from sklearn.feature_extraction.text import TfidfVectorizer\n",
    "# If you had counts instead of tokens, you'd use \"TfidfTransformer\"\n",
    "\n",
    "def dummy_fun(doc):\n",
    "    return doc\n",
    "\n",
    "tfidf = TfidfVectorizer(\n",
    "    analyzer='word',\n",
    "    tokenizer=dummy_fun,\n",
    "    preprocessor=dummy_fun,\n",
    "    token_pattern=None)  \n",
    "\n",
    "\n",
    "tfidf_matrix = tfidf.fit_transform(user_toks)"
   ]
  },
  {
   "cell_type": "code",
   "execution_count": 14,
   "metadata": {},
   "outputs": [],
   "source": [
    "tfidf_feats = tfidf_matrix[:, np.isin(tfidf.get_feature_names(), top_n)].todense()"
   ]
  },
  {
   "cell_type": "markdown",
   "metadata": {},
   "source": [
    "#### PoS Trigrams"
   ]
  },
  {
   "cell_type": "code",
   "execution_count": 15,
   "metadata": {},
   "outputs": [],
   "source": [
    "pos_trigrams = pd.Series([make_ngrams(post, 3) for post in user_pos], index=user_pos.index)\n",
    "pos_trigrams = pos_trigrams.apply(lambda post: [\"_\".join(words) for words in post])"
   ]
  },
  {
   "cell_type": "code",
   "execution_count": 16,
   "metadata": {},
   "outputs": [],
   "source": [
    "top_n = [x[0] for x in Counter(merge_lists(pos_trigrams)).most_common(1000)]\n",
    "pos_tri_counts = pos_trigrams.apply(Counter).apply(lambda dic: {w: c for w, c in dic.items() if w in top_n})\n",
    "pos_tri_counts = pd.Series(pos_tri_counts)"
   ]
  },
  {
   "cell_type": "code",
   "execution_count": 17,
   "metadata": {},
   "outputs": [],
   "source": [
    "# pos_tri_chunks = pd.DataFrame(index=user_pos_chunks.index)\n",
    "# pos_tri_chunks[\"User\"] = user_pos_chunks[\"User\"]\n",
    "# pos_tri_chunks[\"Chunk\"] = pos_trigrams"
   ]
  },
  {
   "cell_type": "markdown",
   "metadata": {},
   "source": [
    "# Create the Feature Matrix"
   ]
  },
  {
   "cell_type": "code",
   "execution_count": 18,
   "metadata": {},
   "outputs": [
    {
     "name": "stdout",
     "output_type": "stream",
     "text": [
      "Wall time: 28 ms\n"
     ]
    }
   ],
   "source": [
    "%%time\n",
    "# Initialise feats to None\n",
    "bin_feats = None\n",
    "norm_feats = None\n",
    "\n",
    "# Make the feature matrix\n",
    "curr_feat_type = \"tfidf\"\n",
    "SCALE = True\n",
    "APPLY_PCA = True\n",
    "\n",
    "if curr_feat_type == \"pos_tri\":\n",
    "    curr_counts = pos_tri_counts\n",
    "    curr_toks = pos_trigrams\n",
    "elif curr_feat_type == \"bow\":\n",
    "    curr_counts = bow_counts\n",
    "    curr_toks = user_toks\n",
    "elif curr_feat_type == \"tfidf\":\n",
    "    curr_counts = bow_counts\n",
    "    curr_toks = user_toks\n",
    "    bin_feats = np.vectorize(lambda x: 1 if x > 0 else 0)(tfidf_feats)\n",
    "    norm_feats = tfidf_feats\n",
    "    \n",
    "if bin_feats is None:\n",
    "    curr_feats, curr_feat_names = make_feature_matrix(curr_counts.to_dict(), False)\n",
    "    bin_feats = np.vectorize(lambda x: 1 if x > 0 else 0)(curr_feats)\n",
    "    norm_feats = curr_feats / user_toks.apply(len).values[:,None]"
   ]
  },
  {
   "cell_type": "markdown",
   "metadata": {},
   "source": [
    "#### Scaling"
   ]
  },
  {
   "cell_type": "code",
   "execution_count": 19,
   "metadata": {},
   "outputs": [],
   "source": [
    "if SCALE:\n",
    "    norm_feats = StandardScaler().fit_transform(norm_feats)"
   ]
  },
  {
   "cell_type": "markdown",
   "metadata": {},
   "source": [
    "#### PCA reduction"
   ]
  },
  {
   "cell_type": "code",
   "execution_count": 20,
   "metadata": {},
   "outputs": [
    {
     "name": "stdout",
     "output_type": "stream",
     "text": [
      "Wall time: 21 ms\n"
     ]
    }
   ],
   "source": [
    "%%time\n",
    "from sklearn.decomposition import PCA\n",
    "pca = PCA(.95)\n",
    "\n",
    "if APPLY_PCA:\n",
    "    norm_feats = pca.fit_transform(norm_feats)"
   ]
  },
  {
   "cell_type": "code",
   "execution_count": 21,
   "metadata": {},
   "outputs": [
    {
     "name": "stdout",
     "output_type": "stream",
     "text": [
      "18 components\n"
     ]
    }
   ],
   "source": [
    "print(f\"{norm_feats.shape[1]} components\")"
   ]
  },
  {
   "cell_type": "markdown",
   "metadata": {},
   "source": [
    "#### Make 2d embeddings"
   ]
  },
  {
   "cell_type": "code",
   "execution_count": 22,
   "metadata": {},
   "outputs": [
    {
     "name": "stdout",
     "output_type": "stream",
     "text": [
      "Wall time: 4.98 s\n"
     ]
    }
   ],
   "source": [
    "%%time\n",
    "norm_embedding = reduce_features(norm_feats)"
   ]
  },
  {
   "cell_type": "code",
   "execution_count": 23,
   "metadata": {},
   "outputs": [
    {
     "data": {
      "image/png": "[encoded data removed]",
      "text/plain": [
       "<Figure size 576x576 with 1 Axes>"
      ]
     },
     "metadata": {
      "needs_background": "light"
     },
     "output_type": "display_data"
    }
   ],
   "source": [
    "fig, ax = plt.subplots(figsize=(8,8))\n",
    "ax.scatter(norm_feats[:,0], norm_feats[:,1])\n",
    "plt.show()"
   ]
  },
  {
   "cell_type": "markdown",
   "metadata": {},
   "source": [
    "# Do the Clustering"
   ]
  },
  {
   "cell_type": "code",
   "execution_count": 24,
   "metadata": {},
   "outputs": [],
   "source": [
    "from scipy.cluster.hierarchy import dendrogram, linkage\n",
    "from scipy.cluster.hierarchy import cophenet\n",
    "from scipy.spatial.distance import pdist\n",
    "from scipy.spatial.distance import cosine as cosine_dist\n",
    "from sklearn.cluster import AgglomerativeClustering"
   ]
  },
  {
   "cell_type": "code",
   "execution_count": 25,
   "metadata": {},
   "outputs": [],
   "source": [
    "def plot_hc(feats, labels, out_fp=None):\n",
    "    # Perform the Hierarchical Clustering\n",
    "    d_list = linkage(feats, 'average', metric=\"cosine\")\n",
    "\n",
    "    # Calculate the Cophenetic Correlation Coefficient\n",
    "    c, coph_dists = cophenet(d_list, pdist(feats))\n",
    "    print(\"Cophenetic Correlation Coefficient: {}\".format(c))\n",
    "\n",
    "    # Do the actual plotting.\n",
    "    fig, ax = plt.subplots(figsize=(12,3))\n",
    "    \n",
    "    dendrogram(\n",
    "        d_list,\n",
    "        leaf_rotation=0,  # rotates the x axis labels\n",
    "        leaf_font_size=14,  # font size for the x axis labels\n",
    "        labels = labels, \n",
    "        ax=ax,\n",
    "        color_threshold=0\n",
    "    )\n",
    "    plt.setp(ax.get_xticklabels(), fontsize=14)\n",
    "    plt.setp(ax.get_yticklabels(), fontsize=14)\n",
    "    ax.set_xlabel(\"Users\", fontsize=14)\n",
    "    ax.set_ylabel(\"Cosine Distance\", fontsize=14)\n",
    "    ax.grid()\n",
    "    \n",
    "    plt.tight_layout()\n",
    "    if out_fp is not None:\n",
    "        fig.savefig(out_fp)"
   ]
  },
  {
   "cell_type": "code",
   "execution_count": 26,
   "metadata": {},
   "outputs": [
    {
     "name": "stdout",
     "output_type": "stream",
     "text": [
      "Cophenetic Correlation Coefficient: 0.45831734303354954\n"
     ]
    },
    {
     "data": {
      "image/png": "[encoded data removed]",
      "text/plain": [
       "<Figure size 864x216 with 1 Axes>"
      ]
     },
     "metadata": {
      "needs_background": "light"
     },
     "output_type": "display_data"
    }
   ],
   "source": [
    "plot_hc(norm_feats, user_toks.index.astype(int), out_fp=os.path.join(GRAPH_DIR, f\"dendrogram_{curr_feat_type}.pdf\"))"
   ]
  },
  {
   "cell_type": "code",
   "execution_count": 27,
   "metadata": {},
   "outputs": [
    {
     "name": "stdout",
     "output_type": "stream",
     "text": [
      "Average silhoette score for 2 clusters:\t 0.019419626525074833 \n",
      "\n",
      "Average silhoette score for 3 clusters:\t -0.001615928032706631 \n",
      "\n",
      "Average silhoette score for 4 clusters:\t -0.0014915130335512027 \n",
      "\n",
      "Average silhoette score for 5 clusters:\t 0.0007147963021828386 \n",
      "\n",
      "Average silhoette score for 6 clusters:\t 0.0098439483246455 \n",
      "\n",
      "Average silhoette score for 7 clusters:\t 0.01029434994843685 \n",
      "\n",
      "Average silhoette score for 8 clusters:\t -0.027690241817397866 \n",
      "\n",
      "Average silhoette score for 9 clusters:\t -0.022733270566524223 \n",
      "\n",
      "Wall time: 9.5 ms\n"
     ]
    }
   ],
   "source": [
    "%%time\n",
    "for i in range(2,10):\n",
    "    model = AgglomerativeClustering(n_clusters=i, affinity='cosine', linkage='average')  \n",
    "    clusters = model.fit_predict(norm_feats)\n",
    "    avg_silhouette_score = metrics.silhouette_score(norm_feats, clusters)\n",
    "    print(f\"Average silhoette score for {i} clusters:\\t\", avg_silhouette_score, \"\\n\")"
   ]
  },
  {
   "cell_type": "code",
   "execution_count": 28,
   "metadata": {},
   "outputs": [],
   "source": [
    "model = AgglomerativeClustering(n_clusters=2, affinity='cosine', linkage='average')  \n",
    "clusters = model.fit_predict(norm_feats)"
   ]
  },
  {
   "cell_type": "code",
   "execution_count": 29,
   "metadata": {},
   "outputs": [],
   "source": [
    "model = AgglomerativeClustering(n_clusters=None, distance_threshold=1, affinity='cosine', linkage='average')  \n",
    "clusters2 = model.fit_predict(norm_feats)"
   ]
  },
  {
   "cell_type": "code",
   "execution_count": 30,
   "metadata": {},
   "outputs": [
    {
     "name": "stdout",
     "output_type": "stream",
     "text": [
      "Average silhoette score for Normed:\t 0.019419626525074833 \n",
      "\n"
     ]
    }
   ],
   "source": [
    "avg_silhouette_score = metrics.silhouette_score(norm_feats, clusters)\n",
    "print(\"Average silhoette score for Normed:\\t\", avg_silhouette_score, \"\\n\")"
   ]
  },
  {
   "cell_type": "code",
   "execution_count": 31,
   "metadata": {},
   "outputs": [
    {
     "name": "stdout",
     "output_type": "stream",
     "text": [
      "0 [2.0, 16.0, 32.0, 38.0, 99.0, 464.0, 709.0, 775.0, 843.0, 1206.0, 1804.0]\n",
      "1 [62.0, 315.0, 376.0, 706.0, 1342.0, 1423.0, 1448.0, 1500.0, 1584.0]\n"
     ]
    }
   ],
   "source": [
    "for clust in set(clusters):\n",
    "    print(clust, list(user_toks[clusters==clust].index))"
   ]
  },
  {
   "cell_type": "code",
   "execution_count": 32,
   "metadata": {},
   "outputs": [
    {
     "name": "stdout",
     "output_type": "stream",
     "text": [
      "2.0,16.0,32.0,38.0,62.0,99.0,315.0,376.0,464.0,706.0,709.0,775.0,843.0,1206.0,1342.0,1423.0,1448.0,1500.0,1584.0,1804.0\n",
      "0,0,0,0,1,0,1,1,0,1,0,0,0,0,1,1,1,1,1,0\n"
     ]
    }
   ],
   "source": [
    "print(\",\".join(map(str, user_toks.index)))\n",
    "print(\",\".join(map(str, clusters)))"
   ]
  },
  {
   "cell_type": "code",
   "execution_count": 33,
   "metadata": {},
   "outputs": [
    {
     "name": "stdout",
     "output_type": "stream",
     "text": [
      "0,0,3\n",
      "1,0,5\n",
      "2,0,3\n",
      "3,0,0\n",
      "4,1,6\n",
      "5,0,7\n",
      "6,1,2\n",
      "7,1,2\n",
      "8,0,0\n",
      "9,1,2\n",
      "10,0,1\n",
      "11,0,0\n",
      "12,0,1\n",
      "13,0,0\n",
      "14,1,4\n",
      "15,1,6\n",
      "16,1,4\n",
      "17,1,8\n",
      "18,1,9\n",
      "19,0,3\n"
     ]
    }
   ],
   "source": [
    "for i, (c1, c2) in enumerate(zip(clusters, clusters2)):\n",
    "    print(i, c1, c2, sep=\",\")"
   ]
  },
  {
   "cell_type": "code",
   "execution_count": 34,
   "metadata": {},
   "outputs": [],
   "source": [
    "ling_clusts = {\"Cluster 0\": list(user_toks[clusters==0].index), \n",
    "               \"Cluster 1\": list(user_toks[clusters==1].index)}\n",
    "\n",
    "with open(os.path.join(GRAPH_DIR, f\"{curr_feat_type}_t20_clusts.json\"), \"w\") as out_file:\n",
    "    json.dump(ling_clusts, out_file)"
   ]
  },
  {
   "cell_type": "code",
   "execution_count": 35,
   "metadata": {},
   "outputs": [],
   "source": [
    "# # This was me just checking that SKLearn produced the same clusters as SciPy.\n",
    "# from scipy.cluster.hierarchy import fclusterdata\n",
    "# clusters = fclusterdata(norm_feats, t=2, criterion=\"maxclust\", metric=\"cosine\", method=\"average\")\n",
    "# # clusters = fclusterdata(norm_feats, t=1, criterion=\"distance\", metric=\"cosine\", method=\"average\")\n",
    "\n",
    "# clusters = clusters - 1\n",
    "# for clust in set(clusters):\n",
    "#     print(clust, list(user_toks[clusters==clust].index))"
   ]
  },
  {
   "cell_type": "code",
   "execution_count": 36,
   "metadata": {},
   "outputs": [
    {
     "data": {
      "image/png": "[encoded data removed]",
      "text/plain": [
       "<Figure size 576x576 with 1 Axes>"
      ]
     },
     "metadata": {
      "needs_background": "light"
     },
     "output_type": "display_data"
    }
   ],
   "source": [
    "fig, ax = plt.subplots(figsize=(8,8))\n",
    "for c in set(clusters):\n",
    "    ax.scatter(norm_feats[clusters==c,0], norm_feats[clusters==c,1], label=c)\n",
    "ax.grid()\n",
    "ax.legend()\n",
    "plt.show()"
   ]
  },
  {
   "cell_type": "markdown",
   "metadata": {},
   "source": [
    "# Analyse Spread Across Users"
   ]
  },
  {
   "cell_type": "code",
   "execution_count": 37,
   "metadata": {},
   "outputs": [
    {
     "data": {
      "text/plain": [
       "Float64Index([2.0, 16.0, 32.0, 38.0, 99.0, 464.0, 709.0, 775.0, 843.0, 1206.0,\n",
       "              1804.0],\n",
       "             dtype='float64', name='poster_id')"
      ]
     },
     "execution_count": 37,
     "metadata": {},
     "output_type": "execute_result"
    }
   ],
   "source": [
    "user_toks.index[clusters==0]"
   ]
  },
  {
   "cell_type": "code",
   "execution_count": 38,
   "metadata": {},
   "outputs": [
    {
     "data": {
      "text/plain": [
       "Float64Index([62.0, 315.0, 376.0, 706.0, 1342.0, 1423.0, 1448.0, 1500.0,\n",
       "              1584.0],\n",
       "             dtype='float64', name='poster_id')"
      ]
     },
     "execution_count": 38,
     "metadata": {},
     "output_type": "execute_result"
    }
   ],
   "source": [
    "user_toks.index[clusters==1]"
   ]
  },
  {
   "cell_type": "code",
   "execution_count": 39,
   "metadata": {},
   "outputs": [],
   "source": [
    "contingency = pd.crosstab(user_toks.index.values, [clusters], rownames=[\"User\"], colnames=[\"Cluster\"])"
   ]
  },
  {
   "cell_type": "code",
   "execution_count": 40,
   "metadata": {},
   "outputs": [
    {
     "data": {
      "image/png": "[encoded data removed]",
      "text/plain": [
       "<Figure size 576x432 with 2 Axes>"
      ]
     },
     "metadata": {
      "needs_background": "light"
     },
     "output_type": "display_data"
    }
   ],
   "source": [
    "fig, ax = plt.subplots(figsize=(8,6))\n",
    "sns.heatmap(contingency.loc[top_20.index], annot=True, ax=ax, fmt='g', cmap=\"Greens\")\n",
    "# fig.savefig(os.path.join(GRAPH_DIR, f\"chunk_contingency_2_{curr_feat_type}.pdf\"))\n",
    "plt.show()"
   ]
  },
  {
   "cell_type": "code",
   "execution_count": 41,
   "metadata": {},
   "outputs": [
    {
     "name": "stdout",
     "output_type": "stream",
     "text": [
      "0 [2.0, 16.0, 32.0, 38.0, 99.0, 464.0, 709.0, 775.0, 843.0, 1206.0, 1804.0]\n",
      "1 [62.0, 315.0, 376.0, 706.0, 1342.0, 1423.0, 1448.0, 1500.0, 1584.0]\n"
     ]
    }
   ],
   "source": [
    "for clust in set(clusters):\n",
    "    print(clust, list(user_toks[clusters==clust].index))"
   ]
  },
  {
   "cell_type": "code",
   "execution_count": 42,
   "metadata": {},
   "outputs": [
    {
     "data": {
      "text/plain": [
       "User\n",
       "2.0       0\n",
       "16.0      0\n",
       "32.0      0\n",
       "38.0      0\n",
       "62.0      1\n",
       "99.0      0\n",
       "315.0     1\n",
       "376.0     1\n",
       "464.0     0\n",
       "706.0     1\n",
       "709.0     0\n",
       "775.0     0\n",
       "843.0     0\n",
       "1206.0    0\n",
       "1342.0    1\n",
       "1423.0    1\n",
       "1448.0    1\n",
       "1500.0    1\n",
       "1584.0    1\n",
       "1804.0    0\n",
       "dtype: int64"
      ]
     },
     "execution_count": 42,
     "metadata": {},
     "output_type": "execute_result"
    }
   ],
   "source": [
    "contingency.idxmax(axis=1)"
   ]
  },
  {
   "cell_type": "code",
   "execution_count": 43,
   "metadata": {},
   "outputs": [
    {
     "data": {
      "text/plain": [
       "1733.090909090909"
      ]
     },
     "execution_count": 43,
     "metadata": {},
     "output_type": "execute_result"
    }
   ],
   "source": [
    "posts_per_user.loc[user_toks[clusters==0].index].mean()"
   ]
  },
  {
   "cell_type": "code",
   "execution_count": 44,
   "metadata": {},
   "outputs": [
    {
     "data": {
      "text/plain": [
       "1095.3333333333333"
      ]
     },
     "execution_count": 44,
     "metadata": {},
     "output_type": "execute_result"
    }
   ],
   "source": [
    "posts_per_user.loc[user_toks[clusters==1].index].mean()"
   ]
  },
  {
   "cell_type": "code",
   "execution_count": 45,
   "metadata": {},
   "outputs": [
    {
     "data": {
      "text/plain": [
       "149766.63636363635"
      ]
     },
     "execution_count": 45,
     "metadata": {},
     "output_type": "execute_result"
    }
   ],
   "source": [
    "user_toks.apply(len)[clusters==0].mean()"
   ]
  },
  {
   "cell_type": "code",
   "execution_count": 46,
   "metadata": {},
   "outputs": [
    {
     "data": {
      "text/plain": [
       "143174.77777777778"
      ]
     },
     "execution_count": 46,
     "metadata": {},
     "output_type": "execute_result"
    }
   ],
   "source": [
    "user_toks.apply(len)[clusters==1].mean()"
   ]
  },
  {
   "cell_type": "code",
   "execution_count": 47,
   "metadata": {},
   "outputs": [],
   "source": [
    "FE_belief = {38: 'FE', \n",
    "             2: 'FE', \n",
    "             1206: 'RE', \n",
    "             1342: 'RE', \n",
    "             1804: 'FE', \n",
    "             32: 'UNK', \n",
    "             315: 'RE', \n",
    "             775: 'RE', \n",
    "             1584: 'RE', \n",
    "             16: 'RE', \n",
    "             1448: 'RE', \n",
    "             62: 'RE', \n",
    "             1500: 'UNK', \n",
    "             706: 'RE', \n",
    "             1423: 'FE', \n",
    "             709: 'RE', \n",
    "             843: 'RE', \n",
    "             376: 'RE', \n",
    "             464: 'RE', \n",
    "             99: 'RE'}\n",
    "\n",
    "FE_belief = pd.Series(FE_belief)\n",
    "FE_belief = FE_belief.loc[user_toks.index]"
   ]
  },
  {
   "cell_type": "code",
   "execution_count": 48,
   "metadata": {},
   "outputs": [
    {
     "data": {
      "text/plain": [
       "poster_id\n",
       "2.0        FE\n",
       "16.0       RE\n",
       "32.0      UNK\n",
       "38.0       FE\n",
       "62.0       RE\n",
       "99.0       RE\n",
       "315.0      RE\n",
       "376.0      RE\n",
       "464.0      RE\n",
       "706.0      RE\n",
       "709.0      RE\n",
       "775.0      RE\n",
       "843.0      RE\n",
       "1206.0     RE\n",
       "1342.0     RE\n",
       "1423.0     FE\n",
       "1448.0     RE\n",
       "1500.0    UNK\n",
       "1584.0     RE\n",
       "1804.0     FE\n",
       "dtype: object"
      ]
     },
     "execution_count": 48,
     "metadata": {},
     "output_type": "execute_result"
    }
   ],
   "source": [
    "FE_belief"
   ]
  },
  {
   "cell_type": "code",
   "execution_count": 49,
   "metadata": {},
   "outputs": [
    {
     "name": "stdout",
     "output_type": "stream",
     "text": [
      "2.0,16.0,32.0,38.0,62.0,99.0,315.0,376.0,464.0,706.0,709.0,775.0,843.0,1206.0,1342.0,1423.0,1448.0,1500.0,1584.0,1804.0\n",
      "FE,RE,UNK,FE,RE,RE,RE,RE,RE,RE,RE,RE,RE,RE,RE,FE,RE,UNK,RE,FE\n"
     ]
    }
   ],
   "source": [
    "print(\",\".join(map(str, FE_belief.loc[user_toks.index.isin(FE_belief.index)].index)))\n",
    "print(\",\".join(map(str, FE_belief.loc[user_toks.index.isin(FE_belief.index)])))"
   ]
  },
  {
   "cell_type": "code",
   "execution_count": 50,
   "metadata": {},
   "outputs": [
    {
     "data": {
      "text/plain": [
       "poster_id\n",
       "2.0        FE\n",
       "16.0       RE\n",
       "32.0      UNK\n",
       "38.0       FE\n",
       "99.0       RE\n",
       "464.0      RE\n",
       "709.0      RE\n",
       "775.0      RE\n",
       "843.0      RE\n",
       "1206.0     RE\n",
       "1804.0     FE\n",
       "dtype: object"
      ]
     },
     "execution_count": 50,
     "metadata": {},
     "output_type": "execute_result"
    }
   ],
   "source": [
    "FE_belief[clusters==0]"
   ]
  },
  {
   "cell_type": "code",
   "execution_count": 51,
   "metadata": {},
   "outputs": [
    {
     "data": {
      "text/plain": [
       "poster_id\n",
       "62.0       RE\n",
       "315.0      RE\n",
       "376.0      RE\n",
       "706.0      RE\n",
       "1342.0     RE\n",
       "1423.0     FE\n",
       "1448.0     RE\n",
       "1500.0    UNK\n",
       "1584.0     RE\n",
       "dtype: object"
      ]
     },
     "execution_count": 51,
     "metadata": {},
     "output_type": "execute_result"
    }
   ],
   "source": [
    "FE_belief[clusters==1]"
   ]
  },
  {
   "cell_type": "markdown",
   "metadata": {},
   "source": [
    "#### Making little table showing clusters and belief"
   ]
  },
  {
   "cell_type": "code",
   "execution_count": 52,
   "metadata": {},
   "outputs": [],
   "source": [
    "contingency = pd.crosstab(user_toks.index.values, [clusters], rownames=[\"User\"], colnames=[\"Cluster\"])"
   ]
  },
  {
   "cell_type": "code",
   "execution_count": 53,
   "metadata": {},
   "outputs": [
    {
     "data": {
      "text/plain": [
       "array([0, 0, 0, 0, 1, 0, 1, 1, 0, 1, 0, 0, 0, 0, 1, 1, 1, 1, 1, 0],\n",
       "      dtype=int64)"
      ]
     },
     "execution_count": 53,
     "metadata": {},
     "output_type": "execute_result"
    }
   ],
   "source": [
    "clusters"
   ]
  },
  {
   "cell_type": "code",
   "execution_count": 54,
   "metadata": {},
   "outputs": [
    {
     "data": {
      "text/plain": [
       "array([3, 5, 3, 0, 6, 7, 2, 2, 0, 2, 1, 0, 1, 0, 4, 6, 4, 8, 9, 3],\n",
       "      dtype=int64)"
      ]
     },
     "execution_count": 54,
     "metadata": {},
     "output_type": "execute_result"
    }
   ],
   "source": [
    "clusters2"
   ]
  },
  {
   "cell_type": "code",
   "execution_count": 55,
   "metadata": {},
   "outputs": [],
   "source": [
    "clust_belief_table = pd.DataFrame(index=user_toks.index)\n",
    "clust_belief_table[\"Cluster\"] = clusters\n",
    "clust_belief_table[\"Cluster 2\"] = clusters2\n",
    "clust_belief_table[\"Belief\"] = FE_belief.loc[clust_belief_table.index]"
   ]
  },
  {
   "cell_type": "code",
   "execution_count": 56,
   "metadata": {},
   "outputs": [
    {
     "data": {
      "text/html": [
       "<div>\n",
       "<style scoped>\n",
       "    .dataframe tbody tr th:only-of-type {\n",
       "        vertical-align: middle;\n",
       "    }\n",
       "\n",
       "    .dataframe tbody tr th {\n",
       "        vertical-align: top;\n",
       "    }\n",
       "\n",
       "    .dataframe thead th {\n",
       "        text-align: right;\n",
       "    }\n",
       "</style>\n",
       "<table border=\"1\" class=\"dataframe\">\n",
       "  <thead>\n",
       "    <tr style=\"text-align: right;\">\n",
       "      <th></th>\n",
       "      <th>Cluster</th>\n",
       "      <th>Cluster 2</th>\n",
       "      <th>Belief</th>\n",
       "    </tr>\n",
       "    <tr>\n",
       "      <th>poster_id</th>\n",
       "      <th></th>\n",
       "      <th></th>\n",
       "      <th></th>\n",
       "    </tr>\n",
       "  </thead>\n",
       "  <tbody>\n",
       "    <tr>\n",
       "      <th>2.0</th>\n",
       "      <td>0</td>\n",
       "      <td>3</td>\n",
       "      <td>FE</td>\n",
       "    </tr>\n",
       "    <tr>\n",
       "      <th>1206.0</th>\n",
       "      <td>0</td>\n",
       "      <td>0</td>\n",
       "      <td>RE</td>\n",
       "    </tr>\n",
       "    <tr>\n",
       "      <th>843.0</th>\n",
       "      <td>0</td>\n",
       "      <td>1</td>\n",
       "      <td>RE</td>\n",
       "    </tr>\n",
       "    <tr>\n",
       "      <th>775.0</th>\n",
       "      <td>0</td>\n",
       "      <td>0</td>\n",
       "      <td>RE</td>\n",
       "    </tr>\n",
       "    <tr>\n",
       "      <th>709.0</th>\n",
       "      <td>0</td>\n",
       "      <td>1</td>\n",
       "      <td>RE</td>\n",
       "    </tr>\n",
       "    <tr>\n",
       "      <th>464.0</th>\n",
       "      <td>0</td>\n",
       "      <td>0</td>\n",
       "      <td>RE</td>\n",
       "    </tr>\n",
       "    <tr>\n",
       "      <th>1804.0</th>\n",
       "      <td>0</td>\n",
       "      <td>3</td>\n",
       "      <td>FE</td>\n",
       "    </tr>\n",
       "    <tr>\n",
       "      <th>99.0</th>\n",
       "      <td>0</td>\n",
       "      <td>7</td>\n",
       "      <td>RE</td>\n",
       "    </tr>\n",
       "    <tr>\n",
       "      <th>38.0</th>\n",
       "      <td>0</td>\n",
       "      <td>0</td>\n",
       "      <td>FE</td>\n",
       "    </tr>\n",
       "    <tr>\n",
       "      <th>32.0</th>\n",
       "      <td>0</td>\n",
       "      <td>3</td>\n",
       "      <td>UNK</td>\n",
       "    </tr>\n",
       "    <tr>\n",
       "      <th>16.0</th>\n",
       "      <td>0</td>\n",
       "      <td>5</td>\n",
       "      <td>RE</td>\n",
       "    </tr>\n",
       "    <tr>\n",
       "      <th>376.0</th>\n",
       "      <td>1</td>\n",
       "      <td>2</td>\n",
       "      <td>RE</td>\n",
       "    </tr>\n",
       "    <tr>\n",
       "      <th>1584.0</th>\n",
       "      <td>1</td>\n",
       "      <td>9</td>\n",
       "      <td>RE</td>\n",
       "    </tr>\n",
       "    <tr>\n",
       "      <th>62.0</th>\n",
       "      <td>1</td>\n",
       "      <td>6</td>\n",
       "      <td>RE</td>\n",
       "    </tr>\n",
       "    <tr>\n",
       "      <th>1342.0</th>\n",
       "      <td>1</td>\n",
       "      <td>4</td>\n",
       "      <td>RE</td>\n",
       "    </tr>\n",
       "    <tr>\n",
       "      <th>1423.0</th>\n",
       "      <td>1</td>\n",
       "      <td>6</td>\n",
       "      <td>FE</td>\n",
       "    </tr>\n",
       "    <tr>\n",
       "      <th>1448.0</th>\n",
       "      <td>1</td>\n",
       "      <td>4</td>\n",
       "      <td>RE</td>\n",
       "    </tr>\n",
       "    <tr>\n",
       "      <th>1500.0</th>\n",
       "      <td>1</td>\n",
       "      <td>8</td>\n",
       "      <td>UNK</td>\n",
       "    </tr>\n",
       "    <tr>\n",
       "      <th>315.0</th>\n",
       "      <td>1</td>\n",
       "      <td>2</td>\n",
       "      <td>RE</td>\n",
       "    </tr>\n",
       "    <tr>\n",
       "      <th>706.0</th>\n",
       "      <td>1</td>\n",
       "      <td>2</td>\n",
       "      <td>RE</td>\n",
       "    </tr>\n",
       "  </tbody>\n",
       "</table>\n",
       "</div>"
      ],
      "text/plain": [
       "           Cluster  Cluster 2 Belief\n",
       "poster_id                           \n",
       "2.0              0          3     FE\n",
       "1206.0           0          0     RE\n",
       "843.0            0          1     RE\n",
       "775.0            0          0     RE\n",
       "709.0            0          1     RE\n",
       "464.0            0          0     RE\n",
       "1804.0           0          3     FE\n",
       "99.0             0          7     RE\n",
       "38.0             0          0     FE\n",
       "32.0             0          3    UNK\n",
       "16.0             0          5     RE\n",
       "376.0            1          2     RE\n",
       "1584.0           1          9     RE\n",
       "62.0             1          6     RE\n",
       "1342.0           1          4     RE\n",
       "1423.0           1          6     FE\n",
       "1448.0           1          4     RE\n",
       "1500.0           1          8    UNK\n",
       "315.0            1          2     RE\n",
       "706.0            1          2     RE"
      ]
     },
     "execution_count": 56,
     "metadata": {},
     "output_type": "execute_result"
    }
   ],
   "source": [
    "clust_belief_table.sort_values(\"Cluster\")"
   ]
  },
  {
   "cell_type": "code",
   "execution_count": 57,
   "metadata": {},
   "outputs": [
    {
     "data": {
      "text/html": [
       "<div>\n",
       "<style scoped>\n",
       "    .dataframe tbody tr th:only-of-type {\n",
       "        vertical-align: middle;\n",
       "    }\n",
       "\n",
       "    .dataframe tbody tr th {\n",
       "        vertical-align: top;\n",
       "    }\n",
       "\n",
       "    .dataframe thead th {\n",
       "        text-align: right;\n",
       "    }\n",
       "</style>\n",
       "<table border=\"1\" class=\"dataframe\">\n",
       "  <thead>\n",
       "    <tr style=\"text-align: right;\">\n",
       "      <th></th>\n",
       "      <th>Cluster</th>\n",
       "      <th>Cluster 2</th>\n",
       "      <th>Belief</th>\n",
       "    </tr>\n",
       "    <tr>\n",
       "      <th>poster_id</th>\n",
       "      <th></th>\n",
       "      <th></th>\n",
       "      <th></th>\n",
       "    </tr>\n",
       "  </thead>\n",
       "  <tbody>\n",
       "    <tr>\n",
       "      <th>1206.0</th>\n",
       "      <td>0</td>\n",
       "      <td>0</td>\n",
       "      <td>RE</td>\n",
       "    </tr>\n",
       "    <tr>\n",
       "      <th>38.0</th>\n",
       "      <td>0</td>\n",
       "      <td>0</td>\n",
       "      <td>FE</td>\n",
       "    </tr>\n",
       "    <tr>\n",
       "      <th>775.0</th>\n",
       "      <td>0</td>\n",
       "      <td>0</td>\n",
       "      <td>RE</td>\n",
       "    </tr>\n",
       "    <tr>\n",
       "      <th>464.0</th>\n",
       "      <td>0</td>\n",
       "      <td>0</td>\n",
       "      <td>RE</td>\n",
       "    </tr>\n",
       "    <tr>\n",
       "      <th>843.0</th>\n",
       "      <td>0</td>\n",
       "      <td>1</td>\n",
       "      <td>RE</td>\n",
       "    </tr>\n",
       "    <tr>\n",
       "      <th>709.0</th>\n",
       "      <td>0</td>\n",
       "      <td>1</td>\n",
       "      <td>RE</td>\n",
       "    </tr>\n",
       "    <tr>\n",
       "      <th>706.0</th>\n",
       "      <td>1</td>\n",
       "      <td>2</td>\n",
       "      <td>RE</td>\n",
       "    </tr>\n",
       "    <tr>\n",
       "      <th>315.0</th>\n",
       "      <td>1</td>\n",
       "      <td>2</td>\n",
       "      <td>RE</td>\n",
       "    </tr>\n",
       "    <tr>\n",
       "      <th>376.0</th>\n",
       "      <td>1</td>\n",
       "      <td>2</td>\n",
       "      <td>RE</td>\n",
       "    </tr>\n",
       "    <tr>\n",
       "      <th>2.0</th>\n",
       "      <td>0</td>\n",
       "      <td>3</td>\n",
       "      <td>FE</td>\n",
       "    </tr>\n",
       "    <tr>\n",
       "      <th>32.0</th>\n",
       "      <td>0</td>\n",
       "      <td>3</td>\n",
       "      <td>UNK</td>\n",
       "    </tr>\n",
       "    <tr>\n",
       "      <th>1804.0</th>\n",
       "      <td>0</td>\n",
       "      <td>3</td>\n",
       "      <td>FE</td>\n",
       "    </tr>\n",
       "    <tr>\n",
       "      <th>1342.0</th>\n",
       "      <td>1</td>\n",
       "      <td>4</td>\n",
       "      <td>RE</td>\n",
       "    </tr>\n",
       "    <tr>\n",
       "      <th>1448.0</th>\n",
       "      <td>1</td>\n",
       "      <td>4</td>\n",
       "      <td>RE</td>\n",
       "    </tr>\n",
       "    <tr>\n",
       "      <th>16.0</th>\n",
       "      <td>0</td>\n",
       "      <td>5</td>\n",
       "      <td>RE</td>\n",
       "    </tr>\n",
       "    <tr>\n",
       "      <th>62.0</th>\n",
       "      <td>1</td>\n",
       "      <td>6</td>\n",
       "      <td>RE</td>\n",
       "    </tr>\n",
       "    <tr>\n",
       "      <th>1423.0</th>\n",
       "      <td>1</td>\n",
       "      <td>6</td>\n",
       "      <td>FE</td>\n",
       "    </tr>\n",
       "    <tr>\n",
       "      <th>99.0</th>\n",
       "      <td>0</td>\n",
       "      <td>7</td>\n",
       "      <td>RE</td>\n",
       "    </tr>\n",
       "    <tr>\n",
       "      <th>1500.0</th>\n",
       "      <td>1</td>\n",
       "      <td>8</td>\n",
       "      <td>UNK</td>\n",
       "    </tr>\n",
       "    <tr>\n",
       "      <th>1584.0</th>\n",
       "      <td>1</td>\n",
       "      <td>9</td>\n",
       "      <td>RE</td>\n",
       "    </tr>\n",
       "  </tbody>\n",
       "</table>\n",
       "</div>"
      ],
      "text/plain": [
       "           Cluster  Cluster 2 Belief\n",
       "poster_id                           \n",
       "1206.0           0          0     RE\n",
       "38.0             0          0     FE\n",
       "775.0            0          0     RE\n",
       "464.0            0          0     RE\n",
       "843.0            0          1     RE\n",
       "709.0            0          1     RE\n",
       "706.0            1          2     RE\n",
       "315.0            1          2     RE\n",
       "376.0            1          2     RE\n",
       "2.0              0          3     FE\n",
       "32.0             0          3    UNK\n",
       "1804.0           0          3     FE\n",
       "1342.0           1          4     RE\n",
       "1448.0           1          4     RE\n",
       "16.0             0          5     RE\n",
       "62.0             1          6     RE\n",
       "1423.0           1          6     FE\n",
       "99.0             0          7     RE\n",
       "1500.0           1          8    UNK\n",
       "1584.0           1          9     RE"
      ]
     },
     "execution_count": 57,
     "metadata": {},
     "output_type": "execute_result"
    }
   ],
   "source": [
    "clust_belief_table.sort_values(\"Cluster 2\")"
   ]
  },
  {
   "cell_type": "markdown",
   "metadata": {},
   "source": [
    "# Get Some Keywords Between Clusters"
   ]
  },
  {
   "cell_type": "code",
   "execution_count": 58,
   "metadata": {},
   "outputs": [
    {
     "name": "stdout",
     "output_type": "stream",
     "text": [
      "Wall time: 0 ns\n"
     ]
    }
   ],
   "source": [
    "%%time\n",
    "lr = lambda x, y: np.log2(x / y)\n",
    "\n",
    "def get_cluster_keywords(tokens, clusters, min_freq=100):\n",
    "    \n",
    "    clust_counts = tokens.groupby(clusters).apply(\n",
    "                    lambda x: [Counter(merge_lists(x))]).apply(\n",
    "                    lambda x: x[0])\n",
    "    clust_n_words = {clust: tokens[clusters==clust].apply(len).sum() for clust in set(clusters)}\n",
    "\n",
    "    for clust, counts in clust_counts.items():\n",
    "        other_counts = Counter(merge_lists(tokens[clusters!=clust]))\n",
    "        other_nwords = tokens[clusters!=clust].apply(len).sum()\n",
    "        lrs = calculate_cluster_lrs(counts, other_counts, clust_n_words[clust], other_nwords)\n",
    "        lrs = {w: l for w, l in lrs.items() if counts[w] >= min_freq}\n",
    "        lrs = pd.Series(lrs).sort_values(ascending=False)\n",
    "        t10_lr = lrs.head(20)\n",
    "        b10_lr = lrs.tail(20)\n",
    "\n",
    "        print(clust)\n",
    "        print(\"-------------------------------------------------------------------------------------\")\n",
    "        for (w1, lr1), (w2, lr2) in zip(t10_lr.items(), b10_lr.items()):\n",
    "            print(f\"{w1:20}\\t{lr1:10.2f}\\t|\\t{w2:20}\\t{lr2:10.2f}\")\n",
    "        print(\"-------------------------------------------------------------------------------------\")"
   ]
  },
  {
   "cell_type": "code",
   "execution_count": 59,
   "metadata": {},
   "outputs": [],
   "source": [
    "def get_cluster_lrs(tokens, clusters, min_freq=100):\n",
    "    \n",
    "    clust_counts = tokens.groupby(clusters).apply(\n",
    "                    lambda x: [Counter(merge_lists(x))]).apply(\n",
    "                    lambda x: x[0])\n",
    "    clust_n_words = {clust: tokens[clusters==clust].apply(len).sum() for clust in set(clusters)}\n",
    "    \n",
    "    clust_kw = dict()\n",
    "\n",
    "    for clust, counts in clust_counts.items():\n",
    "        other_counts = Counter(merge_lists(tokens[clusters!=clust]))\n",
    "        other_nwords = tokens[clusters!=clust].apply(len).sum()\n",
    "        lrs = calculate_cluster_lrs(counts, other_counts, clust_n_words[clust], other_nwords)\n",
    "        lrs = {w: l for w, l in lrs.items() if counts[w] > min_freq}\n",
    "        lrs = pd.Series(lrs).sort_values(ascending=False)\n",
    "   \n",
    "        clust_kw[clust] = lrs\n",
    "    return clust_kw"
   ]
  },
  {
   "cell_type": "code",
   "execution_count": 60,
   "metadata": {
    "scrolled": false
   },
   "outputs": [
    {
     "name": "stdout",
     "output_type": "stream",
     "text": [
      "0\n",
      "-------------------------------------------------------------------------------------\n",
      "VERB_ADJ_PART       \t      1.69\t|\tPUNCT_CCONJ_NUM     \t     -1.32\n",
      "INTJ_VERB_ADP       \t      1.60\t|\tSYM_NUM_NOUN        \t     -1.37\n",
      "PROPN_ADV_DET       \t      1.40\t|\tNUM_SYM_NUM         \t     -1.38\n",
      "ADV_INTJ_PUNCT      \t      1.32\t|\tADP_PUNCT_PROPN     \t     -1.38\n",
      "PUNCT_INTJ_AUX      \t      1.28\t|\tPROPN_PUNCT_PUNCT   \t     -1.38\n",
      "PRON_NOUN_ADJ       \t      1.21\t|\tPUNCT_ADP_NUM       \t     -1.42\n",
      "ADJ_ADV_PRON        \t      1.17\t|\tADP_ADV_NUM         \t     -1.43\n",
      "PART_ADJ_ADV        \t      1.17\t|\tNUM_NUM_PUNCT       \t     -1.45\n",
      "PRON_ADV_PART       \t      1.14\t|\tPUNCT_ADV_NUM       \t     -1.46\n",
      "PART_ADJ_PART       \t      1.11\t|\tNOUN_SYM_NUM        \t     -1.54\n",
      "PRON_NOUN_PART      \t      1.07\t|\tPUNCT_PROPN_ADP     \t     -1.61\n",
      "PUNCT_INTJ_INTJ     \t      1.07\t|\tPUNCT_NUM_PUNCT     \t     -1.71\n",
      "SCONJ_PRON_PART     \t      1.01\t|\tADP_PROPN_NUM       \t     -1.77\n",
      "INTJ_INTJ_PUNCT     \t      1.00\t|\tNUM_PUNCT_PUNCT     \t     -1.78\n",
      "SCONJ_VERB_PRON     \t      1.00\t|\tPUNCT_PUNCT_PUNCT   \t     -1.80\n",
      "PRON_NOUN_SCONJ     \t      0.98\t|\tPROPN_PUNCT_NUM     \t     -1.88\n",
      "DET_PUNCT_PRON      \t      0.96\t|\tNUM_NOUN_NUM        \t     -1.92\n",
      "PART_ADV_DET        \t      0.93\t|\tDET_PUNCT_PROPN     \t     -1.99\n",
      "PUNCT_INTJ_VERB     \t      0.92\t|\tPROPN_NUM_PUNCT     \t     -2.28\n",
      "ADV_CCONJ_PRON      \t      0.92\t|\tNUM_PUNCT_NUM       \t     -2.28\n",
      "-------------------------------------------------------------------------------------\n",
      "1\n",
      "-------------------------------------------------------------------------------------\n",
      "NUM_NUM_NUM         \t      3.63\t|\tVERB_PRON_SCONJ     \t     -0.78\n",
      "NUM_PROPN_PUNCT     \t      3.22\t|\tPRON_ADV_PRON       \t     -0.78\n",
      "PROPN_NUM_PROPN     \t      2.84\t|\tAUX_PART_ADV        \t     -0.79\n",
      "NUM_DET_NOUN        \t      2.67\t|\tSCONJ_PRON_NOUN     \t     -0.80\n",
      "PROPN_ADP_PUNCT     \t      2.66\t|\tPRON_NOUN_AUX       \t     -0.81\n",
      "PUNCT_PROPN_NUM     \t      2.56\t|\tVERB_PRON_ADJ       \t     -0.82\n",
      "NUM_PROPN_NUM       \t      2.32\t|\tINTJ_VERB_PRON      \t     -0.84\n",
      "PUNCT_NUM_NUM       \t      2.31\t|\tVERB_VERB_PRON      \t     -0.86\n",
      "PUNCT_PUNCT_X       \t      2.29\t|\tPRON_NOUN_PRON      \t     -0.86\n",
      "NUM_PUNCT_NUM       \t      2.28\t|\tPART_ADV_ADJ        \t     -0.87\n",
      "PROPN_NUM_PUNCT     \t      2.28\t|\tADJ_CCONJ_VERB      \t     -0.89\n",
      "NUM_SYM_PUNCT       \t      2.25\t|\tPRON_PART_AUX       \t     -0.91\n",
      "ADV_NUM_PUNCT       \t      2.22\t|\tPUNCT_INTJ_VERB     \t     -0.92\n",
      "SYM_NUM_ADP         \t      2.21\t|\tDET_PUNCT_PRON      \t     -0.96\n",
      "PROPN_NUM_NOUN      \t      2.17\t|\tPRON_NOUN_SCONJ     \t     -0.98\n",
      "PROPN_PROPN_NUM     \t      2.14\t|\tSCONJ_VERB_PRON     \t     -1.00\n",
      "NUM_PUNCT_PROPN     \t      2.10\t|\tSCONJ_PRON_PART     \t     -1.01\n",
      "ADV_NUM_SYM         \t      2.08\t|\tPRON_NOUN_PART      \t     -1.07\n",
      "X_PUNCT_ADP         \t      2.03\t|\tADJ_ADV_PRON        \t     -1.17\n",
      "DET_PUNCT_PROPN     \t      1.99\t|\tPROPN_ADV_DET       \t     -1.40\n",
      "-------------------------------------------------------------------------------------\n",
      "Wall time: 898 ms\n"
     ]
    }
   ],
   "source": [
    "%%time\n",
    "get_cluster_keywords(pos_trigrams, clusters)"
   ]
  },
  {
   "cell_type": "code",
   "execution_count": 61,
   "metadata": {},
   "outputs": [
    {
     "name": "stdout",
     "output_type": "stream",
     "text": [
      "Showing 25 out of 154:\n",
      "2.0        ouncilors have voting privileges now \u001b[1m. uh oh\u001b[0m , fixed . gah. fixed . well , that w\n",
      "2.0         i . live up to your own standards \u001b[1m. hell yeah\u001b[0m . or we could use lulu , like tint\n",
      "2.0        possible is considerably harder than \u001b[1m\" oh no\u001b[0m , it takes effort \" all us dollars a\n",
      "2.0        ave breasts . my chest is very flat \u001b[1m. hi fogo4\u001b[0m , thanks for stopping by . this cla\n",
      "2.0        inal claim from the very same page ) \u001b[1m: oh my\u001b[0m . you did n't think it magically tra\n",
      "2.0        , and then you 'd probably say that \u001b[1m\" oh well\u001b[0m , they were pretty close to speakin\n",
      "2.0        warning to this effect will follow \u001b[1m. hi hoopera\u001b[0m , thanks for stopping by . i hope \n",
      "2.0        ermines what i said or did n't say \u001b[1m? gosh darn\u001b[0m it , why was n't i informed !? i a\n",
      "2.0        now , falsity implies all statements \u001b[1m. oh my\u001b[0m . perhaps you should n't have used t\n",
      "2.0         piece of very anecdotal evidence \u001b[1m. hi sandokhan\u001b[0m , i will repeat this to you once \n",
      "2.0         tried denying that your position is \u001b[1m\" nuh uh\u001b[0m evidence do n't real \" . oh , you 'r\n",
      "2.0         reading a transcript , by yourself \u001b[1m. oh well\u001b[0m , here 's one example : on an unrel\n",
      "2.0        lish language . well , let 's see \u001b[1m... gosh darn\u001b[0m those faq authors , how very dare\n",
      "2.0        ou think that 's oh - so - terrible \u001b[1m, ah well\u001b[0m , we ca n't please them all . once \n",
      "2.0        g , please explain why . just saying \u001b[1m\" nuh uh\u001b[0m ain't no reason \" will not cut it . \n",
      "2.0        quotes appropriately , or not at all \u001b[1m. oh no\u001b[0m , you 're doing that thing again . s\n",
      "2.0         should n't require much more than a \u001b[1m\" lol no\u001b[0m \" from me , if it was presented with\n",
      "2.0        st when your patterns are exposed ! \u001b[1m) oh yeah\u001b[0m , you were the proponent of superso\n",
      "2.0         it sound like this was n't the case \u001b[1m, hey ho\u001b[0m , my bad . though i do think i made \n",
      "2.0         getting rid of the deplorable bits \u001b[1m. oh well\u001b[0m , i 'm sure he 'll find a way to ca\n",
      "2.0         giving you the benefit of the doubt \u001b[1m. oh no\u001b[0m , the re peanut gallery might think \n",
      "2.0        t gallery might think less of junker \u001b[1m. oh no\u001b[0m . virtually none are . what makes yo\n",
      "2.0        uette so your rebuttal boils down to \u001b[1m\" nuh uh\u001b[0m , that 's wrong !!! \" that 's quite \n",
      "2.0         about teslas once . fool me once \u001b[1m, yadda yadda\u001b[0m , but then it happened again . no\n",
      "2.0        t worst turn into two sides shouting \u001b[1m\" nuh uh\u001b[0m ! \" over one another . you 've got t\n"
     ]
    }
   ],
   "source": [
    "get_text_example_of_pos([\"PUNCT\", \"INTJ\", \"INTJ\"], \n",
    "                        user_pos[clusters==0], \n",
    "                        user_toks[clusters==0], \n",
    "                        doc_labels=user_toks[clusters==0].index, n_examples=25)"
   ]
  },
  {
   "cell_type": "code",
   "execution_count": 62,
   "metadata": {},
   "outputs": [
    {
     "name": "stdout",
     "output_type": "stream",
     "text": [
      "Showing 25 out of 443:\n",
      "2.0         to push your own name . i 'm not \u001b[1msure how that\u001b[0m 's an explicit declaration of lac\n",
      "2.0        es , because that 's definitely \u001b[1mrelevant when one\u001b[0m 's explicitly calculating magni\n",
      "2.0         , assumptions . almost . i 'm not \u001b[1msure why you\u001b[0m 'd restrict yourself to just the s\n",
      "2.0        nce between two objects , that 's \u001b[1mlikely why you\u001b[0m never heard such a claim being ma\n",
      "2.0        e ol link again . it was n't good \u001b[1menough when it\u001b[0m was just markjo posting it . i re\n",
      "2.0        tic , but you 're virtually never \u001b[1mright when it\u001b[0m comes to the subtleties of englis\n",
      "2.0         a reaction . that said , i 'm not \u001b[1msure why you\u001b[0m consider yourself an authority on \n",
      "2.0        s to the bag. 700 * , but i 'm not \u001b[1msure why you\u001b[0m think your perception of the sever\n",
      "2.0        y these days . i almost liked you \u001b[1mmore when you\u001b[0m actually tried . almost . thork ,\n",
      "2.0        ce in vauxy 's scenario . i 'm not \u001b[1msure why you\u001b[0m 'd expect anything else . i can on\n",
      "2.0        e rules as before apply . i 'm not \u001b[1msure how you\u001b[0m 'd slap someone with a pdf . you t\n",
      "2.0        e , he understood me , so i 'm not \u001b[1msure why you\u001b[0m think you lying about the conversa\n",
      "2.0         can jump on that , and then get \u001b[1moffended when i\u001b[0m call you out . this vicious circ\n",
      "2.0         a \" yes \" or a \" no \" . were you \u001b[1mwrong when you\u001b[0m claimed that it 's caused by refr\n",
      "2.0        't understand why re'ers get so \u001b[1mupset when someone\u001b[0m calls them out on a lie , or a \n",
      "2.0         air resistance or drag . i 'm not \u001b[1msure how you\u001b[0m reached this conclusion . perhaps \n",
      "2.0        ith some copy - editing - i 'm not \u001b[1msure why you\u001b[0m find it so unbelievable that someo\n",
      "2.0        erent from what we want . i 'm not \u001b[1msure how you\u001b[0m concluded that by \" improving our \n",
      "2.0         suspect roundy was n't entirely \u001b[1mserious when he\u001b[0m wrote his post . most people pre\n",
      "2.0        no , i do not . i 'm not entirely \u001b[1msure how that\u001b[0m would even work . wait , so your \n",
      "2.0        say things like \" if the earth is \u001b[1mflat then what\u001b[0m do compasses point to ? \" or \" ex\n",
      "2.0        rong but please tell me how you 're \u001b[1mwrong so i\u001b[0m can lecture you \" shtick , you 're \n",
      "2.0        subscribe to said model . i 'm not \u001b[1msure how we\u001b[0m could make this any clearer . much\n",
      "2.0        disagree with . i 'm not entirely \u001b[1msure where you\u001b[0m got that idea from , but it most \n",
      "2.0        on to be taken . you were also \u001b[1mdisappointed when it\u001b[0m was taking me a while to do an\n"
     ]
    }
   ],
   "source": [
    "get_text_example_of_pos([\"ADJ\", \"ADV\", \"PRON\"], \n",
    "                        user_pos[clusters==0], \n",
    "                        user_toks[clusters==0], \n",
    "                        doc_labels=user_toks[clusters==0].index, n_examples=25)"
   ]
  },
  {
   "cell_type": "code",
   "execution_count": 63,
   "metadata": {},
   "outputs": [
    {
     "name": "stdout",
     "output_type": "stream",
     "text": [
      "Showing 25 out of 115:\n",
      "315.0      ry for the next ! see : . sydney \u001b[1m7 february 2016\u001b[0m flight to antarctica from $ 1,19\n",
      "315.0      ott 's party at the south pole , \u001b[1m18 january 1912\u001b[0m . l to r : ( standing ) wilson ,\n",
      "315.0      re in night . utc time = monday , \u001b[1m21 march 2016\u001b[0m at 12:00:00 noon . south pole loc\n",
      "315.0      south pole local time = tuesday , \u001b[1m22 march 2016\u001b[0m at 1:00:00 am . from : btw you co\n",
      "315.0      ve selected utc 12:00:00 monday , \u001b[1m21 march 2016\u001b[0m . the sun can be seen overhead on\n",
      "315.0      ght world map utc time = monday , \u001b[1m21 march 2016\u001b[0m at 12:00:00 noon . south pole loc\n",
      "315.0      south pole local time = tuesday , \u001b[1m22 march 2016\u001b[0m at 1:00:00 am . from : yes , but \n",
      "315.0      mawari satellite taken 21:30 utc , \u001b[1m21 feb 2016\u001b[0m ( 30 min ago ) shows cyclone winst\n",
      "315.0      se pictures ! and here 's one from \u001b[1m13 mar 2016\u001b[0m 02:00 utc ( about 15 minutes ago !\n",
      "315.0      p ballodonia to eucla - 32.35 â ° \u001b[1m123.62 â °\u001b[0m - 31.68 â ° 128.88 â ° 532 km 53\n",
      "315.0      ott 's party at the south pole , \u001b[1m18 january 1912\u001b[0m . l to r : ( standing ) wilson ,\n",
      "315.0      .0 â ° 70.3 25,323 km usa , 1887 \u001b[1m31.0 â° 95.7\u001b[0m 34,447 km usa , 1887 - 10.0 â ° \n",
      "315.0       1,043 miles 3,891 miles 45 â ° n \u001b[1m45 â° 3,128\u001b[0m miles 3,128 miles 75a ̂ ° n 15 â°\n",
      "315.0       3,128 miles 3,128 miles 75a ̂ ° n \u001b[1m15 â° 5,213\u001b[0m miles 1,397 miles 85 â ° n 5 â° \n",
      "315.0       5,213 miles 1,397 miles 85 â ° n \u001b[1m5 â° 5,908\u001b[0m miles 517 miles here we see that a\n",
      "315.0      circum@lat source of \" map data \" \u001b[1m51.0 â° 70.3\u001b[0m km / deg 25,300 km 25,200 km 27,4\n",
      "315.0      m 29,300 km 33,000 km us 1887 map \u001b[1m35.0 â° 91.4\u001b[0m km / deg 32,900 km 32,800 km 38,6\n",
      "315.0      00 km 77,200 km times atlas map - \u001b[1m34.0 â° 92.0\u001b[0m km / deg 33,200 km 33,200 km 87,1\n",
      "315.0      m 87,100 km 1855 australian map - \u001b[1m45.0 â° 79.2\u001b[0m km/ deg 28,300 km 28,300 km 94,80\n",
      "315.0      7 \" n 36â° 50'24.65 \" e , sudan and \u001b[1m21 â° 5\u001b[0m '36.89 \" n 40â ° 17'29.80 \" e , sau\n",
      "315.0       all tropical cyclones during the \u001b[1m1985â  2005\u001b[0m time period . i think a very weak\n",
      "315.0      circum@lat source of \" map data \" \u001b[1m51.0 â° 70.3\u001b[0m km / deg 25,300 km 25,200 km 27,4\n",
      "315.0      m 29,300 km 33,000 km us 1887 map \u001b[1m35.0 â° 91.4\u001b[0m km / deg 32,900 km 32,800 km 38,6\n",
      "315.0      00 km 77,200 km times atlas map - \u001b[1m34.0 â° 92.0\u001b[0m km / deg 33,200 km 33,200 km 87,1\n",
      "315.0      m 87,100 km 1855 australian map - \u001b[1m45.0 â° 79.2\u001b[0m km/ deg 28,300 km 28,300 km 94,80\n"
     ]
    }
   ],
   "source": [
    "get_text_example_of_pos([\"NUM\", \"PROPN\", \"NUM\"], \n",
    "                        user_pos[clusters==1], \n",
    "                        user_toks[clusters==1], \n",
    "                        doc_labels=user_toks[clusters==1].index, n_examples=25)"
   ]
  },
  {
   "cell_type": "code",
   "execution_count": 64,
   "metadata": {},
   "outputs": [
    {
     "name": "stdout",
     "output_type": "stream",
     "text": [
      "Distribution across users:\n",
      "Num uses per user\n",
      "user\n",
      "315.0     71\n",
      "376.0      1\n",
      "1342.0    20\n",
      "1448.0     4\n",
      "1500.0     8\n",
      "1584.0    11\n",
      "dtype: int64\n",
      "\n",
      "Mean uses per user:\t 19.166666666666668\n",
      "Median uses per user:\t 9.5\n",
      "Wall time: 1.81 s\n"
     ]
    }
   ],
   "source": [
    "%%time\n",
    "concs = make_pos_concordance([\"NUM\", \"PROPN\", \"NUM\"],\n",
    "                             user_pos[clusters==1],\n",
    "                             user_toks[clusters==1],\n",
    "                             doc_labels=user_toks[clusters==1].index)\n",
    "concs = pd.DataFrame(concs, columns=[\"user\", \"conc\"])\n",
    "\n",
    "print(\"Distribution across users:\")\n",
    "num_uses_per_user = concs.groupby(\"user\").size()\n",
    "print(\"Num uses per user\", num_uses_per_user, sep=\"\\n\", end=\"\\n\\n\")\n",
    "print(\"Mean uses per user:\\t\", num_uses_per_user.mean())\n",
    "print(\"Median uses per user:\\t\", num_uses_per_user.median())"
   ]
  },
  {
   "cell_type": "code",
   "execution_count": 65,
   "metadata": {},
   "outputs": [
    {
     "name": "stdout",
     "output_type": "stream",
     "text": [
      "Showing 25 out of 102:\n",
      "62.0       g new maps would be published ? is \u001b[1mwgs84 just a\u001b[0m nasa production ? yet there is no \n",
      "315.0      t even some in zetetic astronomy , \u001b[1mearth not a\u001b[0m globe and other flat earth sources\n",
      "315.0      0a ̂° longitude line through \u001b[1mgreenwich actually that\u001b[0m post was just to see if ther\n",
      "315.0      s ! one big problem with quoting \" \u001b[1mearth not a\u001b[0m globe \" is the sheer volume of mat\n",
      "315.0      me pictures ! and , the \" aurora \u001b[1mborealis just a\u001b[0m thing that happens when \" it wan\n",
      "315.0      han \" look up the wiki \" or read \" \u001b[1mearth not a\u001b[0m globe \" . even the guess at the su\n",
      "315.0      terature where you will find : see \u001b[1mearth not a\u001b[0m globe see thomas winship see one h\n",
      "315.0      o along with any of the stuff in \" \u001b[1mearth not a\u001b[0m globe \" or in \" one hundred proofs\n",
      "315.0      f the sun 's diverging / spreading \u001b[1mrays now the\u001b[0m reason i said \" ridiculous pronoun\n",
      "315.0      arly high density ores ) . on the \u001b[1mglobe even the\u001b[0m direction of \" g \" changes - it i\n",
      "315.0       years since \" zetetic astronomy , \u001b[1mearth not a\u001b[0m globe , by parallax ( samuel birle\n",
      "315.0      ere are routes in the southern \u001b[1mhemisphere where the\u001b[0m globe and flat earth map give \n",
      "315.0      th is not a globe . \" so if , \" in \u001b[1mearth not a\u001b[0m globe rowbotham corroborates willi\n",
      "315.0      s picture ? crepuscular rays in \u001b[1mscotland now that\u001b[0m picture was taken over a lake i\n",
      "315.0      gnificant experimental evidence in \u001b[1mearth not a\u001b[0m globe . \" \" numerous experiments a\n",
      "315.0      ular science \" . and how much of \" \u001b[1mearth not a\u001b[0m globe \" have you read ? you have a\n",
      "315.0       tropic of capricorn . it is the \u001b[1mequator not the\u001b[0m sun 's path that is the dividing\n",
      "315.0      phere is quite irrelevant anyway . \u001b[1mnothe at all\u001b[0m , i repeat , the range of troposca\n",
      "315.0      he years 1772 , 3 , 4 , 5 , georg \u001b[1mforster so the\u001b[0m bounds of antarctica were known w\n",
      "315.0      et discovered when rowbotham wrote \u001b[1mearth not a\u001b[0m globe . it is understandable why h\n",
      "315.0      the ship is in from the horizon . \u001b[1mhull down the\u001b[0m ship is over the horizon . only a\n",
      "376.0      rectly from the flat earth bible , \u001b[1mearth not a\u001b[0m sphere , chapter v the true distan\n",
      "376.0      rectly from the flat earth bible , \u001b[1mearth not a\u001b[0m sphere , chapter v the true distan\n",
      "376.0      e wiki , which quotes rowbotham 's \u001b[1mearth not a\u001b[0m globe for much of the linked page \n",
      "376.0      side that it did not come from \u001b[1mrowbotham after all\u001b[0m . turns out to be a passage fr\n",
      "Wall time: 1.33 s\n"
     ]
    }
   ],
   "source": [
    "%%time\n",
    "get_text_example_of_pos([\"PROPN\", \"ADV\", \"DET\"], \n",
    "                        user_pos[clusters==1], \n",
    "                        user_toks[clusters==1], \n",
    "                        doc_labels=user_toks[clusters==1].index, n_examples=25)"
   ]
  },
  {
   "cell_type": "code",
   "execution_count": 66,
   "metadata": {},
   "outputs": [
    {
     "name": "stdout",
     "output_type": "stream",
     "text": [
      "Distribution across users:\n",
      "Num uses per user\n",
      "user\n",
      "62.0       1\n",
      "315.0     20\n",
      "376.0     17\n",
      "706.0     12\n",
      "1342.0     3\n",
      "1423.0     3\n",
      "1448.0    26\n",
      "1500.0    10\n",
      "1584.0    10\n",
      "dtype: int64\n",
      "\n",
      "Mean uses per user:\t 11.333333333333334\n",
      "Median uses per user:\t 10.0\n",
      "Wall time: 1.29 s\n"
     ]
    }
   ],
   "source": [
    "%%time\n",
    "c = 1\n",
    "concs = make_pos_concordance([\"PROPN\", \"ADV\", \"DET\"],\n",
    "                             user_pos[clusters==c],\n",
    "                             user_toks[clusters==c],\n",
    "                             doc_labels=user_toks[clusters==c].index)\n",
    "concs = pd.DataFrame(concs, columns=[\"user\", \"conc\"])\n",
    "\n",
    "print(\"Distribution across users:\")\n",
    "num_uses_per_user = concs.groupby(\"user\").size()\n",
    "print(\"Num uses per user\", num_uses_per_user, sep=\"\\n\", end=\"\\n\\n\")\n",
    "print(\"Mean uses per user:\\t\", num_uses_per_user.mean())\n",
    "print(\"Median uses per user:\\t\", num_uses_per_user.median())"
   ]
  },
  {
   "cell_type": "code",
   "execution_count": 67,
   "metadata": {},
   "outputs": [
    {
     "name": "stdout",
     "output_type": "stream",
     "text": [
      "Showing 25 out of 245:\n",
      "315.0      ra orientation . north america - \u001b[1m4500 miles north\u001b[0m america - 21500 miles so , no un\n",
      "315.0      ample the us military that spends \u001b[1m30 times nasa\u001b[0m 's budget gets away unscathed ! a\n",
      "315.0      declination at mcmurdo about \u001b[1m144 degrees inclination\u001b[0m at mcmurdo about - 81 degree\n",
      "315.0      nclination at mcmurdo about - \u001b[1m81 degrees declination\u001b[0m declination is the angle betw\n",
      "315.0      antiago on \" gleason map \" about \u001b[1m25,400 km great\u001b[0m circle sydney to santiago on \" g\n",
      "315.0      d around the earth ) about once in \u001b[1m27 days star\u001b[0m trails would be observed on the mo\n",
      "315.0      day , 4 march , 7:20 pm , this is \u001b[1m6:20 am friday\u001b[0m , utc . arrives buenos aires , fr\n",
      "315.0      ay , 4 march , 3:00 pm , this is \u001b[1m6:00 pm thursday\u001b[0m , utc . these times give a gate \n",
      "315.0      antiago on \" gleason map \" about \u001b[1m25,400 km great\u001b[0m circle sydney to santiago on \" g\n",
      "315.0      01 â ° 94.5 34,021 km 40,123 km \u001b[1m31,302 km eucla\u001b[0m ( western australia ) to penong \n",
      "315.0      tiago on \" gleason map \" , about \u001b[1m25,400 km great\u001b[0m circle sydney to santiago on \" g\n",
      "315.0      01 â ° 94.5 34,021 km 40,123 km \u001b[1m31,302 km eucla\u001b[0m ( western australia ) to penong \n",
      "315.0       â ° 128.88 â ° 532 km 531.5 km \u001b[1m503.0 km eucla\u001b[0m to penong - 31.68 â ° 128.88 â \n",
      "315.0      of our local area exists a massive \u001b[1m150 foot ice\u001b[0m wall . the 150 foot ice wall is on\n",
      "315.0       a massive 150 foot ice wall . the \u001b[1m150 foot ice\u001b[0m wall is on the coast of antarctica\n",
      "315.0      s not the same as the accepted \u001b[1m40,000 km equatorial\u001b[0m circumference . the most widel\n",
      "315.0      tiago on \" gleason map \" , about \u001b[1m25,400 km great\u001b[0m circle sydney to santiago on \" g\n",
      "315.0      eply # 81 on : march 17 , 2016 , \u001b[1m11:11:50 am â»\u001b[0m , i got nowhere trying to discus\n",
      "315.0      country , map date 51.0 â ° 70.3 \u001b[1m25,323 km usa\u001b[0m , 1887 31.0 â° 95.7 34,447 km us\n",
      "315.0      5,323 km usa , 1887 31.0 â° 95.7 \u001b[1m34,447 km usa\u001b[0m , 1887 - 10.0 â ° 109.4 39,388 k\n",
      "315.0      m usa , 1887 - 10.0 â ° 109.4 \u001b[1m39,388 km australia\u001b[0m , 1855 - 34.0 â ° 92.0 33,105\n",
      "315.0      tralia , 1855 - 34.0 â ° 92.0 \u001b[1m33,105 km australia\u001b[0m , 1855 the most widely accepte\n",
      "315.0      reply # 2 on : april 04 , 2016 , \u001b[1m10:47:00 am â»\u001b[0m . yes , i 'm quite proud of that\n",
      "315.0      eply # 81 on : march 17 , 2016 , \u001b[1m11:11:50 am â»\u001b[0m , i got nowhere trying to discus\n",
      "315.0      ----> would claim that for only \u001b[1m23.33 years earth\u001b[0m time the aether , dark energy a\n",
      "Wall time: 3.67 s\n"
     ]
    }
   ],
   "source": [
    "%%time\n",
    "get_text_example_of_pos([\"NUM\", \"NOUN\", \"PROPN\"], \n",
    "                        user_pos[clusters==1], \n",
    "                        user_toks[clusters==1], \n",
    "                        doc_labels=user_toks[clusters==1].index, n_examples=25)"
   ]
  },
  {
   "cell_type": "code",
   "execution_count": 68,
   "metadata": {},
   "outputs": [
    {
     "name": "stdout",
     "output_type": "stream",
     "text": [
      "Distribution across users:\n",
      "Num uses per user\n",
      "user\n",
      "315.0     175\n",
      "376.0       6\n",
      "706.0       8\n",
      "1342.0     22\n",
      "1423.0      5\n",
      "1448.0     11\n",
      "1500.0      9\n",
      "1584.0      9\n",
      "dtype: int64\n",
      "\n",
      "Mean uses per user:\t 30.625\n",
      "Median uses per user:\t 9.0\n",
      "Wall time: 3.65 s\n"
     ]
    }
   ],
   "source": [
    "%%time\n",
    "c = 1\n",
    "concs = make_pos_concordance([\"NUM\", \"NOUN\", \"PROPN\"],\n",
    "                             user_pos[clusters==c],\n",
    "                             user_toks[clusters==c],\n",
    "                             doc_labels=user_toks[clusters==c].index)\n",
    "concs = pd.DataFrame(concs, columns=[\"user\", \"conc\"])\n",
    "\n",
    "print(\"Distribution across users:\")\n",
    "num_uses_per_user = concs.groupby(\"user\").size()\n",
    "print(\"Num uses per user\", num_uses_per_user, sep=\"\\n\", end=\"\\n\\n\")\n",
    "print(\"Mean uses per user:\\t\", num_uses_per_user.mean())\n",
    "print(\"Median uses per user:\\t\", num_uses_per_user.median())"
   ]
  },
  {
   "cell_type": "code",
   "execution_count": 69,
   "metadata": {
    "scrolled": false
   },
   "outputs": [
    {
     "name": "stdout",
     "output_type": "stream",
     "text": [
      "0\n",
      "-------------------------------------------------------------------------------------\n",
      "refrain             \t      5.94\t|\trefraction          \t     -1.38\n",
      "fora                \t      5.44\t|\tequator             \t     -1.38\n",
      "warned              \t      4.92\t|\t-                   \t     -1.39\n",
      "ghosts              \t      4.21\t|\t%                   \t     -1.40\n",
      "                   \t      4.13\t|\tfe'ers              \t     -1.41\n",
      "basics              \t      3.59\t|\t;                   \t     -1.41\n",
      "warning             \t      3.56\t|\troute               \t     -1.53\n",
      "fes                 \t      3.17\t|\tsunrise             \t     -1.56\n",
      "content             \t      3.06\t|\tflight              \t     -1.70\n",
      "burden              \t      2.96\t|\tm                   \t     -1.73\n",
      "review              \t      2.87\t|\t!                   \t     -1.73\n",
      "faq                 \t      2.87\t|\tmeasurements        \t     -1.74\n",
      "thork               \t      2.78\t|\t...                 \t     -1.75\n",
      "solutions           \t      2.76\t|\tetc                 \t     -1.77\n",
      "lol                 \t      2.54\t|\tmaps                \t     -1.77\n",
      "dishonest           \t      2.40\t|\taustralia           \t     -1.82\n",
      "momentum            \t      2.38\t|\tlongitude           \t     -1.87\n",
      "guys                \t      2.34\t|\tmap                 \t     -1.92\n",
      "articles            \t      2.32\t|\tatmospheric         \t     -2.10\n",
      "welcome             \t      2.31\t|\tkm                  \t     -3.07\n",
      "-------------------------------------------------------------------------------------\n",
      "1\n",
      "-------------------------------------------------------------------------------------\n",
      "â«                 \t      8.10\t|\tcertain             \t     -1.20\n",
      "â»                 \t      8.09\t|\tsubject             \t     -1.22\n",
      "qantas              \t      5.96\t|\tprovided            \t     -1.24\n",
      "san                 \t      5.29\t|\tcreate              \t     -1.27\n",
      "interactive         \t      5.14\t|\tpage                \t     -1.31\n",
      "bing                \t      4.78\t|\tscience             \t     -1.31\n",
      "̂°                  \t      4.50\t|\tcomplete            \t     -1.32\n",
      "2016                \t      4.48\t|\tfeel                \t     -1.33\n",
      "sighting            \t      4.09\t|\tunderstanding       \t     -1.35\n",
      "toward              \t      4.02\t|\tobviously           \t     -1.39\n",
      "°                   \t      3.75\t|\tthread              \t     -1.39\n",
      "̂                   \t      3.36\t|\ttopic               \t     -1.41\n",
      "elevation           \t      3.09\t|\tupper               \t     -1.42\n",
      "km                  \t      3.07\t|\tfree                \t     -1.43\n",
      "europe              \t      2.89\t|\tbody                \t     -1.47\n",
      "spheroid            \t      2.85\t|\tforum               \t     -1.50\n",
      "firmament           \t      2.84\t|\tupwards             \t     -1.58\n",
      "â°                 \t      2.84\t|\texperiments         \t     -1.71\n",
      "â                  \t      2.81\t|\tarticle             \t     -1.76\n",
      "convex              \t      2.81\t|\tbodies              \t     -1.86\n",
      "-------------------------------------------------------------------------------------\n",
      "Wall time: 1.17 s\n"
     ]
    }
   ],
   "source": [
    "%%time\n",
    "get_cluster_keywords(user_toks, clusters)"
   ]
  },
  {
   "cell_type": "code",
   "execution_count": 70,
   "metadata": {},
   "outputs": [
    {
     "name": "stdout",
     "output_type": "stream",
     "text": [
      "Wall time: 1.15 s\n"
     ]
    }
   ],
   "source": [
    "%%time\n",
    "clust_lrs = get_cluster_lrs(user_toks, clusters)"
   ]
  },
  {
   "cell_type": "code",
   "execution_count": 71,
   "metadata": {},
   "outputs": [
    {
     "data": {
      "text/plain": [
       "1.1722183379801865"
      ]
     },
     "execution_count": 71,
     "metadata": {},
     "output_type": "execute_result"
    }
   ],
   "source": [
    "(clust_lrs[0][\"re'ers\"])"
   ]
  },
  {
   "cell_type": "code",
   "execution_count": 72,
   "metadata": {},
   "outputs": [
    {
     "data": {
      "text/plain": [
       "1.4065013432428228"
      ]
     },
     "execution_count": 72,
     "metadata": {},
     "output_type": "execute_result"
    }
   ],
   "source": [
    "clust_lrs[1][\"fe'ers\"]"
   ]
  },
  {
   "cell_type": "code",
   "execution_count": 73,
   "metadata": {},
   "outputs": [
    {
     "data": {
      "text/plain": [
       "0.828868046602734"
      ]
     },
     "execution_count": 73,
     "metadata": {},
     "output_type": "execute_result"
    }
   ],
   "source": [
    "clust_lrs[1][\"flat\"]"
   ]
  },
  {
   "cell_type": "code",
   "execution_count": 74,
   "metadata": {},
   "outputs": [
    {
     "data": {
      "text/plain": [
       "-0.15513593346173077"
      ]
     },
     "execution_count": 74,
     "metadata": {},
     "output_type": "execute_result"
    }
   ],
   "source": [
    "clust_lrs[1][\"round\"]"
   ]
  },
  {
   "cell_type": "code",
   "execution_count": 75,
   "metadata": {},
   "outputs": [
    {
     "name": "stdout",
     "output_type": "stream",
     "text": [
      "Cluster 0: 152 / 1647433\n",
      "Cluster 1: 200 / 1288573\n"
     ]
    },
    {
     "data": {
      "text/plain": [
       "-0.7492385161809746"
      ]
     },
     "execution_count": 75,
     "metadata": {},
     "output_type": "execute_result"
    }
   ],
   "source": [
    "c1 = len(make_ngram_concordance([\"flat\", \"earthers\"],\n",
    "                                user_toks[clusters==0],\n",
    "                                doc_labels=user_toks[clusters==0].index))\n",
    "\n",
    "c2 = len(make_ngram_concordance([\"flat\", \"earthers\"],\n",
    "                                user_toks[clusters==1],\n",
    "                                doc_labels=user_toks[clusters==1].index))\n",
    "\n",
    "n1 = user_toks[clusters==0].apply(len).sum()\n",
    "n2 = user_toks[clusters==1].apply(len).sum()\n",
    "\n",
    "print(f\"Cluster 0: {c1} / {n1}\")\n",
    "print(f\"Cluster 1: {c2} / {n2}\")\n",
    "lr((c1+0.5)/n1, (c2+0.5)/n2)"
   ]
  },
  {
   "cell_type": "code",
   "execution_count": 76,
   "metadata": {},
   "outputs": [
    {
     "name": "stdout",
     "output_type": "stream",
     "text": [
      "Cluster 0: 82 / 1647433\n",
      "Cluster 1: 30 / 1288573\n"
     ]
    },
    {
     "data": {
      "text/plain": [
       "1.0811393545066268"
      ]
     },
     "execution_count": 76,
     "metadata": {},
     "output_type": "execute_result"
    }
   ],
   "source": [
    "c1 = len(make_ngram_concordance([\"round\", \"earthers\"],\n",
    "                                user_toks[clusters==0],\n",
    "                                doc_labels=user_toks[clusters==0].index))\n",
    "\n",
    "c2 = len(make_ngram_concordance([\"round\", \"earthers\"],\n",
    "                                user_toks[clusters==1],\n",
    "                                doc_labels=user_toks[clusters==1].index))\n",
    "\n",
    "n1 = user_toks[clusters==0].apply(len).sum()\n",
    "n2 = user_toks[clusters==1].apply(len).sum()\n",
    "\n",
    "print(f\"Cluster 0: {c1} / {n1}\")\n",
    "print(f\"Cluster 1: {c2} / {n2}\")\n",
    "lr((c1+0.5)/n1, (c2+0.5)/n2)"
   ]
  },
  {
   "cell_type": "code",
   "execution_count": 77,
   "metadata": {},
   "outputs": [
    {
     "name": "stdout",
     "output_type": "stream",
     "text": [
      "Showing 25 out of 156:\n",
      "2.0        ts in which \" theory \" may be used by \u001b[1mfe'ers\u001b[0m . within the context of \" conspiracy \n",
      "2.0        s used in exactly the same fashion by \u001b[1mfe'ers\u001b[0m as other scientists , by way of provi\n",
      "2.0        y be correct if he simply spoke to no \u001b[1mfe'ers\u001b[0m at all . personally , i propose that \n",
      "2.0        t large . that is not a claim serious \u001b[1mfe'ers\u001b[0m would make , in my humble opinion . p\n",
      "2.0        ct and following the more influential \u001b[1mfe'ers\u001b[0m online . in other words : yes , but y\n",
      "2.0        hat the most - supported map is among \u001b[1mfe'ers\u001b[0m . could you just go away now ? how do\n",
      "2.0        uld be silly . rowbotham 's and other \u001b[1mfe'ers\u001b[0m ' experiments are reproducible . rabi\n",
      "2.0        ised for some of the more belligerent \u001b[1mfe'ers\u001b[0m which appeared to target him at the t\n",
      "2.0        ace in the few . yes , there are some \u001b[1mfe'ers\u001b[0m who are working on alternative models\n",
      "2.0        olly , we sure showed those gosh darn \u001b[1mfe'ers\u001b[0m ! \" engaging with them is an utter wa\n",
      "2.0        gestions have garnered criticism from \u001b[1mfe'ers\u001b[0m and re'ers alike . we know this becau\n",
      "2.0         is something i will always encourage \u001b[1mfe'ers\u001b[0m and re'ers alike to engage in . this \n",
      "2.0        on . indeed , and many infinite plane \u001b[1mfe'ers\u001b[0m have advocated for that as the answer\n",
      "2.0        eel comfortable doing , and if female \u001b[1mfe'ers\u001b[0m do n't want to post here , that 's fi\n",
      "2.0        . we can discuss that elsewhere , but \u001b[1mfe'ers\u001b[0m largely agree that the ross ice shelf\n",
      "2.0        d incident , and physical assaults on \u001b[1mfe'ers\u001b[0m are relatively familiar to anyone wit\n",
      "2.0         doing his thing . flat earthers ( or \u001b[1mfe'ers\u001b[0m for short ) is the most commonly - us\n",
      "2.0        ies a negative connotation among some \u001b[1mfe'ers\u001b[0m , but it 's largely regarded as a neu\n",
      "2.0        s . no , no one is saying that . many \u001b[1mfe'ers\u001b[0m say that nasa is simply mistaken abou\n",
      "2.0        the extent of inconsistencies between \u001b[1mfe'ers\u001b[0m , my perception is likely to diminish\n",
      "2.0        ept proposed mainly by finite - plane \u001b[1mfe'ers\u001b[0m and ( more commonly ) re'ers . it may\n",
      "2.0         for him . this is just as bad as the \u001b[1mfe'ers\u001b[0m who say things like \" if the earth we\n",
      "2.0        ndwave it away , because \" it 's just \u001b[1mfe'ers\u001b[0m denying ret experiments again \" . whe\n",
      "2.0        ll try to answer it . right . the two \u001b[1mfe'ers\u001b[0m that responded to this thread disagre\n",
      "2.0        on . if you 're not interested in the \u001b[1mfe'ers\u001b[0m perspective , that honestly does not \n"
     ]
    }
   ],
   "source": [
    "get_ngram_example([\"fe'ers\"],\n",
    "                  user_toks[clusters==0],\n",
    "                  doc_labels=user_toks[clusters==0].index, n_examples=25)"
   ]
  },
  {
   "cell_type": "code",
   "execution_count": 78,
   "metadata": {},
   "outputs": [
    {
     "name": "stdout",
     "output_type": "stream",
     "text": [
      "Distribution across users:\n",
      "Num uses per user\n",
      "user\n",
      "2.0      84\n",
      "16.0     39\n",
      "38.0     19\n",
      "709.0    10\n",
      "775.0     4\n",
      "dtype: int64\n",
      "\n",
      "Mean uses per user:\t 31.2\n",
      "Median uses per user:\t 19.0\n",
      "Wall time: 2.77 s\n"
     ]
    }
   ],
   "source": [
    "%%time\n",
    "concs = make_ngram_concordance([\"fe'ers\"],\n",
    "                               user_toks[clusters==0],\n",
    "                               doc_labels=user_toks[clusters==0].index)\n",
    "concs = pd.DataFrame(concs, columns=[\"user\", \"conc\"])\n",
    "\n",
    "\n",
    "print(\"Distribution across users:\")\n",
    "num_uses_per_user = concs.groupby(\"user\").size()\n",
    "print(\"Num uses per user\", num_uses_per_user, sep=\"\\n\", end=\"\\n\\n\")\n",
    "print(\"Mean uses per user:\\t\", num_uses_per_user.mean())\n",
    "print(\"Median uses per user:\\t\", num_uses_per_user.median())"
   ]
  },
  {
   "cell_type": "code",
   "execution_count": 79,
   "metadata": {},
   "outputs": [
    {
     "name": "stdout",
     "output_type": "stream",
     "text": [
      "Showing 25 out of 324:\n",
      "706.0      here . i see a lot of complaints from \u001b[1mfe'ers\u001b[0m that repeating the explanations over \n",
      "706.0       the wiki . but then i hear from many \u001b[1mfe'ers\u001b[0m here in the forums that the informati\n",
      "706.0      of experts ... and the only remaining \u001b[1mfe'ers\u001b[0m will be people who have not thought t\n",
      "706.0      ) why no fe predictions of eclipses ? \u001b[1mfe'ers\u001b[0m ca n't predict eclipses because there\n",
      "706.0      le to demand that similarly qualified \u001b[1mfe'ers\u001b[0m are able to do so . 2 ) why do ... pr\n",
      "706.0      oon block light from the sun ? well , \u001b[1mfe'ers\u001b[0m have already said that there is a sha\n",
      "706.0      of the moon . i 'm surprised that the \u001b[1mfe'ers\u001b[0m do n't claim that the same \" shadow o\n",
      "706.0       polaris \" . it might be tempting for \u001b[1mfe'ers\u001b[0m to claim an outer ring of the firmame\n",
      "706.0       this ... it 's a helluva stretch for \u001b[1mfe'ers\u001b[0m to explain any of these southern - he\n",
      "706.0      n one tide per day and not two . have \u001b[1mfe'ers\u001b[0m given up on this ? do you have a phot\n",
      "706.0      th be flat - does n't really convince \u001b[1mfe'ers\u001b[0m because they do n't exactly ( necessa\n",
      "706.0      curved shadow . my new problem is how \u001b[1mfe'ers\u001b[0m can explain why this \" shadow object \n",
      "706.0      nse ! perhaps - but i 'm guessing the \u001b[1mfe'ers\u001b[0m would say that the shadow object come\n",
      "706.0      ities . this makes it much harder for \u001b[1mfe'ers\u001b[0m to explain the motions of their sun a\n",
      "706.0      s midday in china or the usa . if the \u001b[1mfe'ers\u001b[0m carefully explained how all of this w\n",
      "706.0      et more and more holes . i doubt that \u001b[1mfe'ers\u001b[0m believe in plate tectonics . most of \n",
      "706.0       is bogus . busted . once again - the \u001b[1mfe'ers\u001b[0m will just say anything that came out \n",
      "706.0      r - as i 'm sure you 're aware , some \u001b[1mfe'ers\u001b[0m here do claim believe in the \" dome \"\n",
      "706.0      tory ) . if you read their wiki - the \u001b[1mfe'ers\u001b[0m here do n't believe that the flat ear\n",
      "706.0      - dome \" thing seems to come from the \u001b[1mfe'ers\u001b[0m who arrive at fet from a \" what we ca\n",
      "706.0      1 ) have a paired group of re'ers and \u001b[1mfe'ers\u001b[0m who live in widely separated location\n",
      "706.0      s the earth ? \" - and both re'ers and \u001b[1mfe'ers\u001b[0m have to go without prior assumptions \n",
      "706.0      ure ! sadly , i have to side with the \u001b[1mfe'ers\u001b[0m here . einsteins ' special relativity\n",
      "706.0      you wo n't get anywhere in talking to \u001b[1mfe'ers\u001b[0m about those things . the argument abo\n",
      "706.0       ) sun : ... well , i 'm not sure how \u001b[1mfe'ers\u001b[0m feel about solar gravity . since the \n"
     ]
    }
   ],
   "source": [
    "get_ngram_example([\"fe'ers\"],\n",
    "                  user_toks[clusters==1],\n",
    "                  doc_labels=user_toks[clusters==1].index, n_examples=25)"
   ]
  },
  {
   "cell_type": "code",
   "execution_count": 80,
   "metadata": {},
   "outputs": [
    {
     "name": "stdout",
     "output_type": "stream",
     "text": [
      "Distribution across users:\n",
      "Num uses per user\n",
      "user\n",
      "706.0     323\n",
      "1342.0      1\n",
      "dtype: int64\n",
      "\n",
      "Mean uses per user:\t 162.0\n",
      "Median uses per user:\t 162.0\n",
      "Wall time: 5.15 s\n"
     ]
    }
   ],
   "source": [
    "%%time\n",
    "concs = make_ngram_concordance([\"fe'ers\"],\n",
    "                               user_toks[clusters==1],\n",
    "                               doc_labels=user_toks[clusters==1].index)\n",
    "concs = pd.DataFrame(concs, columns=[\"user\", \"conc\"])\n",
    "\n",
    "\n",
    "print(\"Distribution across users:\")\n",
    "num_uses_per_user = concs.groupby(\"user\").size()\n",
    "print(\"Num uses per user\", num_uses_per_user, sep=\"\\n\", end=\"\\n\\n\")\n",
    "print(\"Mean uses per user:\\t\", num_uses_per_user.mean())\n",
    "print(\"Median uses per user:\\t\", num_uses_per_user.median())"
   ]
  },
  {
   "cell_type": "code",
   "execution_count": 81,
   "metadata": {},
   "outputs": [
    {
     "name": "stdout",
     "output_type": "stream",
     "text": [
      "Showing 25 out of 145:\n",
      "2.0        ! code : [ select ] to know that some \u001b[1mre'ers\u001b[0m do n't understand grade school physic\n",
      "2.0        ers together with \" to know that some \u001b[1mre'ers\u001b[0m do n't understand grade school physic\n",
      "2.0         \" , so i 'm not holding that against \u001b[1mre'ers\u001b[0m in general , but it does go a long wa\n",
      "2.0         \" unknown \" and \" untrue \" ? because \u001b[1mre'ers\u001b[0m sure like to conflate the two when it\n",
      "2.0        ld favourite of mine was to challenge \u001b[1mre'ers\u001b[0m to demonstrate that bananas attract e\n",
      "2.0        ng bored with flogging a dead horse ( \u001b[1mre'ers\u001b[0m refusing to acknowledge our points an\n",
      "2.0        forum . it 's just a circle - jerk of \u001b[1mre'ers\u001b[0m talking about how smart they think th\n",
      "2.0        sadly you failed . since according to \u001b[1mre'ers\u001b[0m the cavendish experiment clearly work\n",
      "2.0        u still here ? i have no problem with \u001b[1mre'ers\u001b[0m . i have a problem with people who co\n",
      "2.0        very point of scepticism . unlike the \u001b[1mre'ers\u001b[0m who visit here to act all high and mi\n",
      "2.0        oint ? no one makes that assumption - \u001b[1mre'ers\u001b[0m just like to think that we do . in re\n",
      "2.0        ally , the agreement among mainstream \u001b[1mre'ers\u001b[0m appears to be that refraction can onl\n",
      "2.0         you prefer that we had n't mentioned \u001b[1mre'ers\u001b[0m performing the same experiment and di\n",
      "2.0        ear weapons . i do n't understand why \u001b[1mre'ers\u001b[0m get so upset when someone calls them \n",
      "2.0        pproaching a certain type of entitled \u001b[1mre'ers\u001b[0m , of which you happen to be a promine\n",
      "2.0        read the smug drivel of \" redpilled \" \u001b[1mre'ers\u001b[0m , i 'd go somewhere else than the fla\n",
      "2.0        'm not an admin . what is it with you \u001b[1mre'ers\u001b[0m never getting things right ? and even\n",
      "2.0        ested : think before you post . petty \u001b[1mre'ers\u001b[0m always seem confused by this one . ye\n",
      "2.0        was involved : this is just a case of \u001b[1mre'ers\u001b[0m going \" nuh uh evidence don't real \" \n",
      "2.0        you 've just diverged from mainstream \u001b[1mre'ers\u001b[0m so much that you pretty much ca n't b\n",
      "2.0        lly found an fe 'er who claims that ? \u001b[1mre'ers\u001b[0m love to talk about how these people a\n",
      "2.0        d that i 'm generally uninterested in \u001b[1mre'ers\u001b[0m whining about how they do n't like fe\n",
      "2.0        ved to be a floating \" ice shelf \" by \u001b[1mre'ers\u001b[0m , but this does not make it inaccurat\n",
      "2.0        t to harm our momentum . sure , a few \u001b[1mre'ers\u001b[0m are bitter because their constant shi\n",
      "2.0        onvinced that i 'm wrong , but so far \u001b[1mre'ers\u001b[0m ' convictions are interesting thought\n"
     ]
    }
   ],
   "source": [
    "get_ngram_example([\"re'ers\"],\n",
    "                  user_toks[clusters==0],\n",
    "                  doc_labels=user_toks[clusters==0].index, n_examples=25)"
   ]
  },
  {
   "cell_type": "code",
   "execution_count": 82,
   "metadata": {},
   "outputs": [
    {
     "name": "stdout",
     "output_type": "stream",
     "text": [
      "Distribution across users:\n",
      "Num uses per user\n",
      "user\n",
      "2.0      115\n",
      "16.0      12\n",
      "38.0      16\n",
      "709.0      2\n",
      "dtype: int64\n",
      "\n",
      "Mean uses per user:\t 36.25\n",
      "Median uses per user:\t 14.0\n",
      "Wall time: 3.12 s\n"
     ]
    }
   ],
   "source": [
    "%%time\n",
    "concs = make_ngram_concordance([\"re'ers\"],\n",
    "                               user_toks[clusters==0],\n",
    "                               doc_labels=user_toks[clusters==0].index)\n",
    "concs = pd.DataFrame(concs, columns=[\"user\", \"conc\"])\n",
    "\n",
    "\n",
    "print(\"Distribution across users:\")\n",
    "num_uses_per_user = concs.groupby(\"user\").size()\n",
    "print(\"Num uses per user\", num_uses_per_user, sep=\"\\n\", end=\"\\n\\n\")\n",
    "print(\"Mean uses per user:\\t\", num_uses_per_user.mean())\n",
    "print(\"Median uses per user:\\t\", num_uses_per_user.median())"
   ]
  },
  {
   "cell_type": "code",
   "execution_count": 83,
   "metadata": {},
   "outputs": [
    {
     "name": "stdout",
     "output_type": "stream",
     "text": [
      "Showing 25 out of 50:\n",
      "706.0      ki ... which will hand victory to the \u001b[1mre'ers\u001b[0m . a good example of this is the quest\n",
      "706.0      . so ... how does the experience that \u001b[1mre'ers\u001b[0m call \" gravity \" operate in fet ? * s\n",
      "706.0      ree that the wiki does not say that . \u001b[1mre'ers\u001b[0m who come here to discuss such things \n",
      "706.0       's time : 1 ) have a paired group of \u001b[1mre'ers\u001b[0m and fe'ers who live in widely separat\n",
      "706.0      hat shape is the earth ? \" - and both \u001b[1mre'ers\u001b[0m and fe'ers have to go without prior a\n",
      "706.0      lly found an fe 'er who claims that ? \u001b[1mre'ers\u001b[0m love to talk about how these people a\n",
      "706.0      n . ok . ( i apologize - sometimes we \u001b[1mre'ers\u001b[0m have a hard time getting our heads ar\n",
      "706.0       entire universe that both fe'ers and \u001b[1mre'ers\u001b[0m can agree upon - it 's that the he'er\n",
      "706.0      i vote we find three fe'ers and three \u001b[1mre'ers\u001b[0m with cameras - two who live in the uk\n",
      "706.0      if it 's done honestly by fe 'ers and \u001b[1mre'ers\u001b[0m and we can compare their shots - then\n",
      "706.0       . the \" teleportation \" over what we \u001b[1mre'ers\u001b[0m would call \" the south pole \" is prob\n",
      "706.0      ere . what this does is to prove what \u001b[1mre'ers\u001b[0m such as myself have been saying all a\n",
      "706.0      if provided with that evidence , then \u001b[1mre'ers\u001b[0m should be prepared to debunk that . d\n",
      "706.0      ativity . the first complaint of most \u001b[1mre'ers\u001b[0m about this is that after a billion ye\n",
      "706.0      ee . instead , they 'll simply accuse \u001b[1mre'ers\u001b[0m of faking evidence , \" photoshopping \n",
      "706.0      ntly a complete mystery to fe'ers and \u001b[1mre'ers\u001b[0m alike . now , tom is on record as say\n",
      "706.0       concrete statement of an fe fact the \u001b[1mre'ers\u001b[0m come along and concretely disprove it\n",
      "706.0      e now ... in numerous other threads , \u001b[1mre'ers\u001b[0m like myself point out that airline - \n",
      "706.0       getting bored with that debate - the \u001b[1mre'ers\u001b[0m have won it 20 ways . so it 's time t\n",
      "706.0      y normal cartesian universe that both \u001b[1mre'ers\u001b[0m and fe'ers occupy . ( i 'm not a flat\n",
      "706.0      th \" tfes \" to the same extent as the \u001b[1mre'ers\u001b[0m are ) . i would not like to be in the\n",
      "706.0       . you act as though it is the job of \u001b[1mre'ers\u001b[0m to prove you wrong - but in truth , t\n",
      "706.0      rom his eternal slumber ) . hmmm - we \u001b[1mre'ers\u001b[0m should have worked a bit harder on th\n",
      "706.0      of admission ! :-) by analogy , maybe \u001b[1mre'ers\u001b[0m should be called \" rotflers \" ... we \n",
      "706.0      e of these ... ( below ) ... then the \u001b[1mre'ers\u001b[0m can immediately use those distances t\n"
     ]
    }
   ],
   "source": [
    "get_ngram_example([\"re'ers\"],\n",
    "                  user_toks[clusters==1],\n",
    "                  doc_labels=user_toks[clusters==1].index, n_examples=25)"
   ]
  },
  {
   "cell_type": "code",
   "execution_count": 84,
   "metadata": {},
   "outputs": [
    {
     "name": "stdout",
     "output_type": "stream",
     "text": [
      "Showing 25 out of 152:\n",
      "2.0        er well . unfortunately , not all \u001b[1mflat earthers\u001b[0m are zeteticists , and we do have \n",
      "2.0         comments from round earthers and \u001b[1mflat earthers\u001b[0m alike , i would like to ask every\n",
      "2.0         answering questions on behalf of \u001b[1mflat earthers\u001b[0m , especially if you 're going to \n",
      "2.0        . a bunch of the things you say \" \u001b[1mflat earthers\u001b[0m \" claim simply do not apply to th\n",
      "2.0        ng something along the lines of \" \u001b[1mflat earthers\u001b[0m claim that 2+2=5 and that is wron\n",
      "2.0        ere , welcome to the forum . most \u001b[1mflat earthers\u001b[0m are primarily concerned with the \n",
      "2.0        nestly do n't think there are any \u001b[1mflat earthers\u001b[0m here who would claim california a\n",
      "2.0        up a relatively small minority of \u001b[1mflat earthers\u001b[0m , very far from your alleged \" al\n",
      "2.0        way to carry on doing his thing . \u001b[1mflat earthers\u001b[0m ( or fe'ers for short ) is the mo\n",
      "2.0        adbible ( click ) 21/08/2017 what \u001b[1mflat earthers\u001b[0m are saying about the total solar \n",
      "2.0         global news ( click ) 30/10/2017 \u001b[1mflat earthers\u001b[0m to elon musk : mars is round , si\n",
      "2.0         ladbible ( click ) 29/11/2017 do \u001b[1mflat earthers\u001b[0m believe other planets are flat to\n",
      "2.0        ck ) 30/11/2017 elon musk vs. the \u001b[1mflat earthers\u001b[0m : is mars flat too ? national pos\n",
      "2.0        ( click ) 02/12/2017 we asked two \u001b[1mflat earthers\u001b[0m : what about the other planets ? \n",
      "2.0         10/02/2018 falcon heavy a hoax ? \u001b[1mflat earthers\u001b[0m imply recent space x launch was f\n",
      "2.0        different from that of many other \u001b[1mflat earthers\u001b[0m - i came here to defend round ear\n",
      "2.0        y and large identical to how most \u001b[1mflat earthers\u001b[0m operate , while the former is fai\n",
      "2.0        contradicts my understanding that \u001b[1mflat earthers\u001b[0m are not overwhelmingly religious \n",
      "2.0        nce to ) , he simply asserts what \u001b[1mflat earthers\u001b[0m believe based on ... well , i dun\n",
      "2.0        a that this somehow disproves all \u001b[1mflat earthers\u001b[0m ' views . would you please clarif\n",
      "2.0        nt call depending on individual . \u001b[1mflat earthers\u001b[0m have been subjected to physical a\n",
      "2.0        ve been trying to pull your leg . \u001b[1mflat earthers\u001b[0m tend to understand the round eart\n",
      "2.0        t . i have not seen any of this \" \u001b[1mflat earthers\u001b[0m all jumping on it , not aware it \n",
      "2.0        earth . there are large groups of \u001b[1mflat earthers\u001b[0m who explicitly base their fe beli\n",
      "2.0        rtant to highlight that plenty of \u001b[1mflat earthers\u001b[0m on social media ( especially twit\n"
     ]
    }
   ],
   "source": [
    "get_ngram_example([\"flat\", \"earthers\"],\n",
    "                  user_toks[clusters==0],\n",
    "                  doc_labels=user_toks[clusters==0].index, n_examples=25)"
   ]
  },
  {
   "cell_type": "code",
   "execution_count": 85,
   "metadata": {},
   "outputs": [
    {
     "name": "stdout",
     "output_type": "stream",
     "text": [
      "Distribution across users:\n",
      "Num uses per user\n",
      "user\n",
      "2.0       31\n",
      "16.0       1\n",
      "38.0      30\n",
      "464.0     33\n",
      "709.0      4\n",
      "843.0     10\n",
      "1206.0    42\n",
      "1804.0     1\n",
      "dtype: int64\n",
      "\n",
      "Mean uses per user:\t 19.0\n",
      "Median uses per user:\t 20.0\n",
      "Wall time: 3.04 s\n"
     ]
    }
   ],
   "source": [
    "%%time\n",
    "concs = make_ngram_concordance([\"flat\", \"earthers\"],\n",
    "                               user_toks[clusters==0],\n",
    "                               doc_labels=user_toks[clusters==0].index)\n",
    "concs = pd.DataFrame(concs, columns=[\"user\", \"conc\"])\n",
    "\n",
    "print(\"Distribution across users:\")\n",
    "num_uses_per_user = concs.groupby(\"user\").size()\n",
    "print(\"Num uses per user\", num_uses_per_user, sep=\"\\n\", end=\"\\n\\n\")\n",
    "print(\"Mean uses per user:\\t\", num_uses_per_user.mean())\n",
    "print(\"Median uses per user:\\t\", num_uses_per_user.median())"
   ]
  },
  {
   "cell_type": "code",
   "execution_count": 86,
   "metadata": {},
   "outputs": [
    {
     "name": "stdout",
     "output_type": "stream",
     "text": [
      "Showing 25 out of 200:\n",
      "315.0      ht it was the south pole that the \u001b[1mflat earthers\u001b[0m claim does not exist , yet it is \n",
      "315.0      t all accept the \" bible \" of all \u001b[1mflat earthers\u001b[0m ! for myself , i find all this be\n",
      "315.0      it might be understandable . many \u001b[1mflat earthers\u001b[0m ( including gotham in \" the other\n",
      "315.0       before , but it seems to me that \u001b[1mflat earthers\u001b[0m look out the window ( or out to s\n",
      "315.0      the globe earth ! yet i have seen \u001b[1mflat earthers\u001b[0m ( maybe not you ) call newton an \n",
      "315.0      lot of the problem is that so few \u001b[1mflat earthers\u001b[0m take the trouble to find out how \n",
      "315.0      e gleason 's map is often used by \u001b[1mflat earthers\u001b[0m , it is not the \" official map \" \n",
      "315.0      t fit on a plane surface . we ask \u001b[1mflat earthers\u001b[0m to come with their measurements o\n",
      "315.0      ioning the measurements , yet all \u001b[1mflat earthers\u001b[0m just ignore it ! [ 1 ] before the\n",
      "315.0       needs a bit of magic sometimes . \u001b[1mflat earthers\u001b[0m seem to have no concept of time s\n",
      "315.0      e gleason 's map is often used by \u001b[1mflat earthers\u001b[0m , it is not the \" official map \" \n",
      "315.0       uses . have a look in . and many \u001b[1mflat earthers\u001b[0m insist that gleason 's is a \" fla\n",
      "315.0      ing these known dimensions . some \u001b[1mflat earthers\u001b[0m ( tom bishop and probably john da\n",
      "315.0      ee . \" open you eyes ! the do say \u001b[1mflat earthers\u001b[0m follow the zetetic cosmology ! i \n",
      "315.0       dismiss cavendish * ( as so many \u001b[1mflat earthers\u001b[0m try to ) , just remember the valu\n",
      "315.0      most places . i would say that if \u001b[1mflat earthers\u001b[0m have no answer to what cavendish \n",
      "315.0      miss cavendish [ 1 ] ( as so many \u001b[1mflat earthers\u001b[0m try to ) , just remember the valu\n",
      "315.0      i 'm not right . mind you i think \u001b[1mflat earthers\u001b[0m live on a different earth . mind \n",
      "315.0      earth assumptions \" magic \" , but \u001b[1mflat earthers\u001b[0m are quite happy to call gravity m\n",
      "315.0      eers doing the planning . so many \u001b[1mflat earthers\u001b[0m seem to only read and look at mat\n",
      "315.0      ook at material prepared by other \u001b[1mflat earthers\u001b[0m that they never see the wider pic\n",
      "315.0      streaks of the star trails . most \u001b[1mflat earthers\u001b[0m seem to have this sort of reactio\n",
      "315.0      s site this applies to almost all \u001b[1mflat earthers\u001b[0m . so , what is the shape of the e\n",
      "315.0      rified \" evidence would dedicated \u001b[1mflat earthers\u001b[0m accept . any evidence collected i\n",
      "315.0      n a plane surface ! indoctrinated \u001b[1mflat earthers\u001b[0m simply can not be convinced by ev\n"
     ]
    }
   ],
   "source": [
    "get_ngram_example([\"flat\", \"earthers\"],\n",
    "                  user_toks[clusters==1],\n",
    "                  doc_labels=user_toks[clusters==1].index, n_examples=25)"
   ]
  },
  {
   "cell_type": "code",
   "execution_count": 87,
   "metadata": {},
   "outputs": [
    {
     "name": "stdout",
     "output_type": "stream",
     "text": [
      "Distribution across users:\n",
      "Num uses per user\n",
      "user\n",
      "315.0     112\n",
      "376.0      12\n",
      "706.0      36\n",
      "1342.0      2\n",
      "1423.0     19\n",
      "1448.0      8\n",
      "1500.0      8\n",
      "1584.0      3\n",
      "dtype: int64\n",
      "\n",
      "Mean uses per user:\t 25.0\n",
      "Median uses per user:\t 10.0\n",
      "Wall time: 2.72 s\n"
     ]
    }
   ],
   "source": [
    "%%time\n",
    "concs = make_ngram_concordance([\"flat\", \"earthers\"],\n",
    "                               user_toks[clusters==1],\n",
    "                               doc_labels=user_toks[clusters==1].index)\n",
    "concs = pd.DataFrame(concs, columns=[\"user\", \"conc\"])\n",
    "\n",
    "print(\"Distribution across users:\")\n",
    "num_uses_per_user = concs.groupby(\"user\").size()\n",
    "print(\"Num uses per user\", num_uses_per_user, sep=\"\\n\", end=\"\\n\\n\")\n",
    "print(\"Mean uses per user:\\t\", num_uses_per_user.mean())\n",
    "print(\"Median uses per user:\\t\", num_uses_per_user.median())"
   ]
  },
  {
   "cell_type": "code",
   "execution_count": 88,
   "metadata": {},
   "outputs": [
    {
     "name": "stdout",
     "output_type": "stream",
     "text": [
      "Showing 25 out of 82:\n",
      "2.0        l be helpful here : ( attention , \u001b[1mround earthers\u001b[0m : not to scale ) the mass of the \n",
      "2.0        r views . even the most laughable \u001b[1mround earthers\u001b[0m at least make an effort . you , o\n",
      "2.0         round earth is much smaller than \u001b[1mround earthers\u001b[0m would have you believe . where cu\n",
      "2.0        internet and are well accepted by \u001b[1mround earthers\u001b[0m . a quick google search to the ef\n",
      "2.0        y our village idiot , jura . some \u001b[1mround earthers\u001b[0m are very upset by our site 's exi\n",
      "2.0        bviously appreciate comments from \u001b[1mround earthers\u001b[0m and flat earthers alike , i would\n",
      "2.0        ervation strikes me as accurate . \u001b[1mround earthers\u001b[0m have a strange sense of entitleme\n",
      "2.0        ause of it . well , yeah , except \u001b[1mround earthers\u001b[0m claim that they 've already surve\n",
      "2.0        al treatment . a certain group of \u001b[1mround earthers\u001b[0m , very notably including andruszk\n",
      "2.0        , we have a small group of bitter \u001b[1mround earthers\u001b[0m who feel honour - bound to spit v\n",
      "2.0        lain the stupid things some other \u001b[1mround earthers\u001b[0m may have said here in the past . \n",
      "2.0        owing is not a projection : yes , \u001b[1mround earthers\u001b[0m like to call it that . your point\n",
      "2.0        es of you ? and , just to confirm \u001b[1mround earthers\u001b[0m did n't re-invent mathematics yet\n",
      "2.0        , a common debating strategy that \u001b[1mround earthers\u001b[0m use is to take something that no \n",
      "2.0        find it interesting that the same \u001b[1mround earthers\u001b[0m take things that are provably not\n",
      "2.0        ll to something more palatable to \u001b[1mround earthers\u001b[0m , because this is not a re wiki .\n",
      "2.0         but much smaller than mainstream \u001b[1mround earthers\u001b[0m would have you believe ? this see\n",
      "2.0        e necro'd , not even the resident \u001b[1mround earthers\u001b[0m had much love for how it depicted\n",
      "2.0        among some of the more passionate \u001b[1mround earthers\u001b[0m which goes along the lines of \" i\n",
      "2.0        locity and acceleration . how can \u001b[1mround earthers\u001b[0m claim to be serious when they mak\n",
      "2.0        't be happy with me saying that \" \u001b[1mround earthers\u001b[0m believe this \" . selenelion - i c\n",
      "38.0       he .org forum where we challenged \u001b[1mround earthers\u001b[0m to find a radar or laser bounce m\n",
      "38.0        that link need to be explained . \u001b[1mround earthers\u001b[0m must be willing to step up to the\n",
      "38.0       c events to precision . in fact , \u001b[1mround earthers\u001b[0m are notorious for using ancient b\n",
      "38.0       ople claiming 100 % certainty are \u001b[1mround earthers\u001b[0m . the zetetic philosophy back to \n"
     ]
    }
   ],
   "source": [
    "get_ngram_example([\"round\", \"earthers\"],\n",
    "                  user_toks[clusters==0],\n",
    "                  doc_labels=user_toks[clusters==0].index, n_examples=25)"
   ]
  },
  {
   "cell_type": "code",
   "execution_count": 89,
   "metadata": {},
   "outputs": [
    {
     "name": "stdout",
     "output_type": "stream",
     "text": [
      "Distribution across users:\n",
      "Num uses per user\n",
      "user\n",
      "2.0       21\n",
      "38.0      17\n",
      "464.0      2\n",
      "1206.0    19\n",
      "1804.0    23\n",
      "dtype: int64\n",
      "\n",
      "Mean uses per user:\t 16.4\n",
      "Median uses per user:\t 19.0\n",
      "Wall time: 1.83 s\n"
     ]
    }
   ],
   "source": [
    "%%time\n",
    "concs = make_ngram_concordance([\"round\", \"earthers\"],\n",
    "                               user_toks[clusters==0],\n",
    "                               doc_labels=user_toks[clusters==0].index)\n",
    "concs = pd.DataFrame(concs, columns=[\"user\", \"conc\"])\n",
    "\n",
    "print(\"Distribution across users:\")\n",
    "num_uses_per_user = concs.groupby(\"user\").size()\n",
    "print(\"Num uses per user\", num_uses_per_user, sep=\"\\n\", end=\"\\n\\n\")\n",
    "print(\"Mean uses per user:\\t\", num_uses_per_user.mean())\n",
    "print(\"Median uses per user:\\t\", num_uses_per_user.median())"
   ]
  },
  {
   "cell_type": "code",
   "execution_count": 90,
   "metadata": {},
   "outputs": [
    {
     "name": "stdout",
     "output_type": "stream",
     "text": [
      "Showing 25 out of 30:\n",
      "315.0      r earth is round , so you are the \u001b[1mround earthers\u001b[0m . we are the globe earthers - i k\n",
      "315.0       do you base your claim on that \" \u001b[1mround earthers\u001b[0m \" think \" that disappearing from \n",
      "376.0      ng to win the debate . much as we \u001b[1mround earthers\u001b[0m here try to do . ( saying nothing\n",
      "376.0      either as rowbotham says ( and we \u001b[1mround earthers\u001b[0m agree ) thicker air refracts ligh\n",
      "376.0       , but nine of them are my fellow \u001b[1mround earthers\u001b[0m . it drew only one serious reply \n",
      "376.0      r offers objection to any one but \u001b[1mround earthers\u001b[0m ) and two other non-serious flat \n",
      "376.0      te usernames created by one of us \u001b[1mround earthers\u001b[0m . military folks like you and me \n",
      "376.0      having a laugh , the responses of \u001b[1mround earthers\u001b[0m like me would be the whole point \n",
      "376.0      ng it . this is good too , and we \u001b[1mround earthers\u001b[0m have often answered this without \n",
      "376.0      better and better ! are there any \u001b[1mround earthers\u001b[0m who still get to talk to intikam \n",
      "376.0      ght bends \" . no worries , mate : \u001b[1mround earthers\u001b[0m wo n't say that ! problem is , th\n",
      "376.0       sun at all . honestly , tom , we \u001b[1mround earthers\u001b[0m read your stupid book more often \n",
      "376.0      other than the australians here ( \u001b[1mround earthers\u001b[0m all ) you probably live closer to\n",
      "376.0      sides . that 's not quite right . \u001b[1mround earthers\u001b[0m are the ones who point out that i\n",
      "706.0       hugely sophisticated fake . dear \u001b[1mround earthers\u001b[0m : it 's really rather pointless a\n",
      "706.0      ain , i say we have a win for the \u001b[1mround earthers\u001b[0m . then we get into the mire as to\n",
      "706.0       , the fault here lies with naive \u001b[1mround earthers\u001b[0m who repeatedly say : \" look how s\n",
      "706.0      pen ? that 's the question here . \u001b[1mround earthers\u001b[0m ( and every physicist on the plan\n",
      "1342.0     f data on others . \" with all you \u001b[1mround earthers\u001b[0m on this forum , you would think a\n",
      "1423.0     use them they are not accepted by \u001b[1mround earthers\u001b[0m because it has a scale which chan\n",
      "1423.0      an inch ) both flat earthers and \u001b[1mround earthers\u001b[0m have acknowledged that these opti\n",
      "1423.0     issing evidence is something that \u001b[1mround earthers\u001b[0m can be equally dismissive of . al\n",
      "1423.0     of . although i have seen several \u001b[1mround earthers\u001b[0m admit when evidence suggests the \n",
      "1423.0     nstead . the problem here is that \u001b[1mround earthers\u001b[0m and flat earthers alike ( along w\n",
      "1423.0     ween being round and flat . which \u001b[1mround earthers\u001b[0m and flat earthers alike will both\n"
     ]
    }
   ],
   "source": [
    "get_ngram_example([\"round\", \"earthers\"],\n",
    "                  user_toks[clusters==1],\n",
    "                  doc_labels=user_toks[clusters==1].index, n_examples=25)"
   ]
  },
  {
   "cell_type": "code",
   "execution_count": 91,
   "metadata": {},
   "outputs": [
    {
     "name": "stdout",
     "output_type": "stream",
     "text": [
      "Distribution across users:\n",
      "Num uses per user\n",
      "user\n",
      "315.0      2\n",
      "376.0     12\n",
      "706.0      4\n",
      "1342.0     1\n",
      "1423.0     8\n",
      "1448.0     3\n",
      "dtype: int64\n",
      "\n",
      "Mean uses per user:\t 5.0\n",
      "Median uses per user:\t 3.5\n",
      "Wall time: 440 ms\n"
     ]
    }
   ],
   "source": [
    "%%time\n",
    "concs = make_ngram_concordance([\"round\", \"earthers\"],\n",
    "                               user_toks[clusters==1],\n",
    "                               doc_labels=user_toks[clusters==1].index)\n",
    "concs = pd.DataFrame(concs, columns=[\"user\", \"conc\"])\n",
    "\n",
    "print(\"Distribution across users:\")\n",
    "num_uses_per_user = concs.groupby(\"user\").size()\n",
    "print(\"Num uses per user\", num_uses_per_user, sep=\"\\n\", end=\"\\n\\n\")\n",
    "print(\"Mean uses per user:\\t\", num_uses_per_user.mean())\n",
    "print(\"Median uses per user:\\t\", num_uses_per_user.median())"
   ]
  },
  {
   "cell_type": "code",
   "execution_count": 92,
   "metadata": {
    "scrolled": false
   },
   "outputs": [
    {
     "name": "stdout",
     "output_type": "stream",
     "text": [
      "Showing 25 out of 303:\n",
      "2.0         , it does quite clearly say that the \u001b[1mburden\u001b[0m of proof is on the person asserting t\n",
      "2.0        wman attacks . if it 's really such a \u001b[1mburden\u001b[0m to respond to my posts and not your m\n",
      "2.0         it 's a poor attempt at shifting the \u001b[1mburden\u001b[0m of proof , and so i wo n't entertain \n",
      "2.0        re beyond such an obvious reversal of \u001b[1mburden\u001b[0m of proof ? you and your chinese frien\n",
      "2.0        ly await from our friend . the phrase \u001b[1mburden\u001b[0m of proof is fairly well - understood \n",
      "2.0        ple said it \" . this is a reversal of \u001b[1mburden\u001b[0m of proof , and we should n't be engag\n",
      "2.0        t , you 're attempting to reverse the \u001b[1mburden\u001b[0m of proof , which rarely works . irrel\n",
      "2.0        ctual honesty . your understanding of \u001b[1mburden\u001b[0m of proof , and of context in human co\n",
      "2.0        ce , you do n't get to just shrug the \u001b[1mburden\u001b[0m of proof off with a \" nuh - uh , you \n",
      "2.0         prove . it has everything to do with \u001b[1mburden\u001b[0m of proof . you made a claim you ca n'\n",
      "2.0        s a pathetic attempt at reversing the \u001b[1mburden\u001b[0m of proof here . you 're the claimant \n",
      "2.0        um . i 'm sorry , that 's not how the \u001b[1mburden\u001b[0m of proof works . substantiate your ow\n",
      "2.0         claims without trying to reverse the \u001b[1mburden\u001b[0m of proof . if he has evidence that th\n",
      "2.0        n't talk to each other too much . the \u001b[1mburden\u001b[0m , nay , the responsibility is on yout\n",
      "16.0       ive and negative claims regarding the \u001b[1mburden\u001b[0m assumed by the one making the claim .\n",
      "16.0        negative claim and therefore incur a \u001b[1mburden\u001b[0m to support that negative claim . i th\n",
      "16.0        tom , payment has nothing to do with \u001b[1mburden\u001b[0m so please refrain from such inane com\n",
      "16.0       ysis , therefore you have not met the \u001b[1mburden\u001b[0m of your claim that the earth 's magne\n",
      "16.0       uppose would be required to meet that \u001b[1mburden\u001b[0m of proof ? yes , it sounds like that \n",
      "16.0       for definitions of occam 's razor and \u001b[1mburden\u001b[0m of proof to find out how they relate \n",
      "16.0       realize that science does n't rely on \u001b[1mburden\u001b[0m of proof as much as preponderance of \n",
      "16.0       e : tom , while you 're rewriting the \u001b[1mburden\u001b[0m of proof article , you may want to an\n",
      "16.0       eed provide in order to satisfy their \u001b[1mburden\u001b[0m ? this question has been asked many t\n",
      "32.0       amic gnome or a lead weight , but the \u001b[1mburden\u001b[0m of proof is yours to show it does , s\n",
      "32.0       racity of yours , so do not shift the \u001b[1mburden\u001b[0m of proof so quickly . you did not eve\n"
     ]
    }
   ],
   "source": [
    "get_ngram_example([\"burden\"],\n",
    "                  user_toks[clusters==0],\n",
    "                  doc_labels=user_toks[clusters==0].index, n_examples=25)"
   ]
  },
  {
   "cell_type": "code",
   "execution_count": 93,
   "metadata": {},
   "outputs": [
    {
     "name": "stdout",
     "output_type": "stream",
     "text": [
      "Distribution across users:\n",
      "Num uses per user\n",
      "user\n",
      "2.0        14\n",
      "16.0        9\n",
      "32.0       22\n",
      "38.0      168\n",
      "99.0        6\n",
      "464.0      18\n",
      "709.0       6\n",
      "775.0      12\n",
      "843.0       5\n",
      "1206.0     24\n",
      "1804.0     19\n",
      "dtype: int64\n",
      "\n",
      "Mean uses per user:\t 27.545454545454547\n",
      "Median uses per user:\t 14.0\n",
      "Wall time: 8.42 s\n"
     ]
    }
   ],
   "source": [
    "%%time\n",
    "concs = make_ngram_concordance([\"burden\"],\n",
    "                               user_toks[clusters==0],\n",
    "                               doc_labels=user_toks[clusters==0].index)\n",
    "concs = pd.DataFrame(concs, columns=[\"user\", \"conc\"])\n",
    "print(\"Distribution across users:\")\n",
    "num_uses_per_user = concs.groupby(\"user\").size()\n",
    "print(\"Num uses per user\", num_uses_per_user, sep=\"\\n\", end=\"\\n\\n\")\n",
    "print(\"Mean uses per user:\\t\", num_uses_per_user.mean())\n",
    "print(\"Median uses per user:\\t\", num_uses_per_user.median())"
   ]
  },
  {
   "cell_type": "code",
   "execution_count": 94,
   "metadata": {},
   "outputs": [
    {
     "name": "stdout",
     "output_type": "stream",
     "text": [
      "Showing 25 out of 30:\n",
      "62.0       g . the use of the words ' we ' and ' \u001b[1mburden\u001b[0m ' , the strange style of writing and \n",
      "62.0       ill want your proof it 's a set . the \u001b[1mburden\u001b[0m is on you . how do you explain the pa\n",
      "376.0      inary claim such as this , you accept \u001b[1mburden\u001b[0m of proof : why do n't you go out and \n",
      "376.0      ltiplication . you 've made a claim , \u001b[1mburden\u001b[0m of proof is on you . spending per cap\n",
      "376.0       sitting down , tom admitted that the \u001b[1mburden\u001b[0m of proof lies with him ? we donâ t\n",
      "706.0       know this is a fact . in truth - the \u001b[1mburden\u001b[0m of proof is on you flat earth folks .\n",
      "706.0      her reasons . if you were placing the \u001b[1mburden\u001b[0m of proof on the fe'ers ( which would \n",
      "706.0      see flat earthers ' claiming that the \u001b[1mburden\u001b[0m of proof is on round - earthers to sh\n",
      "706.0      e first section about \" holder of the \u001b[1mburden\u001b[0m \" . i would say that the fe'ers are c\n",
      "706.0       the following section \" shifting the \u001b[1mburden\u001b[0m of proof \" is also interesting in thi\n",
      "706.0      what goes wrong in fe debates . the \" \u001b[1mburden\u001b[0m of proof \" should flip over to their \n",
      "706.0      ch in rational debate should flip the \u001b[1mburden\u001b[0m of proof over to the fe'ers . but wha\n",
      "706.0      at the fe'ers failed to take up their \u001b[1mburden\u001b[0m and supply a counter - argument . in \n",
      "706.0       the proposed disproof of x flips the \u001b[1mburden\u001b[0m of proof over to the other side - and\n",
      "1342.0     tell . not assume . your claim . your \u001b[1mburden\u001b[0m . detect . not produce photographic i\n",
      "1423.0     dy problem . when i was in debate the \u001b[1mburden\u001b[0m of proof fell upon both sides . in la\n",
      "1423.0     oof fell upon both sides . in law the \u001b[1mburden\u001b[0m of proof only falls on the prosecutio\n",
      "1448.0     i faked it . bob : i do n't have to . \u001b[1mburden\u001b[0m of proof is on you . tom : ? i think \n",
      "1448.0     he photographic evidence , you have a \u001b[1mburden\u001b[0m of proof to explain why . are youtube\n",
      "1448.0     ic you use to shift the focus and the \u001b[1mburden\u001b[0m of proof . if h ( a finite point ) is\n",
      "1448.0     to insulate yourself from bearing the \u001b[1mburden\u001b[0m of proof yourself . if h is finite , \n",
      "1448.0      be disproved vice having to bear the \u001b[1mburden\u001b[0m of proving it . show that perspective\n",
      "1448.0      true by \" default \" and shifting the \u001b[1mburden\u001b[0m to the counter demonstration to dispr\n",
      "1448.0     ou of your previous insistence on the \u001b[1mburden\u001b[0m of proof for a positive claim , the s\n",
      "1500.0      why you were warned . where does the \u001b[1mburden\u001b[0m of proof lie ? in any case , you igno\n"
     ]
    }
   ],
   "source": [
    "get_ngram_example([\"burden\"],\n",
    "                  user_toks[clusters==1],\n",
    "                  doc_labels=user_toks[clusters==1].index, n_examples=25)"
   ]
  },
  {
   "cell_type": "code",
   "execution_count": 95,
   "metadata": {},
   "outputs": [
    {
     "name": "stdout",
     "output_type": "stream",
     "text": [
      "Distribution across users:\n",
      "Num uses per user\n",
      "user\n",
      "62.0      2\n",
      "376.0     3\n",
      "706.0     9\n",
      "1342.0    1\n",
      "1423.0    2\n",
      "1448.0    7\n",
      "1500.0    5\n",
      "1584.0    1\n",
      "dtype: int64\n",
      "\n",
      "Mean uses per user:\t 3.75\n",
      "Median uses per user:\t 2.5\n",
      "Wall time: 483 ms\n"
     ]
    }
   ],
   "source": [
    "%%time\n",
    "concs = make_ngram_concordance([\"burden\"],\n",
    "                               user_toks[clusters==1],\n",
    "                               doc_labels=user_toks[clusters==1].index)\n",
    "concs = pd.DataFrame(concs, columns=[\"user\", \"conc\"])\n",
    "\n",
    "print(\"Distribution across users:\")\n",
    "num_uses_per_user = concs.groupby(\"user\").size()\n",
    "print(\"Num uses per user\", num_uses_per_user, sep=\"\\n\", end=\"\\n\\n\")\n",
    "print(\"Mean uses per user:\\t\", num_uses_per_user.mean())\n",
    "print(\"Median uses per user:\\t\", num_uses_per_user.median())"
   ]
  },
  {
   "cell_type": "code",
   "execution_count": 96,
   "metadata": {},
   "outputs": [
    {
     "data": {
      "text/plain": [
       "'Top 20 users responsible for 42% of posts in FE sections'"
      ]
     },
     "execution_count": 96,
     "metadata": {},
     "output_type": "execute_result"
    }
   ],
   "source": [
    "f'Top 20 users responsible for {fe_posts.query(\"poster_id in @top_20.index\").shape[0] / fe_posts.shape[0] * 100:.0f}% of posts in FE sections'"
   ]
  },
  {
   "cell_type": "markdown",
   "metadata": {},
   "source": [
    "# Some Stats About FE Belief"
   ]
  },
  {
   "cell_type": "code",
   "execution_count": 97,
   "metadata": {},
   "outputs": [
    {
     "data": {
      "text/plain": [
       "poster_id\n",
       "2.0        FE\n",
       "16.0       RE\n",
       "32.0      UNK\n",
       "38.0       FE\n",
       "62.0       RE\n",
       "99.0       RE\n",
       "315.0      RE\n",
       "376.0      RE\n",
       "464.0      RE\n",
       "706.0      RE\n",
       "709.0      RE\n",
       "775.0      RE\n",
       "843.0      RE\n",
       "1206.0     RE\n",
       "1342.0     RE\n",
       "1423.0     FE\n",
       "1448.0     RE\n",
       "1500.0    UNK\n",
       "1584.0     RE\n",
       "1804.0     FE\n",
       "dtype: object"
      ]
     },
     "execution_count": 97,
     "metadata": {},
     "output_type": "execute_result"
    }
   ],
   "source": [
    "FE_belief"
   ]
  },
  {
   "cell_type": "code",
   "execution_count": 98,
   "metadata": {},
   "outputs": [
    {
     "data": {
      "text/plain": [
       "FE      4\n",
       "RE     14\n",
       "UNK     2\n",
       "dtype: int64"
      ]
     },
     "execution_count": 98,
     "metadata": {},
     "output_type": "execute_result"
    }
   ],
   "source": [
    "FE_belief.groupby(FE_belief).size()"
   ]
  },
  {
   "cell_type": "code",
   "execution_count": 99,
   "metadata": {},
   "outputs": [],
   "source": [
    "FE_users = FE_belief[FE_belief==\"FE\"].index\n",
    "RE_users = FE_belief[FE_belief==\"RE\"].index"
   ]
  },
  {
   "cell_type": "code",
   "execution_count": 100,
   "metadata": {},
   "outputs": [],
   "source": [
    "FE_user_posts = fe_posts.query('poster_id in @FE_users')\n",
    "RE_user_posts = fe_posts.query('poster_id in @RE_users')"
   ]
  },
  {
   "cell_type": "code",
   "execution_count": 101,
   "metadata": {},
   "outputs": [
    {
     "name": "stdout",
     "output_type": "stream",
     "text": [
      "FE Believers\n",
      "11100 out of 69088 total FE posts\n",
      "16%\n",
      "\n",
      "RE Believers\n",
      "15457 out of 69088 total FE posts\n",
      "22%\n"
     ]
    }
   ],
   "source": [
    "print(\"FE Believers\")\n",
    "print(f\"{FE_user_posts.shape[0]} out of {fe_posts.shape[0]} total FE posts\")\n",
    "print(f\"{FE_user_posts.shape[0]/fe_posts.shape[0]*100:.0f}%\")\n",
    "print()\n",
    "print(\"RE Believers\")\n",
    "print(f\"{RE_user_posts.shape[0]} out of {fe_posts.shape[0]} total FE posts\")\n",
    "print(f\"{RE_user_posts.shape[0]/fe_posts.shape[0]*100:.0f}%\")"
   ]
  },
  {
   "cell_type": "code",
   "execution_count": 102,
   "metadata": {},
   "outputs": [
    {
     "name": "stdout",
     "output_type": "stream",
     "text": [
      "FE Believers\n",
      "11100 out of 28922 top 20 users' posts\n",
      "38%\n",
      "\n",
      "RE Believers\n",
      "15457 out of 28922 total top 20 users' posts\n",
      "53%\n"
     ]
    }
   ],
   "source": [
    "print(\"FE Believers\")\n",
    "print(f\"{FE_user_posts.shape[0]} out of {curr_posts.shape[0]} top 20 users' posts\")\n",
    "print(f\"{FE_user_posts.shape[0]/curr_posts.shape[0]*100:.0f}%\")\n",
    "print()\n",
    "print(\"RE Believers\")\n",
    "print(f\"{RE_user_posts.shape[0]} out of {curr_posts.shape[0]} total top 20 users' posts\")\n",
    "print(f\"{RE_user_posts.shape[0]/curr_posts.shape[0]*100:.0f}%\")"
   ]
  },
  {
   "cell_type": "code",
   "execution_count": 103,
   "metadata": {},
   "outputs": [
    {
     "data": {
      "text/plain": [
       "poster_id\n",
       "2.0       2694\n",
       "38.0      5920\n",
       "1423.0     786\n",
       "1804.0    1700\n",
       "dtype: int64"
      ]
     },
     "execution_count": 103,
     "metadata": {},
     "output_type": "execute_result"
    }
   ],
   "source": [
    "posts_per_user.loc[FE_users]"
   ]
  },
  {
   "cell_type": "code",
   "execution_count": 104,
   "metadata": {},
   "outputs": [
    {
     "data": {
      "text/plain": [
       "poster_id\n",
       "16.0      1168\n",
       "62.0      1000\n",
       "99.0       645\n",
       "315.0     1333\n",
       "376.0      722\n",
       "464.0      661\n",
       "706.0      978\n",
       "709.0      757\n",
       "775.0     1266\n",
       "843.0      745\n",
       "1206.0    2125\n",
       "1342.0    1701\n",
       "1448.0    1126\n",
       "1584.0    1230\n",
       "dtype: int64"
      ]
     },
     "execution_count": 104,
     "metadata": {},
     "output_type": "execute_result"
    }
   ],
   "source": [
    "posts_per_user.loc[RE_users]"
   ]
  },
  {
   "cell_type": "code",
   "execution_count": 105,
   "metadata": {},
   "outputs": [
    {
     "name": "stderr",
     "output_type": "stream",
     "text": [
      "c:\\users\\eddie\\documents\\thesis code\\thesis_flat_earth\\env\\lib\\site-packages\\pandas\\core\\indexing.py:1596: SettingWithCopyWarning: \n",
      "A value is trying to be set on a copy of a slice from a DataFrame.\n",
      "Try using .loc[row_indexer,col_indexer] = value instead\n",
      "\n",
      "See the caveats in the documentation: https://pandas.pydata.org/pandas-docs/stable/user_guide/indexing.html#returning-a-view-versus-a-copy\n",
      "  self.obj[key] = _infer_fill_value(value)\n",
      "c:\\users\\eddie\\documents\\thesis code\\thesis_flat_earth\\env\\lib\\site-packages\\pandas\\core\\indexing.py:1745: SettingWithCopyWarning: \n",
      "A value is trying to be set on a copy of a slice from a DataFrame.\n",
      "Try using .loc[row_indexer,col_indexer] = value instead\n",
      "\n",
      "See the caveats in the documentation: https://pandas.pydata.org/pandas-docs/stable/user_guide/indexing.html#returning-a-view-versus-a-copy\n",
      "  isetter(ilocs[0], value)\n"
     ]
    }
   ],
   "source": [
    "curr_posts.loc[:,\"flag\"] = [True] * len(curr_posts)\n",
    "rolling_post_counts = curr_posts.rolling(\"90D\", on=\"time\").count()[\"flag\"]"
   ]
  },
  {
   "cell_type": "code",
   "execution_count": 106,
   "metadata": {},
   "outputs": [
    {
     "data": {
      "image/png": "[encoded data removed]",
      "text/plain": [
       "<Figure size 720x432 with 1 Axes>"
      ]
     },
     "metadata": {
      "needs_background": "light"
     },
     "output_type": "display_data"
    }
   ],
   "source": [
    "fig, ax = plt.subplots(figsize=(10, 6))\n",
    "ax.plot(curr_posts[\"time\"], rolling_post_counts.values, color=\"b\", lw=3)\n",
    "ax.set_xlabel(\"Time\", fontsize=14)\n",
    "ax.set_ylabel(\"Number of posts in window\", fontsize=14)\n",
    "plt.setp(ax.get_xticklabels(), fontsize=14)\n",
    "plt.setp(ax.get_yticklabels(), fontsize=14)\n",
    "ax.grid()\n",
    "plt.show()"
   ]
  },
  {
   "cell_type": "code",
   "execution_count": 107,
   "metadata": {},
   "outputs": [],
   "source": [
    "fe_rolling = curr_posts.query('poster_id in @FE_users').rolling(\"90D\", on=\"time\", min_periods=20).count()[\"flag\"]\n",
    "re_rolling = curr_posts.query('poster_id in @RE_users').rolling(\"90D\", on=\"time\", min_periods=20).count()[\"flag\"]"
   ]
  },
  {
   "cell_type": "code",
   "execution_count": 108,
   "metadata": {},
   "outputs": [
    {
     "data": {
      "image/png": "[encoded data removed]",
      "text/plain": [
       "<Figure size 720x216 with 1 Axes>"
      ]
     },
     "metadata": {
      "needs_background": "light"
     },
     "output_type": "display_data"
    }
   ],
   "source": [
    "fig, ax = plt.subplots(figsize=(10, 3))\n",
    "ax.plot(FE_user_posts[\"time\"], fe_rolling.values, color=\"b\", lw=3)\n",
    "ax.plot(RE_user_posts[\"time\"], re_rolling.values, color=\"r\", lw=3)\n",
    "ax.set_xlabel(\"Time\", fontsize=14)\n",
    "ax.set_ylabel(\"Number of posts in window\", fontsize=14)\n",
    "plt.setp(ax.get_xticklabels(), fontsize=14)\n",
    "plt.setp(ax.get_yticklabels(), fontsize=14)\n",
    "ax.grid()\n",
    "plt.show()"
   ]
  },
  {
   "cell_type": "code",
   "execution_count": 109,
   "metadata": {},
   "outputs": [
    {
     "data": {
      "image/png": "[encoded data removed]",
      "text/plain": [
       "<Figure size 720x216 with 1 Axes>"
      ]
     },
     "metadata": {
      "needs_background": "light"
     },
     "output_type": "display_data"
    }
   ],
   "source": [
    "fig, ax = plt.subplots(figsize=(10, 3))\n",
    "ax.plot(FE_user_posts[\"time\"], (fe_rolling / rolling_post_counts.loc[fe_rolling.index]).values, color=\"b\", lw=3, label=\"FE\")\n",
    "ax.plot(RE_user_posts[\"time\"], (re_rolling / rolling_post_counts.loc[re_rolling.index]).values, color=\"r\", lw=3, label=\"RE\")\n",
    "ax.set_xlabel(\"Time\", fontsize=14)\n",
    "ax.set_ylabel(\"Number of posts in window\", fontsize=14)\n",
    "plt.setp(ax.get_xticklabels(), fontsize=14)\n",
    "plt.setp(ax.get_yticklabels(), fontsize=14)\n",
    "ax.legend(fontsize=14)\n",
    "ax.grid()\n",
    "plt.show()"
   ]
  },
  {
   "cell_type": "code",
   "execution_count": 110,
   "metadata": {},
   "outputs": [
    {
     "data": {
      "image/png": "[encoded data removed]",
      "text/plain": [
       "<Figure size 648x288 with 2 Axes>"
      ]
     },
     "metadata": {
      "needs_background": "light"
     },
     "output_type": "display_data"
    }
   ],
   "source": [
    "fe_posts.loc[:,\"flag\"] = [True] * len(fe_posts)\n",
    "total_rolling = fe_posts.rolling(\"90D\", on=\"time\").count()[\"flag\"]\n",
    "\n",
    "colours = [\"#7fc97f\", \"#beaed4\"]\n",
    "\n",
    "fig = plt.figure(figsize=(9, 4))\n",
    "gs = fig.add_gridspec(2, hspace=0)\n",
    "ax1, ax2 = gs.subplots(sharex=True)\n",
    "\n",
    "ax1.plot(FE_user_posts[\"time\"], fe_rolling.values, c=colours[0], lw=3, ls=\"-\", label=\"FE\")\n",
    "ax1.plot(RE_user_posts[\"time\"], re_rolling.values, c=colours[1], lw=3, ls=\":\", label=\"RE\")\n",
    "\n",
    "ax2.plot(FE_user_posts[\"time\"], (fe_rolling / total_rolling.loc[fe_rolling.index]).values * 100, c=colours[0], lw=3, ls=\"-\")\n",
    "ax2.plot(RE_user_posts[\"time\"], (re_rolling / total_rolling.loc[re_rolling.index]).values * 100, c=colours[1], lw=3, ls=\":\")\n",
    "\n",
    "ax2.set_xlabel(\"Time\", fontsize=14)\n",
    "ax1.set_ylabel(\"Num posts\", fontsize=14)\n",
    "ax2.set_ylabel(\"% of total posts\", fontsize=14)\n",
    "plt.setp(ax.get_xticklabels(), fontsize=14)\n",
    "plt.setp(ax.get_yticklabels(), fontsize=14)\n",
    "ax1.legend(fontsize=14)\n",
    "ax1.grid()\n",
    "ax2.grid()\n",
    "plt.tight_layout()\n",
    "fig.savefig(os.path.join(GRAPH_DIR, \"belief_posting_over_time.pdf\"))\n",
    "plt.show()"
   ]
  },
  {
   "cell_type": "code",
   "execution_count": 111,
   "metadata": {},
   "outputs": [
    {
     "data": {
      "image/png": "[encoded data removed]",
      "text/plain": [
       "<Figure size 648x648 with 4 Axes>"
      ]
     },
     "metadata": {
      "needs_background": "light"
     },
     "output_type": "display_data"
    }
   ],
   "source": [
    "# fig, ax = plt.subplots(figsize=(10, 3))\n",
    "fig = plt.figure(figsize=(9, 9))\n",
    "gs = fig.add_gridspec(len(FE_users), hspace=0)\n",
    "axes = gs.subplots(sharex=True)\n",
    "\n",
    "for i, u in enumerate(FE_users):\n",
    "    curr_u_posts = fe_posts.query(\"poster_id == @u\")\n",
    "    u_rolling = curr_u_posts.rolling(\"90D\", on=\"time\").count()[\"flag\"]\n",
    "    total_rolling = fe_posts.rolling(\"90D\", on=\"time\").count()[\"flag\"]\n",
    "\n",
    "#     axes[i].plot(curr_u_posts[\"time\"], u_rolling.values, lw=3, label=u)\n",
    "    axes[i].plot(curr_u_posts[\"time\"], (u_rolling / total_rolling.loc[u_rolling.index]).values, lw=3, label=u)\n",
    "    axes[i].set_ylabel(\"Num poste\", fontsize=14)\n",
    "    plt.setp(axes[i].get_yticklabels(), fontsize=14)\n",
    "    axes[i].grid()\n",
    "    axes[i].legend(fontsize=14)\n",
    "    \n",
    "# axes[i].legend(fontsize=14)\n",
    "plt.setp(axes[-1].get_xticklabels(), fontsize=14)\n",
    "axes[i].set_xlabel(\"Time\", fontsize=14)\n",
    "plt.show()"
   ]
  },
  {
   "cell_type": "code",
   "execution_count": 112,
   "metadata": {},
   "outputs": [
    {
     "data": {
      "image/png": "[encoded data removed]",
      "text/plain": [
       "<Figure size 648x1296 with 14 Axes>"
      ]
     },
     "metadata": {
      "needs_background": "light"
     },
     "output_type": "display_data"
    }
   ],
   "source": [
    "# fig, ax = plt.subplots(figsize=(10, 3))\n",
    "fig = plt.figure(figsize=(9, 18))\n",
    "gs = fig.add_gridspec(len(RE_users), hspace=0)\n",
    "axes = gs.subplots(sharex=True, sharey=True)\n",
    "\n",
    "for i, u in enumerate(RE_users):\n",
    "    curr_u_posts = fe_posts.query(\"poster_id == @u\")\n",
    "    u_rolling = curr_u_posts.rolling(\"90D\", on=\"time\").count()[\"flag\"]\n",
    "    total_rolling = fe_posts.rolling(\"90D\", on=\"time\").count()[\"flag\"]\n",
    "\n",
    "    axes[i].plot(curr_u_posts[\"time\"], u_rolling.values, lw=3, label=u)\n",
    "#     axes[i].plot(curr_u_posts[\"time\"], (u_rolling / total_rolling.loc[u_rolling.index]).values, lw=3, label=u)\n",
    "#     axes[i].set_ylabel(\"Num poste\", fontsize=14)\n",
    "    plt.setp(axes[i].get_yticklabels(), fontsize=14)\n",
    "    axes[i].grid()\n",
    "    axes[i].legend(fontsize=14)\n",
    "    \n",
    "# axes[i].legend(fontsize=14)\n",
    "plt.setp(axes[-1].get_xticklabels(), fontsize=14)\n",
    "axes[i].set_xlabel(\"Time\", fontsize=14)\n",
    "plt.show()"
   ]
  },
  {
   "cell_type": "code",
   "execution_count": 113,
   "metadata": {},
   "outputs": [
    {
     "name": "stdout",
     "output_type": "stream",
     "text": [
      "FE\n",
      "-------------------------------------------------------------------------------------\n",
      "refrain             \t      5.78\t|\t]                   \t     -1.11\n",
      "warned              \t      5.53\t|\t(                   \t     -1.11\n",
      "fora                \t      4.98\t|\t[                   \t     -1.13\n",
      "warning             \t      4.04\t|\tx                   \t     -1.15\n",
      "basics              \t      3.90\t|\tsouthern            \t     -1.18\n",
      "interactive         \t      3.70\t|\t)                   \t     -1.19\n",
      "content             \t      3.12\t|\tsize                \t     -1.23\n",
      "moved               \t      3.09\t|\tground              \t     -1.23\n",
      "scene               \t      2.94\t|\tmeasured            \t     -1.29\n",
      "traveling           \t      2.82\t|\tangle               \t     -1.30\n",
      "upper               \t      2.71\t|\tfake                \t     -1.32\n",
      "posting             \t      2.54\t|\tbit                 \t     -1.46\n",
      "firmament           \t      2.53\t|\t!                   \t     -1.48\n",
      "articles            \t      2.41\t|\theight              \t     -1.50\n",
      "bodies              \t      2.40\t|\tsunset              \t     -1.50\n",
      "faq                 \t      2.33\t|\tthough              \t     -1.71\n",
      ">                   \t      2.28\t|\t*                   \t     -1.88\n",
      "spheroid            \t      2.25\t|\t'                   \t     -1.99\n",
      "continuous          \t      2.23\t|\t...                 \t     -2.38\n",
      "solutions           \t      2.21\t|\ttom                 \t     -2.51\n",
      "-------------------------------------------------------------------------------------\n",
      "RE\n",
      "-------------------------------------------------------------------------------------\n",
      "â«                 \t      6.97\t|\tassumption          \t     -1.61\n",
      "â»                 \t      6.96\t|\tnonsense            \t     -1.70\n",
      "̂°                  \t      5.97\t|\tdemonstrated        \t     -1.71\n",
      "2016                \t      3.81\t|\tgovernment          \t     -1.73\n",
      "qantas              \t      3.66\t|\ttopic               \t     -1.75\n",
      "sighting            \t      3.63\t|\tforum               \t     -1.76\n",
      "°                   \t      3.61\t|\tbody                \t     -1.83\n",
      "tide                \t      3.50\t|\tastronomy           \t     -1.86\n",
      "sunsets             \t      3.23\t|\tauthor              \t     -1.91\n",
      "....                \t      3.15\t|\twebsite             \t     -1.92\n",
      "â°                 \t      3.00\t|\tburden              \t     -1.93\n",
      "3,000               \t      2.97\t|\tmodels              \t     -1.98\n",
      "airline             \t      2.97\t|\tassumptions         \t     -1.99\n",
      "3000                \t      2.88\t|\trules               \t     -2.00\n",
      "dip                 \t      2.72\t|\tancient             \t     -2.06\n",
      "â                  \t      2.71\t|\tfaq                 \t     -2.06\n",
      "san                 \t      2.63\t|\tbodies              \t     -2.21\n",
      "tv                  \t      2.62\t|\tposting             \t     -2.30\n",
      "sharp               \t      2.60\t|\tupper               \t     -2.46\n",
      "launch              \t      2.55\t|\tmoved               \t     -2.86\n",
      "-------------------------------------------------------------------------------------\n",
      "UNK\n",
      "-------------------------------------------------------------------------------------\n",
      "i.e.                \t      4.93\t|\tsome                \t     -0.42\n",
      "longitude           \t      3.05\t|\twhen                \t     -0.45\n",
      "edit                \t      2.46\t|\teven                \t     -0.50\n",
      "[                   \t      2.22\t|\tthem                \t     -0.55\n",
      "]                   \t      2.18\t|\t/                   \t     -0.58\n",
      "latitude            \t      2.17\t|\tflat                \t     -0.59\n",
      "observed            \t      1.68\t|\tpeople              \t     -0.59\n",
      "perhaps             \t      1.67\t|\tearth               \t     -0.61\n",
      "am                  \t      1.50\t|\tperspective         \t     -0.64\n",
      "acceleration        \t      1.47\t|\tjust                \t     -0.67\n",
      "'                   \t      1.25\t|\tover                \t     -0.85\n",
      "whether             \t      1.20\t|\t:                   \t     -0.92\n",
      "observation         \t      1.17\t|\t!                   \t     -1.01\n",
      "science             \t      1.14\t|\tsun                 \t     -1.04\n",
      "data                \t      1.06\t|\thorizon             \t     -1.09\n",
      "difference          \t      1.02\t|\tn't                 \t     -1.15\n",
      "points              \t      0.96\t|\t's                  \t     -1.20\n",
      "accurate            \t      0.95\t|\tmoon                \t     -1.37\n",
      "case                \t      0.93\t|\t-                   \t     -1.46\n",
      "position            \t      0.93\t|\t\"                   \t     -2.06\n",
      "-------------------------------------------------------------------------------------\n"
     ]
    }
   ],
   "source": [
    "get_cluster_keywords(user_toks, FE_belief.values, min_freq=100)"
   ]
  },
  {
   "cell_type": "code",
   "execution_count": 114,
   "metadata": {},
   "outputs": [],
   "source": [
    "clust_lrs = get_cluster_lrs(user_toks, FE_belief.values)"
   ]
  },
  {
   "cell_type": "code",
   "execution_count": 115,
   "metadata": {},
   "outputs": [
    {
     "data": {
      "text/plain": [
       "0.2343744600035263"
      ]
     },
     "execution_count": 115,
     "metadata": {},
     "output_type": "execute_result"
    }
   ],
   "source": [
    "clust_lrs[\"RE\"][\"flat\"]"
   ]
  },
  {
   "cell_type": "code",
   "execution_count": 116,
   "metadata": {},
   "outputs": [
    {
     "data": {
      "text/plain": [
       "0.7259231234735904"
      ]
     },
     "execution_count": 116,
     "metadata": {},
     "output_type": "execute_result"
    }
   ],
   "source": [
    "clust_lrs[\"RE\"][\"globe\"]"
   ]
  },
  {
   "cell_type": "code",
   "execution_count": 117,
   "metadata": {},
   "outputs": [
    {
     "name": "stdout",
     "output_type": "stream",
     "text": [
      "Showing 25 out of 103:\n",
      "2.0        ts in which \" theory \" may be used by \u001b[1mfe'ers\u001b[0m . within the context of \" conspiracy \n",
      "2.0        s used in exactly the same fashion by \u001b[1mfe'ers\u001b[0m as other scientists , by way of provi\n",
      "2.0        y be correct if he simply spoke to no \u001b[1mfe'ers\u001b[0m at all . personally , i propose that \n",
      "2.0        t large . that is not a claim serious \u001b[1mfe'ers\u001b[0m would make , in my humble opinion . p\n",
      "2.0        ct and following the more influential \u001b[1mfe'ers\u001b[0m online . in other words : yes , but y\n",
      "2.0        hat the most - supported map is among \u001b[1mfe'ers\u001b[0m . could you just go away now ? how do\n",
      "2.0        uld be silly . rowbotham 's and other \u001b[1mfe'ers\u001b[0m ' experiments are reproducible . rabi\n",
      "2.0        ised for some of the more belligerent \u001b[1mfe'ers\u001b[0m which appeared to target him at the t\n",
      "2.0        ace in the few . yes , there are some \u001b[1mfe'ers\u001b[0m who are working on alternative models\n",
      "2.0        olly , we sure showed those gosh darn \u001b[1mfe'ers\u001b[0m ! \" engaging with them is an utter wa\n",
      "2.0        gestions have garnered criticism from \u001b[1mfe'ers\u001b[0m and re'ers alike . we know this becau\n",
      "2.0         is something i will always encourage \u001b[1mfe'ers\u001b[0m and re'ers alike to engage in . this \n",
      "2.0        on . indeed , and many infinite plane \u001b[1mfe'ers\u001b[0m have advocated for that as the answer\n",
      "2.0        eel comfortable doing , and if female \u001b[1mfe'ers\u001b[0m do n't want to post here , that 's fi\n",
      "2.0        . we can discuss that elsewhere , but \u001b[1mfe'ers\u001b[0m largely agree that the ross ice shelf\n",
      "2.0        d incident , and physical assaults on \u001b[1mfe'ers\u001b[0m are relatively familiar to anyone wit\n",
      "2.0         doing his thing . flat earthers ( or \u001b[1mfe'ers\u001b[0m for short ) is the most commonly - us\n",
      "2.0        ies a negative connotation among some \u001b[1mfe'ers\u001b[0m , but it 's largely regarded as a neu\n",
      "2.0        s . no , no one is saying that . many \u001b[1mfe'ers\u001b[0m say that nasa is simply mistaken abou\n",
      "2.0        the extent of inconsistencies between \u001b[1mfe'ers\u001b[0m , my perception is likely to diminish\n",
      "2.0        ept proposed mainly by finite - plane \u001b[1mfe'ers\u001b[0m and ( more commonly ) re'ers . it may\n",
      "2.0         for him . this is just as bad as the \u001b[1mfe'ers\u001b[0m who say things like \" if the earth we\n",
      "2.0        ndwave it away , because \" it 's just \u001b[1mfe'ers\u001b[0m denying ret experiments again \" . whe\n",
      "2.0        ll try to answer it . right . the two \u001b[1mfe'ers\u001b[0m that responded to this thread disagre\n",
      "2.0        on . if you 're not interested in the \u001b[1mfe'ers\u001b[0m perspective , that honestly does not \n"
     ]
    }
   ],
   "source": [
    "c = \"FE\"\n",
    "get_ngram_example([\"fe'ers\"],\n",
    "                  user_toks[FE_belief==c],\n",
    "                  doc_labels=user_toks[FE_belief==c].index, n_examples=25)"
   ]
  },
  {
   "cell_type": "code",
   "execution_count": 118,
   "metadata": {},
   "outputs": [
    {
     "name": "stdout",
     "output_type": "stream",
     "text": [
      "Showing 25 out of 377:\n",
      "16.0       ew earth , or one of the other fringe \u001b[1mfe'ers\u001b[0m . why ? we already have flat earth in\n",
      "16.0       at , because that is an argument that \u001b[1mfe'ers\u001b[0m would lose . how 's this ? aether win\n",
      "16.0       t will ever happen . unless and until \u001b[1mfe'ers\u001b[0m can start supporting their fe \" model\n",
      "16.0        than fes grade school . tom , to say \u001b[1mfe'ers\u001b[0m \" often \" try to provide supporting m\n",
      "16.0       at i 've seen over the past 7 years , \u001b[1mfe'ers\u001b[0m tend to be deathly afraid of math . a\n",
      "16.0       gulation . what i 'm talking about is \u001b[1mfe'ers\u001b[0m providing maths showing that fet does\n",
      "16.0       ted to show why fet does n't work but \u001b[1mfe'ers\u001b[0m are n't obligated show why fet does w\n",
      "16.0       s enough to empirically convince most \u001b[1mfe'ers\u001b[0m that the earth is flat . you take oth\n",
      "16.0       ll see for yourself . actually , some \u001b[1mfe'ers\u001b[0m ( including the eminent samuel birley\n",
      "16.0       just goes to show what slimy assholes \u001b[1mfe'ers\u001b[0m can be when they 're proven wrong . n\n",
      "16.0        flat stationary earth . i 'm helping \u001b[1mfe'ers\u001b[0m improve fet by pointing out flaws in \n",
      "16.0       to tell what the th*rk some of theses \u001b[1mfe'ers\u001b[0m are babbling about . you may want to \n",
      "16.0       who you ask : better yet , why do n't \u001b[1mfe'ers\u001b[0m get published in that journal ? why w\n",
      "16.0       ue to lack of interest on the part of \u001b[1mfe'ers\u001b[0m . why try to fund a large research pr\n",
      "16.0       ere : i think that it 's amazing that \u001b[1mfe'ers\u001b[0m think that bendy light is on par with\n",
      "16.0       efraction can be quite convenient for \u001b[1mfe'ers\u001b[0m when it makes a round earth appear fl\n",
      "16.0       redible evidence . i 've been hearing \u001b[1mfe'ers\u001b[0m say that for years and i have yet to \n",
      "16.0       of evidence is compatible with mine . \u001b[1mfe'ers\u001b[0m tend to have an unreasonable definiti\n",
      "16.0       where he explains that his site is by \u001b[1mfe'ers\u001b[0m for fe'ers and he has little use or p\n",
      "16.0       plains that his site is by fe'ers for \u001b[1mfe'ers\u001b[0m and he has little use or patience for\n",
      "16.0       sion that the general consensus among \u001b[1mfe'ers\u001b[0m is that cell phone transmitters are g\n",
      "16.0       er how well some of our true believer \u001b[1mfe'ers\u001b[0m , like tom bishop or sandokhan , woul\n",
      "16.0       thing more than just one more case of \u001b[1mfe'ers\u001b[0m unquestioningly accepting any bit of \n",
      "16.0       ty . my guess is that the majority of \u001b[1mfe'ers\u001b[0m on this forum are atheists . so watch\n",
      "16.0        ret be proven to the satisfaction of \u001b[1mfe'ers\u001b[0m when the fe'ers keep rejecting all ev\n"
     ]
    }
   ],
   "source": [
    "c = \"RE\"\n",
    "get_ngram_example([\"fe'ers\"],\n",
    "                  user_toks[FE_belief==c],\n",
    "                  doc_labels=user_toks[FE_belief==c].index, n_examples=25)"
   ]
  },
  {
   "cell_type": "code",
   "execution_count": 119,
   "metadata": {},
   "outputs": [
    {
     "name": "stdout",
     "output_type": "stream",
     "text": [
      "Showing 25 out of 131:\n",
      "2.0        ! code : [ select ] to know that some \u001b[1mre'ers\u001b[0m do n't understand grade school physic\n",
      "2.0        ers together with \" to know that some \u001b[1mre'ers\u001b[0m do n't understand grade school physic\n",
      "2.0         \" , so i 'm not holding that against \u001b[1mre'ers\u001b[0m in general , but it does go a long wa\n",
      "2.0         \" unknown \" and \" untrue \" ? because \u001b[1mre'ers\u001b[0m sure like to conflate the two when it\n",
      "2.0        ld favourite of mine was to challenge \u001b[1mre'ers\u001b[0m to demonstrate that bananas attract e\n",
      "2.0        ng bored with flogging a dead horse ( \u001b[1mre'ers\u001b[0m refusing to acknowledge our points an\n",
      "2.0        forum . it 's just a circle - jerk of \u001b[1mre'ers\u001b[0m talking about how smart they think th\n",
      "2.0        sadly you failed . since according to \u001b[1mre'ers\u001b[0m the cavendish experiment clearly work\n",
      "2.0        u still here ? i have no problem with \u001b[1mre'ers\u001b[0m . i have a problem with people who co\n",
      "2.0        very point of scepticism . unlike the \u001b[1mre'ers\u001b[0m who visit here to act all high and mi\n",
      "2.0        oint ? no one makes that assumption - \u001b[1mre'ers\u001b[0m just like to think that we do . in re\n",
      "2.0        ally , the agreement among mainstream \u001b[1mre'ers\u001b[0m appears to be that refraction can onl\n",
      "2.0         you prefer that we had n't mentioned \u001b[1mre'ers\u001b[0m performing the same experiment and di\n",
      "2.0        ear weapons . i do n't understand why \u001b[1mre'ers\u001b[0m get so upset when someone calls them \n",
      "2.0        pproaching a certain type of entitled \u001b[1mre'ers\u001b[0m , of which you happen to be a promine\n",
      "2.0        read the smug drivel of \" redpilled \" \u001b[1mre'ers\u001b[0m , i 'd go somewhere else than the fla\n",
      "2.0        'm not an admin . what is it with you \u001b[1mre'ers\u001b[0m never getting things right ? and even\n",
      "2.0        ested : think before you post . petty \u001b[1mre'ers\u001b[0m always seem confused by this one . ye\n",
      "2.0        was involved : this is just a case of \u001b[1mre'ers\u001b[0m going \" nuh uh evidence don't real \" \n",
      "2.0        you 've just diverged from mainstream \u001b[1mre'ers\u001b[0m so much that you pretty much ca n't b\n",
      "2.0        lly found an fe 'er who claims that ? \u001b[1mre'ers\u001b[0m love to talk about how these people a\n",
      "2.0        d that i 'm generally uninterested in \u001b[1mre'ers\u001b[0m whining about how they do n't like fe\n",
      "2.0        ved to be a floating \" ice shelf \" by \u001b[1mre'ers\u001b[0m , but this does not make it inaccurat\n",
      "2.0        t to harm our momentum . sure , a few \u001b[1mre'ers\u001b[0m are bitter because their constant shi\n",
      "2.0        onvinced that i 'm wrong , but so far \u001b[1mre'ers\u001b[0m ' convictions are interesting thought\n"
     ]
    }
   ],
   "source": [
    "c = \"FE\"\n",
    "get_ngram_example([\"re'ers\"],\n",
    "                  user_toks[FE_belief==c],\n",
    "                  doc_labels=user_toks[FE_belief==c].index, n_examples=25)"
   ]
  },
  {
   "cell_type": "code",
   "execution_count": 120,
   "metadata": {},
   "outputs": [
    {
     "name": "stdout",
     "output_type": "stream",
     "text": [
      "Showing 25 out of 64:\n",
      "16.0       at you mention , the math was done by \u001b[1mre'ers\u001b[0m to show the improbability of the vari\n",
      "16.0       aths showing that fet does work , not \u001b[1mre'ers\u001b[0m providing maths showing that fet does\n",
      "16.0       ng to do with timing . why is it that \u001b[1mre'ers\u001b[0m are obligated to show why fet does n'\n",
      "16.0       pp , you know that us poor , ignorant \u001b[1mre'ers\u001b[0m need to be spoon fed everything . tom\n",
      "16.0        i 'm serious . there are a few of is \u001b[1mre'ers\u001b[0m ( well , me for one ) who would actua\n",
      "16.0       and he has little use or patience for \u001b[1mre'ers\u001b[0m . if you 're an re'er , do n't even d\n",
      "16.0        do n't think that very many people ( \u001b[1mre'ers\u001b[0m and fe'ers alike ) realize how much o\n",
      "16.0       to answer a question that has plagued \u001b[1mre'ers\u001b[0m for many years : what evidence do re'\n",
      "16.0       ers for many years : what evidence do \u001b[1mre'ers\u001b[0m need provide in order to satisfy thei\n",
      "16.0       re seeing exactly the same thing that \u001b[1mre'ers\u001b[0m are seeing and the important parts of\n",
      "16.0       rea where they can discuss freely but \u001b[1mre'ers\u001b[0m can still watch . you know , like the\n",
      "16.0       lue pretty close to c. since a lot of \u001b[1mre'ers\u001b[0m do n't understand the finer points of\n",
      "706.0      ki ... which will hand victory to the \u001b[1mre'ers\u001b[0m . a good example of this is the quest\n",
      "706.0      . so ... how does the experience that \u001b[1mre'ers\u001b[0m call \" gravity \" operate in fet ? * s\n",
      "706.0      ree that the wiki does not say that . \u001b[1mre'ers\u001b[0m who come here to discuss such things \n",
      "706.0       's time : 1 ) have a paired group of \u001b[1mre'ers\u001b[0m and fe'ers who live in widely separat\n",
      "706.0      hat shape is the earth ? \" - and both \u001b[1mre'ers\u001b[0m and fe'ers have to go without prior a\n",
      "706.0      lly found an fe 'er who claims that ? \u001b[1mre'ers\u001b[0m love to talk about how these people a\n",
      "706.0      n . ok . ( i apologize - sometimes we \u001b[1mre'ers\u001b[0m have a hard time getting our heads ar\n",
      "706.0       entire universe that both fe'ers and \u001b[1mre'ers\u001b[0m can agree upon - it 's that the he'er\n",
      "706.0      i vote we find three fe'ers and three \u001b[1mre'ers\u001b[0m with cameras - two who live in the uk\n",
      "706.0      if it 's done honestly by fe 'ers and \u001b[1mre'ers\u001b[0m and we can compare their shots - then\n",
      "706.0       . the \" teleportation \" over what we \u001b[1mre'ers\u001b[0m would call \" the south pole \" is prob\n",
      "706.0      ere . what this does is to prove what \u001b[1mre'ers\u001b[0m such as myself have been saying all a\n",
      "706.0      if provided with that evidence , then \u001b[1mre'ers\u001b[0m should be prepared to debunk that . d\n"
     ]
    }
   ],
   "source": [
    "c = \"RE\"\n",
    "get_ngram_example([\"re'ers\"],\n",
    "                  user_toks[FE_belief==c],\n",
    "                  doc_labels=user_toks[FE_belief==c].index, n_examples=25)"
   ]
  },
  {
   "cell_type": "code",
   "execution_count": 121,
   "metadata": {},
   "outputs": [
    {
     "name": "stdout",
     "output_type": "stream",
     "text": [
      "Showing 25 out of 81:\n",
      "2.0        er well . unfortunately , not all \u001b[1mflat earthers\u001b[0m are zeteticists , and we do have \n",
      "2.0         comments from round earthers and \u001b[1mflat earthers\u001b[0m alike , i would like to ask every\n",
      "2.0         answering questions on behalf of \u001b[1mflat earthers\u001b[0m , especially if you 're going to \n",
      "2.0        . a bunch of the things you say \" \u001b[1mflat earthers\u001b[0m \" claim simply do not apply to th\n",
      "2.0        ng something along the lines of \" \u001b[1mflat earthers\u001b[0m claim that 2+2=5 and that is wron\n",
      "2.0        ere , welcome to the forum . most \u001b[1mflat earthers\u001b[0m are primarily concerned with the \n",
      "2.0        nestly do n't think there are any \u001b[1mflat earthers\u001b[0m here who would claim california a\n",
      "2.0        up a relatively small minority of \u001b[1mflat earthers\u001b[0m , very far from your alleged \" al\n",
      "2.0        way to carry on doing his thing . \u001b[1mflat earthers\u001b[0m ( or fe'ers for short ) is the mo\n",
      "2.0        adbible ( click ) 21/08/2017 what \u001b[1mflat earthers\u001b[0m are saying about the total solar \n",
      "2.0         global news ( click ) 30/10/2017 \u001b[1mflat earthers\u001b[0m to elon musk : mars is round , si\n",
      "2.0         ladbible ( click ) 29/11/2017 do \u001b[1mflat earthers\u001b[0m believe other planets are flat to\n",
      "2.0        ck ) 30/11/2017 elon musk vs. the \u001b[1mflat earthers\u001b[0m : is mars flat too ? national pos\n",
      "2.0        ( click ) 02/12/2017 we asked two \u001b[1mflat earthers\u001b[0m : what about the other planets ? \n",
      "2.0         10/02/2018 falcon heavy a hoax ? \u001b[1mflat earthers\u001b[0m imply recent space x launch was f\n",
      "2.0        different from that of many other \u001b[1mflat earthers\u001b[0m - i came here to defend round ear\n",
      "2.0        y and large identical to how most \u001b[1mflat earthers\u001b[0m operate , while the former is fai\n",
      "2.0        contradicts my understanding that \u001b[1mflat earthers\u001b[0m are not overwhelmingly religious \n",
      "2.0        nce to ) , he simply asserts what \u001b[1mflat earthers\u001b[0m believe based on ... well , i dun\n",
      "2.0        a that this somehow disproves all \u001b[1mflat earthers\u001b[0m ' views . would you please clarif\n",
      "2.0        nt call depending on individual . \u001b[1mflat earthers\u001b[0m have been subjected to physical a\n",
      "2.0        ve been trying to pull your leg . \u001b[1mflat earthers\u001b[0m tend to understand the round eart\n",
      "2.0        t . i have not seen any of this \" \u001b[1mflat earthers\u001b[0m all jumping on it , not aware it \n",
      "2.0        earth . there are large groups of \u001b[1mflat earthers\u001b[0m who explicitly base their fe beli\n",
      "2.0        rtant to highlight that plenty of \u001b[1mflat earthers\u001b[0m on social media ( especially twit\n"
     ]
    }
   ],
   "source": [
    "c = \"FE\"\n",
    "get_ngram_example([\"flat\", \"earthers\"],\n",
    "                  user_toks[FE_belief==c],\n",
    "                  doc_labels=user_toks[FE_belief==c].index, n_examples=25)"
   ]
  },
  {
   "cell_type": "code",
   "execution_count": 122,
   "metadata": {},
   "outputs": [
    {
     "name": "stdout",
     "output_type": "stream",
     "text": [
      "Showing 25 out of 263:\n",
      "16.0       stances to be the same ? not even \u001b[1mflat earthers\u001b[0m ? then please do so . it would be\n",
      "315.0      ht it was the south pole that the \u001b[1mflat earthers\u001b[0m claim does not exist , yet it is \n",
      "315.0      t all accept the \" bible \" of all \u001b[1mflat earthers\u001b[0m ! for myself , i find all this be\n",
      "315.0      it might be understandable . many \u001b[1mflat earthers\u001b[0m ( including gotham in \" the other\n",
      "315.0       before , but it seems to me that \u001b[1mflat earthers\u001b[0m look out the window ( or out to s\n",
      "315.0      the globe earth ! yet i have seen \u001b[1mflat earthers\u001b[0m ( maybe not you ) call newton an \n",
      "315.0      lot of the problem is that so few \u001b[1mflat earthers\u001b[0m take the trouble to find out how \n",
      "315.0      e gleason 's map is often used by \u001b[1mflat earthers\u001b[0m , it is not the \" official map \" \n",
      "315.0      t fit on a plane surface . we ask \u001b[1mflat earthers\u001b[0m to come with their measurements o\n",
      "315.0      ioning the measurements , yet all \u001b[1mflat earthers\u001b[0m just ignore it ! [ 1 ] before the\n",
      "315.0       needs a bit of magic sometimes . \u001b[1mflat earthers\u001b[0m seem to have no concept of time s\n",
      "315.0      e gleason 's map is often used by \u001b[1mflat earthers\u001b[0m , it is not the \" official map \" \n",
      "315.0       uses . have a look in . and many \u001b[1mflat earthers\u001b[0m insist that gleason 's is a \" fla\n",
      "315.0      ing these known dimensions . some \u001b[1mflat earthers\u001b[0m ( tom bishop and probably john da\n",
      "315.0      ee . \" open you eyes ! the do say \u001b[1mflat earthers\u001b[0m follow the zetetic cosmology ! i \n",
      "315.0       dismiss cavendish * ( as so many \u001b[1mflat earthers\u001b[0m try to ) , just remember the valu\n",
      "315.0      most places . i would say that if \u001b[1mflat earthers\u001b[0m have no answer to what cavendish \n",
      "315.0      miss cavendish [ 1 ] ( as so many \u001b[1mflat earthers\u001b[0m try to ) , just remember the valu\n",
      "315.0      i 'm not right . mind you i think \u001b[1mflat earthers\u001b[0m live on a different earth . mind \n",
      "315.0      earth assumptions \" magic \" , but \u001b[1mflat earthers\u001b[0m are quite happy to call gravity m\n",
      "315.0      eers doing the planning . so many \u001b[1mflat earthers\u001b[0m seem to only read and look at mat\n",
      "315.0      ook at material prepared by other \u001b[1mflat earthers\u001b[0m that they never see the wider pic\n",
      "315.0      streaks of the star trails . most \u001b[1mflat earthers\u001b[0m seem to have this sort of reactio\n",
      "315.0      s site this applies to almost all \u001b[1mflat earthers\u001b[0m . so , what is the shape of the e\n",
      "315.0      rified \" evidence would dedicated \u001b[1mflat earthers\u001b[0m accept . any evidence collected i\n"
     ]
    }
   ],
   "source": [
    "c = \"RE\"\n",
    "get_ngram_example([\"flat\", \"earthers\"],\n",
    "                  user_toks[FE_belief==c],\n",
    "                  doc_labels=user_toks[FE_belief==c].index, n_examples=25)"
   ]
  },
  {
   "cell_type": "code",
   "execution_count": 123,
   "metadata": {},
   "outputs": [
    {
     "name": "stdout",
     "output_type": "stream",
     "text": [
      "Showing 25 out of 69:\n",
      "2.0        l be helpful here : ( attention , \u001b[1mround earthers\u001b[0m : not to scale ) the mass of the \n",
      "2.0        r views . even the most laughable \u001b[1mround earthers\u001b[0m at least make an effort . you , o\n",
      "2.0         round earth is much smaller than \u001b[1mround earthers\u001b[0m would have you believe . where cu\n",
      "2.0        internet and are well accepted by \u001b[1mround earthers\u001b[0m . a quick google search to the ef\n",
      "2.0        y our village idiot , jura . some \u001b[1mround earthers\u001b[0m are very upset by our site 's exi\n",
      "2.0        bviously appreciate comments from \u001b[1mround earthers\u001b[0m and flat earthers alike , i would\n",
      "2.0        ervation strikes me as accurate . \u001b[1mround earthers\u001b[0m have a strange sense of entitleme\n",
      "2.0        ause of it . well , yeah , except \u001b[1mround earthers\u001b[0m claim that they 've already surve\n",
      "2.0        al treatment . a certain group of \u001b[1mround earthers\u001b[0m , very notably including andruszk\n",
      "2.0        , we have a small group of bitter \u001b[1mround earthers\u001b[0m who feel honour - bound to spit v\n",
      "2.0        lain the stupid things some other \u001b[1mround earthers\u001b[0m may have said here in the past . \n",
      "2.0        owing is not a projection : yes , \u001b[1mround earthers\u001b[0m like to call it that . your point\n",
      "2.0        es of you ? and , just to confirm \u001b[1mround earthers\u001b[0m did n't re-invent mathematics yet\n",
      "2.0        , a common debating strategy that \u001b[1mround earthers\u001b[0m use is to take something that no \n",
      "2.0        find it interesting that the same \u001b[1mround earthers\u001b[0m take things that are provably not\n",
      "2.0        ll to something more palatable to \u001b[1mround earthers\u001b[0m , because this is not a re wiki .\n",
      "2.0         but much smaller than mainstream \u001b[1mround earthers\u001b[0m would have you believe ? this see\n",
      "2.0        e necro'd , not even the resident \u001b[1mround earthers\u001b[0m had much love for how it depicted\n",
      "2.0        among some of the more passionate \u001b[1mround earthers\u001b[0m which goes along the lines of \" i\n",
      "2.0        locity and acceleration . how can \u001b[1mround earthers\u001b[0m claim to be serious when they mak\n",
      "2.0        't be happy with me saying that \" \u001b[1mround earthers\u001b[0m believe this \" . selenelion - i c\n",
      "38.0       he .org forum where we challenged \u001b[1mround earthers\u001b[0m to find a radar or laser bounce m\n",
      "38.0        that link need to be explained . \u001b[1mround earthers\u001b[0m must be willing to step up to the\n",
      "38.0       c events to precision . in fact , \u001b[1mround earthers\u001b[0m are notorious for using ancient b\n",
      "38.0       ople claiming 100 % certainty are \u001b[1mround earthers\u001b[0m . the zetetic philosophy back to \n"
     ]
    }
   ],
   "source": [
    "c = \"FE\"\n",
    "get_ngram_example([\"round\", \"earthers\"],\n",
    "                  user_toks[FE_belief==c],\n",
    "                  doc_labels=user_toks[FE_belief==c].index, n_examples=25)"
   ]
  },
  {
   "cell_type": "code",
   "execution_count": 124,
   "metadata": {},
   "outputs": [
    {
     "name": "stdout",
     "output_type": "stream",
     "text": [
      "Showing 25 out of 43:\n",
      "315.0      r earth is round , so you are the \u001b[1mround earthers\u001b[0m . we are the globe earthers - i k\n",
      "315.0       do you base your claim on that \" \u001b[1mround earthers\u001b[0m \" think \" that disappearing from \n",
      "376.0      ng to win the debate . much as we \u001b[1mround earthers\u001b[0m here try to do . ( saying nothing\n",
      "376.0      either as rowbotham says ( and we \u001b[1mround earthers\u001b[0m agree ) thicker air refracts ligh\n",
      "376.0       , but nine of them are my fellow \u001b[1mround earthers\u001b[0m . it drew only one serious reply \n",
      "376.0      r offers objection to any one but \u001b[1mround earthers\u001b[0m ) and two other non-serious flat \n",
      "376.0      te usernames created by one of us \u001b[1mround earthers\u001b[0m . military folks like you and me \n",
      "376.0      having a laugh , the responses of \u001b[1mround earthers\u001b[0m like me would be the whole point \n",
      "376.0      ng it . this is good too , and we \u001b[1mround earthers\u001b[0m have often answered this without \n",
      "376.0      better and better ! are there any \u001b[1mround earthers\u001b[0m who still get to talk to intikam \n",
      "376.0      ght bends \" . no worries , mate : \u001b[1mround earthers\u001b[0m wo n't say that ! problem is , th\n",
      "376.0       sun at all . honestly , tom , we \u001b[1mround earthers\u001b[0m read your stupid book more often \n",
      "376.0      other than the australians here ( \u001b[1mround earthers\u001b[0m all ) you probably live closer to\n",
      "376.0      sides . that 's not quite right . \u001b[1mround earthers\u001b[0m are the ones who point out that i\n",
      "464.0      o worries . i think the number of \u001b[1mround earthers\u001b[0m on here is just a reflection of t\n",
      "464.0      ntal curvature . yeah yeah yeah , \u001b[1mround earthers\u001b[0m are all horrible , misguided , di\n",
      "706.0       hugely sophisticated fake . dear \u001b[1mround earthers\u001b[0m : it 's really rather pointless a\n",
      "706.0      ain , i say we have a win for the \u001b[1mround earthers\u001b[0m . then we get into the mire as to\n",
      "706.0       , the fault here lies with naive \u001b[1mround earthers\u001b[0m who repeatedly say : \" look how s\n",
      "706.0      pen ? that 's the question here . \u001b[1mround earthers\u001b[0m ( and every physicist on the plan\n",
      "1206.0      only one thing we hate more than \u001b[1mround earthers\u001b[0m and that 's the flat earth societ\n",
      "1206.0     ou asked in another thread why us \u001b[1mround earthers\u001b[0m do n't just go to antarctica to p\n",
      "1206.0     ve been here i have n't seen many \u001b[1mround earthers\u001b[0m saying anything that silly . comp\n",
      "1206.0     ) the vast majority of people are \u001b[1mround earthers\u001b[0m it stands to reason that most stu\n",
      "1206.0      reason that most stupids will be \u001b[1mround earthers\u001b[0m . so i 'm sure you 're right . fo\n"
     ]
    }
   ],
   "source": [
    "c = \"RE\"\n",
    "get_ngram_example([\"round\", \"earthers\"],\n",
    "                  user_toks[FE_belief==c],\n",
    "                  doc_labels=user_toks[FE_belief==c].index, n_examples=25)"
   ]
  },
  {
   "cell_type": "code",
   "execution_count": 125,
   "metadata": {},
   "outputs": [
    {
     "name": "stdout",
     "output_type": "stream",
     "text": [
      "Showing 25 out of 19:\n",
      "2.0        cret user 7 markjo 6 saddam hussein 5 \u001b[1mghost\u001b[0m spaghetti 3 rooster 3 squevil 2 beard\n",
      "38.0        is similar to saying that there is a \u001b[1mghost\u001b[0m in my house , but because i have n't \n",
      "38.0        \" you know what , i 've never seen a \u001b[1mghost\u001b[0m . i think that ghosts do n't exist . \n",
      "38.0       meet the burden . he has never seen a \u001b[1mghost\u001b[0m . by default ghosts do not exist unti\n",
      "38.0        of proof because he has never seen a \u001b[1mghost\u001b[0m . the evidence to prove a negative is\n",
      "38.0       st likely place to find evidence of a \u001b[1mghost\u001b[0m from the person claiming that ghosts \n",
      "38.0       st likely place to find evidence of a \u001b[1mghost\u001b[0m from the person claiming that ghosts \n",
      "38.0       s exactly the same as claiming that a \u001b[1mghost\u001b[0m story was fabricated , or speculating\n",
      "38.0       ating on what really happened in that \u001b[1mghost\u001b[0m story . that position of skepticism i\n",
      "38.0       epticism is not the positive claim in \u001b[1mghost\u001b[0m debates . the positive claimant is th\n",
      "38.0       ebates . the positive claimant is the \u001b[1mghost\u001b[0m believer with his explicitly positive\n",
      "315.0      n the air above the water , as in : \" \u001b[1mghost\u001b[0m ship , probably on lake ssuperior the\n",
      "775.0      should work to reduce or remove the ' \u001b[1mghost\u001b[0m ' feeling if you can see them being p\n",
      "775.0      dom time , helps to reduce the same ' \u001b[1mghost\u001b[0m ' feeling that you could get by placi\n",
      "1448.0     t not rule out the explanation that a \u001b[1mghost\u001b[0m is responsible for a sound heard comi\n",
      "1448.0     ̂s positive claim . tom : we have a \u001b[1mghost\u001b[0m in our attic . we hear it and when we\n",
      "1448.0     here 's a picture i took of our attic \u001b[1mghost\u001b[0m . bob : that picture is n't real . yo\n",
      "1448.0     ssue . not the ghosts . now , replace \u001b[1mghost\u001b[0m with space travel . if you are denyin\n",
      "1448.0     ing out at the vista ? if you and the \u001b[1mghost\u001b[0m of st. rowbotham were both there and \n"
     ]
    }
   ],
   "source": [
    "c = \"RE\"\n",
    "get_ngram_example([\"ghost\"],\n",
    "                  user_toks,\n",
    "                  doc_labels=user_toks.index, n_examples=25)"
   ]
  },
  {
   "cell_type": "code",
   "execution_count": 126,
   "metadata": {},
   "outputs": [
    {
     "name": "stdout",
     "output_type": "stream",
     "text": [
      "FE\n",
      "-------------------------------------------------------------------------------------\n",
      "INTJ_VERB_ADP       \t      2.41\t|\tADJ_PROPN_PUNCT     \t     -0.91\n",
      "PROPN_ADV_DET       \t      2.37\t|\tPUNCT_PUNCT_INTJ    \t     -0.92\n",
      "ADJ_PROPN_PROPN     \t      1.00\t|\tPUNCT_PUNCT_CCONJ   \t     -0.92\n",
      "ADV_DET_PROPN       \t      1.00\t|\tPUNCT_NOUN_CCONJ    \t     -0.95\n",
      "NOUN_ADV_PART       \t      0.98\t|\tCCONJ_NUM_NOUN      \t     -0.97\n",
      "PUNCT_INTJ_VERB     \t      0.93\t|\tCCONJ_ADP_DET       \t     -0.98\n",
      "ADP_PROPN_ADV       \t      0.92\t|\tNUM_PUNCT_PUNCT     \t     -0.99\n",
      "PRON_NOUN_PART      \t      0.88\t|\tDET_PUNCT_NOUN      \t     -1.02\n",
      "PROPN_PROPN_AUX     \t      0.87\t|\tVERB_DET_PUNCT      \t     -1.02\n",
      "PROPN_PROPN_NOUN    \t      0.82\t|\tADP_PUNCT_PROPN     \t     -1.02\n",
      "CCONJ_VERB_SCONJ    \t      0.81\t|\tADV_NUM_NOUN        \t     -1.03\n",
      "DET_PROPN_PROPN     \t      0.81\t|\tNOUN_NUM_NOUN       \t     -1.03\n",
      "INTJ_VERB_DET       \t      0.81\t|\tPUNCT_NUM_PUNCT     \t     -1.07\n",
      "VERB_ADJ_PART       \t      0.76\t|\tADP_ADV_NUM         \t     -1.09\n",
      "SCONJ_PRON_PART     \t      0.76\t|\tPUNCT_CCONJ_ADP     \t     -1.12\n",
      "ADV_VERB_SCONJ      \t      0.75\t|\tAUX_ADV_NUM         \t     -1.13\n",
      "VERB_SCONJ_PRON     \t      0.74\t|\tNUM_NOUN_NUM        \t     -1.19\n",
      "CCONJ_NOUN_PRON     \t      0.72\t|\tPUNCT_PUNCT_PUNCT   \t     -1.22\n",
      "PART_ADV_DET        \t      0.72\t|\tNUM_PUNCT_NUM       \t     -1.51\n",
      "PRON_NOUN_SCONJ     \t      0.70\t|\tPROPN_NUM_PUNCT     \t     -1.56\n",
      "-------------------------------------------------------------------------------------\n",
      "RE\n",
      "-------------------------------------------------------------------------------------\n",
      "PROPN_ADP_PUNCT     \t      2.96\t|\tPART_ADV_DET        \t     -0.65\n",
      "SYM_NUM_ADP         \t      2.20\t|\tSCONJ_VERB_ADJ      \t     -0.65\n",
      "PROPN_NUM_PROPN     \t      1.96\t|\tDET_PROPN_PROPN     \t     -0.66\n",
      "NUM_DET_NOUN        \t      1.82\t|\tSCONJ_PRON_PART     \t     -0.66\n",
      "ADV_CCONJ_ADP       \t      1.72\t|\tVERB_SCONJ_PRON     \t     -0.67\n",
      "PROPN_PART_PUNCT    \t      1.71\t|\tADV_VERB_SCONJ      \t     -0.67\n",
      "PART_PRON_PUNCT     \t      1.69\t|\tPROPN_PROPN_NOUN    \t     -0.68\n",
      "DET_PUNCT_PROPN     \t      1.63\t|\tVERB_ADJ_ADJ        \t     -0.68\n",
      "NUM_PUNCT_PROPN     \t      1.58\t|\tPRON_NOUN_SCONJ     \t     -0.70\n",
      "PUNCT_PROPN_NUM     \t      1.55\t|\tCCONJ_VERB_SCONJ    \t     -0.70\n",
      "VERB_DET_PRON       \t      1.55\t|\tPROPN_PROPN_AUX     \t     -0.73\n",
      "ADV_NUM_PUNCT       \t      1.51\t|\tPRON_NOUN_PART      \t     -0.74\n",
      "NUM_PROPN_NUM       \t      1.45\t|\tINTJ_VERB_DET       \t     -0.81\n",
      "PROPN_NUM_PUNCT     \t      1.44\t|\tADJ_PROPN_PROPN     \t     -0.81\n",
      "X_PUNCT_PUNCT       \t      1.39\t|\tVERB_ADJ_PART       \t     -0.82\n",
      "ADV_NUM_SYM         \t      1.37\t|\tADP_PROPN_ADV       \t     -0.84\n",
      "ADJ_ADJ_PART        \t      1.35\t|\tNOUN_ADV_PART       \t     -0.84\n",
      "PROPN_NUM_NOUN      \t      1.34\t|\tADV_DET_PROPN       \t     -0.92\n",
      "ADP_NUM_PROPN       \t      1.33\t|\tPUNCT_INTJ_VERB     \t     -0.92\n",
      "ADV_NUM_ADJ         \t      1.29\t|\tPROPN_ADV_DET       \t     -2.28\n",
      "-------------------------------------------------------------------------------------\n",
      "UNK\n",
      "-------------------------------------------------------------------------------------\n",
      "NUM_PUNCT_NUM       \t      2.04\t|\tADP_ADP_DET         \t     -0.42\n",
      "PROPN_PUNCT_NUM     \t      1.89\t|\tPROPN_PROPN_PROPN   \t     -0.43\n",
      "PUNCT_NUM_PUNCT     \t      1.14\t|\tAUX_ADV_ADV         \t     -0.45\n",
      "PUNCT_PUNCT_NOUN    \t      1.11\t|\tNOUN_ADP_PRON       \t     -0.45\n",
      "PUNCT_X_PUNCT       \t      0.83\t|\tNOUN_NOUN_CCONJ     \t     -0.46\n",
      "NOUN_PUNCT_X        \t      0.82\t|\tPUNCT_INTJ_PUNCT    \t     -0.47\n",
      "PROPN_VERB_DET      \t      0.64\t|\tNOUN_DET_NOUN       \t     -0.51\n",
      "AUX_ADJ_PUNCT       \t      0.62\t|\tPART_AUX_VERB       \t     -0.53\n",
      "ADP_PROPN_PUNCT     \t      0.62\t|\tNOUN_CCONJ_DET      \t     -0.55\n",
      "NOUN_AUX_ADJ        \t      0.57\t|\tDET_NOUN_CCONJ      \t     -0.57\n",
      "PUNCT_ADV_DET       \t      0.56\t|\tPUNCT_NOUN_NOUN     \t     -0.57\n",
      "PUNCT_ADV_PRON      \t      0.56\t|\tPROPN_PUNCT_PROPN   \t     -0.59\n",
      "ADJ_PUNCT_SCONJ     \t      0.55\t|\tADJ_NOUN_NOUN       \t     -0.60\n",
      "AUX_PRON_VERB       \t      0.54\t|\tVERB_ADP_ADP        \t     -0.62\n",
      "ADJ_PUNCT_ADV       \t      0.51\t|\tADJ_PUNCT_NOUN      \t     -0.63\n",
      "PUNCT_AUX_PRON      \t      0.51\t|\tNOUN_NOUN_ADP       \t     -0.66\n",
      "ADJ_PUNCT_CCONJ     \t      0.50\t|\tDET_PROPN_PROPN     \t     -0.75\n",
      "NOUN_AUX_DET        \t      0.50\t|\tNOUN_NOUN_NOUN      \t     -0.75\n",
      "VERB_ADP_PROPN      \t      0.50\t|\tDET_NOUN_PART       \t     -0.76\n",
      "PUNCT_PROPN_AUX     \t      0.50\t|\tNOUN_CCONJ_VERB     \t     -0.79\n",
      "-------------------------------------------------------------------------------------\n"
     ]
    }
   ],
   "source": [
    "get_cluster_keywords(pos_trigrams, FE_belief.values)"
   ]
  },
  {
   "cell_type": "code",
   "execution_count": 127,
   "metadata": {},
   "outputs": [
    {
     "name": "stdout",
     "output_type": "stream",
     "text": [
      "Showing 25 out of 116:\n",
      "16.0       eminent samuel birley rowbotham of \u001b[1mearth not a\u001b[0m globe fame ) believe that the moon\n",
      "16.0        is currently off the shore of \u001b[1mantarctica where the\u001b[0m magnetic field lines are verti\n",
      "62.0       g new maps would be published ? is \u001b[1mwgs84 just a\u001b[0m nasa production ? yet there is no \n",
      "99.0        . so how is it you contradict \u001b[1mrowbotham when this\u001b[0m conclusion is \" beyond the rea\n",
      "99.0       h the illuminated face facing the \u001b[1msun when both\u001b[0m are visible in the sky ) . d. moo\n",
      "99.0        augment this thread and point f \u001b[1meers here every\u001b[0m time one of them argues for a co\n",
      "99.0       le to predict seeing less of the \u001b[1mtoronto when the\u001b[0m winds are higher ? have you been\n",
      "99.0        apparent retrograde motion of \u001b[1mjupiter nearly every\u001b[0m year . with such gaping holes \n",
      "99.0       ouraged ( wisely ) to chew through \u001b[1mearth not a\u001b[0m globe in morsels . i would encoura\n",
      "99.0       h the illuminated face facing the \u001b[1msun when both\u001b[0m are visible in the sky ) . d. moo\n",
      "99.0       at you 're floating in the niagara \u001b[1mriver just a\u001b[0m few inches from the falls . your e\n",
      "315.0      t even some in zetetic astronomy , \u001b[1mearth not a\u001b[0m globe and other flat earth sources\n",
      "315.0      0a ̂° longitude line through \u001b[1mgreenwich actually that\u001b[0m post was just to see if ther\n",
      "315.0      s ! one big problem with quoting \" \u001b[1mearth not a\u001b[0m globe \" is the sheer volume of mat\n",
      "315.0      me pictures ! and , the \" aurora \u001b[1mborealis just a\u001b[0m thing that happens when \" it wan\n",
      "315.0      han \" look up the wiki \" or read \" \u001b[1mearth not a\u001b[0m globe \" . even the guess at the su\n",
      "315.0      terature where you will find : see \u001b[1mearth not a\u001b[0m globe see thomas winship see one h\n",
      "315.0      o along with any of the stuff in \" \u001b[1mearth not a\u001b[0m globe \" or in \" one hundred proofs\n",
      "315.0      f the sun 's diverging / spreading \u001b[1mrays now the\u001b[0m reason i said \" ridiculous pronoun\n",
      "315.0      arly high density ores ) . on the \u001b[1mglobe even the\u001b[0m direction of \" g \" changes - it i\n",
      "315.0       years since \" zetetic astronomy , \u001b[1mearth not a\u001b[0m globe , by parallax ( samuel birle\n",
      "315.0      ere are routes in the southern \u001b[1mhemisphere where the\u001b[0m globe and flat earth map give \n",
      "315.0      th is not a globe . \" so if , \" in \u001b[1mearth not a\u001b[0m globe rowbotham corroborates willi\n",
      "315.0      s picture ? crepuscular rays in \u001b[1mscotland now that\u001b[0m picture was taken over a lake i\n",
      "315.0      gnificant experimental evidence in \u001b[1mearth not a\u001b[0m globe . \" \" numerous experiments a\n"
     ]
    }
   ],
   "source": [
    "c = \"RE\"\n",
    "get_text_example_of_pos([\"PROPN\", \"ADV\", \"DET\"], \n",
    "                        user_pos[FE_belief==c], \n",
    "                        user_toks[FE_belief==c], \n",
    "                        doc_labels=user_toks[FE_belief==c].index, n_examples=25)"
   ]
  },
  {
   "cell_type": "code",
   "execution_count": 128,
   "metadata": {},
   "outputs": [
    {
     "name": "stdout",
     "output_type": "stream",
     "text": [
      "Showing 25 out of 310:\n",
      "16.0       ic location on the stage , not 1 / \u001b[1m2 the stage\u001b[0m . if you have any doubts , remembe\n",
      "16.0       ucation or human resources makes \u001b[1mone an authority\u001b[0m on the shape of the earth . then\n",
      "62.0       in use . as he says when you dial \u001b[1m112 the phone\u001b[0m uses any available network . noth\n",
      "99.0       dle it . example : so for about $ \u001b[1m1000 any feer\u001b[0m can prove fet false without any c\n",
      "315.0       cape of good hope ( it is only about \u001b[1m34 a ̂\u001b[0m ° south ) then saying \" there is a mi\n",
      "315.0      ply : see a long winded article in . \u001b[1m720 a ̂°\u001b[0m x ( area of the triangle ) / ( surfa\n",
      "315.0       the equator to pole distance becomes \u001b[1m90 a ̂\u001b[0m ° x 60 ' x 1nm / min = 5,400 nm or 10\n",
      "315.0      umference around the equator becomes \u001b[1m360 a ̂\u001b[0m ° x 60 ' x 1nm / min = 21,600 nm or \n",
      "315.0      8â°e our location at the station - \u001b[1m77.8 a ̂°n\u001b[0m , 166.6 â° e declination at mcmurd\n",
      "315.0       ( dip pole - vertical field ) is at \u001b[1m64.2 a ̂\u001b[0m ° s 136.4a ̂°e , not even within the\n",
      "315.0      arke ross did not see it until he was \u001b[1m8 a ̂°\u001b[0m \" ( it being the southern cross ) mea\n",
      "315.0       slight variations - about 0.52 ã  \u001b[1m10 a ̂\u001b[0m 7 g and 1.1 ã  10 â  7 g resp !\n",
      "315.0      ennas to be precisely aligned ( â ± \u001b[1m0.5 a ̂\u001b[0m ° or so ) with a direction that alig\n",
      "315.0      ter an hour it will typically show \u001b[1m0.0035 a ̂°\u001b[0m . do n't worry i really think this\n",
      "315.0      ld matter much , it 's not more than \u001b[1m0.5 a ̂\u001b[0m ° and since the transition is gradua\n",
      "315.0      at even an atmospheric refraction of \u001b[1m0.5 a ̂°\u001b[0m can make an object at sea - level vi\n",
      "315.0       cavendish , though in at least \u001b[1mone the equipment\u001b[0m was evacuated to minimise inter\n",
      "315.0       cavendish , though in at least \u001b[1mone the equipment\u001b[0m was evacuated to minimise inter\n",
      "315.0      l 3,000 miles above the earth ( about \u001b[1m20 a ̂\u001b[0m ° if you want an angle ! ) , yet we s\n",
      "315.0      be able to be seen to rise due east ( \u001b[1m90 a ̂\u001b[0m ° ) and set due west - everywhere ! [\n",
      "315.0      ould rise even north of nw ( at about \u001b[1m36 a ̂\u001b[0m ° ) - bendy light ? you worry about \"\n",
      "315.0       about 58â° . in durness ( lat about \u001b[1m58 a ̂\u001b[0m ° n ) , scotland they looked almost h\n",
      "315.0       to reduce it size to less than 1 / \u001b[1m3 the size\u001b[0m it is when overhead ? the explanati\n",
      "315.0      ed eye - about 0.5 â° from 300 m or \u001b[1m0.9 a ̂°\u001b[0m from 1,000 m . a surveyor can measur\n",
      "315.0       have been built up and refined \u001b[1mone the centuries\u001b[0m ( actually over millenia ) . su\n"
     ]
    }
   ],
   "source": [
    "c = \"RE\"\n",
    "get_text_example_of_pos([\"NUM\", \"DET\", \"NOUN\"], \n",
    "                        user_pos[FE_belief==c], \n",
    "                        user_toks[FE_belief==c], \n",
    "                        doc_labels=user_toks[FE_belief==c].index, n_examples=25)"
   ]
  },
  {
   "cell_type": "code",
   "execution_count": null,
   "metadata": {},
   "outputs": [],
   "source": []
  },
  {
   "cell_type": "code",
   "execution_count": null,
   "metadata": {},
   "outputs": [],
   "source": []
  },
  {
   "cell_type": "code",
   "execution_count": null,
   "metadata": {},
   "outputs": [],
   "source": []
  }
 ],
 "metadata": {
  "kernelspec": {
   "display_name": "thesis_fe_code",
   "language": "python",
   "name": "thesis_fe_code"
  },
  "language_info": {
   "codemirror_mode": {
    "name": "ipython",
    "version": 3
   },
   "file_extension": ".py",
   "mimetype": "text/x-python",
   "name": "python",
   "nbconvert_exporter": "python",
   "pygments_lexer": "ipython3",
   "version": "3.8.3rc1"
  }
 },
 "nbformat": 4,
 "nbformat_minor": 4
}
