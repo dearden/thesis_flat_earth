{
 "cells": [
  {
   "cell_type": "markdown",
   "metadata": {},
   "source": [
    "# Write FE Keywords to File"
   ]
  },
  {
   "cell_type": "code",
   "execution_count": 1,
   "metadata": {},
   "outputs": [],
   "source": [
    "import pandas as pd\n",
    "import json\n",
    "import sys\n",
    "sys.path.insert(1, \"../\")\n",
    "sys.path.insert(1, \"../utilities\")\n",
    "\n",
    "from helpers import load_posts, load_toks, load_pos\n",
    "\n",
    "convert_to_date = lambda x: datetime.strptime(x, \"%Y/%m/%d %H:%M:%S\")\n",
    "\n",
    "from settings import TFES_FP as DB_FP, TFES_TOK_FP as TOK_FP"
   ]
  },
  {
   "cell_type": "code",
   "execution_count": 2,
   "metadata": {},
   "outputs": [],
   "source": [
    "def get_align_toks(tok_fp, posts):\n",
    "    # Get the corresponding tokens\n",
    "    toks = {x[0]: x[1] for x in load_toks(tok_fp)}\n",
    "    toks = pd.Series(toks)\n",
    "    toks = toks[toks.index.isin(posts.index)]\n",
    "\n",
    "    # Remove the posts that don't have tokens\n",
    "    posts = posts[posts.index.isin(toks.index)]\n",
    "    # Align the ordering of forum posts and toks\n",
    "    toks = toks.loc[posts.index]\n",
    "\n",
    "    return toks, posts"
   ]
  },
  {
   "cell_type": "code",
   "execution_count": 3,
   "metadata": {},
   "outputs": [
    {
     "name": "stdout",
     "output_type": "stream",
     "text": [
      "Wall time: 16.2 s\n"
     ]
    }
   ],
   "source": [
    "%%time\n",
    "posts = load_posts(DB_FP)\n",
    "toks, posts = get_align_toks(TOK_FP, posts)"
   ]
  },
  {
   "cell_type": "code",
   "execution_count": 4,
   "metadata": {},
   "outputs": [],
   "source": [
    "from helpers import flat_earth_boards, off_topic_boards as other_boards\n",
    "\n",
    "fe_posts = posts.query(\"board_id in @flat_earth_boards\")\n",
    "ot_posts = posts.query(\"board_id in @other_boards\")\n",
    "\n",
    "fe_toks = toks.loc[fe_posts.index]\n",
    "ot_toks = toks.loc[ot_posts.index]"
   ]
  },
  {
   "cell_type": "code",
   "execution_count": 5,
   "metadata": {},
   "outputs": [
    {
     "name": "stdout",
     "output_type": "stream",
     "text": [
      "Wall time: 10 s\n"
     ]
    }
   ],
   "source": [
    "%%time\n",
    "from language_change_methods.features import get_ngram_lr_and_ll\n",
    "\n",
    "fe_kw = get_ngram_lr_and_ll(fe_toks, ot_toks, 1, \"_\")\n",
    "fe_kw = fe_kw.query(\"LL > 3.84 and LR > 1 and freq1 > 100\")"
   ]
  },
  {
   "cell_type": "code",
   "execution_count": 6,
   "metadata": {},
   "outputs": [],
   "source": [
    "fe_kw.sort_values(\"LR\", ascending=False).to_csv(\"../data/all-fe-keywords.csv\")"
   ]
  },
  {
   "cell_type": "code",
   "execution_count": 7,
   "metadata": {},
   "outputs": [],
   "source": [
    "top_100_kw = fe_kw.sort_values(\"LR\", ascending=False).head(100)\n",
    "top_100_kw.to_csv(\"../data/top-100-fe-keywords.csv\")"
   ]
  },
  {
   "cell_type": "code",
   "execution_count": null,
   "metadata": {},
   "outputs": [],
   "source": []
  }
 ],
 "metadata": {
  "kernelspec": {
   "display_name": "thesis_fe_code",
   "language": "python",
   "name": "thesis_fe_code"
  },
  "language_info": {
   "codemirror_mode": {
    "name": "ipython",
    "version": 3
   },
   "file_extension": ".py",
   "mimetype": "text/x-python",
   "name": "python",
   "nbconvert_exporter": "python",
   "pygments_lexer": "ipython3",
   "version": "3.8.3rc1"
  }
 },
 "nbformat": 4,
 "nbformat_minor": 4
}
